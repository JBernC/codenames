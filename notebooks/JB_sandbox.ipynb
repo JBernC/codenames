{
 "cells": [
  {
   "cell_type": "markdown",
   "metadata": {},
   "source": [
    "## TODO\n",
    "\n",
    "- manual weighting of negative and positive\n",
    "- include b_words in negative\n",
    "- speed comparison for word look vs vector"
   ]
  },
  {
   "cell_type": "code",
   "execution_count": 1,
   "metadata": {},
   "outputs": [],
   "source": [
    "# quick hack for adding codenames package to the path\n",
    "import sys\n",
    "sys.path.append(\"../\")"
   ]
  },
  {
   "cell_type": "code",
   "execution_count": 2,
   "metadata": {},
   "outputs": [],
   "source": [
    "import os\n",
    "from itertools import combinations\n",
    "\n",
    "from gensim.models.fasttext import FastText\n",
    "from gensim.models import KeyedVectors\n",
    "\n",
    "import numpy as np"
   ]
  },
  {
   "cell_type": "code",
   "execution_count": 3,
   "metadata": {},
   "outputs": [],
   "source": [
    "MODELS_DIR = \"../models\"\n",
    "# dev model with 1000 items\n",
    "MODEL_FPATH = os.path.join(MODELS_DIR, \"dev-wiki-news-300d-1M-subword.vec\")\n",
    "\n",
    "N_TEAM_WORDS = 10 # word for each team\n",
    "N_ASSASSIN = 1 # n assassin carads\n",
    "MIN_COMBO = 1 # min no cards to try and guess in one turn\n",
    "MAX_COMBO = 4 # max no cards to try to guess in one turn"
   ]
  },
  {
   "cell_type": "markdown",
   "metadata": {},
   "source": [
    "load the model"
   ]
  },
  {
   "cell_type": "code",
   "execution_count": 4,
   "metadata": {},
   "outputs": [
    {
     "name": "stdout",
     "output_type": "stream",
     "text": [
      "CPU times: user 22 s, sys: 158 ms, total: 22.2 s\n",
      "Wall time: 22.1 s\n"
     ]
    }
   ],
   "source": [
    "%%time\n",
    "model = KeyedVectors.load_word2vec_format(MODEL_FPATH)"
   ]
  },
  {
   "cell_type": "markdown",
   "metadata": {},
   "source": [
    "Choose a set of words to represent the words on the board. Assuming all board words are in the vocab."
   ]
  },
  {
   "cell_type": "code",
   "execution_count": 5,
   "metadata": {},
   "outputs": [],
   "source": [
    "# simplistic filter to try and get non punctuation and more interesting words\n",
    "filtered_vocab = [word for word in model.vocab.keys() if len(word) > 3]\n",
    "n_total_words = (N_TEAM_WORDS*2) + N_ASSASSIN\n",
    "board_words = np.random.choice(filtered_vocab, size=n_total_words, replace=False)\n",
    "team_a_words = board_words[:N_TEAM_WORDS].tolist()\n",
    "team_b_words = board_words[N_TEAM_WORDS:N_TEAM_WORDS*2].tolist()\n",
    "assassin_word = board_words[-1].tolist()"
   ]
  },
  {
   "cell_type": "code",
   "execution_count": 6,
   "metadata": {},
   "outputs": [
    {
     "data": {
      "text/plain": [
       "(['severed',\n",
       "  'Otto4711',\n",
       "  'Dynegy',\n",
       "  'Latest',\n",
       "  'Hump',\n",
       "  'horizontally',\n",
       "  'Sourcing',\n",
       "  'Jebel',\n",
       "  'Angola',\n",
       "  'Leichhardt'],\n",
       " ['Whitman',\n",
       "  'statewide',\n",
       "  'kitsch',\n",
       "  'Ludvig',\n",
       "  'Giraffe',\n",
       "  'Polar',\n",
       "  'ironclad',\n",
       "  'delights',\n",
       "  'Preventive',\n",
       "  'Jigsaw'],\n",
       " 'Dern')"
      ]
     },
     "execution_count": 6,
     "metadata": {},
     "output_type": "execute_result"
    }
   ],
   "source": [
    "team_a_words, team_b_words, assassin_word"
   ]
  },
  {
   "cell_type": "code",
   "execution_count": 13,
   "metadata": {},
   "outputs": [],
   "source": [
    "def get_clue(kv, a_words, assassin, min_combo, max_combo):\n",
    "\n",
    "    # all combos across different guess amounts\n",
    "    combos = [item for i in range(min_combo,max_combo+1) for item in combinations(a_words, i)]\n",
    "\n",
    "    clues = list()\n",
    "    similarities = np.zeros(len(combos))\n",
    "\n",
    "    for i, combo in enumerate(combos):\n",
    "        similar = kv.most_similar(positive=combo, negative=[assassin])\n",
    "        assert len(similar) > 0\n",
    "        clue, similarity = similar[0]\n",
    "        clues.append(clue)\n",
    "        similarities[i] = similarity\n",
    "\n",
    "    return clues[ind], similarities[ind], combos[ind]"
   ]
  },
  {
   "cell_type": "code",
   "execution_count": 16,
   "metadata": {},
   "outputs": [],
   "source": [
    "clue, similarity, words = get_clue(kv=model,\n",
    "                                   a_words=team_a_words,\n",
    "                                   assassin=assassin_word,\n",
    "                                   min_combo=MIN_COMBO,\n",
    "                                   max_combo=MAX_COMBO)"
   ]
  },
  {
   "cell_type": "code",
   "execution_count": 17,
   "metadata": {},
   "outputs": [
    {
     "data": {
      "text/plain": [
       "('vertically', 0.7011539340019226, ('severed', 'horizontally'))"
      ]
     },
     "execution_count": 17,
     "metadata": {},
     "output_type": "execute_result"
    }
   ],
   "source": [
    "clue, similarity, words"
   ]
  }
 ],
 "metadata": {
  "kernelspec": {
   "display_name": "Python 3",
   "language": "python",
   "name": "python3"
  },
  "language_info": {
   "codemirror_mode": {
    "name": "ipython",
    "version": 3
   },
   "file_extension": ".py",
   "mimetype": "text/x-python",
   "name": "python",
   "nbconvert_exporter": "python",
   "pygments_lexer": "ipython3",
   "version": "3.8.3"
  }
 },
 "nbformat": 4,
 "nbformat_minor": 4
}
