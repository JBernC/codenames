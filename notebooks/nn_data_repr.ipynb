{
 "cells": [
  {
   "cell_type": "markdown",
   "metadata": {},
   "source": [
    "# Neural Network Data Representation\n",
    "\n",
    "play with toy data and try and find a good way of representing data for input to a neural network"
   ]
  },
  {
   "cell_type": "markdown",
   "metadata": {},
   "source": [
    "## TODO\n",
    "\n",
    "\n",
    "- improve target choice\n",
    "- expand vocab\n",
    "- simulate later board stages (round 2+)\n",
    "- predict no. guess \n",
    "\n",
    "a bit separate\n",
    "- predict vector rather than word in vocab? why isn't this done more in language modeling?"
   ]
  },
  {
   "cell_type": "code",
   "execution_count": 1,
   "metadata": {},
   "outputs": [],
   "source": [
    "import math\n",
    "import random\n",
    "from collections import Counter\n",
    "from itertools import groupby\n",
    "from statistics import StatisticsError, mode\n",
    "\n",
    "import numpy as np\n",
    "from gensim.models import KeyedVectors\n",
    "from matplotlib import pyplot as plt\n",
    "from matplotlib.colors import ListedColormap\n",
    "from scipy.spatial import distance\n",
    "from tensorflow import keras\n",
    "from tensorflow.keras import layers\n",
    "from tensorflow.keras.utils import to_categorical\n",
    "from tqdm.auto import tqdm"
   ]
  },
  {
   "cell_type": "code",
   "execution_count": 2,
   "metadata": {},
   "outputs": [],
   "source": [
    "WV_PATH = \"../data/10k_wiki-news-300d-1M-subword.vec\"  # 10k subset for dev"
   ]
  },
  {
   "cell_type": "code",
   "execution_count": 3,
   "metadata": {},
   "outputs": [
    {
     "name": "stdout",
     "output_type": "stream",
     "text": [
      "CPU times: user 2.54 s, sys: 32.9 ms, total: 2.57 s\n",
      "Wall time: 2.5 s\n"
     ]
    }
   ],
   "source": [
    "%%time\n",
    "kv = KeyedVectors.load_word2vec_format(WV_PATH)"
   ]
  },
  {
   "cell_type": "code",
   "execution_count": 4,
   "metadata": {},
   "outputs": [],
   "source": [
    "# very toy vocabs\n",
    "vocab = [\"football\", \"weather\", \"technology\", \"flowers\", \"mouse\"]\n",
    "vocab2 = [\"geography\", \"food\", \"happy\", \"furniture\", \"tall\"]\n",
    "\n",
    "assert len(vocab) == len(vocab2)\n",
    "\n",
    "N = len(vocab)\n",
    "\n",
    "M = 25\n",
    "# fake news... using stupid numbers here to take a shortcut... want to prove that the representation is meaningful\n",
    "n_allied = 12\n",
    "n_enemy = 6\n",
    "n_neutral = 6\n",
    "n_assassin = 1\n",
    "\n",
    "tile_types = [\"ally\", \"enemy\", \"neutral\", \"assassin\"]\n",
    "tile_type_scores = [1, -1, 0, -10]"
   ]
  },
  {
   "cell_type": "code",
   "execution_count": 5,
   "metadata": {},
   "outputs": [],
   "source": [
    "for word in vocab:\n",
    "    assert word in kv.vocab\n",
    "for word in vocab2:\n",
    "    assert word in kv.vocab, f\"{word} not in vocab\""
   ]
  },
  {
   "cell_type": "code",
   "execution_count": 6,
   "metadata": {},
   "outputs": [],
   "source": [
    "class BoardGenerator:\n",
    "    def __init__(\n",
    "        self,\n",
    "        M,\n",
    "        N,\n",
    "        kv,\n",
    "        vocab,\n",
    "        n_allied,\n",
    "        n_neutral,\n",
    "        n_enemy,\n",
    "        n_assassin,\n",
    "        tile_types,\n",
    "        tile_type_scores,\n",
    "    ):\n",
    "        self.M = M\n",
    "        self.N = N\n",
    "        self.kv = kv\n",
    "        self.vocab = vocab\n",
    "        self.n_allied = n_allied\n",
    "        self.n_neutral = n_neutral\n",
    "        self.n_enemy = n_enemy\n",
    "        self.n_assassin = n_assassin\n",
    "        self.tile_types = tile_types\n",
    "        self.tile_type_scores = tile_type_scores\n",
    "\n",
    "        self.v_vocab = [kv.get_vector(word) for word in vocab]\n",
    "        self.v_most_sim = {\n",
    "            word: list(zip(*kv.most_similar(word, topn=20)))[0] for word in vocab\n",
    "        }\n",
    "\n",
    "    def generate_board_types(self, board_topics):\n",
    "        \"\"\" returns board_tile_types as list(M) and y\"\"\"\n",
    "        # assign tile types - M_allied of ally, enemy, neural, 1 assassin\n",
    "        board_types = (\n",
    "            [\"ally\"] * self.n_allied\n",
    "            + [\"neutral\"] * self.n_neutral\n",
    "            + [\"enemy\"] * self.n_enemy\n",
    "            + [\"assassin\"] * self.n_assassin\n",
    "        )\n",
    "        random.shuffle(board_types)  # shuffle\n",
    "\n",
    "        board_scores = [\n",
    "            self.tile_type_scores[self.tile_types.index(bt)] for bt in board_types\n",
    "        ]\n",
    "        sorted_zipped = sorted(zip(board_scores, board_topics), key=lambda x: x[1])\n",
    "        summed = dict()\n",
    "        for k, g in groupby(sorted_zipped, key=lambda x: x[1]):\n",
    "            weights, _ = list(zip(*g))\n",
    "            summed[k] = sum(weights)\n",
    "\n",
    "        # consistent dict order :)\n",
    "        max_ind = np.argmax(list(summed.values()))  # TODO draws?\n",
    "        y_topic = list(summed.keys())[max_ind]\n",
    "        y_count = len(\n",
    "            [\n",
    "                i\n",
    "                for i in range(M)\n",
    "                if board_types[i] == \"ally\" and board_topics[i] == y_topic\n",
    "            ]\n",
    "        )\n",
    "        y = (y_topic, y_count)\n",
    "\n",
    "        return board_types, y\n",
    "\n",
    "    def generate_board(self):\n",
    "        board = list()\n",
    "        board_topics = list()\n",
    "\n",
    "        for i in range(self.M):\n",
    "            topic = random.choice(self.vocab)\n",
    "            similar = self.v_most_sim[topic]\n",
    "\n",
    "            while (\n",
    "                word := random.choice(similar)\n",
    "            ) in board:  # not sure how I feel about these assignment exprs.\n",
    "                continue  # try again\n",
    "\n",
    "            # should now have a word that isn't in board\n",
    "            board.append(word)\n",
    "            board_topics.append(topic)\n",
    "\n",
    "        board_types, y = self.generate_board_types(board_topics)\n",
    "\n",
    "        return board, board_topics, board_types, y\n",
    "\n",
    "    # In[7]:\n",
    "\n",
    "    def print_grid(self, board, board_types):\n",
    "        l = int(math.sqrt(self.M))\n",
    "        bt = [self.tile_types.index(bt) for bt in board_types]\n",
    "        bt = np.array(bt).reshape(l, l)\n",
    "\n",
    "        # \"ally\", \"enemy\", \"neutral\", \"assassin\"\n",
    "        cmap = ListedColormap([\"g\", \"r\", \"w\", \"k\"])\n",
    "\n",
    "        fig, ax = plt.subplots(figsize=(8, 8),)\n",
    "        ax.matshow(bt, cmap=cmap)\n",
    "\n",
    "        for (i, j), z in np.ndenumerate(bt):\n",
    "            c = (i * l) + j\n",
    "            ax.text(\n",
    "                j,\n",
    "                i,\n",
    "                board[c],\n",
    "                ha=\"center\",\n",
    "                va=\"center\",\n",
    "                bbox=dict(boxstyle=\"round\", facecolor=\"white\", edgecolor=\"0.3\"),\n",
    "            )\n",
    "\n",
    "        plt.show()\n",
    "\n",
    "    def get_repr(self, board):\n",
    "        x = np.zeros((self.M, self.N), dtype=np.float32)\n",
    "        for i, word in enumerate(board):\n",
    "            u = self.kv.get_vector(word)\n",
    "            for j, v in enumerate(self.v_vocab):\n",
    "                x[i, j] = 1 - distance.cosine(u, v)\n",
    "\n",
    "        return x"
   ]
  },
  {
   "cell_type": "code",
   "execution_count": 7,
   "metadata": {},
   "outputs": [],
   "source": [
    "bg = BoardGenerator(\n",
    "    M=M,\n",
    "    N=N,\n",
    "    kv=kv,\n",
    "    vocab=vocab,\n",
    "    n_allied=n_allied,\n",
    "    n_neutral=n_neutral,\n",
    "    n_enemy=n_enemy,\n",
    "    n_assassin=n_assassin,\n",
    "    tile_types=tile_types,\n",
    "    tile_type_scores=tile_type_scores,\n",
    ")"
   ]
  },
  {
   "cell_type": "code",
   "execution_count": 8,
   "metadata": {},
   "outputs": [],
   "source": [
    "# for demonstration\n",
    "board, board_topics, board_types, y = bg.generate_board()"
   ]
  },
  {
   "cell_type": "code",
   "execution_count": 9,
   "metadata": {},
   "outputs": [
    {
     "data": {
      "image/png": "[encoded data removed]",
      "text/plain": [
       "<Figure size 576x576 with 1 Axes>"
      ]
     },
     "metadata": {
      "needs_background": "light"
     },
     "output_type": "display_data"
    }
   ],
   "source": [
    "bg.print_grid(board, board_types)"
   ]
  },
  {
   "cell_type": "code",
   "execution_count": 10,
   "metadata": {},
   "outputs": [
    {
     "data": {
      "text/plain": [
       "('football', 4)"
      ]
     },
     "execution_count": 10,
     "metadata": {},
     "output_type": "execute_result"
    }
   ],
   "source": [
    "y"
   ]
  },
  {
   "cell_type": "markdown",
   "metadata": {},
   "source": [
    "# Data generation\n",
    "\n",
    "- Generate data\n",
    "- coerce into approp format"
   ]
  },
  {
   "cell_type": "code",
   "execution_count": 11,
   "metadata": {},
   "outputs": [],
   "source": [
    "bg = BoardGenerator(\n",
    "    M=M,\n",
    "    N=N,\n",
    "    kv=kv,\n",
    "    vocab=vocab,\n",
    "    n_allied=n_allied,\n",
    "    n_neutral=n_neutral,\n",
    "    n_enemy=n_enemy,\n",
    "    n_assassin=n_assassin,\n",
    "    tile_types=tile_types,\n",
    "    tile_type_scores=tile_type_scores,\n",
    ")\n",
    "\n",
    "bg_other = BoardGenerator(\n",
    "    M=M,\n",
    "    N=N,\n",
    "    kv=kv,\n",
    "    vocab=vocab2,\n",
    "    n_allied=n_allied,\n",
    "    n_neutral=n_neutral,\n",
    "    n_enemy=n_enemy,\n",
    "    n_assassin=n_assassin,\n",
    "    tile_types=tile_types,\n",
    "    tile_type_scores=tile_type_scores,\n",
    ")"
   ]
  },
  {
   "cell_type": "code",
   "execution_count": 12,
   "metadata": {},
   "outputs": [],
   "source": [
    "y_dict = {word: i for i, word in enumerate(vocab)}\n",
    "y_dict_other = {word: i for i, word in enumerate(vocab2)}\n",
    "\n",
    "board_type_dict = {tt: i for i, tt in enumerate(tile_types)}"
   ]
  },
  {
   "cell_type": "code",
   "execution_count": 13,
   "metadata": {},
   "outputs": [],
   "source": [
    "def gen_samples(n_samples, bg):\n",
    "\n",
    "    X = np.zeros((n_samples, M, len(bg.tile_types), N))\n",
    "\n",
    "    board_list = list()\n",
    "    board_topics_list = list()\n",
    "    board_types_list = list()\n",
    "\n",
    "    y_list = list()\n",
    "\n",
    "    for i in tqdm(range(n_samples)):\n",
    "        board, board_topics, board_types, y = bg.generate_board()\n",
    "\n",
    "        # debug\n",
    "        board_list.append(board)\n",
    "        board_topics_list.append(board_topics)\n",
    "        board_types_list.append(board_types)\n",
    "\n",
    "        x = bg.get_repr(board)\n",
    "\n",
    "        # TODO efficiency? not actually the slow bit :(\n",
    "        x_types = [board_type_dict[tt] for tt in board_types]\n",
    "        for j in range(M):\n",
    "            card_vocab_dists = x[j]\n",
    "            ind = x_types[j]\n",
    "            X[i][j][ind] = card_vocab_dists\n",
    "\n",
    "        y_list.append(y)\n",
    "\n",
    "    return X, y_list, board_list, board_topics_list, board_types_list"
   ]
  },
  {
   "cell_type": "code",
   "execution_count": 14,
   "metadata": {},
   "outputs": [
    {
     "data": {
      "application/vnd.jupyter.widget-view+json": {
       "model_id": "13d89bb2c4864d73bbc7be3437786f79",
       "version_major": 2,
       "version_minor": 0
      },
      "text/plain": [
       "HBox(children=(FloatProgress(value=0.0, max=10000.0), HTML(value='')))"
      ]
     },
     "metadata": {},
     "output_type": "display_data"
    },
    {
     "name": "stdout",
     "output_type": "stream",
     "text": [
      "\n"
     ]
    }
   ],
   "source": [
    "X, y_list, board_list, board_topics_list, board_types_list = gen_samples(\n",
    "    n_samples=10000, bg=bg\n",
    ")"
   ]
  },
  {
   "cell_type": "code",
   "execution_count": 15,
   "metadata": {},
   "outputs": [
    {
     "data": {
      "application/vnd.jupyter.widget-view+json": {
       "model_id": "153da14a352744beb8260718ab97d716",
       "version_major": 2,
       "version_minor": 0
      },
      "text/plain": [
       "HBox(children=(FloatProgress(value=0.0, max=1000.0), HTML(value='')))"
      ]
     },
     "metadata": {},
     "output_type": "display_data"
    },
    {
     "name": "stdout",
     "output_type": "stream",
     "text": [
      "\n"
     ]
    }
   ],
   "source": [
    "X_other, y_list_other, _, _, _ = gen_samples(n_samples=1000, bg=bg_other)"
   ]
  },
  {
   "cell_type": "code",
   "execution_count": 16,
   "metadata": {},
   "outputs": [
    {
     "data": {
      "text/plain": [
       "((10000, 25, 4, 5), (1000, 25, 4, 5))"
      ]
     },
     "execution_count": 16,
     "metadata": {},
     "output_type": "execute_result"
    }
   ],
   "source": [
    "X.shape, X_other.shape"
   ]
  },
  {
   "cell_type": "code",
   "execution_count": 17,
   "metadata": {},
   "outputs": [],
   "source": [
    "y_word, y_no = zip(*y_list)\n",
    "y = [y_dict[word] for word in y_word]\n",
    "y = to_categorical(y)\n",
    "\n",
    "\n",
    "y_word_other, y_no_other = zip(*y_list_other)\n",
    "y_other = [y_dict_other[word] for word in y_word_other]\n",
    "y_other = to_categorical(y_other)"
   ]
  },
  {
   "cell_type": "code",
   "execution_count": 18,
   "metadata": {},
   "outputs": [],
   "source": [
    "X_flat = X.reshape((X.shape[0], -1))\n",
    "X_other_flat = X_other.reshape((X_other.shape[0], -1))"
   ]
  },
  {
   "cell_type": "markdown",
   "metadata": {},
   "source": [
    "## Train model\n",
    "\n",
    "train a model to prove our input format isn't completely wrong"
   ]
  },
  {
   "cell_type": "code",
   "execution_count": 19,
   "metadata": {},
   "outputs": [
    {
     "data": {
      "text/plain": [
       "((10000, 500), (1000, 500))"
      ]
     },
     "execution_count": 19,
     "metadata": {},
     "output_type": "execute_result"
    }
   ],
   "source": [
    "X_flat.shape, X_other_flat.shape"
   ]
  },
  {
   "cell_type": "code",
   "execution_count": 20,
   "metadata": {},
   "outputs": [
    {
     "data": {
      "text/plain": [
       "((10000, 5), (1000, 5))"
      ]
     },
     "execution_count": 20,
     "metadata": {},
     "output_type": "execute_result"
    }
   ],
   "source": [
    "y.shape, y_other.shape"
   ]
  },
  {
   "cell_type": "code",
   "execution_count": 21,
   "metadata": {},
   "outputs": [
    {
     "name": "stderr",
     "output_type": "stream",
     "text": [
      "/home/dev/miniconda3/lib/python3.8/site-packages/sklearn/utils/validation.py:67: FutureWarning: Pass classes=[0 1 2 3 4] as keyword args. From version 0.25 passing these as positional arguments will result in an error\n",
      "  warnings.warn(\"Pass {} as keyword args. From version 0.25 \"\n"
     ]
    }
   ],
   "source": [
    "from imblearn.under_sampling import RandomUnderSampler\n",
    "\n",
    "rus = RandomUnderSampler()\n",
    "X_rus, y_rus = rus.fit_sample(X_flat, y)"
   ]
  },
  {
   "cell_type": "code",
   "execution_count": 22,
   "metadata": {},
   "outputs": [],
   "source": [
    "from sklearn.model_selection import train_test_split\n",
    "\n",
    "X_train, X_test, y_train, y_test = train_test_split(\n",
    "    X_rus, y_rus, test_size=0.1, stratify=y_rus\n",
    ")"
   ]
  },
  {
   "cell_type": "code",
   "execution_count": 23,
   "metadata": {},
   "outputs": [
    {
     "name": "stdout",
     "output_type": "stream",
     "text": [
      "input shape (500,)\n"
     ]
    }
   ],
   "source": [
    "input_shape = X_rus.shape[1:]\n",
    "print(\"input shape\", input_shape)"
   ]
  },
  {
   "cell_type": "code",
   "execution_count": 24,
   "metadata": {},
   "outputs": [],
   "source": [
    "# Define Sequential model with 3 layers\n",
    "model = keras.Sequential(\n",
    "    [\n",
    "        layers.Input(shape=input_shape, name=\"input\"),\n",
    "        layers.Dense(1000, activation=\"relu\", name=\"layer1\"),\n",
    "        layers.Dense(N, name=\"output\", activation=\"softmax\"),\n",
    "    ]\n",
    ")"
   ]
  },
  {
   "cell_type": "code",
   "execution_count": 25,
   "metadata": {},
   "outputs": [
    {
     "name": "stdout",
     "output_type": "stream",
     "text": [
      "Model: \"sequential\"\n",
      "_________________________________________________________________\n",
      "Layer (type)                 Output Shape              Param #   \n",
      "=================================================================\n",
      "layer1 (Dense)               (None, 1000)              501000    \n",
      "_________________________________________________________________\n",
      "output (Dense)               (None, 5)                 5005      \n",
      "=================================================================\n",
      "Total params: 506,005\n",
      "Trainable params: 506,005\n",
      "Non-trainable params: 0\n",
      "_________________________________________________________________\n"
     ]
    }
   ],
   "source": [
    "model.summary()"
   ]
  },
  {
   "cell_type": "code",
   "execution_count": 26,
   "metadata": {},
   "outputs": [
    {
     "name": "stdout",
     "output_type": "stream",
     "text": [
      "Epoch 1/10\n",
      "192/192 [==============================] - 1s 3ms/step - loss: 1.5922 - accuracy: 0.2551 - val_loss: 1.5428 - val_accuracy: 0.3133\n",
      "Epoch 2/10\n",
      "192/192 [==============================] - 1s 3ms/step - loss: 1.3918 - accuracy: 0.4293 - val_loss: 1.4211 - val_accuracy: 0.3909\n",
      "Epoch 3/10\n",
      "192/192 [==============================] - 1s 3ms/step - loss: 1.1130 - accuracy: 0.5825 - val_loss: 1.2468 - val_accuracy: 0.5066\n",
      "Epoch 4/10\n",
      "192/192 [==============================] - 1s 3ms/step - loss: 0.8786 - accuracy: 0.6839 - val_loss: 1.1955 - val_accuracy: 0.4949\n",
      "Epoch 5/10\n",
      "192/192 [==============================] - 1s 3ms/step - loss: 0.6684 - accuracy: 0.7734 - val_loss: 1.2208 - val_accuracy: 0.5051\n",
      "Epoch 6/10\n",
      "192/192 [==============================] - 0s 2ms/step - loss: 0.5242 - accuracy: 0.8371 - val_loss: 1.2484 - val_accuracy: 0.4919\n",
      "Epoch 7/10\n",
      "192/192 [==============================] - 0s 2ms/step - loss: 0.3960 - accuracy: 0.8869 - val_loss: 1.2802 - val_accuracy: 0.5227\n",
      "Epoch 8/10\n",
      "192/192 [==============================] - 1s 3ms/step - loss: 0.2816 - accuracy: 0.9349 - val_loss: 1.2365 - val_accuracy: 0.5198\n",
      "Epoch 9/10\n",
      "192/192 [==============================] - 1s 3ms/step - loss: 0.1885 - accuracy: 0.9710 - val_loss: 1.2842 - val_accuracy: 0.5124\n",
      "Epoch 10/10\n",
      "192/192 [==============================] - 1s 3ms/step - loss: 0.1215 - accuracy: 0.9912 - val_loss: 1.3159 - val_accuracy: 0.5490\n"
     ]
    },
    {
     "data": {
      "text/plain": [
       "<tensorflow.python.keras.callbacks.History at 0x7fecc44e6040>"
      ]
     },
     "execution_count": 26,
     "metadata": {},
     "output_type": "execute_result"
    }
   ],
   "source": [
    "model.compile(loss=\"categorical_crossentropy\", optimizer=\"adam\", metrics=[\"accuracy\"])\n",
    "\n",
    "model.fit(X_train, y_train, batch_size=32, epochs=10, validation_split=0.1)"
   ]
  },
  {
   "cell_type": "code",
   "execution_count": 27,
   "metadata": {},
   "outputs": [
    {
     "name": "stdout",
     "output_type": "stream",
     "text": [
      "24/24 [==============================] - 0s 1ms/step - loss: 1.3350 - accuracy: 0.5310\n"
     ]
    },
    {
     "data": {
      "text/plain": [
       "[1.3350186347961426, 0.530961811542511]"
      ]
     },
     "execution_count": 27,
     "metadata": {},
     "output_type": "execute_result"
    }
   ],
   "source": [
    "# eval on test set\n",
    "model.evaluate(X_test, y_test)"
   ]
  },
  {
   "cell_type": "code",
   "execution_count": 28,
   "metadata": {},
   "outputs": [
    {
     "name": "stdout",
     "output_type": "stream",
     "text": [
      "32/32 [==============================] - 0s 2ms/step - loss: 1.4942 - accuracy: 0.5080\n"
     ]
    },
    {
     "data": {
      "text/plain": [
       "[1.4941989183425903, 0.5080000162124634]"
      ]
     },
     "execution_count": 28,
     "metadata": {},
     "output_type": "execute_result"
    }
   ],
   "source": [
    "# eval on held out set generated from separate vocab\n",
    "model.evaluate(X_other_flat, y_other)"
   ]
  }
 ],
 "metadata": {
  "kernelspec": {
   "display_name": "Python 3",
   "language": "python",
   "name": "python3"
  },
  "language_info": {
   "codemirror_mode": {
    "name": "ipython",
    "version": 3
   },
   "file_extension": ".py",
   "mimetype": "text/x-python",
   "name": "python",
   "nbconvert_exporter": "python",
   "pygments_lexer": "ipython3",
   "version": "3.8.3"
  }
 },
 "nbformat": 4,
 "nbformat_minor": 4
}
