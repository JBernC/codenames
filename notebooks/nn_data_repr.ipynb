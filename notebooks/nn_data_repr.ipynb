{
 "cells": [
  {
   "cell_type": "markdown",
   "metadata": {},
   "source": [
    "# Neural Network Data Representation\n",
    "\n",
    "play with toy data and try and find a good way of representing data for input to a neural network"
   ]
  },
  {
   "cell_type": "markdown",
   "metadata": {},
   "source": [
    "## TODO\n",
    "\n",
    "num prediction not working very well - currently cat... try regression or different loss?\n",
    "\n",
    "- improve target choice\n",
    "- expand vocab\n",
    "- simulate later board stages (round 2+)\n",
    "- predict no. guess \n",
    "\n",
    "a bit separate\n",
    "- predict vector rather than word in vocab? why isn't this done more in language modeling?"
   ]
  },
  {
   "cell_type": "code",
   "execution_count": 1,
   "metadata": {},
   "outputs": [],
   "source": [
    "import math\n",
    "import random\n",
    "from collections import Counter\n",
    "from itertools import groupby\n",
    "from statistics import StatisticsError, mode\n",
    "\n",
    "import numpy as np\n",
    "from gensim.models import KeyedVectors\n",
    "from matplotlib import pyplot as plt\n",
    "from matplotlib.colors import ListedColormap\n",
    "from scipy.spatial import distance\n",
    "from tensorflow import keras\n",
    "from tensorflow.keras import layers\n",
    "from tensorflow.keras.utils import to_categorical\n",
    "from tqdm.auto import tqdm"
   ]
  },
  {
   "cell_type": "code",
   "execution_count": 2,
   "metadata": {},
   "outputs": [],
   "source": [
    "WV_PATH = \"../data/10k_wiki-news-300d-1M-subword.vec\"  # 10k subset for dev"
   ]
  },
  {
   "cell_type": "code",
   "execution_count": 3,
   "metadata": {},
   "outputs": [
    {
     "name": "stdout",
     "output_type": "stream",
     "text": [
      "CPU times: user 2.51 s, sys: 19.7 ms, total: 2.53 s\n",
      "Wall time: 2.52 s\n"
     ]
    }
   ],
   "source": [
    "%%time\n",
    "kv = KeyedVectors.load_word2vec_format(WV_PATH)"
   ]
  },
  {
   "cell_type": "code",
   "execution_count": 4,
   "metadata": {},
   "outputs": [],
   "source": [
    "# very toy vocabs\n",
    "vocab = [\"football\", \"weather\", \"technology\", \"flowers\", \"mouse\"]\n",
    "vocab2 = [\"geography\", \"food\", \"happy\", \"furniture\", \"tall\"]\n",
    "\n",
    "assert len(vocab) == len(vocab2)\n",
    "\n",
    "N = len(vocab)\n",
    "\n",
    "M = 25\n",
    "# fake news... using stupid numbers here to take a shortcut... want to prove that the representation is meaningful\n",
    "n_allied = 12\n",
    "n_enemy = 6\n",
    "n_neutral = 6\n",
    "n_assassin = 1\n",
    "\n",
    "tile_types = [\"ally\", \"enemy\", \"neutral\", \"assassin\"]\n",
    "tile_type_scores = [1, -1, 0, -10]"
   ]
  },
  {
   "cell_type": "code",
   "execution_count": 5,
   "metadata": {},
   "outputs": [],
   "source": [
    "for word in vocab:\n",
    "    assert word in kv.vocab\n",
    "for word in vocab2:\n",
    "    assert word in kv.vocab, f\"{word} not in vocab\""
   ]
  },
  {
   "cell_type": "code",
   "execution_count": 6,
   "metadata": {},
   "outputs": [],
   "source": [
    "class BoardGenerator:\n",
    "    def __init__(\n",
    "        self,\n",
    "        M,\n",
    "        N,\n",
    "        kv,\n",
    "        vocab,\n",
    "        n_allied,\n",
    "        n_neutral,\n",
    "        n_enemy,\n",
    "        n_assassin,\n",
    "        tile_types,\n",
    "        tile_type_scores,\n",
    "    ):\n",
    "        self.M = M\n",
    "        self.N = N\n",
    "        self.kv = kv\n",
    "        self.vocab = vocab\n",
    "        self.n_allied = n_allied\n",
    "        self.n_neutral = n_neutral\n",
    "        self.n_enemy = n_enemy\n",
    "        self.n_assassin = n_assassin\n",
    "        self.tile_types = tile_types\n",
    "        self.tile_type_scores = tile_type_scores\n",
    "\n",
    "        self.v_vocab = [kv.get_vector(word) for word in vocab]\n",
    "        self.v_most_sim = {\n",
    "            word: list(zip(*kv.most_similar(word, topn=20)))[0] for word in vocab\n",
    "        }\n",
    "\n",
    "    def generate_board_types(self, board_topics):\n",
    "        \"\"\" returns board_tile_types as list(M) and y\"\"\"\n",
    "        # assign tile types - M_allied of ally, enemy, neural, 1 assassin\n",
    "        board_types = (\n",
    "            [\"ally\"] * self.n_allied\n",
    "            + [\"neutral\"] * self.n_neutral\n",
    "            + [\"enemy\"] * self.n_enemy\n",
    "            + [\"assassin\"] * self.n_assassin\n",
    "        )\n",
    "        random.shuffle(board_types)  # shuffle\n",
    "\n",
    "        board_scores = [\n",
    "            self.tile_type_scores[self.tile_types.index(bt)] for bt in board_types\n",
    "        ]\n",
    "        sorted_zipped = sorted(zip(board_scores, board_topics), key=lambda x: x[1])\n",
    "        summed = dict()\n",
    "        for k, g in groupby(sorted_zipped, key=lambda x: x[1]):\n",
    "            weights, _ = list(zip(*g))\n",
    "            summed[k] = sum(weights)\n",
    "\n",
    "        # consistent dict order :)\n",
    "        max_ind = np.argmax(list(summed.values()))  # TODO draws?\n",
    "        y_topic = list(summed.keys())[max_ind]\n",
    "        y_count = len(\n",
    "            [\n",
    "                i\n",
    "                for i in range(M)\n",
    "                if board_types[i] == \"ally\" and board_topics[i] == y_topic\n",
    "            ]\n",
    "        )\n",
    "        y = (y_topic, y_count)\n",
    "\n",
    "        return board_types, y\n",
    "\n",
    "    def generate_board(self):\n",
    "        board = list()\n",
    "        board_topics = list()\n",
    "\n",
    "        for i in range(self.M):\n",
    "            topic = random.choice(self.vocab)\n",
    "            similar = self.v_most_sim[topic]\n",
    "\n",
    "            while (\n",
    "                word := random.choice(similar)\n",
    "            ) in board:  # not sure how I feel about these assignment exprs.\n",
    "                continue  # try again\n",
    "\n",
    "            # should now have a word that isn't in board\n",
    "            board.append(word)\n",
    "            board_topics.append(topic)\n",
    "\n",
    "        board_types, y = self.generate_board_types(board_topics)\n",
    "\n",
    "        return board, board_topics, board_types, y\n",
    "\n",
    "    # In[7]:\n",
    "\n",
    "    def print_grid(self, board, board_types):\n",
    "        l = int(math.sqrt(self.M))\n",
    "        bt = [self.tile_types.index(bt) for bt in board_types]\n",
    "        bt = np.array(bt).reshape(l, l)\n",
    "\n",
    "        # \"ally\", \"enemy\", \"neutral\", \"assassin\"\n",
    "        cmap = ListedColormap([\"g\", \"r\", \"w\", \"k\"])\n",
    "\n",
    "        fig, ax = plt.subplots(figsize=(8, 8),)\n",
    "        ax.matshow(bt, cmap=cmap)\n",
    "\n",
    "        for (i, j), z in np.ndenumerate(bt):\n",
    "            c = (i * l) + j\n",
    "            ax.text(\n",
    "                j,\n",
    "                i,\n",
    "                board[c],\n",
    "                ha=\"center\",\n",
    "                va=\"center\",\n",
    "                bbox=dict(boxstyle=\"round\", facecolor=\"white\", edgecolor=\"0.3\"),\n",
    "            )\n",
    "\n",
    "        plt.show()\n",
    "\n",
    "    def get_repr(self, board):\n",
    "        x = np.zeros((self.M, self.N), dtype=np.float32)\n",
    "        for i, word in enumerate(board):\n",
    "            u = self.kv.get_vector(word)\n",
    "            for j, v in enumerate(self.v_vocab):\n",
    "                x[i, j] = 1 - distance.cosine(u, v)\n",
    "\n",
    "        return x"
   ]
  },
  {
   "cell_type": "code",
   "execution_count": 7,
   "metadata": {},
   "outputs": [],
   "source": [
    "bg = BoardGenerator(\n",
    "    M=M,\n",
    "    N=N,\n",
    "    kv=kv,\n",
    "    vocab=vocab,\n",
    "    n_allied=n_allied,\n",
    "    n_neutral=n_neutral,\n",
    "    n_enemy=n_enemy,\n",
    "    n_assassin=n_assassin,\n",
    "    tile_types=tile_types,\n",
    "    tile_type_scores=tile_type_scores,\n",
    ")"
   ]
  },
  {
   "cell_type": "code",
   "execution_count": 8,
   "metadata": {},
   "outputs": [],
   "source": [
    "# for demonstration\n",
    "board, board_topics, board_types, y = bg.generate_board()"
   ]
  },
  {
   "cell_type": "code",
   "execution_count": 9,
   "metadata": {},
   "outputs": [
    {
     "data": {
      "image/png": "[encoded data removed]",
      "text/plain": [
       "<Figure size 576x576 with 1 Axes>"
      ]
     },
     "metadata": {
      "needs_background": "light"
     },
     "output_type": "display_data"
    }
   ],
   "source": [
    "bg.print_grid(board, board_types)"
   ]
  },
  {
   "cell_type": "code",
   "execution_count": 10,
   "metadata": {},
   "outputs": [
    {
     "data": {
      "text/plain": [
       "('flowers', 4)"
      ]
     },
     "execution_count": 10,
     "metadata": {},
     "output_type": "execute_result"
    }
   ],
   "source": [
    "y"
   ]
  },
  {
   "cell_type": "markdown",
   "metadata": {},
   "source": [
    "# Data generation\n",
    "\n",
    "- Generate data\n",
    "- coerce into approp format"
   ]
  },
  {
   "cell_type": "code",
   "execution_count": 11,
   "metadata": {},
   "outputs": [],
   "source": [
    "bg = BoardGenerator(\n",
    "    M=M,\n",
    "    N=N,\n",
    "    kv=kv,\n",
    "    vocab=vocab,\n",
    "    n_allied=n_allied,\n",
    "    n_neutral=n_neutral,\n",
    "    n_enemy=n_enemy,\n",
    "    n_assassin=n_assassin,\n",
    "    tile_types=tile_types,\n",
    "    tile_type_scores=tile_type_scores,\n",
    ")\n",
    "\n",
    "bg_other = BoardGenerator(\n",
    "    M=M,\n",
    "    N=N,\n",
    "    kv=kv,\n",
    "    vocab=vocab2,\n",
    "    n_allied=n_allied,\n",
    "    n_neutral=n_neutral,\n",
    "    n_enemy=n_enemy,\n",
    "    n_assassin=n_assassin,\n",
    "    tile_types=tile_types,\n",
    "    tile_type_scores=tile_type_scores,\n",
    ")"
   ]
  },
  {
   "cell_type": "code",
   "execution_count": 12,
   "metadata": {},
   "outputs": [],
   "source": [
    "y_dict = {word: i for i, word in enumerate(vocab)}\n",
    "y_dict_other = {word: i for i, word in enumerate(vocab2)}\n",
    "\n",
    "board_type_dict = {tt: i for i, tt in enumerate(tile_types)}"
   ]
  },
  {
   "cell_type": "code",
   "execution_count": 13,
   "metadata": {},
   "outputs": [],
   "source": [
    "def gen_samples(n_samples, bg):\n",
    "\n",
    "    X = np.zeros((n_samples, M, len(bg.tile_types), N))\n",
    "\n",
    "    board_list = list()\n",
    "    board_topics_list = list()\n",
    "    board_types_list = list()\n",
    "\n",
    "    y_list = list()\n",
    "\n",
    "    for i in tqdm(range(n_samples)):\n",
    "        board, board_topics, board_types, y = bg.generate_board()\n",
    "\n",
    "        # debug\n",
    "        board_list.append(board)\n",
    "        board_topics_list.append(board_topics)\n",
    "        board_types_list.append(board_types)\n",
    "\n",
    "        x = bg.get_repr(board)\n",
    "\n",
    "        # TODO efficiency? not actually the slow bit :(\n",
    "        x_types = [board_type_dict[tt] for tt in board_types]\n",
    "        for j in range(M):\n",
    "            card_vocab_dists = x[j]\n",
    "            ind = x_types[j]\n",
    "            X[i][j][ind] = card_vocab_dists\n",
    "\n",
    "        y_list.append(y)\n",
    "\n",
    "    return X, y_list, board_list, board_topics_list, board_types_list"
   ]
  },
  {
   "cell_type": "code",
   "execution_count": 14,
   "metadata": {},
   "outputs": [
    {
     "data": {
      "application/vnd.jupyter.widget-view+json": {
       "model_id": "30d8a93b04174e558ee055e103101147",
       "version_major": 2,
       "version_minor": 0
      },
      "text/plain": [
       "HBox(children=(FloatProgress(value=0.0, max=20000.0), HTML(value='')))"
      ]
     },
     "metadata": {},
     "output_type": "display_data"
    },
    {
     "name": "stdout",
     "output_type": "stream",
     "text": [
      "\n"
     ]
    }
   ],
   "source": [
    "X, y_list, board_list, board_topics_list, board_types_list = gen_samples(\n",
    "    n_samples=20000, bg=bg\n",
    ")"
   ]
  },
  {
   "cell_type": "code",
   "execution_count": 15,
   "metadata": {},
   "outputs": [
    {
     "data": {
      "application/vnd.jupyter.widget-view+json": {
       "model_id": "6106fca26b9b4017bb0e66dc4f68e204",
       "version_major": 2,
       "version_minor": 0
      },
      "text/plain": [
       "HBox(children=(FloatProgress(value=0.0, max=1000.0), HTML(value='')))"
      ]
     },
     "metadata": {},
     "output_type": "display_data"
    },
    {
     "name": "stdout",
     "output_type": "stream",
     "text": [
      "\n"
     ]
    }
   ],
   "source": [
    "X_other, y_list_other, _, _, _ = gen_samples(n_samples=1000, bg=bg_other)"
   ]
  },
  {
   "cell_type": "code",
   "execution_count": 16,
   "metadata": {},
   "outputs": [
    {
     "data": {
      "text/plain": [
       "((20000, 25, 4, 5), (1000, 25, 4, 5))"
      ]
     },
     "execution_count": 16,
     "metadata": {},
     "output_type": "execute_result"
    }
   ],
   "source": [
    "X.shape, X_other.shape"
   ]
  },
  {
   "cell_type": "code",
   "execution_count": 17,
   "metadata": {},
   "outputs": [],
   "source": [
    "y_word, y_num = zip(*y_list)\n",
    "y_word = [y_dict[word] for word in y_word]\n",
    "y_word = to_categorical(y_word)\n",
    "y_num = to_categorical(y_num, num_classes=n_allied)\n",
    "\n",
    "\n",
    "y_word_other, y_num_other = zip(*y_list_other)\n",
    "y_word_other = [y_dict_other[word] for word in y_word_other]\n",
    "y_word_other = to_categorical(y_word_other)\n",
    "y_num_other = to_categorical(y_num_other, num_classes=n_allied)"
   ]
  },
  {
   "cell_type": "code",
   "execution_count": 18,
   "metadata": {},
   "outputs": [],
   "source": [
    "X_flat = X.reshape((X.shape[0], -1))\n",
    "X_other_flat = X_other.reshape((X_other.shape[0], -1))"
   ]
  },
  {
   "cell_type": "markdown",
   "metadata": {},
   "source": [
    "## Train model\n",
    "\n",
    "train a model to prove our input format isn't completely wrong"
   ]
  },
  {
   "cell_type": "code",
   "execution_count": 19,
   "metadata": {},
   "outputs": [
    {
     "data": {
      "text/plain": [
       "((20000, 500), (1000, 500))"
      ]
     },
     "execution_count": 19,
     "metadata": {},
     "output_type": "execute_result"
    }
   ],
   "source": [
    "X_flat.shape, X_other_flat.shape"
   ]
  },
  {
   "cell_type": "code",
   "execution_count": 21,
   "metadata": {},
   "outputs": [
    {
     "data": {
      "text/plain": [
       "((20000, 5), (1000, 5), (20000, 12), (1000, 12))"
      ]
     },
     "execution_count": 21,
     "metadata": {},
     "output_type": "execute_result"
    }
   ],
   "source": [
    "y_word.shape, y_word_other.shape, y_num.shape, y_num_other.shape"
   ]
  },
  {
   "cell_type": "code",
   "execution_count": 22,
   "metadata": {},
   "outputs": [
    {
     "name": "stderr",
     "output_type": "stream",
     "text": [
      "/home/dev/miniconda3/lib/python3.8/site-packages/sklearn/utils/validation.py:67: FutureWarning: Pass classes=[0 1 2 3 4] as keyword args. From version 0.25 passing these as positional arguments will result in an error\n",
      "  warnings.warn(\"Pass {} as keyword args. From version 0.25 \"\n"
     ]
    }
   ],
   "source": [
    "from imblearn.under_sampling import RandomUnderSampler\n",
    "\n",
    "rus = RandomUnderSampler()\n",
    "inds = np.expand_dims(np.arange(len(X)),1)\n",
    "inds_rus, y_word_rus = rus.fit_sample(inds, y_word)\n",
    "inds_rus = np.squeeze(inds_rus)\n",
    "X_rus = X_flat[inds_rus]\n",
    "y_num_rus = y_num[inds_rus]"
   ]
  },
  {
   "cell_type": "code",
   "execution_count": 23,
   "metadata": {},
   "outputs": [
    {
     "data": {
      "text/plain": [
       "((15110, 500), (15110, 5), (15110, 12))"
      ]
     },
     "execution_count": 23,
     "metadata": {},
     "output_type": "execute_result"
    }
   ],
   "source": [
    "X_rus.shape, y_word_rus.shape, y_num_rus.shape"
   ]
  },
  {
   "cell_type": "code",
   "execution_count": 25,
   "metadata": {},
   "outputs": [],
   "source": [
    "from sklearn.model_selection import train_test_split\n",
    "\n",
    "X_train, X_test, y_word_train, y_word_test, y_num_train, y_num_test = train_test_split(\n",
    "    X_rus, y_word_rus, y_num_rus, test_size=0.1, stratify=y_word_rus\n",
    ")"
   ]
  },
  {
   "cell_type": "code",
   "execution_count": 26,
   "metadata": {},
   "outputs": [
    {
     "name": "stdout",
     "output_type": "stream",
     "text": [
      "input shape (500,)\n"
     ]
    }
   ],
   "source": [
    "input_shape = X_rus.shape[1:]\n",
    "print(\"input shape\", input_shape)"
   ]
  },
  {
   "cell_type": "code",
   "execution_count": 27,
   "metadata": {},
   "outputs": [],
   "source": [
    "inp = layers.Input(shape=input_shape, name=\"input\")\n",
    "dense_1 = layers.Dense(1000, activation=\"relu\", name=\"layer1\")(inp)\n",
    "dense_word = layers.Dense(N, name=\"dense_word\", activation=None)(dense_1)\n",
    "\n",
    "concat = layers.concatenate((dense_1, dense_word), name=\"concat\")\n",
    "\n",
    "out_word = layers.Softmax(name=\"out_word\")(dense_word)\n",
    "\n",
    "out_num = layers.Dense(n_allied, name=\"out_num\", activation=\"softmax\")(concat)\n",
    "\n",
    "model = keras.Model(inputs=(inp,), outputs=(out_word,out_num))"
   ]
  },
  {
   "cell_type": "code",
   "execution_count": 28,
   "metadata": {},
   "outputs": [
    {
     "name": "stdout",
     "output_type": "stream",
     "text": [
      "Model: \"functional_1\"\n",
      "__________________________________________________________________________________________________\n",
      "Layer (type)                    Output Shape         Param #     Connected to                     \n",
      "==================================================================================================\n",
      "input (InputLayer)              [(None, 500)]        0                                            \n",
      "__________________________________________________________________________________________________\n",
      "layer1 (Dense)                  (None, 1000)         501000      input[0][0]                      \n",
      "__________________________________________________________________________________________________\n",
      "dense_word (Dense)              (None, 5)            5005        layer1[0][0]                     \n",
      "__________________________________________________________________________________________________\n",
      "concat (Concatenate)            (None, 1005)         0           layer1[0][0]                     \n",
      "                                                                 dense_word[0][0]                 \n",
      "__________________________________________________________________________________________________\n",
      "out_word (Softmax)              (None, 5)            0           dense_word[0][0]                 \n",
      "__________________________________________________________________________________________________\n",
      "out_num (Dense)                 (None, 12)           12072       concat[0][0]                     \n",
      "==================================================================================================\n",
      "Total params: 518,077\n",
      "Trainable params: 518,077\n",
      "Non-trainable params: 0\n",
      "__________________________________________________________________________________________________\n"
     ]
    }
   ],
   "source": [
    "model.summary()"
   ]
  },
  {
   "cell_type": "code",
   "execution_count": 29,
   "metadata": {},
   "outputs": [
    {
     "name": "stdout",
     "output_type": "stream",
     "text": [
      "Epoch 1/10\n",
      "383/383 [==============================] - 2s 4ms/step - loss: 3.1202 - out_word_loss: 1.5610 - out_num_loss: 1.5591 - out_word_accuracy: 0.2828 - out_num_accuracy: 0.3263 - val_loss: 2.9885 - val_out_word_loss: 1.4557 - val_out_num_loss: 1.5328 - val_out_word_accuracy: 0.3684 - val_out_num_accuracy: 0.3294\n",
      "Epoch 2/10\n",
      "383/383 [==============================] - 1s 4ms/step - loss: 2.8126 - out_word_loss: 1.2926 - out_num_loss: 1.5200 - out_word_accuracy: 0.4789 - out_num_accuracy: 0.3473 - val_loss: 2.7310 - val_out_word_loss: 1.1870 - val_out_num_loss: 1.5440 - val_out_word_accuracy: 0.5272 - val_out_num_accuracy: 0.3279\n",
      "Epoch 3/10\n",
      "383/383 [==============================] - 1s 4ms/step - loss: 2.5228 - out_word_loss: 1.0301 - out_num_loss: 1.4927 - out_word_accuracy: 0.5968 - out_num_accuracy: 0.3714 - val_loss: 2.6460 - val_out_word_loss: 1.0993 - val_out_num_loss: 1.5467 - val_out_word_accuracy: 0.5419 - val_out_num_accuracy: 0.3096\n",
      "Epoch 4/10\n",
      "383/383 [==============================] - 1s 4ms/step - loss: 2.3025 - out_word_loss: 0.8628 - out_num_loss: 1.4397 - out_word_accuracy: 0.6737 - out_num_accuracy: 0.4071 - val_loss: 2.5807 - val_out_word_loss: 1.0024 - val_out_num_loss: 1.5783 - val_out_word_accuracy: 0.5890 - val_out_num_accuracy: 0.2971\n",
      "Epoch 5/10\n",
      "383/383 [==============================] - 1s 4ms/step - loss: 2.0906 - out_word_loss: 0.7312 - out_num_loss: 1.3595 - out_word_accuracy: 0.7292 - out_num_accuracy: 0.4504 - val_loss: 2.5918 - val_out_word_loss: 0.9607 - val_out_num_loss: 1.6311 - val_out_word_accuracy: 0.6103 - val_out_num_accuracy: 0.2912\n",
      "Epoch 6/10\n",
      "383/383 [==============================] - 1s 4ms/step - loss: 1.8879 - out_word_loss: 0.6284 - out_num_loss: 1.2595 - out_word_accuracy: 0.7682 - out_num_accuracy: 0.5053 - val_loss: 2.7067 - val_out_word_loss: 1.0042 - val_out_num_loss: 1.7025 - val_out_word_accuracy: 0.5985 - val_out_num_accuracy: 0.3037\n",
      "Epoch 7/10\n",
      "383/383 [==============================] - 1s 4ms/step - loss: 1.6767 - out_word_loss: 0.5344 - out_num_loss: 1.1423 - out_word_accuracy: 0.8112 - out_num_accuracy: 0.5630 - val_loss: 2.7981 - val_out_word_loss: 1.0286 - val_out_num_loss: 1.7695 - val_out_word_accuracy: 0.5949 - val_out_num_accuracy: 0.2868\n",
      "Epoch 8/10\n",
      "383/383 [==============================] - 1s 4ms/step - loss: 1.4714 - out_word_loss: 0.4495 - out_num_loss: 1.0219 - out_word_accuracy: 0.8439 - out_num_accuracy: 0.6231 - val_loss: 2.9360 - val_out_word_loss: 1.0692 - val_out_num_loss: 1.8668 - val_out_word_accuracy: 0.5904 - val_out_num_accuracy: 0.2765\n",
      "Epoch 9/10\n",
      "383/383 [==============================] - 1s 4ms/step - loss: 1.2616 - out_word_loss: 0.3684 - out_num_loss: 0.8932 - out_word_accuracy: 0.8823 - out_num_accuracy: 0.6775 - val_loss: 3.0497 - val_out_word_loss: 1.0874 - val_out_num_loss: 1.9623 - val_out_word_accuracy: 0.6140 - val_out_num_accuracy: 0.2544\n",
      "Epoch 10/10\n",
      "383/383 [==============================] - 1s 4ms/step - loss: 1.0767 - out_word_loss: 0.3062 - out_num_loss: 0.7706 - out_word_accuracy: 0.9073 - out_num_accuracy: 0.7411 - val_loss: 3.1453 - val_out_word_loss: 1.1072 - val_out_num_loss: 2.0382 - val_out_word_accuracy: 0.5956 - val_out_num_accuracy: 0.2794\n"
     ]
    },
    {
     "data": {
      "text/plain": [
       "<tensorflow.python.keras.callbacks.History at 0x7fb3106f9460>"
      ]
     },
     "execution_count": 29,
     "metadata": {},
     "output_type": "execute_result"
    }
   ],
   "source": [
    "model.compile(loss=\"categorical_crossentropy\", optimizer=\"adam\", metrics=[\"accuracy\"])\n",
    "\n",
    "model.fit(X_train, (y_word_train, y_num_train), batch_size=32, epochs=10, validation_split=0.1)"
   ]
  },
  {
   "cell_type": "code",
   "execution_count": 30,
   "metadata": {},
   "outputs": [
    {
     "name": "stdout",
     "output_type": "stream",
     "text": [
      "48/48 [==============================] - 0s 2ms/step - loss: 3.1244 - out_word_loss: 1.0866 - out_num_loss: 2.0378 - out_word_accuracy: 0.5963 - out_num_accuracy: 0.2919\n"
     ]
    },
    {
     "data": {
      "text/plain": [
       "[3.124411106109619,\n",
       " 1.0865665674209595,\n",
       " 2.037843942642212,\n",
       " 0.5962938666343689,\n",
       " 0.2918596863746643]"
      ]
     },
     "execution_count": 30,
     "metadata": {},
     "output_type": "execute_result"
    }
   ],
   "source": [
    "# eval on test set\n",
    "model.evaluate(X_test, (y_word_test, y_num_test))"
   ]
  },
  {
   "cell_type": "code",
   "execution_count": 31,
   "metadata": {},
   "outputs": [
    {
     "data": {
      "text/plain": [
       "((1000, 5), (1000, 12))"
      ]
     },
     "execution_count": 31,
     "metadata": {},
     "output_type": "execute_result"
    }
   ],
   "source": [
    "y_word_other.shape, y_num_other.shape"
   ]
  },
  {
   "cell_type": "code",
   "execution_count": 32,
   "metadata": {},
   "outputs": [
    {
     "name": "stdout",
     "output_type": "stream",
     "text": [
      "32/32 [==============================] - 0s 2ms/step - loss: 3.3938 - out_word_loss: 1.3987 - out_num_loss: 1.9951 - out_word_accuracy: 0.5400 - out_num_accuracy: 0.2830\n"
     ]
    },
    {
     "data": {
      "text/plain": [
       "[3.393775701522827,\n",
       " 1.3986653089523315,\n",
       " 1.9951099157333374,\n",
       " 0.5400000214576721,\n",
       " 0.28299999237060547]"
      ]
     },
     "execution_count": 32,
     "metadata": {},
     "output_type": "execute_result"
    }
   ],
   "source": [
    "# eval on held out set generated from separate vocab\n",
    "model.evaluate(X_other_flat, (y_word_other, y_num_other))"
   ]
  }
 ],
 "metadata": {
  "kernelspec": {
   "display_name": "Python 3",
   "language": "python",
   "name": "python3"
  },
  "language_info": {
   "codemirror_mode": {
    "name": "ipython",
    "version": 3
   },
   "file_extension": ".py",
   "mimetype": "text/x-python",
   "name": "python",
   "nbconvert_exporter": "python",
   "pygments_lexer": "ipython3",
   "version": "3.8.3"
  }
 },
 "nbformat": 4,
 "nbformat_minor": 4
}
