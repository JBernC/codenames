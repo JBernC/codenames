{
 "cells": [
  {
   "cell_type": "code",
   "execution_count": 1,
   "metadata": {},
   "outputs": [
    {
     "data": {
      "application/javascript": [
       "\n",
       "            setTimeout(function() {\n",
       "                var nbb_cell_id = 1;\n",
       "                var nbb_unformatted_code = \"%load_ext nb_black\";\n",
       "                var nbb_formatted_code = \"%load_ext nb_black\";\n",
       "                var nbb_cells = Jupyter.notebook.get_cells();\n",
       "                for (var i = 0; i < nbb_cells.length; ++i) {\n",
       "                    if (nbb_cells[i].input_prompt_number == nbb_cell_id) {\n",
       "                        if (nbb_cells[i].get_text() == nbb_unformatted_code) {\n",
       "                             nbb_cells[i].set_text(nbb_formatted_code);\n",
       "                        }\n",
       "                        break;\n",
       "                    }\n",
       "                }\n",
       "            }, 500);\n",
       "            "
      ],
      "text/plain": [
       "<IPython.core.display.Javascript object>"
      ]
     },
     "metadata": {},
     "output_type": "display_data"
    }
   ],
   "source": [
    "%load_ext nb_black"
   ]
  },
  {
   "cell_type": "markdown",
   "metadata": {},
   "source": [
    "# Greedy Matrix Codenames\n",
    "\n",
    "A first attempt at the greedy matrix approach to playing codenames as a Spymaster. Essentially, all ally word combinations of up to 5 are calculated and clues are generated for each by using Gensim's word similarity functions. The resulting clue words are compared with the rest of the board and, using weightings for card types, scores are generated.\n",
    "\n",
    "For this first pass, we're using the conceptnet model in the hope that it's most suited to the codenames task. I say hope because at this point it requires further work to evaluate the various models available (read as 'stab in the dark')."
   ]
  },
  {
   "cell_type": "markdown",
   "metadata": {},
   "source": [
    "## Helper Methods and Prep"
   ]
  },
  {
   "cell_type": "code",
   "execution_count": 2,
   "metadata": {},
   "outputs": [
    {
     "data": {
      "application/javascript": [
       "\n",
       "            setTimeout(function() {\n",
       "                var nbb_cell_id = 2;\n",
       "                var nbb_unformatted_code = \"from os import getcwd, chdir\\n\\nchdir(\\\"../\\\")  # Hate this, but quick and dirty\\nimport pandas as pd\\nimport numpy as np\\nimport requests\\nimport zipfile\\nimport plotly.express as px\\nimport plotly.graph_objs as go\\nimport io\\nimport gensim.downloader as api\\nimport logging\\n\\nfrom collections import namedtuple\\nfrom sklearn.metrics.pairwise import euclidean_distances\\nfrom sklearn.preprocessing import Normalizer\\nfrom gensim.models.fasttext import FastText\\nfrom gensim.models import KeyedVectors\\nfrom itertools import combinations\\nfrom codenames.codenames_board import CodenamesGame\\nfrom tqdm.auto import tqdm\\nfrom os.path import isfile, join\\nfrom sklearn.metrics.pairwise import cosine_similarity as cosine\\nfrom operator import itemgetter\\n\\nlogger = logging.getLogger()\\nlogger.setLevel(logging.CRITICAL)\";\n",
       "                var nbb_formatted_code = \"from os import getcwd, chdir\\n\\nchdir(\\\"../\\\")  # Hate this, but quick and dirty\\nimport pandas as pd\\nimport numpy as np\\nimport requests\\nimport zipfile\\nimport plotly.express as px\\nimport plotly.graph_objs as go\\nimport io\\nimport gensim.downloader as api\\nimport logging\\n\\nfrom collections import namedtuple\\nfrom sklearn.metrics.pairwise import euclidean_distances\\nfrom sklearn.preprocessing import Normalizer\\nfrom gensim.models.fasttext import FastText\\nfrom gensim.models import KeyedVectors\\nfrom itertools import combinations\\nfrom codenames.codenames_board import CodenamesGame\\nfrom tqdm.auto import tqdm\\nfrom os.path import isfile, join\\nfrom sklearn.metrics.pairwise import cosine_similarity as cosine\\nfrom operator import itemgetter\\n\\nlogger = logging.getLogger()\\nlogger.setLevel(logging.CRITICAL)\";\n",
       "                var nbb_cells = Jupyter.notebook.get_cells();\n",
       "                for (var i = 0; i < nbb_cells.length; ++i) {\n",
       "                    if (nbb_cells[i].input_prompt_number == nbb_cell_id) {\n",
       "                        if (nbb_cells[i].get_text() == nbb_unformatted_code) {\n",
       "                             nbb_cells[i].set_text(nbb_formatted_code);\n",
       "                        }\n",
       "                        break;\n",
       "                    }\n",
       "                }\n",
       "            }, 500);\n",
       "            "
      ],
      "text/plain": [
       "<IPython.core.display.Javascript object>"
      ]
     },
     "metadata": {},
     "output_type": "display_data"
    }
   ],
   "source": [
    "from os import getcwd, chdir\n",
    "\n",
    "chdir(\"../\")  # Hate this, but quick and dirty\n",
    "import pandas as pd\n",
    "import numpy as np\n",
    "import requests\n",
    "import zipfile\n",
    "import plotly.express as px\n",
    "import plotly.graph_objs as go\n",
    "import io\n",
    "import gensim.downloader as api\n",
    "import logging\n",
    "\n",
    "from collections import namedtuple\n",
    "from sklearn.metrics.pairwise import euclidean_distances\n",
    "from sklearn.preprocessing import Normalizer\n",
    "from gensim.models.fasttext import FastText\n",
    "from gensim.models import KeyedVectors\n",
    "from itertools import combinations\n",
    "from codenames.codenames_board import CodenamesGame\n",
    "from tqdm.auto import tqdm\n",
    "from os.path import isfile, join\n",
    "from sklearn.metrics.pairwise import cosine_similarity as cosine\n",
    "from operator import itemgetter\n",
    "\n",
    "logger = logging.getLogger()\n",
    "logger.setLevel(logging.CRITICAL)"
   ]
  },
  {
   "cell_type": "code",
   "execution_count": 3,
   "metadata": {},
   "outputs": [
    {
     "data": {
      "application/javascript": [
       "\n",
       "            setTimeout(function() {\n",
       "                var nbb_cell_id = 3;\n",
       "                var nbb_unformatted_code = \"model_name = \\\"conceptnet-numberbatch-17-06-300\\\"\\nmodel_path = join('models', model_name)\\nif isfile(model_path):\\n    model = KeyedVectors.load(model_path)\\nelse:\\n    model = api.load(\\n        model_name\\n    )\\n    model.save(model_path)\";\n",
       "                var nbb_formatted_code = \"model_name = \\\"conceptnet-numberbatch-17-06-300\\\"\\nmodel_path = join(\\\"models\\\", model_name)\\nif isfile(model_path):\\n    model = KeyedVectors.load(model_path)\\nelse:\\n    model = api.load(model_name)\\n    model.save(model_path)\";\n",
       "                var nbb_cells = Jupyter.notebook.get_cells();\n",
       "                for (var i = 0; i < nbb_cells.length; ++i) {\n",
       "                    if (nbb_cells[i].input_prompt_number == nbb_cell_id) {\n",
       "                        if (nbb_cells[i].get_text() == nbb_unformatted_code) {\n",
       "                             nbb_cells[i].set_text(nbb_formatted_code);\n",
       "                        }\n",
       "                        break;\n",
       "                    }\n",
       "                }\n",
       "            }, 500);\n",
       "            "
      ],
      "text/plain": [
       "<IPython.core.display.Javascript object>"
      ]
     },
     "metadata": {},
     "output_type": "display_data"
    }
   ],
   "source": [
    "model_name = \"conceptnet-numberbatch-17-06-300\"\n",
    "model_path = join('models', model_name)\n",
    "if isfile(model_path):\n",
    "    model = KeyedVectors.load(model_path)\n",
    "else:\n",
    "    model = api.load(\n",
    "        model_name\n",
    "    )\n",
    "    model.save(model_path)\n"
   ]
  },
  {
   "cell_type": "code",
   "execution_count": 4,
   "metadata": {},
   "outputs": [
    {
     "data": {
      "application/javascript": [
       "\n",
       "            setTimeout(function() {\n",
       "                var nbb_cell_id = 4;\n",
       "                var nbb_unformatted_code = \"# A small adjustment to the vocab to remove all none english words and strip away the language prefix, can also be used in the future to limit vocab for the guessing agent\\n(\\n    english_only_vocab,\\n    english_only_vectors,\\n    english_only_index2entity,\\n    english_only_vectors_norm,\\n) = ({}, [], [], [])\\n\\nfor word, vector, index2entity in zip(\\n    model.vocab.keys(), model.vectors, model.index2entity\\n):\\n\\n    if \\\"/c/en/\\\" in word:\\n        vocab = model.vocab[word]\\n        \\n        vocab.index = len(english_only_index2entity)\\n        english_only_vocab[word.replace(\\\"/c/en/\\\",\\\"\\\")] = vocab\\n        english_only_vectors.append(vector)\\n        english_only_index2entity.append(index2entity.replace(\\\"/c/en/\\\",\\\"\\\"))\\n\\nmodel.vocab = english_only_vocab\\nmodel.vectors = np.array(english_only_vectors)\\nmodel.index2entity = english_only_index2entity\\nmodel.index2word = english_only_index2entity\";\n",
       "                var nbb_formatted_code = \"# A small adjustment to the vocab to remove all none english words and strip away the language prefix, can also be used in the future to limit vocab for the guessing agent\\n(\\n    english_only_vocab,\\n    english_only_vectors,\\n    english_only_index2entity,\\n    english_only_vectors_norm,\\n) = ({}, [], [], [])\\n\\nfor word, vector, index2entity in zip(\\n    model.vocab.keys(), model.vectors, model.index2entity\\n):\\n\\n    if \\\"/c/en/\\\" in word:\\n        vocab = model.vocab[word]\\n\\n        vocab.index = len(english_only_index2entity)\\n        english_only_vocab[word.replace(\\\"/c/en/\\\", \\\"\\\")] = vocab\\n        english_only_vectors.append(vector)\\n        english_only_index2entity.append(index2entity.replace(\\\"/c/en/\\\", \\\"\\\"))\\n\\nmodel.vocab = english_only_vocab\\nmodel.vectors = np.array(english_only_vectors)\\nmodel.index2entity = english_only_index2entity\\nmodel.index2word = english_only_index2entity\";\n",
       "                var nbb_cells = Jupyter.notebook.get_cells();\n",
       "                for (var i = 0; i < nbb_cells.length; ++i) {\n",
       "                    if (nbb_cells[i].input_prompt_number == nbb_cell_id) {\n",
       "                        if (nbb_cells[i].get_text() == nbb_unformatted_code) {\n",
       "                             nbb_cells[i].set_text(nbb_formatted_code);\n",
       "                        }\n",
       "                        break;\n",
       "                    }\n",
       "                }\n",
       "            }, 500);\n",
       "            "
      ],
      "text/plain": [
       "<IPython.core.display.Javascript object>"
      ]
     },
     "metadata": {},
     "output_type": "display_data"
    }
   ],
   "source": [
    "# A small adjustment to the vocab to remove all none english words and strip away the language prefix, can also be used in the future to limit vocab for the guessing agent\n",
    "(\n",
    "    english_only_vocab,\n",
    "    english_only_vectors,\n",
    "    english_only_index2entity,\n",
    "    english_only_vectors_norm,\n",
    ") = ({}, [], [], [])\n",
    "\n",
    "for word, vector, index2entity in zip(\n",
    "    model.vocab.keys(), model.vectors, model.index2entity\n",
    "):\n",
    "\n",
    "    if \"/c/en/\" in word:\n",
    "        vocab = model.vocab[word]\n",
    "        \n",
    "        vocab.index = len(english_only_index2entity)\n",
    "        english_only_vocab[word.replace(\"/c/en/\",\"\")] = vocab\n",
    "        english_only_vectors.append(vector)\n",
    "        english_only_index2entity.append(index2entity.replace(\"/c/en/\",\"\"))\n",
    "\n",
    "model.vocab = english_only_vocab\n",
    "model.vectors = np.array(english_only_vectors)\n",
    "model.index2entity = english_only_index2entity\n",
    "model.index2word = english_only_index2entity\n"
   ]
  },
  {
   "cell_type": "code",
   "execution_count": 5,
   "metadata": {},
   "outputs": [
    {
     "data": {
      "application/javascript": [
       "\n",
       "            setTimeout(function() {\n",
       "                var nbb_cell_id = 5;\n",
       "                var nbb_unformatted_code = \"def get_game_data(codenames_game, model):\\n    team = codenames_game.current_team\\n    enemy_team = \\\"blue\\\" if team == \\\"red\\\" else \\\"blue\\\"\\n    spymaster_map = codenames_game.spymaster_map\\n    revealed = codenames_game.revealed\\n    cards = [smart_lower(card, model) for card in codenames_game.codename_cards]\\n    in_play_cards = cards.copy()\\n    ally_cards = [\\n        c for i, c in enumerate(cards) if i in spymaster_map[team] and not revealed[i]\\n    ]\\n    ally_cards = [smart_lower(ally_card, model) for ally_card in ally_cards]\\n    enemy_cards = [\\n        c\\n        for i, c in enumerate(cards)\\n        if i in spymaster_map[enemy_team] and not revealed[i]\\n    ]\\n    enemy_cards = [smart_lower(enemy_card, model) for enemy_card in enemy_cards]\\n    neutral_cards = [\\n        c\\n        for i, c in enumerate(cards)\\n        if i in spymaster_map[\\\"neutral\\\"] and not revealed[i]\\n    ]\\n    neutral_cards = [smart_lower(neutral_card, model) for neutral_card in neutral_cards]\\n    assassin_card = cards[spymaster_map[\\\"assassin\\\"][0]]\\n    cards = [c for i, c in enumerate(cards) if not revealed[i]]\\n    return (\\n        cards,\\n        ally_cards,\\n        enemy_cards,\\n        neutral_cards,\\n        assassin_card,\\n        spymaster_map,\\n        team,\\n    )\\n\\n\\ndef smart_lower(word, model):\\n    checked = False\\n    adjusted = word.replace(\\\" \\\", \\\"\\\").lower()\\n    try:\\n        model.get_vector(adjusted)\\n    except KeyError:\\n        adjusted = adjusted.capitalize()\\n        model.get_vector(adjusted)\\n\\n    return adjusted\\n\\n\\ndef create_word_combinations_matrices(\\n    ally_cards, model, default_max_combo=5, one_word_clues=False\\n):\\n    max_combination = min(len(ally_cards), default_max_combo)\\n    ally_combinations = []\\n    lowest_combination = 1 if (one_word_clues or len(ally_cards) == 1) else 2\\n    for i in range(lowest_combination, max_combination + 1):\\n        ally_combinations += list(combinations(ally_cards, i))\\n\\n    ally_combination_vectors = [\\n        [model.get_vector(word) for word in combination]\\n        for combination in ally_combinations\\n    ]\\n    return ally_combinations, ally_combination_vectors\\n\\n\\ndef get_most_similar(\\n    positive_cards, all_cards, negative_cards=None, include_score=False, topn=1\\n):\\n    try:\\n        most_similar_words_with_scores = model.most_similar(\\n            positive=positive_cards, negative=negative_cards, topn=50,\\n        )\\n        possible_clue_words = []\\n        for most_similar_word_w_score in most_similar_words_with_scores:\\n            word = most_similar_word_w_score[0]\\n            if all([[c not in word for c in all_cards]]):\\n                possible_clue_words.append(word)\\n\\n        return possible_clue_words[:topn]\\n    except IndexError:\\n        logger.critical(f\\\"No valid clue found!\\\\nCombination was {positive_cards}\\\")\\n        logger.critical\\n\\n\\ndef get_most_similar_vectors_for_combos(word_combinations, all_cards, **kwargs):\\n    most_similar_words = {\\n        combination: get_most_similar(\\n            positive_cards=list(combination), all_cards=all_cards, **kwargs\\n        )\\n        for combination in word_combinations\\n    }\\n\\n    return most_similar_words\\n\\n\\nClueTuple = namedtuple(\\\"ClueTuple\\\", [\\\"clue\\\", \\\"intended_combo\\\", \\\"board_similarities\\\"])\\n\\n\\ndef create_clue_tuples(word_combo_clue_dict, model):\\n    clue_tuples = []\\n    for clue_words, clues in word_combo_clue_dict.items():\\n        for clue in clues:\\n            clue_tuples.append(\\n                ClueTuple(\\n                    clue,\\n                    clue_words,\\n                    [(card, model.similarity(card, clue)) for card in cards],\\n                )\\n            )\\n\\n    return clue_tuples\\n\\n\\ndef create_clue_df(clue_tuples, cards):\\n    dataframe_tuples = []\\n    for clue, intended_combo, board_similarities in clue_tuples:\\n        dataframe_tuples.append(\\n            (\\n                clue,\\n                intended_combo,\\n                *[card_similarity[1] for card_similarity in board_similarities],\\n            )\\n        )\\n\\n    return pd.DataFrame(\\n        dataframe_tuples, columns=[\\\"clue\\\", \\\"intended_combo\\\"] + cards\\n    ).set_index([\\\"clue\\\", \\\"intended_combo\\\"])\\n\\n\\ndef calculate_best_clue(\\n    clue_df,\\n    spymaster_map,\\n    ally_cards,\\n    enemy_cards,\\n    neutral_cards,\\n    assassin_card,\\n    **kwargs,\\n):\\n    assassin_weight = kwargs.get(\\\"assassin_weight\\\", -10)\\n    enemy_weight = kwargs.get(\\\"enemy_weight\\\", -5)\\n    neutral_weight = kwargs.get(\\\"neutral_weight\\\", 0)\\n    ally_weight = kwargs.get(\\\"ally_weight\\\", 10)\\n    risk_weight = kwargs.get(\\\"risk_weight\\\", 0)\\n    clue_score_threshold = kwargs.get(\\\"clue_score_threshold\\\", 0)\\n    with_normalisation = kwargs.get(\\\"with_normalisation\\\", False)\\n\\n    ally_cards_len = len(ally_cards)\\n    weighted_clue_df = clue_df.copy()\\n    if with_normalisation:\\n        norm = Normalizer()\\n        weighted_clue_df.iloc[:, :25] = norm.fit_transform(\\n            weighted_clue_df.iloc[:, :25]\\n        )\\n    weighted_clue_df[\\\"raw_clue_length\\\"] = weighted_clue_df.index.get_level_values(\\n        \\\"intended_combo\\\"\\n    ).str.len()\\n    # clip scores below the threshold\\n    weighted_clue_df.loc[:, ally_cards] = (\\n        ally_df := weighted_clue_df.loc[:, ally_cards]\\n    ).where(ally_df >= clue_score_threshold, 0)\\n    # If clue word score is part of intended, but below threshold we reduce the clue length!\\n    weighted_clue_df[\\\"amended_combo\\\"] = create_amended_combos(weighted_clue_df)\\n    weighted_clue_df[\\\"actual_combo_length\\\"] = weighted_clue_df.amended_combo.str.len()\\n\\n    # Apply various weights\\n    weighted_clue_df.loc[:, [assassin_card]] = (\\n        weighted_clue_df.loc[:, [assassin_card]] * assassin_weight\\n    )\\n    weighted_clue_df.loc[:, neutral_cards] = (\\n        weighted_clue_df.loc[:, neutral_cards] * neutral_weight\\n    )\\n    weighted_clue_df.loc[:, enemy_cards] = (\\n        weighted_clue_df.loc[:, enemy_cards] * enemy_weight\\n    )\\n    weighted_clue_df.loc[:, ally_cards] = (\\n        weighted_clue_df.loc[:, ally_cards] * ally_weight\\n    )\\n    weighted_clue_df[\\\"weighted_score\\\"] = weighted_clue_df.iloc[:, :25].sum(axis=1)\\n    weighted_clue_df[\\\"weighted_score\\\"] = weighted_clue_df.weighted_score + (\\n        weighted_clue_df.actual_combo_length * risk_weight\\n    )\\n    best_clue = weighted_clue_df.iloc[weighted_clue_df[\\\"weighted_score\\\"].argmax()]\\n\\n    return best_clue, weighted_clue_df\\n\\n\\ndef restrict_vocab_with_set(w2v, restricted_word_set):\\n    new_vectors = []\\n    new_vocab = {}\\n    new_index2entity = []\\n    new_vectors_norm = []\\n\\n    for i in range(len(w2v.vocab)):\\n        word = w2v.index2entity[i]\\n        vec = w2v.vectors[i]\\n        vocab = w2v.vocab[word]\\n        #         vec_norm = w2v.vectors_norm[i]\\n        if word in restricted_word_set:\\n            vocab.index = len(new_index2entity)\\n            new_index2entity.append(word)\\n            new_vocab[word] = vocab\\n            new_vectors.append(vec)\\n    #             new_vectors_norm.append(vec_norm)\\n\\n    w2v.vocab = new_vocab\\n    w2v.vectors = np.array(new_vectors)\\n    w2v.index2entity = np.array(new_index2entity)\\n    w2v.index2word = np.array(new_index2entity)\\n\\n\\ndef create_amended_combos(df):\\n    #  Can be done with apply, doing it dirtily in the hope of a heavy refactor after the fact\\n    new_combos = []\\n    for idx, row in df.iterrows():\\n        intended_combo = idx[1]\\n        zero_values = row.loc[row == 0]\\n        new_combo = [c for c in intended_combo if c not in zero_values.index]\\n        new_combos.append(new_combo)\\n    return new_combos\";\n",
       "                var nbb_formatted_code = \"def get_game_data(codenames_game, model):\\n    team = codenames_game.current_team\\n    enemy_team = \\\"blue\\\" if team == \\\"red\\\" else \\\"blue\\\"\\n    spymaster_map = codenames_game.spymaster_map\\n    revealed = codenames_game.revealed\\n    cards = [smart_lower(card, model) for card in codenames_game.codename_cards]\\n    in_play_cards = cards.copy()\\n    ally_cards = [\\n        c for i, c in enumerate(cards) if i in spymaster_map[team] and not revealed[i]\\n    ]\\n    ally_cards = [smart_lower(ally_card, model) for ally_card in ally_cards]\\n    enemy_cards = [\\n        c\\n        for i, c in enumerate(cards)\\n        if i in spymaster_map[enemy_team] and not revealed[i]\\n    ]\\n    enemy_cards = [smart_lower(enemy_card, model) for enemy_card in enemy_cards]\\n    neutral_cards = [\\n        c\\n        for i, c in enumerate(cards)\\n        if i in spymaster_map[\\\"neutral\\\"] and not revealed[i]\\n    ]\\n    neutral_cards = [smart_lower(neutral_card, model) for neutral_card in neutral_cards]\\n    assassin_card = cards[spymaster_map[\\\"assassin\\\"][0]]\\n    cards = [c for i, c in enumerate(cards) if not revealed[i]]\\n    return (\\n        cards,\\n        ally_cards,\\n        enemy_cards,\\n        neutral_cards,\\n        assassin_card,\\n        spymaster_map,\\n        team,\\n    )\\n\\n\\ndef smart_lower(word, model):\\n    checked = False\\n    adjusted = word.replace(\\\" \\\", \\\"\\\").lower()\\n    try:\\n        model.get_vector(adjusted)\\n    except KeyError:\\n        adjusted = adjusted.capitalize()\\n        model.get_vector(adjusted)\\n\\n    return adjusted\\n\\n\\ndef create_word_combinations_matrices(\\n    ally_cards, model, default_max_combo=5, one_word_clues=False\\n):\\n    max_combination = min(len(ally_cards), default_max_combo)\\n    ally_combinations = []\\n    lowest_combination = 1 if (one_word_clues or len(ally_cards) == 1) else 2\\n    for i in range(lowest_combination, max_combination + 1):\\n        ally_combinations += list(combinations(ally_cards, i))\\n\\n    ally_combination_vectors = [\\n        [model.get_vector(word) for word in combination]\\n        for combination in ally_combinations\\n    ]\\n    return ally_combinations, ally_combination_vectors\\n\\n\\ndef get_most_similar(\\n    positive_cards, all_cards, negative_cards=None, include_score=False, topn=1\\n):\\n    try:\\n        most_similar_words_with_scores = model.most_similar(\\n            positive=positive_cards, negative=negative_cards, topn=50,\\n        )\\n        possible_clue_words = []\\n        for most_similar_word_w_score in most_similar_words_with_scores:\\n            word = most_similar_word_w_score[0]\\n            if all([[c not in word for c in all_cards]]):\\n                possible_clue_words.append(word)\\n\\n        return possible_clue_words[:topn]\\n    except IndexError:\\n        logger.critical(f\\\"No valid clue found!\\\\nCombination was {positive_cards}\\\")\\n        logger.critical\\n\\n\\ndef get_most_similar_vectors_for_combos(word_combinations, all_cards, **kwargs):\\n    most_similar_words = {\\n        combination: get_most_similar(\\n            positive_cards=list(combination), all_cards=all_cards, **kwargs\\n        )\\n        for combination in word_combinations\\n    }\\n\\n    return most_similar_words\\n\\n\\nClueTuple = namedtuple(\\\"ClueTuple\\\", [\\\"clue\\\", \\\"intended_combo\\\", \\\"board_similarities\\\"])\\n\\n\\ndef create_clue_tuples(word_combo_clue_dict, model):\\n    clue_tuples = []\\n    for clue_words, clues in word_combo_clue_dict.items():\\n        for clue in clues:\\n            clue_tuples.append(\\n                ClueTuple(\\n                    clue,\\n                    clue_words,\\n                    [(card, model.similarity(card, clue)) for card in cards],\\n                )\\n            )\\n\\n    return clue_tuples\\n\\n\\ndef create_clue_df(clue_tuples, cards):\\n    dataframe_tuples = []\\n    for clue, intended_combo, board_similarities in clue_tuples:\\n        dataframe_tuples.append(\\n            (\\n                clue,\\n                intended_combo,\\n                *[card_similarity[1] for card_similarity in board_similarities],\\n            )\\n        )\\n\\n    return pd.DataFrame(\\n        dataframe_tuples, columns=[\\\"clue\\\", \\\"intended_combo\\\"] + cards\\n    ).set_index([\\\"clue\\\", \\\"intended_combo\\\"])\\n\\n\\ndef calculate_best_clue(\\n    clue_df,\\n    spymaster_map,\\n    ally_cards,\\n    enemy_cards,\\n    neutral_cards,\\n    assassin_card,\\n    **kwargs,\\n):\\n    assassin_weight = kwargs.get(\\\"assassin_weight\\\", -10)\\n    enemy_weight = kwargs.get(\\\"enemy_weight\\\", -5)\\n    neutral_weight = kwargs.get(\\\"neutral_weight\\\", 0)\\n    ally_weight = kwargs.get(\\\"ally_weight\\\", 10)\\n    risk_weight = kwargs.get(\\\"risk_weight\\\", 0)\\n    clue_score_threshold = kwargs.get(\\\"clue_score_threshold\\\", 0)\\n    with_normalisation = kwargs.get(\\\"with_normalisation\\\", False)\\n\\n    ally_cards_len = len(ally_cards)\\n    weighted_clue_df = clue_df.copy()\\n    if with_normalisation:\\n        norm = Normalizer()\\n        weighted_clue_df.iloc[:, :25] = norm.fit_transform(\\n            weighted_clue_df.iloc[:, :25]\\n        )\\n    weighted_clue_df[\\\"raw_clue_length\\\"] = weighted_clue_df.index.get_level_values(\\n        \\\"intended_combo\\\"\\n    ).str.len()\\n    # clip scores below the threshold\\n    weighted_clue_df.loc[:, ally_cards] = (\\n        ally_df := weighted_clue_df.loc[:, ally_cards]\\n    ).where(ally_df >= clue_score_threshold, 0)\\n    # If clue word score is part of intended, but below threshold we reduce the clue length!\\n    weighted_clue_df[\\\"amended_combo\\\"] = create_amended_combos(weighted_clue_df)\\n    weighted_clue_df[\\\"actual_combo_length\\\"] = weighted_clue_df.amended_combo.str.len()\\n\\n    # Apply various weights\\n    weighted_clue_df.loc[:, [assassin_card]] = (\\n        weighted_clue_df.loc[:, [assassin_card]] * assassin_weight\\n    )\\n    weighted_clue_df.loc[:, neutral_cards] = (\\n        weighted_clue_df.loc[:, neutral_cards] * neutral_weight\\n    )\\n    weighted_clue_df.loc[:, enemy_cards] = (\\n        weighted_clue_df.loc[:, enemy_cards] * enemy_weight\\n    )\\n    weighted_clue_df.loc[:, ally_cards] = (\\n        weighted_clue_df.loc[:, ally_cards] * ally_weight\\n    )\\n    weighted_clue_df[\\\"weighted_score\\\"] = weighted_clue_df.iloc[:, :25].sum(axis=1)\\n    weighted_clue_df[\\\"weighted_score\\\"] = weighted_clue_df.weighted_score + (\\n        weighted_clue_df.actual_combo_length * risk_weight\\n    )\\n    best_clue = weighted_clue_df.iloc[weighted_clue_df[\\\"weighted_score\\\"].argmax()]\\n\\n    return best_clue, weighted_clue_df\\n\\n\\ndef restrict_vocab_with_set(w2v, restricted_word_set):\\n    new_vectors = []\\n    new_vocab = {}\\n    new_index2entity = []\\n    new_vectors_norm = []\\n\\n    for i in range(len(w2v.vocab)):\\n        word = w2v.index2entity[i]\\n        vec = w2v.vectors[i]\\n        vocab = w2v.vocab[word]\\n        #         vec_norm = w2v.vectors_norm[i]\\n        if word in restricted_word_set:\\n            vocab.index = len(new_index2entity)\\n            new_index2entity.append(word)\\n            new_vocab[word] = vocab\\n            new_vectors.append(vec)\\n    #             new_vectors_norm.append(vec_norm)\\n\\n    w2v.vocab = new_vocab\\n    w2v.vectors = np.array(new_vectors)\\n    w2v.index2entity = np.array(new_index2entity)\\n    w2v.index2word = np.array(new_index2entity)\\n\\n\\ndef create_amended_combos(df):\\n    #  Can be done with apply, doing it dirtily in the hope of a heavy refactor after the fact\\n    new_combos = []\\n    for idx, row in df.iterrows():\\n        intended_combo = idx[1]\\n        zero_values = row.loc[row == 0]\\n        new_combo = [c for c in intended_combo if c not in zero_values.index]\\n        new_combos.append(new_combo)\\n    return new_combos\";\n",
       "                var nbb_cells = Jupyter.notebook.get_cells();\n",
       "                for (var i = 0; i < nbb_cells.length; ++i) {\n",
       "                    if (nbb_cells[i].input_prompt_number == nbb_cell_id) {\n",
       "                        if (nbb_cells[i].get_text() == nbb_unformatted_code) {\n",
       "                             nbb_cells[i].set_text(nbb_formatted_code);\n",
       "                        }\n",
       "                        break;\n",
       "                    }\n",
       "                }\n",
       "            }, 500);\n",
       "            "
      ],
      "text/plain": [
       "<IPython.core.display.Javascript object>"
      ]
     },
     "metadata": {},
     "output_type": "display_data"
    }
   ],
   "source": [
    "def get_game_data(codenames_game, model):\n",
    "    team = codenames_game.current_team\n",
    "    enemy_team = \"blue\" if team == \"red\" else \"blue\"\n",
    "    spymaster_map = codenames_game.spymaster_map\n",
    "    revealed = codenames_game.revealed\n",
    "    cards = [smart_lower(card, model) for card in codenames_game.codename_cards]\n",
    "    in_play_cards = cards.copy()\n",
    "    ally_cards = [\n",
    "        c for i, c in enumerate(cards) if i in spymaster_map[team] and not revealed[i]\n",
    "    ]\n",
    "    ally_cards = [smart_lower(ally_card, model) for ally_card in ally_cards]\n",
    "    enemy_cards = [\n",
    "        c\n",
    "        for i, c in enumerate(cards)\n",
    "        if i in spymaster_map[enemy_team] and not revealed[i]\n",
    "    ]\n",
    "    enemy_cards = [smart_lower(enemy_card, model) for enemy_card in enemy_cards]\n",
    "    neutral_cards = [\n",
    "        c\n",
    "        for i, c in enumerate(cards)\n",
    "        if i in spymaster_map[\"neutral\"] and not revealed[i]\n",
    "    ]\n",
    "    neutral_cards = [smart_lower(neutral_card, model) for neutral_card in neutral_cards]\n",
    "    assassin_card = cards[spymaster_map[\"assassin\"][0]]\n",
    "    cards = [c for i, c in enumerate(cards) if not revealed[i]]\n",
    "    return (\n",
    "        cards,\n",
    "        ally_cards,\n",
    "        enemy_cards,\n",
    "        neutral_cards,\n",
    "        assassin_card,\n",
    "        spymaster_map,\n",
    "        team,\n",
    "    )\n",
    "\n",
    "\n",
    "def smart_lower(word, model):\n",
    "    checked = False\n",
    "    adjusted = word.replace(\" \", \"\").lower()\n",
    "    try:\n",
    "        model.get_vector(adjusted)\n",
    "    except KeyError:\n",
    "        adjusted = adjusted.capitalize()\n",
    "        model.get_vector(adjusted)\n",
    "\n",
    "    return adjusted\n",
    "\n",
    "\n",
    "def create_word_combinations_matrices(\n",
    "    ally_cards, model, default_max_combo=5, one_word_clues=False\n",
    "):\n",
    "    max_combination = min(len(ally_cards), default_max_combo)\n",
    "    ally_combinations = []\n",
    "    lowest_combination = 1 if (one_word_clues or len(ally_cards) == 1) else 2\n",
    "    for i in range(lowest_combination, max_combination + 1):\n",
    "        ally_combinations += list(combinations(ally_cards, i))\n",
    "\n",
    "    ally_combination_vectors = [\n",
    "        [model.get_vector(word) for word in combination]\n",
    "        for combination in ally_combinations\n",
    "    ]\n",
    "    return ally_combinations, ally_combination_vectors\n",
    "\n",
    "\n",
    "def get_most_similar(\n",
    "    positive_cards, all_cards, negative_cards=None, include_score=False, topn=1\n",
    "):\n",
    "    try:\n",
    "        most_similar_words_with_scores = model.most_similar(\n",
    "            positive=positive_cards, negative=negative_cards, topn=50,\n",
    "        )\n",
    "        possible_clue_words = []\n",
    "        for most_similar_word_w_score in most_similar_words_with_scores:\n",
    "            word = most_similar_word_w_score[0]\n",
    "            if all([[c not in word for c in all_cards]]):\n",
    "                possible_clue_words.append(word)\n",
    "\n",
    "        return possible_clue_words[:topn]\n",
    "    except IndexError:\n",
    "        logger.critical(f\"No valid clue found!\\nCombination was {positive_cards}\")\n",
    "        logger.critical\n",
    "\n",
    "\n",
    "def get_most_similar_vectors_for_combos(word_combinations, all_cards, **kwargs):\n",
    "    most_similar_words = {\n",
    "        combination: get_most_similar(\n",
    "            positive_cards=list(combination), all_cards=all_cards, **kwargs\n",
    "        )\n",
    "        for combination in word_combinations\n",
    "    }\n",
    "\n",
    "    return most_similar_words\n",
    "\n",
    "\n",
    "ClueTuple = namedtuple(\"ClueTuple\", [\"clue\", \"intended_combo\", \"board_similarities\"])\n",
    "\n",
    "\n",
    "def create_clue_tuples(word_combo_clue_dict, model):\n",
    "    clue_tuples = []\n",
    "    for clue_words, clues in word_combo_clue_dict.items():\n",
    "        for clue in clues:\n",
    "            clue_tuples.append(\n",
    "                ClueTuple(\n",
    "                    clue,\n",
    "                    clue_words,\n",
    "                    [(card, model.similarity(card, clue)) for card in cards],\n",
    "                )\n",
    "            )\n",
    "\n",
    "    return clue_tuples\n",
    "\n",
    "\n",
    "def create_clue_df(clue_tuples, cards):\n",
    "    dataframe_tuples = []\n",
    "    for clue, intended_combo, board_similarities in clue_tuples:\n",
    "        dataframe_tuples.append(\n",
    "            (\n",
    "                clue,\n",
    "                intended_combo,\n",
    "                *[card_similarity[1] for card_similarity in board_similarities],\n",
    "            )\n",
    "        )\n",
    "\n",
    "    return pd.DataFrame(\n",
    "        dataframe_tuples, columns=[\"clue\", \"intended_combo\"] + cards\n",
    "    ).set_index([\"clue\", \"intended_combo\"])\n",
    "\n",
    "\n",
    "def calculate_best_clue(\n",
    "    clue_df,\n",
    "    spymaster_map,\n",
    "    ally_cards,\n",
    "    enemy_cards,\n",
    "    neutral_cards,\n",
    "    assassin_card,\n",
    "    **kwargs,\n",
    "):\n",
    "    assassin_weight = kwargs.get(\"assassin_weight\", -10)\n",
    "    enemy_weight = kwargs.get(\"enemy_weight\", -5)\n",
    "    neutral_weight = kwargs.get(\"neutral_weight\", 0)\n",
    "    ally_weight = kwargs.get(\"ally_weight\", 10)\n",
    "    risk_weight = kwargs.get(\"risk_weight\", 0)\n",
    "    clue_score_threshold = kwargs.get(\"clue_score_threshold\", 0)\n",
    "    with_normalisation = kwargs.get(\"with_normalisation\", False)\n",
    "\n",
    "    ally_cards_len = len(ally_cards)\n",
    "    weighted_clue_df = clue_df.copy()\n",
    "    if with_normalisation:\n",
    "        norm = Normalizer()\n",
    "        weighted_clue_df.iloc[:, :25] = norm.fit_transform(\n",
    "            weighted_clue_df.iloc[:, :25]\n",
    "        )\n",
    "    weighted_clue_df[\"raw_clue_length\"] = weighted_clue_df.index.get_level_values(\n",
    "        \"intended_combo\"\n",
    "    ).str.len()\n",
    "    # clip scores below the threshold\n",
    "    weighted_clue_df.loc[:, ally_cards] = (\n",
    "        ally_df := weighted_clue_df.loc[:, ally_cards]\n",
    "    ).where(ally_df >= clue_score_threshold, 0)\n",
    "    # If clue word score is part of intended, but below threshold we reduce the clue length!\n",
    "    weighted_clue_df[\"amended_combo\"] = create_amended_combos(weighted_clue_df)\n",
    "    weighted_clue_df[\"actual_combo_length\"] = weighted_clue_df.amended_combo.str.len()\n",
    "\n",
    "    # Apply various weights\n",
    "    weighted_clue_df.loc[:, [assassin_card]] = (\n",
    "        weighted_clue_df.loc[:, [assassin_card]] * assassin_weight\n",
    "    )\n",
    "    weighted_clue_df.loc[:, neutral_cards] = (\n",
    "        weighted_clue_df.loc[:, neutral_cards] * neutral_weight\n",
    "    )\n",
    "    weighted_clue_df.loc[:, enemy_cards] = (\n",
    "        weighted_clue_df.loc[:, enemy_cards] * enemy_weight\n",
    "    )\n",
    "    weighted_clue_df.loc[:, ally_cards] = (\n",
    "        weighted_clue_df.loc[:, ally_cards] * ally_weight\n",
    "    )\n",
    "    weighted_clue_df[\"weighted_score\"] = weighted_clue_df.iloc[:, :25].sum(axis=1)\n",
    "    weighted_clue_df[\"weighted_score\"] = weighted_clue_df.weighted_score + (\n",
    "        weighted_clue_df.actual_combo_length * risk_weight\n",
    "    )\n",
    "    best_clue = weighted_clue_df.iloc[weighted_clue_df[\"weighted_score\"].argmax()]\n",
    "\n",
    "    return best_clue, weighted_clue_df\n",
    "\n",
    "\n",
    "def restrict_vocab_with_set(w2v, restricted_word_set):\n",
    "    new_vectors = []\n",
    "    new_vocab = {}\n",
    "    new_index2entity = []\n",
    "    new_vectors_norm = []\n",
    "\n",
    "    for i in range(len(w2v.vocab)):\n",
    "        word = w2v.index2entity[i]\n",
    "        vec = w2v.vectors[i]\n",
    "        vocab = w2v.vocab[word]\n",
    "        #         vec_norm = w2v.vectors_norm[i]\n",
    "        if word in restricted_word_set:\n",
    "            vocab.index = len(new_index2entity)\n",
    "            new_index2entity.append(word)\n",
    "            new_vocab[word] = vocab\n",
    "            new_vectors.append(vec)\n",
    "    #             new_vectors_norm.append(vec_norm)\n",
    "\n",
    "    w2v.vocab = new_vocab\n",
    "    w2v.vectors = np.array(new_vectors)\n",
    "    w2v.index2entity = np.array(new_index2entity)\n",
    "    w2v.index2word = np.array(new_index2entity)\n",
    "\n",
    "\n",
    "def create_amended_combos(df):\n",
    "    #  Can be done with apply, doing it dirtily in the hope of a heavy refactor after the fact\n",
    "    new_combos = []\n",
    "    for idx, row in df.iterrows():\n",
    "        intended_combo = idx[1]\n",
    "        zero_values = row.loc[row == 0]\n",
    "        new_combo = [c for c in intended_combo if c not in zero_values.index]\n",
    "        new_combos.append(new_combo)\n",
    "    return new_combos\n",
    "\n",
    "\n",
    "def check_card_type(idx, spymaster_map, revealed):\n",
    "    revealed_idxs = np.where(np.asarray(revealed) == True)[0]\n",
    "    if idx not in revealed_idxs:\n",
    "        return 'hidden'\n",
    "    for card_type, type_idxs in spymaster_map.items():\n",
    "        if idx in type_idxs:\n",
    "            return card_type"
   ]
  },
  {
   "cell_type": "markdown",
   "metadata": {},
   "source": [
    "## Walkthrough"
   ]
  },
  {
   "cell_type": "code",
   "execution_count": 7,
   "metadata": {
    "scrolled": true
   },
   "outputs": [
    {
     "data": {
      "application/javascript": [
       "\n",
       "            setTimeout(function() {\n",
       "                var nbb_cell_id = 7;\n",
       "                var nbb_unformatted_code = \"codenames_game = CodenamesGame(words_loc=\\\"codenames/words.txt\\\")\\n(\\n    cards,\\n    ally_cards,\\n    enemy_cards,\\n    neutral_cards,\\n    assassin_card,\\n    spymaster_map,\\n    team,\\n) = get_game_data(codenames_game, model)\\nenemy_team = \\\"blue\\\" if team == \\\"red\\\" else \\\"red\\\"\";\n",
       "                var nbb_formatted_code = \"codenames_game = CodenamesGame(words_loc=\\\"codenames/words.txt\\\")\\n(\\n    cards,\\n    ally_cards,\\n    enemy_cards,\\n    neutral_cards,\\n    assassin_card,\\n    spymaster_map,\\n    team,\\n) = get_game_data(codenames_game, model)\\nenemy_team = \\\"blue\\\" if team == \\\"red\\\" else \\\"red\\\"\";\n",
       "                var nbb_cells = Jupyter.notebook.get_cells();\n",
       "                for (var i = 0; i < nbb_cells.length; ++i) {\n",
       "                    if (nbb_cells[i].input_prompt_number == nbb_cell_id) {\n",
       "                        if (nbb_cells[i].get_text() == nbb_unformatted_code) {\n",
       "                             nbb_cells[i].set_text(nbb_formatted_code);\n",
       "                        }\n",
       "                        break;\n",
       "                    }\n",
       "                }\n",
       "            }, 500);\n",
       "            "
      ],
      "text/plain": [
       "<IPython.core.display.Javascript object>"
      ]
     },
     "metadata": {},
     "output_type": "display_data"
    }
   ],
   "source": [
    "codenames_game = CodenamesGame(words_loc=\"codenames/words.txt\")\n",
    "(\n",
    "    cards,\n",
    "    ally_cards,\n",
    "    enemy_cards,\n",
    "    neutral_cards,\n",
    "    assassin_card,\n",
    "    spymaster_map,\n",
    "    team,\n",
    ") = get_game_data(codenames_game, model)\n",
    "enemy_team = \"blue\" if team == \"red\" else \"red\""
   ]
  },
  {
   "cell_type": "code",
   "execution_count": 8,
   "metadata": {
    "collapsed": true
   },
   "outputs": [
    {
     "name": "stderr",
     "output_type": "stream",
     "text": [
      "/Users/josh/anaconda3/envs/codenames/lib/python3.8/site-packages/gensim/models/keyedvectors.py:2389: RuntimeWarning: invalid value encountered in true_divide\n",
      "  return (m / dist).astype(REAL)\n"
     ]
    },
    {
     "ename": "KeyboardInterrupt",
     "evalue": "",
     "output_type": "error",
     "traceback": [
      "\u001b[0;31m---------------------------------------------------------------------------\u001b[0m",
      "\u001b[0;31mKeyboardInterrupt\u001b[0m                         Traceback (most recent call last)",
      "\u001b[0;32m<ipython-input-8-c080cc37f247>\u001b[0m in \u001b[0;36m<module>\u001b[0;34m\u001b[0m\n\u001b[1;32m      1\u001b[0m \u001b[0mword_combos\u001b[0m\u001b[0;34m,\u001b[0m \u001b[0mvector_combos\u001b[0m \u001b[0;34m=\u001b[0m \u001b[0mcreate_word_combinations_matrices\u001b[0m\u001b[0;34m(\u001b[0m\u001b[0mally_cards\u001b[0m\u001b[0;34m,\u001b[0m \u001b[0mmodel\u001b[0m\u001b[0;34m)\u001b[0m\u001b[0;34m\u001b[0m\u001b[0;34m\u001b[0m\u001b[0m\n\u001b[0;32m----> 2\u001b[0;31m word_combo_clue_dict = get_most_similar_vectors_for_combos(\n\u001b[0m\u001b[1;32m      3\u001b[0m     \u001b[0mword_combos\u001b[0m\u001b[0;34m,\u001b[0m \u001b[0;34m[\u001b[0m\u001b[0massassin_card\u001b[0m\u001b[0;34m]\u001b[0m\u001b[0;34m,\u001b[0m \u001b[0mtopn\u001b[0m\u001b[0;34m=\u001b[0m\u001b[0;36m3\u001b[0m\u001b[0;34m\u001b[0m\u001b[0;34m\u001b[0m\u001b[0m\n\u001b[1;32m      4\u001b[0m )\n\u001b[1;32m      5\u001b[0m \u001b[0mclue_tuples\u001b[0m \u001b[0;34m=\u001b[0m \u001b[0mcreate_clue_tuples\u001b[0m\u001b[0;34m(\u001b[0m\u001b[0mword_combo_clue_dict\u001b[0m\u001b[0;34m,\u001b[0m \u001b[0mmodel\u001b[0m\u001b[0;34m)\u001b[0m\u001b[0;34m\u001b[0m\u001b[0;34m\u001b[0m\u001b[0m\n",
      "\u001b[0;32m<ipython-input-5-978ba93329f9>\u001b[0m in \u001b[0;36mget_most_similar_vectors_for_combos\u001b[0;34m(word_combinations, all_cards, **kwargs)\u001b[0m\n\u001b[1;32m     83\u001b[0m \u001b[0;34m\u001b[0m\u001b[0m\n\u001b[1;32m     84\u001b[0m \u001b[0;32mdef\u001b[0m \u001b[0mget_most_similar_vectors_for_combos\u001b[0m\u001b[0;34m(\u001b[0m\u001b[0mword_combinations\u001b[0m\u001b[0;34m,\u001b[0m \u001b[0mall_cards\u001b[0m\u001b[0;34m,\u001b[0m \u001b[0;34m**\u001b[0m\u001b[0mkwargs\u001b[0m\u001b[0;34m)\u001b[0m\u001b[0;34m:\u001b[0m\u001b[0;34m\u001b[0m\u001b[0;34m\u001b[0m\u001b[0m\n\u001b[0;32m---> 85\u001b[0;31m     most_similar_words = {\n\u001b[0m\u001b[1;32m     86\u001b[0m         combination: get_most_similar(\n\u001b[1;32m     87\u001b[0m             \u001b[0mpositive_cards\u001b[0m\u001b[0;34m=\u001b[0m\u001b[0mlist\u001b[0m\u001b[0;34m(\u001b[0m\u001b[0mcombination\u001b[0m\u001b[0;34m)\u001b[0m\u001b[0;34m,\u001b[0m \u001b[0mall_cards\u001b[0m\u001b[0;34m=\u001b[0m\u001b[0mall_cards\u001b[0m\u001b[0;34m,\u001b[0m \u001b[0;34m**\u001b[0m\u001b[0mkwargs\u001b[0m\u001b[0;34m\u001b[0m\u001b[0;34m\u001b[0m\u001b[0m\n",
      "\u001b[0;32m<ipython-input-5-978ba93329f9>\u001b[0m in \u001b[0;36m<dictcomp>\u001b[0;34m(.0)\u001b[0m\n\u001b[1;32m     84\u001b[0m \u001b[0;32mdef\u001b[0m \u001b[0mget_most_similar_vectors_for_combos\u001b[0m\u001b[0;34m(\u001b[0m\u001b[0mword_combinations\u001b[0m\u001b[0;34m,\u001b[0m \u001b[0mall_cards\u001b[0m\u001b[0;34m,\u001b[0m \u001b[0;34m**\u001b[0m\u001b[0mkwargs\u001b[0m\u001b[0;34m)\u001b[0m\u001b[0;34m:\u001b[0m\u001b[0;34m\u001b[0m\u001b[0;34m\u001b[0m\u001b[0m\n\u001b[1;32m     85\u001b[0m     most_similar_words = {\n\u001b[0;32m---> 86\u001b[0;31m         combination: get_most_similar(\n\u001b[0m\u001b[1;32m     87\u001b[0m             \u001b[0mpositive_cards\u001b[0m\u001b[0;34m=\u001b[0m\u001b[0mlist\u001b[0m\u001b[0;34m(\u001b[0m\u001b[0mcombination\u001b[0m\u001b[0;34m)\u001b[0m\u001b[0;34m,\u001b[0m \u001b[0mall_cards\u001b[0m\u001b[0;34m=\u001b[0m\u001b[0mall_cards\u001b[0m\u001b[0;34m,\u001b[0m \u001b[0;34m**\u001b[0m\u001b[0mkwargs\u001b[0m\u001b[0;34m\u001b[0m\u001b[0;34m\u001b[0m\u001b[0m\n\u001b[1;32m     88\u001b[0m         )\n",
      "\u001b[0;32m<ipython-input-5-978ba93329f9>\u001b[0m in \u001b[0;36mget_most_similar\u001b[0;34m(positive_cards, all_cards, negative_cards, include_score, topn)\u001b[0m\n\u001b[1;32m     67\u001b[0m ):\n\u001b[1;32m     68\u001b[0m     \u001b[0;32mtry\u001b[0m\u001b[0;34m:\u001b[0m\u001b[0;34m\u001b[0m\u001b[0;34m\u001b[0m\u001b[0m\n\u001b[0;32m---> 69\u001b[0;31m         most_similar_words_with_scores = model.most_similar(\n\u001b[0m\u001b[1;32m     70\u001b[0m             \u001b[0mpositive\u001b[0m\u001b[0;34m=\u001b[0m\u001b[0mpositive_cards\u001b[0m\u001b[0;34m,\u001b[0m \u001b[0mnegative\u001b[0m\u001b[0;34m=\u001b[0m\u001b[0mnegative_cards\u001b[0m\u001b[0;34m,\u001b[0m \u001b[0mtopn\u001b[0m\u001b[0;34m=\u001b[0m\u001b[0;36m50\u001b[0m\u001b[0;34m,\u001b[0m\u001b[0;34m\u001b[0m\u001b[0;34m\u001b[0m\u001b[0m\n\u001b[1;32m     71\u001b[0m         )\n",
      "\u001b[0;32m~/anaconda3/envs/codenames/lib/python3.8/site-packages/gensim/models/keyedvectors.py\u001b[0m in \u001b[0;36mmost_similar\u001b[0;34m(self, positive, negative, topn, restrict_vocab, indexer)\u001b[0m\n\u001b[1;32m    565\u001b[0m         \u001b[0;32mif\u001b[0m \u001b[0;32mnot\u001b[0m \u001b[0mtopn\u001b[0m\u001b[0;34m:\u001b[0m\u001b[0;34m\u001b[0m\u001b[0;34m\u001b[0m\u001b[0m\n\u001b[1;32m    566\u001b[0m             \u001b[0;32mreturn\u001b[0m \u001b[0mdists\u001b[0m\u001b[0;34m\u001b[0m\u001b[0;34m\u001b[0m\u001b[0m\n\u001b[0;32m--> 567\u001b[0;31m         \u001b[0mbest\u001b[0m \u001b[0;34m=\u001b[0m \u001b[0mmatutils\u001b[0m\u001b[0;34m.\u001b[0m\u001b[0margsort\u001b[0m\u001b[0;34m(\u001b[0m\u001b[0mdists\u001b[0m\u001b[0;34m,\u001b[0m \u001b[0mtopn\u001b[0m\u001b[0;34m=\u001b[0m\u001b[0mtopn\u001b[0m \u001b[0;34m+\u001b[0m \u001b[0mlen\u001b[0m\u001b[0;34m(\u001b[0m\u001b[0mall_words\u001b[0m\u001b[0;34m)\u001b[0m\u001b[0;34m,\u001b[0m \u001b[0mreverse\u001b[0m\u001b[0;34m=\u001b[0m\u001b[0;32mTrue\u001b[0m\u001b[0;34m)\u001b[0m\u001b[0;34m\u001b[0m\u001b[0;34m\u001b[0m\u001b[0m\n\u001b[0m\u001b[1;32m    568\u001b[0m         \u001b[0;31m# ignore (don't return) words from the input\u001b[0m\u001b[0;34m\u001b[0m\u001b[0;34m\u001b[0m\u001b[0;34m\u001b[0m\u001b[0m\n\u001b[1;32m    569\u001b[0m         \u001b[0mresult\u001b[0m \u001b[0;34m=\u001b[0m \u001b[0;34m[\u001b[0m\u001b[0;34m(\u001b[0m\u001b[0mself\u001b[0m\u001b[0;34m.\u001b[0m\u001b[0mindex2word\u001b[0m\u001b[0;34m[\u001b[0m\u001b[0msim\u001b[0m\u001b[0;34m]\u001b[0m\u001b[0;34m,\u001b[0m \u001b[0mfloat\u001b[0m\u001b[0;34m(\u001b[0m\u001b[0mdists\u001b[0m\u001b[0;34m[\u001b[0m\u001b[0msim\u001b[0m\u001b[0;34m]\u001b[0m\u001b[0;34m)\u001b[0m\u001b[0;34m)\u001b[0m \u001b[0;32mfor\u001b[0m \u001b[0msim\u001b[0m \u001b[0;32min\u001b[0m \u001b[0mbest\u001b[0m \u001b[0;32mif\u001b[0m \u001b[0msim\u001b[0m \u001b[0;32mnot\u001b[0m \u001b[0;32min\u001b[0m \u001b[0mall_words\u001b[0m\u001b[0;34m]\u001b[0m\u001b[0;34m\u001b[0m\u001b[0;34m\u001b[0m\u001b[0m\n",
      "\u001b[0;32m~/anaconda3/envs/codenames/lib/python3.8/site-packages/gensim/matutils.py\u001b[0m in \u001b[0;36margsort\u001b[0;34m(x, topn, reverse)\u001b[0m\n\u001b[1;32m     81\u001b[0m         \u001b[0;32mreturn\u001b[0m \u001b[0mnp\u001b[0m\u001b[0;34m.\u001b[0m\u001b[0margsort\u001b[0m\u001b[0;34m(\u001b[0m\u001b[0mx\u001b[0m\u001b[0;34m)\u001b[0m\u001b[0;34m[\u001b[0m\u001b[0;34m:\u001b[0m\u001b[0mtopn\u001b[0m\u001b[0;34m]\u001b[0m\u001b[0;34m\u001b[0m\u001b[0;34m\u001b[0m\u001b[0m\n\u001b[1;32m     82\u001b[0m     \u001b[0;31m# np >= 1.8 has a fast partial argsort, use that!\u001b[0m\u001b[0;34m\u001b[0m\u001b[0;34m\u001b[0m\u001b[0;34m\u001b[0m\u001b[0m\n\u001b[0;32m---> 83\u001b[0;31m     \u001b[0mmost_extreme\u001b[0m \u001b[0;34m=\u001b[0m \u001b[0mnp\u001b[0m\u001b[0;34m.\u001b[0m\u001b[0margpartition\u001b[0m\u001b[0;34m(\u001b[0m\u001b[0mx\u001b[0m\u001b[0;34m,\u001b[0m \u001b[0mtopn\u001b[0m\u001b[0;34m)\u001b[0m\u001b[0;34m[\u001b[0m\u001b[0;34m:\u001b[0m\u001b[0mtopn\u001b[0m\u001b[0;34m]\u001b[0m\u001b[0;34m\u001b[0m\u001b[0;34m\u001b[0m\u001b[0m\n\u001b[0m\u001b[1;32m     84\u001b[0m     \u001b[0;32mreturn\u001b[0m \u001b[0mmost_extreme\u001b[0m\u001b[0;34m.\u001b[0m\u001b[0mtake\u001b[0m\u001b[0;34m(\u001b[0m\u001b[0mnp\u001b[0m\u001b[0;34m.\u001b[0m\u001b[0margsort\u001b[0m\u001b[0;34m(\u001b[0m\u001b[0mx\u001b[0m\u001b[0;34m.\u001b[0m\u001b[0mtake\u001b[0m\u001b[0;34m(\u001b[0m\u001b[0mmost_extreme\u001b[0m\u001b[0;34m)\u001b[0m\u001b[0;34m)\u001b[0m\u001b[0;34m)\u001b[0m  \u001b[0;31m# resort topn into order\u001b[0m\u001b[0;34m\u001b[0m\u001b[0;34m\u001b[0m\u001b[0m\n\u001b[1;32m     85\u001b[0m \u001b[0;34m\u001b[0m\u001b[0m\n",
      "\u001b[0;32m<__array_function__ internals>\u001b[0m in \u001b[0;36margpartition\u001b[0;34m(*args, **kwargs)\u001b[0m\n",
      "\u001b[0;32m~/anaconda3/envs/codenames/lib/python3.8/site-packages/numpy/core/fromnumeric.py\u001b[0m in \u001b[0;36margpartition\u001b[0;34m(a, kth, axis, kind, order)\u001b[0m\n\u001b[1;32m    828\u001b[0m \u001b[0;34m\u001b[0m\u001b[0m\n\u001b[1;32m    829\u001b[0m     \"\"\"\n\u001b[0;32m--> 830\u001b[0;31m     \u001b[0;32mreturn\u001b[0m \u001b[0m_wrapfunc\u001b[0m\u001b[0;34m(\u001b[0m\u001b[0ma\u001b[0m\u001b[0;34m,\u001b[0m \u001b[0;34m'argpartition'\u001b[0m\u001b[0;34m,\u001b[0m \u001b[0mkth\u001b[0m\u001b[0;34m,\u001b[0m \u001b[0maxis\u001b[0m\u001b[0;34m=\u001b[0m\u001b[0maxis\u001b[0m\u001b[0;34m,\u001b[0m \u001b[0mkind\u001b[0m\u001b[0;34m=\u001b[0m\u001b[0mkind\u001b[0m\u001b[0;34m,\u001b[0m \u001b[0morder\u001b[0m\u001b[0;34m=\u001b[0m\u001b[0morder\u001b[0m\u001b[0;34m)\u001b[0m\u001b[0;34m\u001b[0m\u001b[0;34m\u001b[0m\u001b[0m\n\u001b[0m\u001b[1;32m    831\u001b[0m \u001b[0;34m\u001b[0m\u001b[0m\n\u001b[1;32m    832\u001b[0m \u001b[0;34m\u001b[0m\u001b[0m\n",
      "\u001b[0;32m~/anaconda3/envs/codenames/lib/python3.8/site-packages/numpy/core/fromnumeric.py\u001b[0m in \u001b[0;36m_wrapfunc\u001b[0;34m(obj, method, *args, **kwds)\u001b[0m\n\u001b[1;32m     59\u001b[0m \u001b[0;34m\u001b[0m\u001b[0m\n\u001b[1;32m     60\u001b[0m     \u001b[0;32mtry\u001b[0m\u001b[0;34m:\u001b[0m\u001b[0;34m\u001b[0m\u001b[0;34m\u001b[0m\u001b[0m\n\u001b[0;32m---> 61\u001b[0;31m         \u001b[0;32mreturn\u001b[0m \u001b[0mbound\u001b[0m\u001b[0;34m(\u001b[0m\u001b[0;34m*\u001b[0m\u001b[0margs\u001b[0m\u001b[0;34m,\u001b[0m \u001b[0;34m**\u001b[0m\u001b[0mkwds\u001b[0m\u001b[0;34m)\u001b[0m\u001b[0;34m\u001b[0m\u001b[0;34m\u001b[0m\u001b[0m\n\u001b[0m\u001b[1;32m     62\u001b[0m     \u001b[0;32mexcept\u001b[0m \u001b[0mTypeError\u001b[0m\u001b[0;34m:\u001b[0m\u001b[0;34m\u001b[0m\u001b[0;34m\u001b[0m\u001b[0m\n\u001b[1;32m     63\u001b[0m         \u001b[0;31m# A TypeError occurs if the object does have such a method in its\u001b[0m\u001b[0;34m\u001b[0m\u001b[0;34m\u001b[0m\u001b[0;34m\u001b[0m\u001b[0m\n",
      "\u001b[0;31mKeyboardInterrupt\u001b[0m: "
     ]
    },
    {
     "data": {
      "application/javascript": [
       "\n",
       "            setTimeout(function() {\n",
       "                var nbb_cell_id = 8;\n",
       "                var nbb_unformatted_code = \"word_combos, vector_combos = create_word_combinations_matrices(ally_cards, model)\\nword_combo_clue_dict = get_most_similar_vectors_for_combos(\\n    word_combos, [assassin_card], topn=3\\n)\\nclue_tuples = create_clue_tuples(word_combo_clue_dict, model)\\n\\nclue_df = create_clue_df(clue_tuples, cards)\\n\\nbest_clue, weighted_df = calculate_best_clue(\\n    clue_df,\\n    spymaster_map,\\n    enemy_colour=enemy_team,\\n    team_colour=team,\\n    assassin_weight=-10,\\n    enemy_weight=-1,\\n    neutral_weight=-1,\\n    ally_weight=1,\\n    risk_weight=0.1,\\n    clue_score_threshold=0.2,\\n)\\n\\nweighted_df = weighted_df[weighted_df.actual_combo_length >= 1]\\n# Removing any clue duplicates (where there were multiple intended combos but the amended combos are identical)\\nweighted_df = (\\n    weighted_df.reset_index().drop_duplicates(subset=[\\\"clue\\\", \\\"weighted_score\\\"]).sort_values(['weighted_score'], ascending=False)\\n)\\n# Column reorder for readbility\\nweighted_df = weighted_df[list(weighted_df.columns[:2]) + list(weighted_df.columns[27:]) + list(\\n    weighted_df.columns[2:27]\\n)]\\nweighted_df.head().style\";\n",
       "                var nbb_formatted_code = \"word_combos, vector_combos = create_word_combinations_matrices(ally_cards, model)\\nword_combo_clue_dict = get_most_similar_vectors_for_combos(\\n    word_combos, [assassin_card], topn=3\\n)\\nclue_tuples = create_clue_tuples(word_combo_clue_dict, model)\\n\\nclue_df = create_clue_df(clue_tuples, cards)\\n\\nbest_clue, weighted_df = calculate_best_clue(\\n    clue_df,\\n    spymaster_map,\\n    enemy_colour=enemy_team,\\n    team_colour=team,\\n    assassin_weight=-10,\\n    enemy_weight=-1,\\n    neutral_weight=-1,\\n    ally_weight=1,\\n    risk_weight=0.1,\\n    clue_score_threshold=0.2,\\n)\\n\\nweighted_df = weighted_df[weighted_df.actual_combo_length >= 1]\\n# Removing any clue duplicates (where there were multiple intended combos but the amended combos are identical)\\nweighted_df = (\\n    weighted_df.reset_index()\\n    .drop_duplicates(subset=[\\\"clue\\\", \\\"weighted_score\\\"])\\n    .sort_values([\\\"weighted_score\\\"], ascending=False)\\n)\\n# Column reorder for readbility\\nweighted_df = weighted_df[\\n    list(weighted_df.columns[:2])\\n    + list(weighted_df.columns[27:])\\n    + list(weighted_df.columns[2:27])\\n]\\nweighted_df.head().style\";\n",
       "                var nbb_cells = Jupyter.notebook.get_cells();\n",
       "                for (var i = 0; i < nbb_cells.length; ++i) {\n",
       "                    if (nbb_cells[i].input_prompt_number == nbb_cell_id) {\n",
       "                        if (nbb_cells[i].get_text() == nbb_unformatted_code) {\n",
       "                             nbb_cells[i].set_text(nbb_formatted_code);\n",
       "                        }\n",
       "                        break;\n",
       "                    }\n",
       "                }\n",
       "            }, 500);\n",
       "            "
      ],
      "text/plain": [
       "<IPython.core.display.Javascript object>"
      ]
     },
     "metadata": {},
     "output_type": "display_data"
    }
   ],
   "source": [
    "word_combos, vector_combos = create_word_combinations_matrices(ally_cards, model)\n",
    "word_combo_clue_dict = get_most_similar_vectors_for_combos(\n",
    "    word_combos, [assassin_card], topn=3\n",
    ")\n",
    "clue_tuples = create_clue_tuples(word_combo_clue_dict, model)\n",
    "\n",
    "clue_df = create_clue_df(clue_tuples, cards)\n",
    "\n",
    "best_clue, weighted_df = calculate_best_clue(\n",
    "    clue_df,\n",
    "    spymaster_map,\n",
    "    enemy_colour=enemy_team,\n",
    "    team_colour=team,\n",
    "    assassin_weight=-10,\n",
    "    enemy_weight=-1,\n",
    "    neutral_weight=-1,\n",
    "    ally_weight=1,\n",
    "    risk_weight=0.1,\n",
    "    clue_score_threshold=0.2,\n",
    ")\n",
    "\n",
    "weighted_df = weighted_df[weighted_df.actual_combo_length >= 1]\n",
    "# Removing any clue duplicates (where there were multiple intended combos but the amended combos are identical)\n",
    "weighted_df = (\n",
    "    weighted_df.reset_index()\n",
    "    .drop_duplicates(subset=[\"clue\", \"weighted_score\"])\n",
    "    .sort_values([\"weighted_score\"], ascending=False)\n",
    ")\n",
    "# Column reorder for readbility\n",
    "weighted_df = weighted_df[\n",
    "    list(weighted_df.columns[:2])\n",
    "    + list(weighted_df.columns[27:])\n",
    "    + list(weighted_df.columns[2:27])\n",
    "]\n",
    "weighted_df.head().style"
   ]
  },
  {
   "cell_type": "markdown",
   "metadata": {},
   "source": [
    "Interesting clues come out of this, but it's obvious that the vocabulary is a little too good. We have a list of the 100k most used words in the english vocab, using this we can reduce it down somewhat. Initially, we can just take 100k and see the effect. After this there may be some room to experiment with taking different slices or randomly selecting. It should be noted that for the guessers, this will be refined, making the guessers randomly articulate."
   ]
  },
  {
   "cell_type": "code",
   "execution_count": 6,
   "metadata": {},
   "outputs": [
    {
     "data": {
      "application/javascript": [
       "\n",
       "            setTimeout(function() {\n",
       "                var nbb_cell_id = 6;\n",
       "                var nbb_unformatted_code = \"vocab_lines = open(\\\"data/en_vocab_100k.txt\\\", \\\"r\\\").readlines()\\nvocab_list = [l.replace(\\\"\\\\n\\\", \\\"\\\").lower() for l in vocab_lines if \\\"#!\\\" not in l]\\n# Need to remember codenames words!!\\nwith open(\\\"codenames/words.txt\\\", \\\"r\\\", newline=\\\"\\\\n\\\") as inputfile:\\n    codenames_words = inputfile.read().split(\\\"\\\\n\\\")\\nvocab_list += list(map(str.lower, codenames_words))\\nvocab_set = set(vocab_list)\";\n",
       "                var nbb_formatted_code = \"vocab_lines = open(\\\"data/en_vocab_100k.txt\\\", \\\"r\\\").readlines()\\nvocab_list = [l.replace(\\\"\\\\n\\\", \\\"\\\").lower() for l in vocab_lines if \\\"#!\\\" not in l]\\n# Need to remember codenames words!!\\nwith open(\\\"codenames/words.txt\\\", \\\"r\\\", newline=\\\"\\\\n\\\") as inputfile:\\n    codenames_words = inputfile.read().split(\\\"\\\\n\\\")\\nvocab_list += list(map(str.lower, codenames_words))\\nvocab_set = set(vocab_list)\";\n",
       "                var nbb_cells = Jupyter.notebook.get_cells();\n",
       "                for (var i = 0; i < nbb_cells.length; ++i) {\n",
       "                    if (nbb_cells[i].input_prompt_number == nbb_cell_id) {\n",
       "                        if (nbb_cells[i].get_text() == nbb_unformatted_code) {\n",
       "                             nbb_cells[i].set_text(nbb_formatted_code);\n",
       "                        }\n",
       "                        break;\n",
       "                    }\n",
       "                }\n",
       "            }, 500);\n",
       "            "
      ],
      "text/plain": [
       "<IPython.core.display.Javascript object>"
      ]
     },
     "metadata": {},
     "output_type": "display_data"
    }
   ],
   "source": [
    "vocab_lines = open(\"data/en_vocab_100k.txt\", \"r\").readlines()\n",
    "vocab_list = [l.replace(\"\\n\", \"\").lower() for l in vocab_lines if \"#!\" not in l]\n",
    "# Need to remember codenames words!!\n",
    "with open(\"codenames/words.txt\", \"r\", newline=\"\\n\") as inputfile:\n",
    "    codenames_words = inputfile.read().split(\"\\n\")\n",
    "vocab_list += list(map(str.lower, codenames_words))\n",
    "vocab_set = set(vocab_list)"
   ]
  },
  {
   "cell_type": "code",
   "execution_count": 7,
   "metadata": {},
   "outputs": [
    {
     "data": {
      "text/plain": [
       "(417194, 46327)"
      ]
     },
     "execution_count": 7,
     "metadata": {},
     "output_type": "execute_result"
    },
    {
     "data": {
      "application/javascript": [
       "\n",
       "            setTimeout(function() {\n",
       "                var nbb_cell_id = 7;\n",
       "                var nbb_unformatted_code = \"fully_articulcated_vocab = len(model.index2entity)\\n# TODO check top 100k minus conceptnet to see diff\\nrestrict_vocab_with_set(model, vocab_set)\\n# To get vocab size\\nfully_articulcated_vocab, len(model.index2entity)\";\n",
       "                var nbb_formatted_code = \"fully_articulcated_vocab = len(model.index2entity)\\n# TODO check top 100k minus conceptnet to see diff\\nrestrict_vocab_with_set(model, vocab_set)\\n# To get vocab size\\nfully_articulcated_vocab, len(model.index2entity)\";\n",
       "                var nbb_cells = Jupyter.notebook.get_cells();\n",
       "                for (var i = 0; i < nbb_cells.length; ++i) {\n",
       "                    if (nbb_cells[i].input_prompt_number == nbb_cell_id) {\n",
       "                        if (nbb_cells[i].get_text() == nbb_unformatted_code) {\n",
       "                             nbb_cells[i].set_text(nbb_formatted_code);\n",
       "                        }\n",
       "                        break;\n",
       "                    }\n",
       "                }\n",
       "            }, 500);\n",
       "            "
      ],
      "text/plain": [
       "<IPython.core.display.Javascript object>"
      ]
     },
     "metadata": {},
     "output_type": "display_data"
    }
   ],
   "source": [
    "fully_articulcated_vocab = len(model.index2entity)\n",
    "# TODO check top 100k minus conceptnet to see diff\n",
    "restrict_vocab_with_set(model, vocab_set)\n",
    "# To get vocab size\n",
    "fully_articulcated_vocab, len(model.index2entity)"
   ]
  },
  {
   "cell_type": "markdown",
   "metadata": {},
   "source": [
    "We have a much reduced vocab size - around 10% of the fully articulate model - so the results in the spymaster clue df will presumably be of a lower clue size."
   ]
  },
  {
   "cell_type": "code",
   "execution_count": 8,
   "metadata": {
    "scrolled": true
   },
   "outputs": [
    {
     "name": "stderr",
     "output_type": "stream",
     "text": [
      "/Users/josh/anaconda3/envs/codenames/lib/python3.8/site-packages/gensim/models/keyedvectors.py:2389: RuntimeWarning: invalid value encountered in true_divide\n",
      "  return (m / dist).astype(REAL)\n"
     ]
    },
    {
     "data": {
      "text/html": [
       "<style  type=\"text/css\" >\n",
       "</style><table id=\"T_cc826c06_d73e_11ea_a04f_8232b2c43c01\" ><thead>    <tr>        <th class=\"blank level0\" ></th>        <th class=\"col_heading level0 col0\" >index</th>        <th class=\"col_heading level0 col1\" >clue</th>        <th class=\"col_heading level0 col2\" >spy</th>        <th class=\"col_heading level0 col3\" >raw_clue_length</th>        <th class=\"col_heading level0 col4\" >amended_combo</th>        <th class=\"col_heading level0 col5\" >actual_combo_length</th>        <th class=\"col_heading level0 col6\" >weighted_score</th>        <th class=\"col_heading level0 col7\" >intended_combo</th>        <th class=\"col_heading level0 col8\" >litter</th>        <th class=\"col_heading level0 col9\" >ring</th>        <th class=\"col_heading level0 col10\" >cap</th>        <th class=\"col_heading level0 col11\" >pie</th>        <th class=\"col_heading level0 col12\" >rock</th>        <th class=\"col_heading level0 col13\" >bottle</th>        <th class=\"col_heading level0 col14\" >stick</th>        <th class=\"col_heading level0 col15\" >fan</th>        <th class=\"col_heading level0 col16\" >ketchup</th>        <th class=\"col_heading level0 col17\" >mouse</th>        <th class=\"col_heading level0 col18\" >ball</th>        <th class=\"col_heading level0 col19\" >pass</th>        <th class=\"col_heading level0 col20\" >van</th>        <th class=\"col_heading level0 col21\" >dog</th>        <th class=\"col_heading level0 col22\" >pirate</th>        <th class=\"col_heading level0 col23\" >cover</th>        <th class=\"col_heading level0 col24\" >phoenix</th>        <th class=\"col_heading level0 col25\" >ninja</th>        <th class=\"col_heading level0 col26\" >robot</th>        <th class=\"col_heading level0 col27\" >dinosaur</th>        <th class=\"col_heading level0 col28\" >whip</th>        <th class=\"col_heading level0 col29\" >pyramid</th>        <th class=\"col_heading level0 col30\" >marble</th>        <th class=\"col_heading level0 col31\" >mexico</th>    </tr></thead><tbody>\n",
       "                <tr>\n",
       "                        <th id=\"T_cc826c06_d73e_11ea_a04f_8232b2c43c01level0_row0\" class=\"row_heading level0 row0\" >0</th>\n",
       "                        <td id=\"T_cc826c06_d73e_11ea_a04f_8232b2c43c01row0_col0\" class=\"data row0 col0\" >440</td>\n",
       "                        <td id=\"T_cc826c06_d73e_11ea_a04f_8232b2c43c01row0_col1\" class=\"data row0 col1\" >lids</td>\n",
       "                        <td id=\"T_cc826c06_d73e_11ea_a04f_8232b2c43c01row0_col2\" class=\"data row0 col2\" >-0.000000</td>\n",
       "                        <td id=\"T_cc826c06_d73e_11ea_a04f_8232b2c43c01row0_col3\" class=\"data row0 col3\" >4</td>\n",
       "                        <td id=\"T_cc826c06_d73e_11ea_a04f_8232b2c43c01row0_col4\" class=\"data row0 col4\" >['cap', 'bottle', 'cover']</td>\n",
       "                        <td id=\"T_cc826c06_d73e_11ea_a04f_8232b2c43c01row0_col5\" class=\"data row0 col5\" >3</td>\n",
       "                        <td id=\"T_cc826c06_d73e_11ea_a04f_8232b2c43c01row0_col6\" class=\"data row0 col6\" >3.349888</td>\n",
       "                        <td id=\"T_cc826c06_d73e_11ea_a04f_8232b2c43c01row0_col7\" class=\"data row0 col7\" >('cap', 'bottle', 'mouse', 'cover')</td>\n",
       "                        <td id=\"T_cc826c06_d73e_11ea_a04f_8232b2c43c01row0_col8\" class=\"data row0 col8\" >0.229848</td>\n",
       "                        <td id=\"T_cc826c06_d73e_11ea_a04f_8232b2c43c01row0_col9\" class=\"data row0 col9\" >-0.012218</td>\n",
       "                        <td id=\"T_cc826c06_d73e_11ea_a04f_8232b2c43c01row0_col10\" class=\"data row0 col10\" >-1.732497</td>\n",
       "                        <td id=\"T_cc826c06_d73e_11ea_a04f_8232b2c43c01row0_col11\" class=\"data row0 col11\" >0.062269</td>\n",
       "                        <td id=\"T_cc826c06_d73e_11ea_a04f_8232b2c43c01row0_col12\" class=\"data row0 col12\" >-0.000000</td>\n",
       "                        <td id=\"T_cc826c06_d73e_11ea_a04f_8232b2c43c01row0_col13\" class=\"data row0 col13\" >-2.096795</td>\n",
       "                        <td id=\"T_cc826c06_d73e_11ea_a04f_8232b2c43c01row0_col14\" class=\"data row0 col14\" >-0.093886</td>\n",
       "                        <td id=\"T_cc826c06_d73e_11ea_a04f_8232b2c43c01row0_col15\" class=\"data row0 col15\" >-0.685894</td>\n",
       "                        <td id=\"T_cc826c06_d73e_11ea_a04f_8232b2c43c01row0_col16\" class=\"data row0 col16\" >-0.000000</td>\n",
       "                        <td id=\"T_cc826c06_d73e_11ea_a04f_8232b2c43c01row0_col17\" class=\"data row0 col17\" >-0.000000</td>\n",
       "                        <td id=\"T_cc826c06_d73e_11ea_a04f_8232b2c43c01row0_col18\" class=\"data row0 col18\" >0.087355</td>\n",
       "                        <td id=\"T_cc826c06_d73e_11ea_a04f_8232b2c43c01row0_col19\" class=\"data row0 col19\" >-0.055474</td>\n",
       "                        <td id=\"T_cc826c06_d73e_11ea_a04f_8232b2c43c01row0_col20\" class=\"data row0 col20\" >0.052643</td>\n",
       "                        <td id=\"T_cc826c06_d73e_11ea_a04f_8232b2c43c01row0_col21\" class=\"data row0 col21\" >-0.002764</td>\n",
       "                        <td id=\"T_cc826c06_d73e_11ea_a04f_8232b2c43c01row0_col22\" class=\"data row0 col22\" >0.011704</td>\n",
       "                        <td id=\"T_cc826c06_d73e_11ea_a04f_8232b2c43c01row0_col23\" class=\"data row0 col23\" >-1.577537</td>\n",
       "                        <td id=\"T_cc826c06_d73e_11ea_a04f_8232b2c43c01row0_col24\" class=\"data row0 col24\" >0.030649</td>\n",
       "                        <td id=\"T_cc826c06_d73e_11ea_a04f_8232b2c43c01row0_col25\" class=\"data row0 col25\" >-0.001706</td>\n",
       "                        <td id=\"T_cc826c06_d73e_11ea_a04f_8232b2c43c01row0_col26\" class=\"data row0 col26\" >0.008704</td>\n",
       "                        <td id=\"T_cc826c06_d73e_11ea_a04f_8232b2c43c01row0_col27\" class=\"data row0 col27\" >-0.085070</td>\n",
       "                        <td id=\"T_cc826c06_d73e_11ea_a04f_8232b2c43c01row0_col28\" class=\"data row0 col28\" >0.071781</td>\n",
       "                        <td id=\"T_cc826c06_d73e_11ea_a04f_8232b2c43c01row0_col29\" class=\"data row0 col29\" >0.138776</td>\n",
       "                        <td id=\"T_cc826c06_d73e_11ea_a04f_8232b2c43c01row0_col30\" class=\"data row0 col30\" >-0.000000</td>\n",
       "                        <td id=\"T_cc826c06_d73e_11ea_a04f_8232b2c43c01row0_col31\" class=\"data row0 col31\" >-0.000000</td>\n",
       "            </tr>\n",
       "            <tr>\n",
       "                        <th id=\"T_cc826c06_d73e_11ea_a04f_8232b2c43c01level0_row1\" class=\"row_heading level0 row1\" >1</th>\n",
       "                        <td id=\"T_cc826c06_d73e_11ea_a04f_8232b2c43c01row1_col0\" class=\"data row1 col0\" >362</td>\n",
       "                        <td id=\"T_cc826c06_d73e_11ea_a04f_8232b2c43c01row1_col1\" class=\"data row1 col1\" >jug</td>\n",
       "                        <td id=\"T_cc826c06_d73e_11ea_a04f_8232b2c43c01row1_col2\" class=\"data row1 col2\" >-0.000000</td>\n",
       "                        <td id=\"T_cc826c06_d73e_11ea_a04f_8232b2c43c01row1_col3\" class=\"data row1 col3\" >4</td>\n",
       "                        <td id=\"T_cc826c06_d73e_11ea_a04f_8232b2c43c01row1_col4\" class=\"data row1 col4\" >['cap', 'bottle', 'ketchup']</td>\n",
       "                        <td id=\"T_cc826c06_d73e_11ea_a04f_8232b2c43c01row1_col5\" class=\"data row1 col5\" >3</td>\n",
       "                        <td id=\"T_cc826c06_d73e_11ea_a04f_8232b2c43c01row1_col6\" class=\"data row1 col6\" >3.331888</td>\n",
       "                        <td id=\"T_cc826c06_d73e_11ea_a04f_8232b2c43c01row1_col7\" class=\"data row1 col7\" >('cap', 'rock', 'bottle', 'ketchup')</td>\n",
       "                        <td id=\"T_cc826c06_d73e_11ea_a04f_8232b2c43c01row1_col8\" class=\"data row1 col8\" >0.131581</td>\n",
       "                        <td id=\"T_cc826c06_d73e_11ea_a04f_8232b2c43c01row1_col9\" class=\"data row1 col9\" >-0.041590</td>\n",
       "                        <td id=\"T_cc826c06_d73e_11ea_a04f_8232b2c43c01row1_col10\" class=\"data row1 col10\" >-1.034142</td>\n",
       "                        <td id=\"T_cc826c06_d73e_11ea_a04f_8232b2c43c01row1_col11\" class=\"data row1 col11\" >0.123805</td>\n",
       "                        <td id=\"T_cc826c06_d73e_11ea_a04f_8232b2c43c01row1_col12\" class=\"data row1 col12\" >-0.000000</td>\n",
       "                        <td id=\"T_cc826c06_d73e_11ea_a04f_8232b2c43c01row1_col13\" class=\"data row1 col13\" >-3.331931</td>\n",
       "                        <td id=\"T_cc826c06_d73e_11ea_a04f_8232b2c43c01row1_col14\" class=\"data row1 col14\" >-0.077329</td>\n",
       "                        <td id=\"T_cc826c06_d73e_11ea_a04f_8232b2c43c01row1_col15\" class=\"data row1 col15\" >-0.431794</td>\n",
       "                        <td id=\"T_cc826c06_d73e_11ea_a04f_8232b2c43c01row1_col16\" class=\"data row1 col16\" >-1.293153</td>\n",
       "                        <td id=\"T_cc826c06_d73e_11ea_a04f_8232b2c43c01row1_col17\" class=\"data row1 col17\" >-0.000000</td>\n",
       "                        <td id=\"T_cc826c06_d73e_11ea_a04f_8232b2c43c01row1_col18\" class=\"data row1 col18\" >0.124555</td>\n",
       "                        <td id=\"T_cc826c06_d73e_11ea_a04f_8232b2c43c01row1_col19\" class=\"data row1 col19\" >-0.012807</td>\n",
       "                        <td id=\"T_cc826c06_d73e_11ea_a04f_8232b2c43c01row1_col20\" class=\"data row1 col20\" >0.072111</td>\n",
       "                        <td id=\"T_cc826c06_d73e_11ea_a04f_8232b2c43c01row1_col21\" class=\"data row1 col21\" >-0.021658</td>\n",
       "                        <td id=\"T_cc826c06_d73e_11ea_a04f_8232b2c43c01row1_col22\" class=\"data row1 col22\" >-0.004810</td>\n",
       "                        <td id=\"T_cc826c06_d73e_11ea_a04f_8232b2c43c01row1_col23\" class=\"data row1 col23\" >-0.000000</td>\n",
       "                        <td id=\"T_cc826c06_d73e_11ea_a04f_8232b2c43c01row1_col24\" class=\"data row1 col24\" >0.047317</td>\n",
       "                        <td id=\"T_cc826c06_d73e_11ea_a04f_8232b2c43c01row1_col25\" class=\"data row1 col25\" >0.054007</td>\n",
       "                        <td id=\"T_cc826c06_d73e_11ea_a04f_8232b2c43c01row1_col26\" class=\"data row1 col26\" >-0.011446</td>\n",
       "                        <td id=\"T_cc826c06_d73e_11ea_a04f_8232b2c43c01row1_col27\" class=\"data row1 col27\" >-0.096494</td>\n",
       "                        <td id=\"T_cc826c06_d73e_11ea_a04f_8232b2c43c01row1_col28\" class=\"data row1 col28\" >0.037867</td>\n",
       "                        <td id=\"T_cc826c06_d73e_11ea_a04f_8232b2c43c01row1_col29\" class=\"data row1 col29\" >0.097801</td>\n",
       "                        <td id=\"T_cc826c06_d73e_11ea_a04f_8232b2c43c01row1_col30\" class=\"data row1 col30\" >-0.000000</td>\n",
       "                        <td id=\"T_cc826c06_d73e_11ea_a04f_8232b2c43c01row1_col31\" class=\"data row1 col31\" >-0.000000</td>\n",
       "            </tr>\n",
       "            <tr>\n",
       "                        <th id=\"T_cc826c06_d73e_11ea_a04f_8232b2c43c01level0_row2\" class=\"row_heading level0 row2\" >2</th>\n",
       "                        <td id=\"T_cc826c06_d73e_11ea_a04f_8232b2c43c01row2_col0\" class=\"data row2 col0\" >430</td>\n",
       "                        <td id=\"T_cc826c06_d73e_11ea_a04f_8232b2c43c01row2_col1\" class=\"data row2 col1\" >carafe</td>\n",
       "                        <td id=\"T_cc826c06_d73e_11ea_a04f_8232b2c43c01row2_col2\" class=\"data row2 col2\" >-0.000000</td>\n",
       "                        <td id=\"T_cc826c06_d73e_11ea_a04f_8232b2c43c01row2_col3\" class=\"data row2 col3\" >4</td>\n",
       "                        <td id=\"T_cc826c06_d73e_11ea_a04f_8232b2c43c01row2_col4\" class=\"data row2 col4\" >['cap', 'bottle', 'ketchup']</td>\n",
       "                        <td id=\"T_cc826c06_d73e_11ea_a04f_8232b2c43c01row2_col5\" class=\"data row2 col5\" >3</td>\n",
       "                        <td id=\"T_cc826c06_d73e_11ea_a04f_8232b2c43c01row2_col6\" class=\"data row2 col6\" >3.151740</td>\n",
       "                        <td id=\"T_cc826c06_d73e_11ea_a04f_8232b2c43c01row2_col7\" class=\"data row2 col7\" >('cap', 'bottle', 'ketchup', 'marble')</td>\n",
       "                        <td id=\"T_cc826c06_d73e_11ea_a04f_8232b2c43c01row2_col8\" class=\"data row2 col8\" >0.069527</td>\n",
       "                        <td id=\"T_cc826c06_d73e_11ea_a04f_8232b2c43c01row2_col9\" class=\"data row2 col9\" >-0.009211</td>\n",
       "                        <td id=\"T_cc826c06_d73e_11ea_a04f_8232b2c43c01row2_col10\" class=\"data row2 col10\" >-1.220681</td>\n",
       "                        <td id=\"T_cc826c06_d73e_11ea_a04f_8232b2c43c01row2_col11\" class=\"data row2 col11\" >0.048070</td>\n",
       "                        <td id=\"T_cc826c06_d73e_11ea_a04f_8232b2c43c01row2_col12\" class=\"data row2 col12\" >-0.000000</td>\n",
       "                        <td id=\"T_cc826c06_d73e_11ea_a04f_8232b2c43c01row2_col13\" class=\"data row2 col13\" >-3.414998</td>\n",
       "                        <td id=\"T_cc826c06_d73e_11ea_a04f_8232b2c43c01row2_col14\" class=\"data row2 col14\" >0.018979</td>\n",
       "                        <td id=\"T_cc826c06_d73e_11ea_a04f_8232b2c43c01row2_col15\" class=\"data row2 col15\" >-0.226367</td>\n",
       "                        <td id=\"T_cc826c06_d73e_11ea_a04f_8232b2c43c01row2_col16\" class=\"data row2 col16\" >-1.138656</td>\n",
       "                        <td id=\"T_cc826c06_d73e_11ea_a04f_8232b2c43c01row2_col17\" class=\"data row2 col17\" >-0.000000</td>\n",
       "                        <td id=\"T_cc826c06_d73e_11ea_a04f_8232b2c43c01row2_col18\" class=\"data row2 col18\" >0.101839</td>\n",
       "                        <td id=\"T_cc826c06_d73e_11ea_a04f_8232b2c43c01row2_col19\" class=\"data row2 col19\" >0.014074</td>\n",
       "                        <td id=\"T_cc826c06_d73e_11ea_a04f_8232b2c43c01row2_col20\" class=\"data row2 col20\" >-0.008497</td>\n",
       "                        <td id=\"T_cc826c06_d73e_11ea_a04f_8232b2c43c01row2_col21\" class=\"data row2 col21\" >0.025272</td>\n",
       "                        <td id=\"T_cc826c06_d73e_11ea_a04f_8232b2c43c01row2_col22\" class=\"data row2 col22\" >0.004491</td>\n",
       "                        <td id=\"T_cc826c06_d73e_11ea_a04f_8232b2c43c01row2_col23\" class=\"data row2 col23\" >-0.000000</td>\n",
       "                        <td id=\"T_cc826c06_d73e_11ea_a04f_8232b2c43c01row2_col24\" class=\"data row2 col24\" >0.023625</td>\n",
       "                        <td id=\"T_cc826c06_d73e_11ea_a04f_8232b2c43c01row2_col25\" class=\"data row2 col25\" >0.019680</td>\n",
       "                        <td id=\"T_cc826c06_d73e_11ea_a04f_8232b2c43c01row2_col26\" class=\"data row2 col26\" >-0.083997</td>\n",
       "                        <td id=\"T_cc826c06_d73e_11ea_a04f_8232b2c43c01row2_col27\" class=\"data row2 col27\" >-0.137793</td>\n",
       "                        <td id=\"T_cc826c06_d73e_11ea_a04f_8232b2c43c01row2_col28\" class=\"data row2 col28\" >0.017501</td>\n",
       "                        <td id=\"T_cc826c06_d73e_11ea_a04f_8232b2c43c01row2_col29\" class=\"data row2 col29\" >0.048883</td>\n",
       "                        <td id=\"T_cc826c06_d73e_11ea_a04f_8232b2c43c01row2_col30\" class=\"data row2 col30\" >-0.000000</td>\n",
       "                        <td id=\"T_cc826c06_d73e_11ea_a04f_8232b2c43c01row2_col31\" class=\"data row2 col31\" >-0.000000</td>\n",
       "            </tr>\n",
       "            <tr>\n",
       "                        <th id=\"T_cc826c06_d73e_11ea_a04f_8232b2c43c01level0_row3\" class=\"row_heading level0 row3\" >3</th>\n",
       "                        <td id=\"T_cc826c06_d73e_11ea_a04f_8232b2c43c01row3_col0\" class=\"data row3 col0\" >823</td>\n",
       "                        <td id=\"T_cc826c06_d73e_11ea_a04f_8232b2c43c01row3_col1\" class=\"data row3 col1\" >piedra</td>\n",
       "                        <td id=\"T_cc826c06_d73e_11ea_a04f_8232b2c43c01row3_col2\" class=\"data row3 col2\" >-0.000000</td>\n",
       "                        <td id=\"T_cc826c06_d73e_11ea_a04f_8232b2c43c01row3_col3\" class=\"data row3 col3\" >5</td>\n",
       "                        <td id=\"T_cc826c06_d73e_11ea_a04f_8232b2c43c01row3_col4\" class=\"data row3 col4\" >['rock', 'marble', 'mexico']</td>\n",
       "                        <td id=\"T_cc826c06_d73e_11ea_a04f_8232b2c43c01row3_col5\" class=\"data row3 col5\" >3</td>\n",
       "                        <td id=\"T_cc826c06_d73e_11ea_a04f_8232b2c43c01row3_col6\" class=\"data row3 col6\" >3.115624</td>\n",
       "                        <td id=\"T_cc826c06_d73e_11ea_a04f_8232b2c43c01row3_col7\" class=\"data row3 col7\" >('cap', 'rock', 'mouse', 'marble', 'mexico')</td>\n",
       "                        <td id=\"T_cc826c06_d73e_11ea_a04f_8232b2c43c01row3_col8\" class=\"data row3 col8\" >0.018252</td>\n",
       "                        <td id=\"T_cc826c06_d73e_11ea_a04f_8232b2c43c01row3_col9\" class=\"data row3 col9\" >-0.033660</td>\n",
       "                        <td id=\"T_cc826c06_d73e_11ea_a04f_8232b2c43c01row3_col10\" class=\"data row3 col10\" >-0.000000</td>\n",
       "                        <td id=\"T_cc826c06_d73e_11ea_a04f_8232b2c43c01row3_col11\" class=\"data row3 col11\" >0.030522</td>\n",
       "                        <td id=\"T_cc826c06_d73e_11ea_a04f_8232b2c43c01row3_col12\" class=\"data row3 col12\" >-2.652389</td>\n",
       "                        <td id=\"T_cc826c06_d73e_11ea_a04f_8232b2c43c01row3_col13\" class=\"data row3 col13\" >-0.000000</td>\n",
       "                        <td id=\"T_cc826c06_d73e_11ea_a04f_8232b2c43c01row3_col14\" class=\"data row3 col14\" >-0.044242</td>\n",
       "                        <td id=\"T_cc826c06_d73e_11ea_a04f_8232b2c43c01row3_col15\" class=\"data row3 col15\" >-0.407370</td>\n",
       "                        <td id=\"T_cc826c06_d73e_11ea_a04f_8232b2c43c01row3_col16\" class=\"data row3 col16\" >-0.000000</td>\n",
       "                        <td id=\"T_cc826c06_d73e_11ea_a04f_8232b2c43c01row3_col17\" class=\"data row3 col17\" >-0.000000</td>\n",
       "                        <td id=\"T_cc826c06_d73e_11ea_a04f_8232b2c43c01row3_col18\" class=\"data row3 col18\" >0.064565</td>\n",
       "                        <td id=\"T_cc826c06_d73e_11ea_a04f_8232b2c43c01row3_col19\" class=\"data row3 col19\" >0.028955</td>\n",
       "                        <td id=\"T_cc826c06_d73e_11ea_a04f_8232b2c43c01row3_col20\" class=\"data row3 col20\" >0.001675</td>\n",
       "                        <td id=\"T_cc826c06_d73e_11ea_a04f_8232b2c43c01row3_col21\" class=\"data row3 col21\" >0.032129</td>\n",
       "                        <td id=\"T_cc826c06_d73e_11ea_a04f_8232b2c43c01row3_col22\" class=\"data row3 col22\" >-0.031284</td>\n",
       "                        <td id=\"T_cc826c06_d73e_11ea_a04f_8232b2c43c01row3_col23\" class=\"data row3 col23\" >-0.000000</td>\n",
       "                        <td id=\"T_cc826c06_d73e_11ea_a04f_8232b2c43c01row3_col24\" class=\"data row3 col24\" >-0.195606</td>\n",
       "                        <td id=\"T_cc826c06_d73e_11ea_a04f_8232b2c43c01row3_col25\" class=\"data row3 col25\" >0.023210</td>\n",
       "                        <td id=\"T_cc826c06_d73e_11ea_a04f_8232b2c43c01row3_col26\" class=\"data row3 col26\" >0.059380</td>\n",
       "                        <td id=\"T_cc826c06_d73e_11ea_a04f_8232b2c43c01row3_col27\" class=\"data row3 col27\" >0.100424</td>\n",
       "                        <td id=\"T_cc826c06_d73e_11ea_a04f_8232b2c43c01row3_col28\" class=\"data row3 col28\" >-0.010960</td>\n",
       "                        <td id=\"T_cc826c06_d73e_11ea_a04f_8232b2c43c01row3_col29\" class=\"data row3 col29\" >0.247541</td>\n",
       "                        <td id=\"T_cc826c06_d73e_11ea_a04f_8232b2c43c01row3_col30\" class=\"data row3 col30\" >-1.658636</td>\n",
       "                        <td id=\"T_cc826c06_d73e_11ea_a04f_8232b2c43c01row3_col31\" class=\"data row3 col31\" >-1.456882</td>\n",
       "            </tr>\n",
       "            <tr>\n",
       "                        <th id=\"T_cc826c06_d73e_11ea_a04f_8232b2c43c01level0_row4\" class=\"row_heading level0 row4\" >4</th>\n",
       "                        <td id=\"T_cc826c06_d73e_11ea_a04f_8232b2c43c01row4_col0\" class=\"data row4 col0\" >293</td>\n",
       "                        <td id=\"T_cc826c06_d73e_11ea_a04f_8232b2c43c01row4_col1\" class=\"data row4 col1\" >talavera</td>\n",
       "                        <td id=\"T_cc826c06_d73e_11ea_a04f_8232b2c43c01row4_col2\" class=\"data row4 col2\" >-0.000000</td>\n",
       "                        <td id=\"T_cc826c06_d73e_11ea_a04f_8232b2c43c01row4_col3\" class=\"data row4 col3\" >3</td>\n",
       "                        <td id=\"T_cc826c06_d73e_11ea_a04f_8232b2c43c01row4_col4\" class=\"data row4 col4\" >['marble', 'mexico']</td>\n",
       "                        <td id=\"T_cc826c06_d73e_11ea_a04f_8232b2c43c01row4_col5\" class=\"data row4 col5\" >2</td>\n",
       "                        <td id=\"T_cc826c06_d73e_11ea_a04f_8232b2c43c01row4_col6\" class=\"data row4 col6\" >2.830036</td>\n",
       "                        <td id=\"T_cc826c06_d73e_11ea_a04f_8232b2c43c01row4_col7\" class=\"data row4 col7\" >('bottle', 'marble', 'mexico')</td>\n",
       "                        <td id=\"T_cc826c06_d73e_11ea_a04f_8232b2c43c01row4_col8\" class=\"data row4 col8\" >-0.012927</td>\n",
       "                        <td id=\"T_cc826c06_d73e_11ea_a04f_8232b2c43c01row4_col9\" class=\"data row4 col9\" >-0.076425</td>\n",
       "                        <td id=\"T_cc826c06_d73e_11ea_a04f_8232b2c43c01row4_col10\" class=\"data row4 col10\" >-0.000000</td>\n",
       "                        <td id=\"T_cc826c06_d73e_11ea_a04f_8232b2c43c01row4_col11\" class=\"data row4 col11\" >0.206235</td>\n",
       "                        <td id=\"T_cc826c06_d73e_11ea_a04f_8232b2c43c01row4_col12\" class=\"data row4 col12\" >-0.000000</td>\n",
       "                        <td id=\"T_cc826c06_d73e_11ea_a04f_8232b2c43c01row4_col13\" class=\"data row4 col13\" >-0.000000</td>\n",
       "                        <td id=\"T_cc826c06_d73e_11ea_a04f_8232b2c43c01row4_col14\" class=\"data row4 col14\" >0.007885</td>\n",
       "                        <td id=\"T_cc826c06_d73e_11ea_a04f_8232b2c43c01row4_col15\" class=\"data row4 col15\" >0.368702</td>\n",
       "                        <td id=\"T_cc826c06_d73e_11ea_a04f_8232b2c43c01row4_col16\" class=\"data row4 col16\" >-0.000000</td>\n",
       "                        <td id=\"T_cc826c06_d73e_11ea_a04f_8232b2c43c01row4_col17\" class=\"data row4 col17\" >-0.000000</td>\n",
       "                        <td id=\"T_cc826c06_d73e_11ea_a04f_8232b2c43c01row4_col18\" class=\"data row4 col18\" >0.046880</td>\n",
       "                        <td id=\"T_cc826c06_d73e_11ea_a04f_8232b2c43c01row4_col19\" class=\"data row4 col19\" >-0.035604</td>\n",
       "                        <td id=\"T_cc826c06_d73e_11ea_a04f_8232b2c43c01row4_col20\" class=\"data row4 col20\" >0.044580</td>\n",
       "                        <td id=\"T_cc826c06_d73e_11ea_a04f_8232b2c43c01row4_col21\" class=\"data row4 col21\" >-0.024764</td>\n",
       "                        <td id=\"T_cc826c06_d73e_11ea_a04f_8232b2c43c01row4_col22\" class=\"data row4 col22\" >-0.035686</td>\n",
       "                        <td id=\"T_cc826c06_d73e_11ea_a04f_8232b2c43c01row4_col23\" class=\"data row4 col23\" >-0.000000</td>\n",
       "                        <td id=\"T_cc826c06_d73e_11ea_a04f_8232b2c43c01row4_col24\" class=\"data row4 col24\" >-0.107668</td>\n",
       "                        <td id=\"T_cc826c06_d73e_11ea_a04f_8232b2c43c01row4_col25\" class=\"data row4 col25\" >-0.116146</td>\n",
       "                        <td id=\"T_cc826c06_d73e_11ea_a04f_8232b2c43c01row4_col26\" class=\"data row4 col26\" >-0.077512</td>\n",
       "                        <td id=\"T_cc826c06_d73e_11ea_a04f_8232b2c43c01row4_col27\" class=\"data row4 col27\" >0.149664</td>\n",
       "                        <td id=\"T_cc826c06_d73e_11ea_a04f_8232b2c43c01row4_col28\" class=\"data row4 col28\" >0.017828</td>\n",
       "                        <td id=\"T_cc826c06_d73e_11ea_a04f_8232b2c43c01row4_col29\" class=\"data row4 col29\" >0.085095</td>\n",
       "                        <td id=\"T_cc826c06_d73e_11ea_a04f_8232b2c43c01row4_col30\" class=\"data row4 col30\" >-1.543653</td>\n",
       "                        <td id=\"T_cc826c06_d73e_11ea_a04f_8232b2c43c01row4_col31\" class=\"data row4 col31\" >-2.066447</td>\n",
       "            </tr>\n",
       "    </tbody></table>"
      ],
      "text/plain": [
       "<pandas.io.formats.style.Styler at 0x7f93dcbe1550>"
      ]
     },
     "execution_count": 8,
     "metadata": {},
     "output_type": "execute_result"
    },
    {
     "data": {
      "application/javascript": [
       "\n",
       "            setTimeout(function() {\n",
       "                var nbb_cell_id = 8;\n",
       "                var nbb_unformatted_code = \"codenames_game = CodenamesGame(words_loc=\\\"codenames/words.txt\\\")\\n(\\n    cards,\\n    ally_cards,\\n    enemy_cards,\\n    neutral_cards,\\n    assassin_card,\\n    spymaster_map,\\n    team,\\n) = get_game_data(codenames_game, model)\\nenemy_team = \\\"blue\\\" if team == \\\"red\\\" else \\\"red\\\"\\n\\nword_combos, vector_combos = create_word_combinations_matrices(\\n    ally_cards, model, default_max_combo=9\\n)\\nword_combo_clue_dict = get_most_similar_vectors_for_combos(\\n    word_combos, cards, negative_cards=[assassin_card], topn=3\\n)\\nclue_tuples = create_clue_tuples(word_combo_clue_dict, model)\\n\\nclue_df = create_clue_df(clue_tuples, cards)\\n\\nbest_clue, weighted_df = calculate_best_clue(\\n    clue_df,\\n    spymaster_map,\\n    ally_cards,\\n    enemy_cards,\\n    neutral_cards,\\n    assassin_card,\\n    assassin_weight=-10,\\n    enemy_weight=-5,\\n    neutral_weight=-1,\\n    ally_weight=1,\\n    risk_weight=3,\\n    clue_score_threshold=0.2,\\n)\\n\\nweighted_df = weighted_df[weighted_df.actual_combo_length >= 1]\\n# Removing any clue duplicates (where there were multiple intended combos but the amended combos are identical)\\nweighted_df = (\\n    weighted_df.reset_index()\\n    .drop_duplicates(subset=[\\\"clue\\\", \\\"weighted_score\\\", \\\"actual_combo_length\\\"],)\\n    .sort_values([\\\"weighted_score\\\"], ascending=False)\\n)\\n\\nweighted_df.reset_index(inplace=True)\\n# Column reorder for readbility\\nweighted_df = weighted_df[\\n    list(weighted_df.columns[:2])\\n    + list(weighted_df.columns[27:])\\n    + list(weighted_df.columns[2:27])\\n]\\nweighted_df.head().style\";\n",
       "                var nbb_formatted_code = \"codenames_game = CodenamesGame(words_loc=\\\"codenames/words.txt\\\")\\n(\\n    cards,\\n    ally_cards,\\n    enemy_cards,\\n    neutral_cards,\\n    assassin_card,\\n    spymaster_map,\\n    team,\\n) = get_game_data(codenames_game, model)\\nenemy_team = \\\"blue\\\" if team == \\\"red\\\" else \\\"red\\\"\\n\\nword_combos, vector_combos = create_word_combinations_matrices(\\n    ally_cards, model, default_max_combo=9\\n)\\nword_combo_clue_dict = get_most_similar_vectors_for_combos(\\n    word_combos, cards, negative_cards=[assassin_card], topn=3\\n)\\nclue_tuples = create_clue_tuples(word_combo_clue_dict, model)\\n\\nclue_df = create_clue_df(clue_tuples, cards)\\n\\nbest_clue, weighted_df = calculate_best_clue(\\n    clue_df,\\n    spymaster_map,\\n    ally_cards,\\n    enemy_cards,\\n    neutral_cards,\\n    assassin_card,\\n    assassin_weight=-10,\\n    enemy_weight=-5,\\n    neutral_weight=-1,\\n    ally_weight=1,\\n    risk_weight=3,\\n    clue_score_threshold=0.2,\\n)\\n\\nweighted_df = weighted_df[weighted_df.actual_combo_length >= 1]\\n# Removing any clue duplicates (where there were multiple intended combos but the amended combos are identical)\\nweighted_df = (\\n    weighted_df.reset_index()\\n    .drop_duplicates(subset=[\\\"clue\\\", \\\"weighted_score\\\", \\\"actual_combo_length\\\"],)\\n    .sort_values([\\\"weighted_score\\\"], ascending=False)\\n)\\n\\nweighted_df.reset_index(inplace=True)\\n# Column reorder for readbility\\nweighted_df = weighted_df[\\n    list(weighted_df.columns[:2])\\n    + list(weighted_df.columns[27:])\\n    + list(weighted_df.columns[2:27])\\n]\\nweighted_df.head().style\";\n",
       "                var nbb_cells = Jupyter.notebook.get_cells();\n",
       "                for (var i = 0; i < nbb_cells.length; ++i) {\n",
       "                    if (nbb_cells[i].input_prompt_number == nbb_cell_id) {\n",
       "                        if (nbb_cells[i].get_text() == nbb_unformatted_code) {\n",
       "                             nbb_cells[i].set_text(nbb_formatted_code);\n",
       "                        }\n",
       "                        break;\n",
       "                    }\n",
       "                }\n",
       "            }, 500);\n",
       "            "
      ],
      "text/plain": [
       "<IPython.core.display.Javascript object>"
      ]
     },
     "metadata": {},
     "output_type": "display_data"
    }
   ],
   "source": [
    "codenames_game = CodenamesGame(words_loc=\"codenames/words.txt\")\n",
    "(\n",
    "    cards,\n",
    "    ally_cards,\n",
    "    enemy_cards,\n",
    "    neutral_cards,\n",
    "    assassin_card,\n",
    "    spymaster_map,\n",
    "    team,\n",
    ") = get_game_data(codenames_game, model)\n",
    "enemy_team = \"blue\" if team == \"red\" else \"red\"\n",
    "\n",
    "word_combos, vector_combos = create_word_combinations_matrices(\n",
    "    ally_cards, model, default_max_combo=9\n",
    ")\n",
    "word_combo_clue_dict = get_most_similar_vectors_for_combos(\n",
    "    word_combos, cards, negative_cards=[assassin_card], topn=3\n",
    ")\n",
    "clue_tuples = create_clue_tuples(word_combo_clue_dict, model)\n",
    "\n",
    "clue_df = create_clue_df(clue_tuples, cards)\n",
    "\n",
    "best_clue, weighted_df = calculate_best_clue(\n",
    "    clue_df,\n",
    "    spymaster_map,\n",
    "    ally_cards,\n",
    "    enemy_cards,\n",
    "    neutral_cards,\n",
    "    assassin_card,\n",
    "    assassin_weight=-10,\n",
    "    enemy_weight=-5,\n",
    "    neutral_weight=-1,\n",
    "    ally_weight=1,\n",
    "    risk_weight=3,\n",
    "    clue_score_threshold=0.2,\n",
    ")\n",
    "\n",
    "weighted_df = weighted_df[weighted_df.actual_combo_length >= 1]\n",
    "# Removing any clue duplicates (where there were multiple intended combos but the amended combos are identical)\n",
    "weighted_df = (\n",
    "    weighted_df.reset_index()\n",
    "    .drop_duplicates(subset=[\"clue\", \"weighted_score\", \"actual_combo_length\"],)\n",
    "    .sort_values([\"weighted_score\"], ascending=False)\n",
    ")\n",
    "\n",
    "weighted_df.reset_index(inplace=True)\n",
    "# Column reorder for readbility\n",
    "weighted_df = weighted_df[\n",
    "    list(weighted_df.columns[:2])\n",
    "    + list(weighted_df.columns[27:])\n",
    "    + list(weighted_df.columns[2:27])\n",
    "]\n",
    "weighted_df.head().style"
   ]
  },
  {
   "cell_type": "code",
   "execution_count": 23,
   "metadata": {
    "scrolled": false
   },
   "outputs": [
    {
     "data": {
      "application/vnd.plotly.v1+json": {
       "config": {
        "plotlyServerURL": "https://plot.ly"
       },
       "data": [
        {
         "hovertemplate": "x: %{x}<br>y: %{y}<br>color: %{z}<extra></extra>",
         "type": "image",
         "z": [
          [
           [
            246,
            232,
            204,
            0.25
           ],
           [
            246,
            232,
            204,
            0.25
           ],
           [
            246,
            232,
            204,
            0.25
           ],
           [
            246,
            232,
            204,
            0.25
           ],
           [
            246,
            232,
            204,
            0.25
           ]
          ],
          [
           [
            246,
            232,
            204,
            0.25
           ],
           [
            246,
            232,
            204,
            0.25
           ],
           [
            246,
            232,
            204,
            0.25
           ],
           [
            246,
            232,
            204,
            0.25
           ],
           [
            246,
            232,
            204,
            0.25
           ]
          ],
          [
           [
            246,
            232,
            204,
            0.25
           ],
           [
            246,
            232,
            204,
            0.25
           ],
           [
            246,
            232,
            204,
            0.25
           ],
           [
            246,
            232,
            204,
            0.25
           ],
           [
            246,
            232,
            204,
            0.25
           ]
          ],
          [
           [
            246,
            232,
            204,
            0.25
           ],
           [
            246,
            232,
            204,
            0.25
           ],
           [
            246,
            232,
            204,
            0.25
           ],
           [
            246,
            232,
            204,
            0.25
           ],
           [
            246,
            232,
            204,
            0.25
           ]
          ],
          [
           [
            246,
            232,
            204,
            0.25
           ],
           [
            246,
            232,
            204,
            0.25
           ],
           [
            246,
            232,
            204,
            0.25
           ],
           [
            246,
            232,
            204,
            0.25
           ],
           [
            246,
            232,
            204,
            0.25
           ]
          ]
         ],
         "zmax": [
          255,
          255,
          255,
          1
         ]
        }
       ],
       "layout": {
        "annotations": [
         {
          "showarrow": false,
          "text": "millionaire",
          "x": 0,
          "y": 0
         },
         {
          "showarrow": false,
          "text": "racket",
          "x": 1,
          "y": 0
         },
         {
          "showarrow": false,
          "text": "cricket",
          "x": 2,
          "y": 0
         },
         {
          "showarrow": false,
          "text": "china",
          "x": 3,
          "y": 0
         },
         {
          "showarrow": false,
          "text": "dress",
          "x": 4,
          "y": 0
         },
         {
          "showarrow": false,
          "text": "jupiter",
          "x": 0,
          "y": 1
         },
         {
          "showarrow": false,
          "text": "rabbit",
          "x": 1,
          "y": 1
         },
         {
          "showarrow": false,
          "text": "beijing",
          "x": 2,
          "y": 1
         },
         {
          "showarrow": false,
          "text": "cotton",
          "x": 3,
          "y": 1
         },
         {
          "showarrow": false,
          "text": "roulette",
          "x": 4,
          "y": 1
         },
         {
          "showarrow": false,
          "text": "carrot",
          "x": 0,
          "y": 2
         },
         {
          "showarrow": false,
          "text": "dinosaur",
          "x": 1,
          "y": 2
         },
         {
          "showarrow": false,
          "text": "suit",
          "x": 2,
          "y": 2
         },
         {
          "showarrow": false,
          "text": "ketchup",
          "x": 3,
          "y": 2
         },
         {
          "showarrow": false,
          "text": "paste",
          "x": 4,
          "y": 2
         },
         {
          "showarrow": false,
          "text": "pole",
          "x": 0,
          "y": 3
         },
         {
          "showarrow": false,
          "text": "spell",
          "x": 1,
          "y": 3
         },
         {
          "showarrow": false,
          "text": "amazon",
          "x": 2,
          "y": 3
         },
         {
          "showarrow": false,
          "text": "slip",
          "x": 3,
          "y": 3
         },
         {
          "showarrow": false,
          "text": "slug",
          "x": 4,
          "y": 3
         },
         {
          "showarrow": false,
          "text": "london",
          "x": 0,
          "y": 4
         },
         {
          "showarrow": false,
          "text": "hole",
          "x": 1,
          "y": 4
         },
         {
          "showarrow": false,
          "text": "mail",
          "x": 2,
          "y": 4
         },
         {
          "showarrow": false,
          "text": "spring",
          "x": 3,
          "y": 4
         },
         {
          "showarrow": false,
          "text": "grass",
          "x": 4,
          "y": 4
         }
        ],
        "margin": {
         "t": 60
        },
        "template": {
         "data": {
          "bar": [
           {
            "error_x": {
             "color": "#2a3f5f"
            },
            "error_y": {
             "color": "#2a3f5f"
            },
            "marker": {
             "line": {
              "color": "#E5ECF6",
              "width": 0.5
             }
            },
            "type": "bar"
           }
          ],
          "barpolar": [
           {
            "marker": {
             "line": {
              "color": "#E5ECF6",
              "width": 0.5
             }
            },
            "type": "barpolar"
           }
          ],
          "carpet": [
           {
            "aaxis": {
             "endlinecolor": "#2a3f5f",
             "gridcolor": "white",
             "linecolor": "white",
             "minorgridcolor": "white",
             "startlinecolor": "#2a3f5f"
            },
            "baxis": {
             "endlinecolor": "#2a3f5f",
             "gridcolor": "white",
             "linecolor": "white",
             "minorgridcolor": "white",
             "startlinecolor": "#2a3f5f"
            },
            "type": "carpet"
           }
          ],
          "choropleth": [
           {
            "colorbar": {
             "outlinewidth": 0,
             "ticks": ""
            },
            "type": "choropleth"
           }
          ],
          "contour": [
           {
            "colorbar": {
             "outlinewidth": 0,
             "ticks": ""
            },
            "colorscale": [
             [
              0,
              "#0d0887"
             ],
             [
              0.1111111111111111,
              "#46039f"
             ],
             [
              0.2222222222222222,
              "#7201a8"
             ],
             [
              0.3333333333333333,
              "#9c179e"
             ],
             [
              0.4444444444444444,
              "#bd3786"
             ],
             [
              0.5555555555555556,
              "#d8576b"
             ],
             [
              0.6666666666666666,
              "#ed7953"
             ],
             [
              0.7777777777777778,
              "#fb9f3a"
             ],
             [
              0.8888888888888888,
              "#fdca26"
             ],
             [
              1,
              "#f0f921"
             ]
            ],
            "type": "contour"
           }
          ],
          "contourcarpet": [
           {
            "colorbar": {
             "outlinewidth": 0,
             "ticks": ""
            },
            "type": "contourcarpet"
           }
          ],
          "heatmap": [
           {
            "colorbar": {
             "outlinewidth": 0,
             "ticks": ""
            },
            "colorscale": [
             [
              0,
              "#0d0887"
             ],
             [
              0.1111111111111111,
              "#46039f"
             ],
             [
              0.2222222222222222,
              "#7201a8"
             ],
             [
              0.3333333333333333,
              "#9c179e"
             ],
             [
              0.4444444444444444,
              "#bd3786"
             ],
             [
              0.5555555555555556,
              "#d8576b"
             ],
             [
              0.6666666666666666,
              "#ed7953"
             ],
             [
              0.7777777777777778,
              "#fb9f3a"
             ],
             [
              0.8888888888888888,
              "#fdca26"
             ],
             [
              1,
              "#f0f921"
             ]
            ],
            "type": "heatmap"
           }
          ],
          "heatmapgl": [
           {
            "colorbar": {
             "outlinewidth": 0,
             "ticks": ""
            },
            "colorscale": [
             [
              0,
              "#0d0887"
             ],
             [
              0.1111111111111111,
              "#46039f"
             ],
             [
              0.2222222222222222,
              "#7201a8"
             ],
             [
              0.3333333333333333,
              "#9c179e"
             ],
             [
              0.4444444444444444,
              "#bd3786"
             ],
             [
              0.5555555555555556,
              "#d8576b"
             ],
             [
              0.6666666666666666,
              "#ed7953"
             ],
             [
              0.7777777777777778,
              "#fb9f3a"
             ],
             [
              0.8888888888888888,
              "#fdca26"
             ],
             [
              1,
              "#f0f921"
             ]
            ],
            "type": "heatmapgl"
           }
          ],
          "histogram": [
           {
            "marker": {
             "colorbar": {
              "outlinewidth": 0,
              "ticks": ""
             }
            },
            "type": "histogram"
           }
          ],
          "histogram2d": [
           {
            "colorbar": {
             "outlinewidth": 0,
             "ticks": ""
            },
            "colorscale": [
             [
              0,
              "#0d0887"
             ],
             [
              0.1111111111111111,
              "#46039f"
             ],
             [
              0.2222222222222222,
              "#7201a8"
             ],
             [
              0.3333333333333333,
              "#9c179e"
             ],
             [
              0.4444444444444444,
              "#bd3786"
             ],
             [
              0.5555555555555556,
              "#d8576b"
             ],
             [
              0.6666666666666666,
              "#ed7953"
             ],
             [
              0.7777777777777778,
              "#fb9f3a"
             ],
             [
              0.8888888888888888,
              "#fdca26"
             ],
             [
              1,
              "#f0f921"
             ]
            ],
            "type": "histogram2d"
           }
          ],
          "histogram2dcontour": [
           {
            "colorbar": {
             "outlinewidth": 0,
             "ticks": ""
            },
            "colorscale": [
             [
              0,
              "#0d0887"
             ],
             [
              0.1111111111111111,
              "#46039f"
             ],
             [
              0.2222222222222222,
              "#7201a8"
             ],
             [
              0.3333333333333333,
              "#9c179e"
             ],
             [
              0.4444444444444444,
              "#bd3786"
             ],
             [
              0.5555555555555556,
              "#d8576b"
             ],
             [
              0.6666666666666666,
              "#ed7953"
             ],
             [
              0.7777777777777778,
              "#fb9f3a"
             ],
             [
              0.8888888888888888,
              "#fdca26"
             ],
             [
              1,
              "#f0f921"
             ]
            ],
            "type": "histogram2dcontour"
           }
          ],
          "mesh3d": [
           {
            "colorbar": {
             "outlinewidth": 0,
             "ticks": ""
            },
            "type": "mesh3d"
           }
          ],
          "parcoords": [
           {
            "line": {
             "colorbar": {
              "outlinewidth": 0,
              "ticks": ""
             }
            },
            "type": "parcoords"
           }
          ],
          "pie": [
           {
            "automargin": true,
            "type": "pie"
           }
          ],
          "scatter": [
           {
            "marker": {
             "colorbar": {
              "outlinewidth": 0,
              "ticks": ""
             }
            },
            "type": "scatter"
           }
          ],
          "scatter3d": [
           {
            "line": {
             "colorbar": {
              "outlinewidth": 0,
              "ticks": ""
             }
            },
            "marker": {
             "colorbar": {
              "outlinewidth": 0,
              "ticks": ""
             }
            },
            "type": "scatter3d"
           }
          ],
          "scattercarpet": [
           {
            "marker": {
             "colorbar": {
              "outlinewidth": 0,
              "ticks": ""
             }
            },
            "type": "scattercarpet"
           }
          ],
          "scattergeo": [
           {
            "marker": {
             "colorbar": {
              "outlinewidth": 0,
              "ticks": ""
             }
            },
            "type": "scattergeo"
           }
          ],
          "scattergl": [
           {
            "marker": {
             "colorbar": {
              "outlinewidth": 0,
              "ticks": ""
             }
            },
            "type": "scattergl"
           }
          ],
          "scattermapbox": [
           {
            "marker": {
             "colorbar": {
              "outlinewidth": 0,
              "ticks": ""
             }
            },
            "type": "scattermapbox"
           }
          ],
          "scatterpolar": [
           {
            "marker": {
             "colorbar": {
              "outlinewidth": 0,
              "ticks": ""
             }
            },
            "type": "scatterpolar"
           }
          ],
          "scatterpolargl": [
           {
            "marker": {
             "colorbar": {
              "outlinewidth": 0,
              "ticks": ""
             }
            },
            "type": "scatterpolargl"
           }
          ],
          "scatterternary": [
           {
            "marker": {
             "colorbar": {
              "outlinewidth": 0,
              "ticks": ""
             }
            },
            "type": "scatterternary"
           }
          ],
          "surface": [
           {
            "colorbar": {
             "outlinewidth": 0,
             "ticks": ""
            },
            "colorscale": [
             [
              0,
              "#0d0887"
             ],
             [
              0.1111111111111111,
              "#46039f"
             ],
             [
              0.2222222222222222,
              "#7201a8"
             ],
             [
              0.3333333333333333,
              "#9c179e"
             ],
             [
              0.4444444444444444,
              "#bd3786"
             ],
             [
              0.5555555555555556,
              "#d8576b"
             ],
             [
              0.6666666666666666,
              "#ed7953"
             ],
             [
              0.7777777777777778,
              "#fb9f3a"
             ],
             [
              0.8888888888888888,
              "#fdca26"
             ],
             [
              1,
              "#f0f921"
             ]
            ],
            "type": "surface"
           }
          ],
          "table": [
           {
            "cells": {
             "fill": {
              "color": "#EBF0F8"
             },
             "line": {
              "color": "white"
             }
            },
            "header": {
             "fill": {
              "color": "#C8D4E3"
             },
             "line": {
              "color": "white"
             }
            },
            "type": "table"
           }
          ]
         },
         "layout": {
          "annotationdefaults": {
           "arrowcolor": "#2a3f5f",
           "arrowhead": 0,
           "arrowwidth": 1
          },
          "coloraxis": {
           "colorbar": {
            "outlinewidth": 0,
            "ticks": ""
           }
          },
          "colorscale": {
           "diverging": [
            [
             0,
             "#8e0152"
            ],
            [
             0.1,
             "#c51b7d"
            ],
            [
             0.2,
             "#de77ae"
            ],
            [
             0.3,
             "#f1b6da"
            ],
            [
             0.4,
             "#fde0ef"
            ],
            [
             0.5,
             "#f7f7f7"
            ],
            [
             0.6,
             "#e6f5d0"
            ],
            [
             0.7,
             "#b8e186"
            ],
            [
             0.8,
             "#7fbc41"
            ],
            [
             0.9,
             "#4d9221"
            ],
            [
             1,
             "#276419"
            ]
           ],
           "sequential": [
            [
             0,
             "#0d0887"
            ],
            [
             0.1111111111111111,
             "#46039f"
            ],
            [
             0.2222222222222222,
             "#7201a8"
            ],
            [
             0.3333333333333333,
             "#9c179e"
            ],
            [
             0.4444444444444444,
             "#bd3786"
            ],
            [
             0.5555555555555556,
             "#d8576b"
            ],
            [
             0.6666666666666666,
             "#ed7953"
            ],
            [
             0.7777777777777778,
             "#fb9f3a"
            ],
            [
             0.8888888888888888,
             "#fdca26"
            ],
            [
             1,
             "#f0f921"
            ]
           ],
           "sequentialminus": [
            [
             0,
             "#0d0887"
            ],
            [
             0.1111111111111111,
             "#46039f"
            ],
            [
             0.2222222222222222,
             "#7201a8"
            ],
            [
             0.3333333333333333,
             "#9c179e"
            ],
            [
             0.4444444444444444,
             "#bd3786"
            ],
            [
             0.5555555555555556,
             "#d8576b"
            ],
            [
             0.6666666666666666,
             "#ed7953"
            ],
            [
             0.7777777777777778,
             "#fb9f3a"
            ],
            [
             0.8888888888888888,
             "#fdca26"
            ],
            [
             1,
             "#f0f921"
            ]
           ]
          },
          "colorway": [
           "#636efa",
           "#EF553B",
           "#00cc96",
           "#ab63fa",
           "#FFA15A",
           "#19d3f3",
           "#FF6692",
           "#B6E880",
           "#FF97FF",
           "#FECB52"
          ],
          "font": {
           "color": "#2a3f5f"
          },
          "geo": {
           "bgcolor": "white",
           "lakecolor": "white",
           "landcolor": "#E5ECF6",
           "showlakes": true,
           "showland": true,
           "subunitcolor": "white"
          },
          "hoverlabel": {
           "align": "left"
          },
          "hovermode": "closest",
          "mapbox": {
           "style": "light"
          },
          "paper_bgcolor": "white",
          "plot_bgcolor": "#E5ECF6",
          "polar": {
           "angularaxis": {
            "gridcolor": "white",
            "linecolor": "white",
            "ticks": ""
           },
           "bgcolor": "#E5ECF6",
           "radialaxis": {
            "gridcolor": "white",
            "linecolor": "white",
            "ticks": ""
           }
          },
          "scene": {
           "xaxis": {
            "backgroundcolor": "#E5ECF6",
            "gridcolor": "white",
            "gridwidth": 2,
            "linecolor": "white",
            "showbackground": true,
            "ticks": "",
            "zerolinecolor": "white"
           },
           "yaxis": {
            "backgroundcolor": "#E5ECF6",
            "gridcolor": "white",
            "gridwidth": 2,
            "linecolor": "white",
            "showbackground": true,
            "ticks": "",
            "zerolinecolor": "white"
           },
           "zaxis": {
            "backgroundcolor": "#E5ECF6",
            "gridcolor": "white",
            "gridwidth": 2,
            "linecolor": "white",
            "showbackground": true,
            "ticks": "",
            "zerolinecolor": "white"
           }
          },
          "shapedefaults": {
           "line": {
            "color": "#2a3f5f"
           }
          },
          "ternary": {
           "aaxis": {
            "gridcolor": "white",
            "linecolor": "white",
            "ticks": ""
           },
           "baxis": {
            "gridcolor": "white",
            "linecolor": "white",
            "ticks": ""
           },
           "bgcolor": "#E5ECF6",
           "caxis": {
            "gridcolor": "white",
            "linecolor": "white",
            "ticks": ""
           }
          },
          "title": {
           "x": 0.05
          },
          "xaxis": {
           "automargin": true,
           "gridcolor": "white",
           "linecolor": "white",
           "ticks": "",
           "title": {
            "standoff": 15
           },
           "zerolinecolor": "white",
           "zerolinewidth": 2
          },
          "yaxis": {
           "automargin": true,
           "gridcolor": "white",
           "linecolor": "white",
           "ticks": "",
           "title": {
            "standoff": 15
           },
           "zerolinecolor": "white",
           "zerolinewidth": 2
          }
         }
        }
       }
      },
      "text/html": [
       "<div>\n",
       "        \n",
       "        \n",
       "            <div id=\"5808fb3e-1a1b-4ab4-a85f-8e0ec16bbe63\" class=\"plotly-graph-div\" style=\"height:525px; width:100%;\"></div>\n",
       "            <script type=\"text/javascript\">\n",
       "                require([\"plotly\"], function(Plotly) {\n",
       "                    window.PLOTLYENV=window.PLOTLYENV || {};\n",
       "                    \n",
       "                if (document.getElementById(\"5808fb3e-1a1b-4ab4-a85f-8e0ec16bbe63\")) {\n",
       "                    Plotly.newPlot(\n",
       "                        '5808fb3e-1a1b-4ab4-a85f-8e0ec16bbe63',\n",
       "                        [{\"hovertemplate\": \"x: %{x}<br>y: %{y}<br>color: %{z}<extra></extra>\", \"type\": \"image\", \"z\": [[[246.0, 232.0, 204.0, 0.25], [246.0, 232.0, 204.0, 0.25], [246.0, 232.0, 204.0, 0.25], [246.0, 232.0, 204.0, 0.25], [246.0, 232.0, 204.0, 0.25]], [[246.0, 232.0, 204.0, 0.25], [246.0, 232.0, 204.0, 0.25], [246.0, 232.0, 204.0, 0.25], [246.0, 232.0, 204.0, 0.25], [246.0, 232.0, 204.0, 0.25]], [[246.0, 232.0, 204.0, 0.25], [246.0, 232.0, 204.0, 0.25], [246.0, 232.0, 204.0, 0.25], [246.0, 232.0, 204.0, 0.25], [246.0, 232.0, 204.0, 0.25]], [[246.0, 232.0, 204.0, 0.25], [246.0, 232.0, 204.0, 0.25], [246.0, 232.0, 204.0, 0.25], [246.0, 232.0, 204.0, 0.25], [246.0, 232.0, 204.0, 0.25]], [[246.0, 232.0, 204.0, 0.25], [246.0, 232.0, 204.0, 0.25], [246.0, 232.0, 204.0, 0.25], [246.0, 232.0, 204.0, 0.25], [246.0, 232.0, 204.0, 0.25]]], \"zmax\": [255, 255, 255, 1]}],\n",
       "                        {\"annotations\": [{\"showarrow\": false, \"text\": \"millionaire\", \"x\": 0, \"y\": 0}, {\"showarrow\": false, \"text\": \"racket\", \"x\": 1, \"y\": 0}, {\"showarrow\": false, \"text\": \"cricket\", \"x\": 2, \"y\": 0}, {\"showarrow\": false, \"text\": \"china\", \"x\": 3, \"y\": 0}, {\"showarrow\": false, \"text\": \"dress\", \"x\": 4, \"y\": 0}, {\"showarrow\": false, \"text\": \"jupiter\", \"x\": 0, \"y\": 1}, {\"showarrow\": false, \"text\": \"rabbit\", \"x\": 1, \"y\": 1}, {\"showarrow\": false, \"text\": \"beijing\", \"x\": 2, \"y\": 1}, {\"showarrow\": false, \"text\": \"cotton\", \"x\": 3, \"y\": 1}, {\"showarrow\": false, \"text\": \"roulette\", \"x\": 4, \"y\": 1}, {\"showarrow\": false, \"text\": \"carrot\", \"x\": 0, \"y\": 2}, {\"showarrow\": false, \"text\": \"dinosaur\", \"x\": 1, \"y\": 2}, {\"showarrow\": false, \"text\": \"suit\", \"x\": 2, \"y\": 2}, {\"showarrow\": false, \"text\": \"ketchup\", \"x\": 3, \"y\": 2}, {\"showarrow\": false, \"text\": \"paste\", \"x\": 4, \"y\": 2}, {\"showarrow\": false, \"text\": \"pole\", \"x\": 0, \"y\": 3}, {\"showarrow\": false, \"text\": \"spell\", \"x\": 1, \"y\": 3}, {\"showarrow\": false, \"text\": \"amazon\", \"x\": 2, \"y\": 3}, {\"showarrow\": false, \"text\": \"slip\", \"x\": 3, \"y\": 3}, {\"showarrow\": false, \"text\": \"slug\", \"x\": 4, \"y\": 3}, {\"showarrow\": false, \"text\": \"london\", \"x\": 0, \"y\": 4}, {\"showarrow\": false, \"text\": \"hole\", \"x\": 1, \"y\": 4}, {\"showarrow\": false, \"text\": \"mail\", \"x\": 2, \"y\": 4}, {\"showarrow\": false, \"text\": \"spring\", \"x\": 3, \"y\": 4}, {\"showarrow\": false, \"text\": \"grass\", \"x\": 4, \"y\": 4}], \"margin\": {\"t\": 60}, \"template\": {\"data\": {\"bar\": [{\"error_x\": {\"color\": \"#2a3f5f\"}, \"error_y\": {\"color\": \"#2a3f5f\"}, \"marker\": {\"line\": {\"color\": \"#E5ECF6\", \"width\": 0.5}}, \"type\": \"bar\"}], \"barpolar\": [{\"marker\": {\"line\": {\"color\": \"#E5ECF6\", \"width\": 0.5}}, \"type\": \"barpolar\"}], \"carpet\": [{\"aaxis\": {\"endlinecolor\": \"#2a3f5f\", \"gridcolor\": \"white\", \"linecolor\": \"white\", \"minorgridcolor\": \"white\", \"startlinecolor\": \"#2a3f5f\"}, \"baxis\": {\"endlinecolor\": \"#2a3f5f\", \"gridcolor\": \"white\", \"linecolor\": \"white\", \"minorgridcolor\": \"white\", \"startlinecolor\": \"#2a3f5f\"}, \"type\": \"carpet\"}], \"choropleth\": [{\"colorbar\": {\"outlinewidth\": 0, \"ticks\": \"\"}, \"type\": \"choropleth\"}], \"contour\": [{\"colorbar\": {\"outlinewidth\": 0, \"ticks\": \"\"}, \"colorscale\": [[0.0, \"#0d0887\"], [0.1111111111111111, \"#46039f\"], [0.2222222222222222, \"#7201a8\"], [0.3333333333333333, \"#9c179e\"], [0.4444444444444444, \"#bd3786\"], [0.5555555555555556, \"#d8576b\"], [0.6666666666666666, \"#ed7953\"], [0.7777777777777778, \"#fb9f3a\"], [0.8888888888888888, \"#fdca26\"], [1.0, \"#f0f921\"]], \"type\": \"contour\"}], \"contourcarpet\": [{\"colorbar\": {\"outlinewidth\": 0, \"ticks\": \"\"}, \"type\": \"contourcarpet\"}], \"heatmap\": [{\"colorbar\": {\"outlinewidth\": 0, \"ticks\": \"\"}, \"colorscale\": [[0.0, \"#0d0887\"], [0.1111111111111111, \"#46039f\"], [0.2222222222222222, \"#7201a8\"], [0.3333333333333333, \"#9c179e\"], [0.4444444444444444, \"#bd3786\"], [0.5555555555555556, \"#d8576b\"], [0.6666666666666666, \"#ed7953\"], [0.7777777777777778, \"#fb9f3a\"], [0.8888888888888888, \"#fdca26\"], [1.0, \"#f0f921\"]], \"type\": \"heatmap\"}], \"heatmapgl\": [{\"colorbar\": {\"outlinewidth\": 0, \"ticks\": \"\"}, \"colorscale\": [[0.0, \"#0d0887\"], [0.1111111111111111, \"#46039f\"], [0.2222222222222222, \"#7201a8\"], [0.3333333333333333, \"#9c179e\"], [0.4444444444444444, \"#bd3786\"], [0.5555555555555556, \"#d8576b\"], [0.6666666666666666, \"#ed7953\"], [0.7777777777777778, \"#fb9f3a\"], [0.8888888888888888, \"#fdca26\"], [1.0, \"#f0f921\"]], \"type\": \"heatmapgl\"}], \"histogram\": [{\"marker\": {\"colorbar\": {\"outlinewidth\": 0, \"ticks\": \"\"}}, \"type\": \"histogram\"}], \"histogram2d\": [{\"colorbar\": {\"outlinewidth\": 0, \"ticks\": \"\"}, \"colorscale\": [[0.0, \"#0d0887\"], [0.1111111111111111, \"#46039f\"], [0.2222222222222222, \"#7201a8\"], [0.3333333333333333, \"#9c179e\"], [0.4444444444444444, \"#bd3786\"], [0.5555555555555556, \"#d8576b\"], [0.6666666666666666, \"#ed7953\"], [0.7777777777777778, \"#fb9f3a\"], [0.8888888888888888, \"#fdca26\"], [1.0, \"#f0f921\"]], \"type\": \"histogram2d\"}], \"histogram2dcontour\": [{\"colorbar\": {\"outlinewidth\": 0, \"ticks\": \"\"}, \"colorscale\": [[0.0, \"#0d0887\"], [0.1111111111111111, \"#46039f\"], [0.2222222222222222, \"#7201a8\"], [0.3333333333333333, \"#9c179e\"], [0.4444444444444444, \"#bd3786\"], [0.5555555555555556, \"#d8576b\"], [0.6666666666666666, \"#ed7953\"], [0.7777777777777778, \"#fb9f3a\"], [0.8888888888888888, \"#fdca26\"], [1.0, \"#f0f921\"]], \"type\": \"histogram2dcontour\"}], \"mesh3d\": [{\"colorbar\": {\"outlinewidth\": 0, \"ticks\": \"\"}, \"type\": \"mesh3d\"}], \"parcoords\": [{\"line\": {\"colorbar\": {\"outlinewidth\": 0, \"ticks\": \"\"}}, \"type\": \"parcoords\"}], \"pie\": [{\"automargin\": true, \"type\": \"pie\"}], \"scatter\": [{\"marker\": {\"colorbar\": {\"outlinewidth\": 0, \"ticks\": \"\"}}, \"type\": \"scatter\"}], \"scatter3d\": [{\"line\": {\"colorbar\": {\"outlinewidth\": 0, \"ticks\": \"\"}}, \"marker\": {\"colorbar\": {\"outlinewidth\": 0, \"ticks\": \"\"}}, \"type\": \"scatter3d\"}], \"scattercarpet\": [{\"marker\": {\"colorbar\": {\"outlinewidth\": 0, \"ticks\": \"\"}}, \"type\": \"scattercarpet\"}], \"scattergeo\": [{\"marker\": {\"colorbar\": {\"outlinewidth\": 0, \"ticks\": \"\"}}, \"type\": \"scattergeo\"}], \"scattergl\": [{\"marker\": {\"colorbar\": {\"outlinewidth\": 0, \"ticks\": \"\"}}, \"type\": \"scattergl\"}], \"scattermapbox\": [{\"marker\": {\"colorbar\": {\"outlinewidth\": 0, \"ticks\": \"\"}}, \"type\": \"scattermapbox\"}], \"scatterpolar\": [{\"marker\": {\"colorbar\": {\"outlinewidth\": 0, \"ticks\": \"\"}}, \"type\": \"scatterpolar\"}], \"scatterpolargl\": [{\"marker\": {\"colorbar\": {\"outlinewidth\": 0, \"ticks\": \"\"}}, \"type\": \"scatterpolargl\"}], \"scatterternary\": [{\"marker\": {\"colorbar\": {\"outlinewidth\": 0, \"ticks\": \"\"}}, \"type\": \"scatterternary\"}], \"surface\": [{\"colorbar\": {\"outlinewidth\": 0, \"ticks\": \"\"}, \"colorscale\": [[0.0, \"#0d0887\"], [0.1111111111111111, \"#46039f\"], [0.2222222222222222, \"#7201a8\"], [0.3333333333333333, \"#9c179e\"], [0.4444444444444444, \"#bd3786\"], [0.5555555555555556, \"#d8576b\"], [0.6666666666666666, \"#ed7953\"], [0.7777777777777778, \"#fb9f3a\"], [0.8888888888888888, \"#fdca26\"], [1.0, \"#f0f921\"]], \"type\": \"surface\"}], \"table\": [{\"cells\": {\"fill\": {\"color\": \"#EBF0F8\"}, \"line\": {\"color\": \"white\"}}, \"header\": {\"fill\": {\"color\": \"#C8D4E3\"}, \"line\": {\"color\": \"white\"}}, \"type\": \"table\"}]}, \"layout\": {\"annotationdefaults\": {\"arrowcolor\": \"#2a3f5f\", \"arrowhead\": 0, \"arrowwidth\": 1}, \"coloraxis\": {\"colorbar\": {\"outlinewidth\": 0, \"ticks\": \"\"}}, \"colorscale\": {\"diverging\": [[0, \"#8e0152\"], [0.1, \"#c51b7d\"], [0.2, \"#de77ae\"], [0.3, \"#f1b6da\"], [0.4, \"#fde0ef\"], [0.5, \"#f7f7f7\"], [0.6, \"#e6f5d0\"], [0.7, \"#b8e186\"], [0.8, \"#7fbc41\"], [0.9, \"#4d9221\"], [1, \"#276419\"]], \"sequential\": [[0.0, \"#0d0887\"], [0.1111111111111111, \"#46039f\"], [0.2222222222222222, \"#7201a8\"], [0.3333333333333333, \"#9c179e\"], [0.4444444444444444, \"#bd3786\"], [0.5555555555555556, \"#d8576b\"], [0.6666666666666666, \"#ed7953\"], [0.7777777777777778, \"#fb9f3a\"], [0.8888888888888888, \"#fdca26\"], [1.0, \"#f0f921\"]], \"sequentialminus\": [[0.0, \"#0d0887\"], [0.1111111111111111, \"#46039f\"], [0.2222222222222222, \"#7201a8\"], [0.3333333333333333, \"#9c179e\"], [0.4444444444444444, \"#bd3786\"], [0.5555555555555556, \"#d8576b\"], [0.6666666666666666, \"#ed7953\"], [0.7777777777777778, \"#fb9f3a\"], [0.8888888888888888, \"#fdca26\"], [1.0, \"#f0f921\"]]}, \"colorway\": [\"#636efa\", \"#EF553B\", \"#00cc96\", \"#ab63fa\", \"#FFA15A\", \"#19d3f3\", \"#FF6692\", \"#B6E880\", \"#FF97FF\", \"#FECB52\"], \"font\": {\"color\": \"#2a3f5f\"}, \"geo\": {\"bgcolor\": \"white\", \"lakecolor\": \"white\", \"landcolor\": \"#E5ECF6\", \"showlakes\": true, \"showland\": true, \"subunitcolor\": \"white\"}, \"hoverlabel\": {\"align\": \"left\"}, \"hovermode\": \"closest\", \"mapbox\": {\"style\": \"light\"}, \"paper_bgcolor\": \"white\", \"plot_bgcolor\": \"#E5ECF6\", \"polar\": {\"angularaxis\": {\"gridcolor\": \"white\", \"linecolor\": \"white\", \"ticks\": \"\"}, \"bgcolor\": \"#E5ECF6\", \"radialaxis\": {\"gridcolor\": \"white\", \"linecolor\": \"white\", \"ticks\": \"\"}}, \"scene\": {\"xaxis\": {\"backgroundcolor\": \"#E5ECF6\", \"gridcolor\": \"white\", \"gridwidth\": 2, \"linecolor\": \"white\", \"showbackground\": true, \"ticks\": \"\", \"zerolinecolor\": \"white\"}, \"yaxis\": {\"backgroundcolor\": \"#E5ECF6\", \"gridcolor\": \"white\", \"gridwidth\": 2, \"linecolor\": \"white\", \"showbackground\": true, \"ticks\": \"\", \"zerolinecolor\": \"white\"}, \"zaxis\": {\"backgroundcolor\": \"#E5ECF6\", \"gridcolor\": \"white\", \"gridwidth\": 2, \"linecolor\": \"white\", \"showbackground\": true, \"ticks\": \"\", \"zerolinecolor\": \"white\"}}, \"shapedefaults\": {\"line\": {\"color\": \"#2a3f5f\"}}, \"ternary\": {\"aaxis\": {\"gridcolor\": \"white\", \"linecolor\": \"white\", \"ticks\": \"\"}, \"baxis\": {\"gridcolor\": \"white\", \"linecolor\": \"white\", \"ticks\": \"\"}, \"bgcolor\": \"#E5ECF6\", \"caxis\": {\"gridcolor\": \"white\", \"linecolor\": \"white\", \"ticks\": \"\"}}, \"title\": {\"x\": 0.05}, \"xaxis\": {\"automargin\": true, \"gridcolor\": \"white\", \"linecolor\": \"white\", \"ticks\": \"\", \"title\": {\"standoff\": 15}, \"zerolinecolor\": \"white\", \"zerolinewidth\": 2}, \"yaxis\": {\"automargin\": true, \"gridcolor\": \"white\", \"linecolor\": \"white\", \"ticks\": \"\", \"title\": {\"standoff\": 15}, \"zerolinecolor\": \"white\", \"zerolinewidth\": 2}}}},\n",
       "                        {\"responsive\": true}\n",
       "                    ).then(function(){\n",
       "                            \n",
       "var gd = document.getElementById('5808fb3e-1a1b-4ab4-a85f-8e0ec16bbe63');\n",
       "var x = new MutationObserver(function (mutations, observer) {{\n",
       "        var display = window.getComputedStyle(gd).display;\n",
       "        if (!display || display === 'none') {{\n",
       "            console.log([gd, 'removed!']);\n",
       "            Plotly.purge(gd);\n",
       "            observer.disconnect();\n",
       "        }}\n",
       "}});\n",
       "\n",
       "// Listen for the removal of the full notebook cells\n",
       "var notebookContainer = gd.closest('#notebook-container');\n",
       "if (notebookContainer) {{\n",
       "    x.observe(notebookContainer, {childList: true});\n",
       "}}\n",
       "\n",
       "// Listen for the clearing of the current output cell\n",
       "var outputEl = gd.closest('.output');\n",
       "if (outputEl) {{\n",
       "    x.observe(outputEl, {childList: true});\n",
       "}}\n",
       "\n",
       "                        })\n",
       "                };\n",
       "                });\n",
       "            </script>\n",
       "        </div>"
      ]
     },
     "metadata": {},
     "output_type": "display_data"
    },
    {
     "name": "stdout",
     "output_type": "stream",
     "text": [
      "It's blue's turn!\n",
      "Spymaster is looking at 502 possible clues\n",
      "blue spymaster gives clue: spinner, 3\n",
      "blue team guesses: cricket\n",
      "Correct! Round score is 1\n",
      "blue team guesses: pole\n",
      "Dang! Guesser missed the mark\n"
     ]
    },
    {
     "data": {
      "application/vnd.plotly.v1+json": {
       "config": {
        "plotlyServerURL": "https://plot.ly"
       },
       "data": [
        {
         "hovertemplate": "x: %{x}<br>y: %{y}<br>color: %{z}<extra></extra>",
         "type": "image",
         "z": [
          [
           [
            246,
            232,
            204,
            0.25
           ],
           [
            246,
            232,
            204,
            0.25
           ],
           [
            57,
            105,
            145,
            0.25
           ],
           [
            246,
            232,
            204,
            0.25
           ],
           [
            246,
            232,
            204,
            0.25
           ]
          ],
          [
           [
            246,
            232,
            204,
            0.25
           ],
           [
            246,
            232,
            204,
            0.25
           ],
           [
            246,
            232,
            204,
            0.25
           ],
           [
            246,
            232,
            204,
            0.25
           ],
           [
            246,
            232,
            204,
            0.25
           ]
          ],
          [
           [
            246,
            232,
            204,
            0.25
           ],
           [
            246,
            232,
            204,
            0.25
           ],
           [
            246,
            232,
            204,
            0.25
           ],
           [
            246,
            232,
            204,
            0.25
           ],
           [
            246,
            232,
            204,
            0.25
           ]
          ],
          [
           [
            213,
            64,
            8,
            0.25
           ],
           [
            246,
            232,
            204,
            0.25
           ],
           [
            246,
            232,
            204,
            0.25
           ],
           [
            246,
            232,
            204,
            0.25
           ],
           [
            246,
            232,
            204,
            0.25
           ]
          ],
          [
           [
            246,
            232,
            204,
            0.25
           ],
           [
            246,
            232,
            204,
            0.25
           ],
           [
            246,
            232,
            204,
            0.25
           ],
           [
            246,
            232,
            204,
            0.25
           ],
           [
            246,
            232,
            204,
            0.25
           ]
          ]
         ],
         "zmax": [
          255,
          255,
          255,
          1
         ]
        }
       ],
       "layout": {
        "annotations": [
         {
          "showarrow": false,
          "text": "millionaire",
          "x": 0,
          "y": 0
         },
         {
          "showarrow": false,
          "text": "racket",
          "x": 1,
          "y": 0
         },
         {
          "showarrow": false,
          "text": "cricket",
          "x": 2,
          "y": 0
         },
         {
          "showarrow": false,
          "text": "china",
          "x": 3,
          "y": 0
         },
         {
          "showarrow": false,
          "text": "dress",
          "x": 4,
          "y": 0
         },
         {
          "showarrow": false,
          "text": "jupiter",
          "x": 0,
          "y": 1
         },
         {
          "showarrow": false,
          "text": "rabbit",
          "x": 1,
          "y": 1
         },
         {
          "showarrow": false,
          "text": "beijing",
          "x": 2,
          "y": 1
         },
         {
          "showarrow": false,
          "text": "cotton",
          "x": 3,
          "y": 1
         },
         {
          "showarrow": false,
          "text": "roulette",
          "x": 4,
          "y": 1
         },
         {
          "showarrow": false,
          "text": "carrot",
          "x": 0,
          "y": 2
         },
         {
          "showarrow": false,
          "text": "dinosaur",
          "x": 1,
          "y": 2
         },
         {
          "showarrow": false,
          "text": "suit",
          "x": 2,
          "y": 2
         },
         {
          "showarrow": false,
          "text": "ketchup",
          "x": 3,
          "y": 2
         },
         {
          "showarrow": false,
          "text": "paste",
          "x": 4,
          "y": 2
         },
         {
          "showarrow": false,
          "text": "pole",
          "x": 0,
          "y": 3
         },
         {
          "showarrow": false,
          "text": "spell",
          "x": 1,
          "y": 3
         },
         {
          "showarrow": false,
          "text": "amazon",
          "x": 2,
          "y": 3
         },
         {
          "showarrow": false,
          "text": "slip",
          "x": 3,
          "y": 3
         },
         {
          "showarrow": false,
          "text": "slug",
          "x": 4,
          "y": 3
         },
         {
          "showarrow": false,
          "text": "london",
          "x": 0,
          "y": 4
         },
         {
          "showarrow": false,
          "text": "hole",
          "x": 1,
          "y": 4
         },
         {
          "showarrow": false,
          "text": "mail",
          "x": 2,
          "y": 4
         },
         {
          "showarrow": false,
          "text": "spring",
          "x": 3,
          "y": 4
         },
         {
          "showarrow": false,
          "text": "grass",
          "x": 4,
          "y": 4
         }
        ],
        "margin": {
         "t": 60
        },
        "template": {
         "data": {
          "bar": [
           {
            "error_x": {
             "color": "#2a3f5f"
            },
            "error_y": {
             "color": "#2a3f5f"
            },
            "marker": {
             "line": {
              "color": "#E5ECF6",
              "width": 0.5
             }
            },
            "type": "bar"
           }
          ],
          "barpolar": [
           {
            "marker": {
             "line": {
              "color": "#E5ECF6",
              "width": 0.5
             }
            },
            "type": "barpolar"
           }
          ],
          "carpet": [
           {
            "aaxis": {
             "endlinecolor": "#2a3f5f",
             "gridcolor": "white",
             "linecolor": "white",
             "minorgridcolor": "white",
             "startlinecolor": "#2a3f5f"
            },
            "baxis": {
             "endlinecolor": "#2a3f5f",
             "gridcolor": "white",
             "linecolor": "white",
             "minorgridcolor": "white",
             "startlinecolor": "#2a3f5f"
            },
            "type": "carpet"
           }
          ],
          "choropleth": [
           {
            "colorbar": {
             "outlinewidth": 0,
             "ticks": ""
            },
            "type": "choropleth"
           }
          ],
          "contour": [
           {
            "colorbar": {
             "outlinewidth": 0,
             "ticks": ""
            },
            "colorscale": [
             [
              0,
              "#0d0887"
             ],
             [
              0.1111111111111111,
              "#46039f"
             ],
             [
              0.2222222222222222,
              "#7201a8"
             ],
             [
              0.3333333333333333,
              "#9c179e"
             ],
             [
              0.4444444444444444,
              "#bd3786"
             ],
             [
              0.5555555555555556,
              "#d8576b"
             ],
             [
              0.6666666666666666,
              "#ed7953"
             ],
             [
              0.7777777777777778,
              "#fb9f3a"
             ],
             [
              0.8888888888888888,
              "#fdca26"
             ],
             [
              1,
              "#f0f921"
             ]
            ],
            "type": "contour"
           }
          ],
          "contourcarpet": [
           {
            "colorbar": {
             "outlinewidth": 0,
             "ticks": ""
            },
            "type": "contourcarpet"
           }
          ],
          "heatmap": [
           {
            "colorbar": {
             "outlinewidth": 0,
             "ticks": ""
            },
            "colorscale": [
             [
              0,
              "#0d0887"
             ],
             [
              0.1111111111111111,
              "#46039f"
             ],
             [
              0.2222222222222222,
              "#7201a8"
             ],
             [
              0.3333333333333333,
              "#9c179e"
             ],
             [
              0.4444444444444444,
              "#bd3786"
             ],
             [
              0.5555555555555556,
              "#d8576b"
             ],
             [
              0.6666666666666666,
              "#ed7953"
             ],
             [
              0.7777777777777778,
              "#fb9f3a"
             ],
             [
              0.8888888888888888,
              "#fdca26"
             ],
             [
              1,
              "#f0f921"
             ]
            ],
            "type": "heatmap"
           }
          ],
          "heatmapgl": [
           {
            "colorbar": {
             "outlinewidth": 0,
             "ticks": ""
            },
            "colorscale": [
             [
              0,
              "#0d0887"
             ],
             [
              0.1111111111111111,
              "#46039f"
             ],
             [
              0.2222222222222222,
              "#7201a8"
             ],
             [
              0.3333333333333333,
              "#9c179e"
             ],
             [
              0.4444444444444444,
              "#bd3786"
             ],
             [
              0.5555555555555556,
              "#d8576b"
             ],
             [
              0.6666666666666666,
              "#ed7953"
             ],
             [
              0.7777777777777778,
              "#fb9f3a"
             ],
             [
              0.8888888888888888,
              "#fdca26"
             ],
             [
              1,
              "#f0f921"
             ]
            ],
            "type": "heatmapgl"
           }
          ],
          "histogram": [
           {
            "marker": {
             "colorbar": {
              "outlinewidth": 0,
              "ticks": ""
             }
            },
            "type": "histogram"
           }
          ],
          "histogram2d": [
           {
            "colorbar": {
             "outlinewidth": 0,
             "ticks": ""
            },
            "colorscale": [
             [
              0,
              "#0d0887"
             ],
             [
              0.1111111111111111,
              "#46039f"
             ],
             [
              0.2222222222222222,
              "#7201a8"
             ],
             [
              0.3333333333333333,
              "#9c179e"
             ],
             [
              0.4444444444444444,
              "#bd3786"
             ],
             [
              0.5555555555555556,
              "#d8576b"
             ],
             [
              0.6666666666666666,
              "#ed7953"
             ],
             [
              0.7777777777777778,
              "#fb9f3a"
             ],
             [
              0.8888888888888888,
              "#fdca26"
             ],
             [
              1,
              "#f0f921"
             ]
            ],
            "type": "histogram2d"
           }
          ],
          "histogram2dcontour": [
           {
            "colorbar": {
             "outlinewidth": 0,
             "ticks": ""
            },
            "colorscale": [
             [
              0,
              "#0d0887"
             ],
             [
              0.1111111111111111,
              "#46039f"
             ],
             [
              0.2222222222222222,
              "#7201a8"
             ],
             [
              0.3333333333333333,
              "#9c179e"
             ],
             [
              0.4444444444444444,
              "#bd3786"
             ],
             [
              0.5555555555555556,
              "#d8576b"
             ],
             [
              0.6666666666666666,
              "#ed7953"
             ],
             [
              0.7777777777777778,
              "#fb9f3a"
             ],
             [
              0.8888888888888888,
              "#fdca26"
             ],
             [
              1,
              "#f0f921"
             ]
            ],
            "type": "histogram2dcontour"
           }
          ],
          "mesh3d": [
           {
            "colorbar": {
             "outlinewidth": 0,
             "ticks": ""
            },
            "type": "mesh3d"
           }
          ],
          "parcoords": [
           {
            "line": {
             "colorbar": {
              "outlinewidth": 0,
              "ticks": ""
             }
            },
            "type": "parcoords"
           }
          ],
          "pie": [
           {
            "automargin": true,
            "type": "pie"
           }
          ],
          "scatter": [
           {
            "marker": {
             "colorbar": {
              "outlinewidth": 0,
              "ticks": ""
             }
            },
            "type": "scatter"
           }
          ],
          "scatter3d": [
           {
            "line": {
             "colorbar": {
              "outlinewidth": 0,
              "ticks": ""
             }
            },
            "marker": {
             "colorbar": {
              "outlinewidth": 0,
              "ticks": ""
             }
            },
            "type": "scatter3d"
           }
          ],
          "scattercarpet": [
           {
            "marker": {
             "colorbar": {
              "outlinewidth": 0,
              "ticks": ""
             }
            },
            "type": "scattercarpet"
           }
          ],
          "scattergeo": [
           {
            "marker": {
             "colorbar": {
              "outlinewidth": 0,
              "ticks": ""
             }
            },
            "type": "scattergeo"
           }
          ],
          "scattergl": [
           {
            "marker": {
             "colorbar": {
              "outlinewidth": 0,
              "ticks": ""
             }
            },
            "type": "scattergl"
           }
          ],
          "scattermapbox": [
           {
            "marker": {
             "colorbar": {
              "outlinewidth": 0,
              "ticks": ""
             }
            },
            "type": "scattermapbox"
           }
          ],
          "scatterpolar": [
           {
            "marker": {
             "colorbar": {
              "outlinewidth": 0,
              "ticks": ""
             }
            },
            "type": "scatterpolar"
           }
          ],
          "scatterpolargl": [
           {
            "marker": {
             "colorbar": {
              "outlinewidth": 0,
              "ticks": ""
             }
            },
            "type": "scatterpolargl"
           }
          ],
          "scatterternary": [
           {
            "marker": {
             "colorbar": {
              "outlinewidth": 0,
              "ticks": ""
             }
            },
            "type": "scatterternary"
           }
          ],
          "surface": [
           {
            "colorbar": {
             "outlinewidth": 0,
             "ticks": ""
            },
            "colorscale": [
             [
              0,
              "#0d0887"
             ],
             [
              0.1111111111111111,
              "#46039f"
             ],
             [
              0.2222222222222222,
              "#7201a8"
             ],
             [
              0.3333333333333333,
              "#9c179e"
             ],
             [
              0.4444444444444444,
              "#bd3786"
             ],
             [
              0.5555555555555556,
              "#d8576b"
             ],
             [
              0.6666666666666666,
              "#ed7953"
             ],
             [
              0.7777777777777778,
              "#fb9f3a"
             ],
             [
              0.8888888888888888,
              "#fdca26"
             ],
             [
              1,
              "#f0f921"
             ]
            ],
            "type": "surface"
           }
          ],
          "table": [
           {
            "cells": {
             "fill": {
              "color": "#EBF0F8"
             },
             "line": {
              "color": "white"
             }
            },
            "header": {
             "fill": {
              "color": "#C8D4E3"
             },
             "line": {
              "color": "white"
             }
            },
            "type": "table"
           }
          ]
         },
         "layout": {
          "annotationdefaults": {
           "arrowcolor": "#2a3f5f",
           "arrowhead": 0,
           "arrowwidth": 1
          },
          "coloraxis": {
           "colorbar": {
            "outlinewidth": 0,
            "ticks": ""
           }
          },
          "colorscale": {
           "diverging": [
            [
             0,
             "#8e0152"
            ],
            [
             0.1,
             "#c51b7d"
            ],
            [
             0.2,
             "#de77ae"
            ],
            [
             0.3,
             "#f1b6da"
            ],
            [
             0.4,
             "#fde0ef"
            ],
            [
             0.5,
             "#f7f7f7"
            ],
            [
             0.6,
             "#e6f5d0"
            ],
            [
             0.7,
             "#b8e186"
            ],
            [
             0.8,
             "#7fbc41"
            ],
            [
             0.9,
             "#4d9221"
            ],
            [
             1,
             "#276419"
            ]
           ],
           "sequential": [
            [
             0,
             "#0d0887"
            ],
            [
             0.1111111111111111,
             "#46039f"
            ],
            [
             0.2222222222222222,
             "#7201a8"
            ],
            [
             0.3333333333333333,
             "#9c179e"
            ],
            [
             0.4444444444444444,
             "#bd3786"
            ],
            [
             0.5555555555555556,
             "#d8576b"
            ],
            [
             0.6666666666666666,
             "#ed7953"
            ],
            [
             0.7777777777777778,
             "#fb9f3a"
            ],
            [
             0.8888888888888888,
             "#fdca26"
            ],
            [
             1,
             "#f0f921"
            ]
           ],
           "sequentialminus": [
            [
             0,
             "#0d0887"
            ],
            [
             0.1111111111111111,
             "#46039f"
            ],
            [
             0.2222222222222222,
             "#7201a8"
            ],
            [
             0.3333333333333333,
             "#9c179e"
            ],
            [
             0.4444444444444444,
             "#bd3786"
            ],
            [
             0.5555555555555556,
             "#d8576b"
            ],
            [
             0.6666666666666666,
             "#ed7953"
            ],
            [
             0.7777777777777778,
             "#fb9f3a"
            ],
            [
             0.8888888888888888,
             "#fdca26"
            ],
            [
             1,
             "#f0f921"
            ]
           ]
          },
          "colorway": [
           "#636efa",
           "#EF553B",
           "#00cc96",
           "#ab63fa",
           "#FFA15A",
           "#19d3f3",
           "#FF6692",
           "#B6E880",
           "#FF97FF",
           "#FECB52"
          ],
          "font": {
           "color": "#2a3f5f"
          },
          "geo": {
           "bgcolor": "white",
           "lakecolor": "white",
           "landcolor": "#E5ECF6",
           "showlakes": true,
           "showland": true,
           "subunitcolor": "white"
          },
          "hoverlabel": {
           "align": "left"
          },
          "hovermode": "closest",
          "mapbox": {
           "style": "light"
          },
          "paper_bgcolor": "white",
          "plot_bgcolor": "#E5ECF6",
          "polar": {
           "angularaxis": {
            "gridcolor": "white",
            "linecolor": "white",
            "ticks": ""
           },
           "bgcolor": "#E5ECF6",
           "radialaxis": {
            "gridcolor": "white",
            "linecolor": "white",
            "ticks": ""
           }
          },
          "scene": {
           "xaxis": {
            "backgroundcolor": "#E5ECF6",
            "gridcolor": "white",
            "gridwidth": 2,
            "linecolor": "white",
            "showbackground": true,
            "ticks": "",
            "zerolinecolor": "white"
           },
           "yaxis": {
            "backgroundcolor": "#E5ECF6",
            "gridcolor": "white",
            "gridwidth": 2,
            "linecolor": "white",
            "showbackground": true,
            "ticks": "",
            "zerolinecolor": "white"
           },
           "zaxis": {
            "backgroundcolor": "#E5ECF6",
            "gridcolor": "white",
            "gridwidth": 2,
            "linecolor": "white",
            "showbackground": true,
            "ticks": "",
            "zerolinecolor": "white"
           }
          },
          "shapedefaults": {
           "line": {
            "color": "#2a3f5f"
           }
          },
          "ternary": {
           "aaxis": {
            "gridcolor": "white",
            "linecolor": "white",
            "ticks": ""
           },
           "baxis": {
            "gridcolor": "white",
            "linecolor": "white",
            "ticks": ""
           },
           "bgcolor": "#E5ECF6",
           "caxis": {
            "gridcolor": "white",
            "linecolor": "white",
            "ticks": ""
           }
          },
          "title": {
           "x": 0.05
          },
          "xaxis": {
           "automargin": true,
           "gridcolor": "white",
           "linecolor": "white",
           "ticks": "",
           "title": {
            "standoff": 15
           },
           "zerolinecolor": "white",
           "zerolinewidth": 2
          },
          "yaxis": {
           "automargin": true,
           "gridcolor": "white",
           "linecolor": "white",
           "ticks": "",
           "title": {
            "standoff": 15
           },
           "zerolinecolor": "white",
           "zerolinewidth": 2
          }
         }
        }
       }
      },
      "text/html": [
       "<div>\n",
       "        \n",
       "        \n",
       "            <div id=\"654293c7-703e-4d40-8e0a-cb31bf559b10\" class=\"plotly-graph-div\" style=\"height:525px; width:100%;\"></div>\n",
       "            <script type=\"text/javascript\">\n",
       "                require([\"plotly\"], function(Plotly) {\n",
       "                    window.PLOTLYENV=window.PLOTLYENV || {};\n",
       "                    \n",
       "                if (document.getElementById(\"654293c7-703e-4d40-8e0a-cb31bf559b10\")) {\n",
       "                    Plotly.newPlot(\n",
       "                        '654293c7-703e-4d40-8e0a-cb31bf559b10',\n",
       "                        [{\"hovertemplate\": \"x: %{x}<br>y: %{y}<br>color: %{z}<extra></extra>\", \"type\": \"image\", \"z\": [[[246.0, 232.0, 204.0, 0.25], [246.0, 232.0, 204.0, 0.25], [57.0, 105.0, 145.0, 0.25], [246.0, 232.0, 204.0, 0.25], [246.0, 232.0, 204.0, 0.25]], [[246.0, 232.0, 204.0, 0.25], [246.0, 232.0, 204.0, 0.25], [246.0, 232.0, 204.0, 0.25], [246.0, 232.0, 204.0, 0.25], [246.0, 232.0, 204.0, 0.25]], [[246.0, 232.0, 204.0, 0.25], [246.0, 232.0, 204.0, 0.25], [246.0, 232.0, 204.0, 0.25], [246.0, 232.0, 204.0, 0.25], [246.0, 232.0, 204.0, 0.25]], [[213.0, 64.0, 8.0, 0.25], [246.0, 232.0, 204.0, 0.25], [246.0, 232.0, 204.0, 0.25], [246.0, 232.0, 204.0, 0.25], [246.0, 232.0, 204.0, 0.25]], [[246.0, 232.0, 204.0, 0.25], [246.0, 232.0, 204.0, 0.25], [246.0, 232.0, 204.0, 0.25], [246.0, 232.0, 204.0, 0.25], [246.0, 232.0, 204.0, 0.25]]], \"zmax\": [255, 255, 255, 1]}],\n",
       "                        {\"annotations\": [{\"showarrow\": false, \"text\": \"millionaire\", \"x\": 0, \"y\": 0}, {\"showarrow\": false, \"text\": \"racket\", \"x\": 1, \"y\": 0}, {\"showarrow\": false, \"text\": \"cricket\", \"x\": 2, \"y\": 0}, {\"showarrow\": false, \"text\": \"china\", \"x\": 3, \"y\": 0}, {\"showarrow\": false, \"text\": \"dress\", \"x\": 4, \"y\": 0}, {\"showarrow\": false, \"text\": \"jupiter\", \"x\": 0, \"y\": 1}, {\"showarrow\": false, \"text\": \"rabbit\", \"x\": 1, \"y\": 1}, {\"showarrow\": false, \"text\": \"beijing\", \"x\": 2, \"y\": 1}, {\"showarrow\": false, \"text\": \"cotton\", \"x\": 3, \"y\": 1}, {\"showarrow\": false, \"text\": \"roulette\", \"x\": 4, \"y\": 1}, {\"showarrow\": false, \"text\": \"carrot\", \"x\": 0, \"y\": 2}, {\"showarrow\": false, \"text\": \"dinosaur\", \"x\": 1, \"y\": 2}, {\"showarrow\": false, \"text\": \"suit\", \"x\": 2, \"y\": 2}, {\"showarrow\": false, \"text\": \"ketchup\", \"x\": 3, \"y\": 2}, {\"showarrow\": false, \"text\": \"paste\", \"x\": 4, \"y\": 2}, {\"showarrow\": false, \"text\": \"pole\", \"x\": 0, \"y\": 3}, {\"showarrow\": false, \"text\": \"spell\", \"x\": 1, \"y\": 3}, {\"showarrow\": false, \"text\": \"amazon\", \"x\": 2, \"y\": 3}, {\"showarrow\": false, \"text\": \"slip\", \"x\": 3, \"y\": 3}, {\"showarrow\": false, \"text\": \"slug\", \"x\": 4, \"y\": 3}, {\"showarrow\": false, \"text\": \"london\", \"x\": 0, \"y\": 4}, {\"showarrow\": false, \"text\": \"hole\", \"x\": 1, \"y\": 4}, {\"showarrow\": false, \"text\": \"mail\", \"x\": 2, \"y\": 4}, {\"showarrow\": false, \"text\": \"spring\", \"x\": 3, \"y\": 4}, {\"showarrow\": false, \"text\": \"grass\", \"x\": 4, \"y\": 4}], \"margin\": {\"t\": 60}, \"template\": {\"data\": {\"bar\": [{\"error_x\": {\"color\": \"#2a3f5f\"}, \"error_y\": {\"color\": \"#2a3f5f\"}, \"marker\": {\"line\": {\"color\": \"#E5ECF6\", \"width\": 0.5}}, \"type\": \"bar\"}], \"barpolar\": [{\"marker\": {\"line\": {\"color\": \"#E5ECF6\", \"width\": 0.5}}, \"type\": \"barpolar\"}], \"carpet\": [{\"aaxis\": {\"endlinecolor\": \"#2a3f5f\", \"gridcolor\": \"white\", \"linecolor\": \"white\", \"minorgridcolor\": \"white\", \"startlinecolor\": \"#2a3f5f\"}, \"baxis\": {\"endlinecolor\": \"#2a3f5f\", \"gridcolor\": \"white\", \"linecolor\": \"white\", \"minorgridcolor\": \"white\", \"startlinecolor\": \"#2a3f5f\"}, \"type\": \"carpet\"}], \"choropleth\": [{\"colorbar\": {\"outlinewidth\": 0, \"ticks\": \"\"}, \"type\": \"choropleth\"}], \"contour\": [{\"colorbar\": {\"outlinewidth\": 0, \"ticks\": \"\"}, \"colorscale\": [[0.0, \"#0d0887\"], [0.1111111111111111, \"#46039f\"], [0.2222222222222222, \"#7201a8\"], [0.3333333333333333, \"#9c179e\"], [0.4444444444444444, \"#bd3786\"], [0.5555555555555556, \"#d8576b\"], [0.6666666666666666, \"#ed7953\"], [0.7777777777777778, \"#fb9f3a\"], [0.8888888888888888, \"#fdca26\"], [1.0, \"#f0f921\"]], \"type\": \"contour\"}], \"contourcarpet\": [{\"colorbar\": {\"outlinewidth\": 0, \"ticks\": \"\"}, \"type\": \"contourcarpet\"}], \"heatmap\": [{\"colorbar\": {\"outlinewidth\": 0, \"ticks\": \"\"}, \"colorscale\": [[0.0, \"#0d0887\"], [0.1111111111111111, \"#46039f\"], [0.2222222222222222, \"#7201a8\"], [0.3333333333333333, \"#9c179e\"], [0.4444444444444444, \"#bd3786\"], [0.5555555555555556, \"#d8576b\"], [0.6666666666666666, \"#ed7953\"], [0.7777777777777778, \"#fb9f3a\"], [0.8888888888888888, \"#fdca26\"], [1.0, \"#f0f921\"]], \"type\": \"heatmap\"}], \"heatmapgl\": [{\"colorbar\": {\"outlinewidth\": 0, \"ticks\": \"\"}, \"colorscale\": [[0.0, \"#0d0887\"], [0.1111111111111111, \"#46039f\"], [0.2222222222222222, \"#7201a8\"], [0.3333333333333333, \"#9c179e\"], [0.4444444444444444, \"#bd3786\"], [0.5555555555555556, \"#d8576b\"], [0.6666666666666666, \"#ed7953\"], [0.7777777777777778, \"#fb9f3a\"], [0.8888888888888888, \"#fdca26\"], [1.0, \"#f0f921\"]], \"type\": \"heatmapgl\"}], \"histogram\": [{\"marker\": {\"colorbar\": {\"outlinewidth\": 0, \"ticks\": \"\"}}, \"type\": \"histogram\"}], \"histogram2d\": [{\"colorbar\": {\"outlinewidth\": 0, \"ticks\": \"\"}, \"colorscale\": [[0.0, \"#0d0887\"], [0.1111111111111111, \"#46039f\"], [0.2222222222222222, \"#7201a8\"], [0.3333333333333333, \"#9c179e\"], [0.4444444444444444, \"#bd3786\"], [0.5555555555555556, \"#d8576b\"], [0.6666666666666666, \"#ed7953\"], [0.7777777777777778, \"#fb9f3a\"], [0.8888888888888888, \"#fdca26\"], [1.0, \"#f0f921\"]], \"type\": \"histogram2d\"}], \"histogram2dcontour\": [{\"colorbar\": {\"outlinewidth\": 0, \"ticks\": \"\"}, \"colorscale\": [[0.0, \"#0d0887\"], [0.1111111111111111, \"#46039f\"], [0.2222222222222222, \"#7201a8\"], [0.3333333333333333, \"#9c179e\"], [0.4444444444444444, \"#bd3786\"], [0.5555555555555556, \"#d8576b\"], [0.6666666666666666, \"#ed7953\"], [0.7777777777777778, \"#fb9f3a\"], [0.8888888888888888, \"#fdca26\"], [1.0, \"#f0f921\"]], \"type\": \"histogram2dcontour\"}], \"mesh3d\": [{\"colorbar\": {\"outlinewidth\": 0, \"ticks\": \"\"}, \"type\": \"mesh3d\"}], \"parcoords\": [{\"line\": {\"colorbar\": {\"outlinewidth\": 0, \"ticks\": \"\"}}, \"type\": \"parcoords\"}], \"pie\": [{\"automargin\": true, \"type\": \"pie\"}], \"scatter\": [{\"marker\": {\"colorbar\": {\"outlinewidth\": 0, \"ticks\": \"\"}}, \"type\": \"scatter\"}], \"scatter3d\": [{\"line\": {\"colorbar\": {\"outlinewidth\": 0, \"ticks\": \"\"}}, \"marker\": {\"colorbar\": {\"outlinewidth\": 0, \"ticks\": \"\"}}, \"type\": \"scatter3d\"}], \"scattercarpet\": [{\"marker\": {\"colorbar\": {\"outlinewidth\": 0, \"ticks\": \"\"}}, \"type\": \"scattercarpet\"}], \"scattergeo\": [{\"marker\": {\"colorbar\": {\"outlinewidth\": 0, \"ticks\": \"\"}}, \"type\": \"scattergeo\"}], \"scattergl\": [{\"marker\": {\"colorbar\": {\"outlinewidth\": 0, \"ticks\": \"\"}}, \"type\": \"scattergl\"}], \"scattermapbox\": [{\"marker\": {\"colorbar\": {\"outlinewidth\": 0, \"ticks\": \"\"}}, \"type\": \"scattermapbox\"}], \"scatterpolar\": [{\"marker\": {\"colorbar\": {\"outlinewidth\": 0, \"ticks\": \"\"}}, \"type\": \"scatterpolar\"}], \"scatterpolargl\": [{\"marker\": {\"colorbar\": {\"outlinewidth\": 0, \"ticks\": \"\"}}, \"type\": \"scatterpolargl\"}], \"scatterternary\": [{\"marker\": {\"colorbar\": {\"outlinewidth\": 0, \"ticks\": \"\"}}, \"type\": \"scatterternary\"}], \"surface\": [{\"colorbar\": {\"outlinewidth\": 0, \"ticks\": \"\"}, \"colorscale\": [[0.0, \"#0d0887\"], [0.1111111111111111, \"#46039f\"], [0.2222222222222222, \"#7201a8\"], [0.3333333333333333, \"#9c179e\"], [0.4444444444444444, \"#bd3786\"], [0.5555555555555556, \"#d8576b\"], [0.6666666666666666, \"#ed7953\"], [0.7777777777777778, \"#fb9f3a\"], [0.8888888888888888, \"#fdca26\"], [1.0, \"#f0f921\"]], \"type\": \"surface\"}], \"table\": [{\"cells\": {\"fill\": {\"color\": \"#EBF0F8\"}, \"line\": {\"color\": \"white\"}}, \"header\": {\"fill\": {\"color\": \"#C8D4E3\"}, \"line\": {\"color\": \"white\"}}, \"type\": \"table\"}]}, \"layout\": {\"annotationdefaults\": {\"arrowcolor\": \"#2a3f5f\", \"arrowhead\": 0, \"arrowwidth\": 1}, \"coloraxis\": {\"colorbar\": {\"outlinewidth\": 0, \"ticks\": \"\"}}, \"colorscale\": {\"diverging\": [[0, \"#8e0152\"], [0.1, \"#c51b7d\"], [0.2, \"#de77ae\"], [0.3, \"#f1b6da\"], [0.4, \"#fde0ef\"], [0.5, \"#f7f7f7\"], [0.6, \"#e6f5d0\"], [0.7, \"#b8e186\"], [0.8, \"#7fbc41\"], [0.9, \"#4d9221\"], [1, \"#276419\"]], \"sequential\": [[0.0, \"#0d0887\"], [0.1111111111111111, \"#46039f\"], [0.2222222222222222, \"#7201a8\"], [0.3333333333333333, \"#9c179e\"], [0.4444444444444444, \"#bd3786\"], [0.5555555555555556, \"#d8576b\"], [0.6666666666666666, \"#ed7953\"], [0.7777777777777778, \"#fb9f3a\"], [0.8888888888888888, \"#fdca26\"], [1.0, \"#f0f921\"]], \"sequentialminus\": [[0.0, \"#0d0887\"], [0.1111111111111111, \"#46039f\"], [0.2222222222222222, \"#7201a8\"], [0.3333333333333333, \"#9c179e\"], [0.4444444444444444, \"#bd3786\"], [0.5555555555555556, \"#d8576b\"], [0.6666666666666666, \"#ed7953\"], [0.7777777777777778, \"#fb9f3a\"], [0.8888888888888888, \"#fdca26\"], [1.0, \"#f0f921\"]]}, \"colorway\": [\"#636efa\", \"#EF553B\", \"#00cc96\", \"#ab63fa\", \"#FFA15A\", \"#19d3f3\", \"#FF6692\", \"#B6E880\", \"#FF97FF\", \"#FECB52\"], \"font\": {\"color\": \"#2a3f5f\"}, \"geo\": {\"bgcolor\": \"white\", \"lakecolor\": \"white\", \"landcolor\": \"#E5ECF6\", \"showlakes\": true, \"showland\": true, \"subunitcolor\": \"white\"}, \"hoverlabel\": {\"align\": \"left\"}, \"hovermode\": \"closest\", \"mapbox\": {\"style\": \"light\"}, \"paper_bgcolor\": \"white\", \"plot_bgcolor\": \"#E5ECF6\", \"polar\": {\"angularaxis\": {\"gridcolor\": \"white\", \"linecolor\": \"white\", \"ticks\": \"\"}, \"bgcolor\": \"#E5ECF6\", \"radialaxis\": {\"gridcolor\": \"white\", \"linecolor\": \"white\", \"ticks\": \"\"}}, \"scene\": {\"xaxis\": {\"backgroundcolor\": \"#E5ECF6\", \"gridcolor\": \"white\", \"gridwidth\": 2, \"linecolor\": \"white\", \"showbackground\": true, \"ticks\": \"\", \"zerolinecolor\": \"white\"}, \"yaxis\": {\"backgroundcolor\": \"#E5ECF6\", \"gridcolor\": \"white\", \"gridwidth\": 2, \"linecolor\": \"white\", \"showbackground\": true, \"ticks\": \"\", \"zerolinecolor\": \"white\"}, \"zaxis\": {\"backgroundcolor\": \"#E5ECF6\", \"gridcolor\": \"white\", \"gridwidth\": 2, \"linecolor\": \"white\", \"showbackground\": true, \"ticks\": \"\", \"zerolinecolor\": \"white\"}}, \"shapedefaults\": {\"line\": {\"color\": \"#2a3f5f\"}}, \"ternary\": {\"aaxis\": {\"gridcolor\": \"white\", \"linecolor\": \"white\", \"ticks\": \"\"}, \"baxis\": {\"gridcolor\": \"white\", \"linecolor\": \"white\", \"ticks\": \"\"}, \"bgcolor\": \"#E5ECF6\", \"caxis\": {\"gridcolor\": \"white\", \"linecolor\": \"white\", \"ticks\": \"\"}}, \"title\": {\"x\": 0.05}, \"xaxis\": {\"automargin\": true, \"gridcolor\": \"white\", \"linecolor\": \"white\", \"ticks\": \"\", \"title\": {\"standoff\": 15}, \"zerolinecolor\": \"white\", \"zerolinewidth\": 2}, \"yaxis\": {\"automargin\": true, \"gridcolor\": \"white\", \"linecolor\": \"white\", \"ticks\": \"\", \"title\": {\"standoff\": 15}, \"zerolinecolor\": \"white\", \"zerolinewidth\": 2}}}},\n",
       "                        {\"responsive\": true}\n",
       "                    ).then(function(){\n",
       "                            \n",
       "var gd = document.getElementById('654293c7-703e-4d40-8e0a-cb31bf559b10');\n",
       "var x = new MutationObserver(function (mutations, observer) {{\n",
       "        var display = window.getComputedStyle(gd).display;\n",
       "        if (!display || display === 'none') {{\n",
       "            console.log([gd, 'removed!']);\n",
       "            Plotly.purge(gd);\n",
       "            observer.disconnect();\n",
       "        }}\n",
       "}});\n",
       "\n",
       "// Listen for the removal of the full notebook cells\n",
       "var notebookContainer = gd.closest('#notebook-container');\n",
       "if (notebookContainer) {{\n",
       "    x.observe(notebookContainer, {childList: true});\n",
       "}}\n",
       "\n",
       "// Listen for the clearing of the current output cell\n",
       "var outputEl = gd.closest('.output');\n",
       "if (outputEl) {{\n",
       "    x.observe(outputEl, {childList: true});\n",
       "}}\n",
       "\n",
       "                        })\n",
       "                };\n",
       "                });\n",
       "            </script>\n",
       "        </div>"
      ]
     },
     "metadata": {},
     "output_type": "display_data"
    },
    {
     "name": "stdout",
     "output_type": "stream",
     "text": [
      "It's red's turn!\n",
      "Spymaster is looking at 120 possible clues\n",
      "red spymaster gives clue: noodles, 3\n",
      "red team guesses: ketchup\n",
      "Correct! Round score is 1\n",
      "red team guesses: paste\n",
      "Correct! Round score is 2\n",
      "red team guesses: carrot\n",
      "Dang! Guesser missed the mark\n"
     ]
    },
    {
     "data": {
      "application/vnd.plotly.v1+json": {
       "config": {
        "plotlyServerURL": "https://plot.ly"
       },
       "data": [
        {
         "hovertemplate": "x: %{x}<br>y: %{y}<br>color: %{z}<extra></extra>",
         "type": "image",
         "z": [
          [
           [
            246,
            232,
            204,
            0.25
           ],
           [
            246,
            232,
            204,
            0.25
           ],
           [
            57,
            105,
            145,
            0.25
           ],
           [
            246,
            232,
            204,
            0.25
           ],
           [
            246,
            232,
            204,
            0.25
           ]
          ],
          [
           [
            246,
            232,
            204,
            0.25
           ],
           [
            246,
            232,
            204,
            0.25
           ],
           [
            246,
            232,
            204,
            0.25
           ],
           [
            246,
            232,
            204,
            0.25
           ],
           [
            246,
            232,
            204,
            0.25
           ]
          ],
          [
           [
            194,
            183,
            54,
            0.25
           ],
           [
            246,
            232,
            204,
            0.25
           ],
           [
            246,
            232,
            204,
            0.25
           ],
           [
            213,
            64,
            8,
            0.25
           ],
           [
            213,
            64,
            8,
            0.25
           ]
          ],
          [
           [
            213,
            64,
            8,
            0.25
           ],
           [
            246,
            232,
            204,
            0.25
           ],
           [
            246,
            232,
            204,
            0.25
           ],
           [
            246,
            232,
            204,
            0.25
           ],
           [
            246,
            232,
            204,
            0.25
           ]
          ],
          [
           [
            246,
            232,
            204,
            0.25
           ],
           [
            246,
            232,
            204,
            0.25
           ],
           [
            246,
            232,
            204,
            0.25
           ],
           [
            246,
            232,
            204,
            0.25
           ],
           [
            246,
            232,
            204,
            0.25
           ]
          ]
         ],
         "zmax": [
          255,
          255,
          255,
          1
         ]
        }
       ],
       "layout": {
        "annotations": [
         {
          "showarrow": false,
          "text": "millionaire",
          "x": 0,
          "y": 0
         },
         {
          "showarrow": false,
          "text": "racket",
          "x": 1,
          "y": 0
         },
         {
          "showarrow": false,
          "text": "cricket",
          "x": 2,
          "y": 0
         },
         {
          "showarrow": false,
          "text": "china",
          "x": 3,
          "y": 0
         },
         {
          "showarrow": false,
          "text": "dress",
          "x": 4,
          "y": 0
         },
         {
          "showarrow": false,
          "text": "jupiter",
          "x": 0,
          "y": 1
         },
         {
          "showarrow": false,
          "text": "rabbit",
          "x": 1,
          "y": 1
         },
         {
          "showarrow": false,
          "text": "beijing",
          "x": 2,
          "y": 1
         },
         {
          "showarrow": false,
          "text": "cotton",
          "x": 3,
          "y": 1
         },
         {
          "showarrow": false,
          "text": "roulette",
          "x": 4,
          "y": 1
         },
         {
          "showarrow": false,
          "text": "carrot",
          "x": 0,
          "y": 2
         },
         {
          "showarrow": false,
          "text": "dinosaur",
          "x": 1,
          "y": 2
         },
         {
          "showarrow": false,
          "text": "suit",
          "x": 2,
          "y": 2
         },
         {
          "showarrow": false,
          "text": "ketchup",
          "x": 3,
          "y": 2
         },
         {
          "showarrow": false,
          "text": "paste",
          "x": 4,
          "y": 2
         },
         {
          "showarrow": false,
          "text": "pole",
          "x": 0,
          "y": 3
         },
         {
          "showarrow": false,
          "text": "spell",
          "x": 1,
          "y": 3
         },
         {
          "showarrow": false,
          "text": "amazon",
          "x": 2,
          "y": 3
         },
         {
          "showarrow": false,
          "text": "slip",
          "x": 3,
          "y": 3
         },
         {
          "showarrow": false,
          "text": "slug",
          "x": 4,
          "y": 3
         },
         {
          "showarrow": false,
          "text": "london",
          "x": 0,
          "y": 4
         },
         {
          "showarrow": false,
          "text": "hole",
          "x": 1,
          "y": 4
         },
         {
          "showarrow": false,
          "text": "mail",
          "x": 2,
          "y": 4
         },
         {
          "showarrow": false,
          "text": "spring",
          "x": 3,
          "y": 4
         },
         {
          "showarrow": false,
          "text": "grass",
          "x": 4,
          "y": 4
         }
        ],
        "margin": {
         "t": 60
        },
        "template": {
         "data": {
          "bar": [
           {
            "error_x": {
             "color": "#2a3f5f"
            },
            "error_y": {
             "color": "#2a3f5f"
            },
            "marker": {
             "line": {
              "color": "#E5ECF6",
              "width": 0.5
             }
            },
            "type": "bar"
           }
          ],
          "barpolar": [
           {
            "marker": {
             "line": {
              "color": "#E5ECF6",
              "width": 0.5
             }
            },
            "type": "barpolar"
           }
          ],
          "carpet": [
           {
            "aaxis": {
             "endlinecolor": "#2a3f5f",
             "gridcolor": "white",
             "linecolor": "white",
             "minorgridcolor": "white",
             "startlinecolor": "#2a3f5f"
            },
            "baxis": {
             "endlinecolor": "#2a3f5f",
             "gridcolor": "white",
             "linecolor": "white",
             "minorgridcolor": "white",
             "startlinecolor": "#2a3f5f"
            },
            "type": "carpet"
           }
          ],
          "choropleth": [
           {
            "colorbar": {
             "outlinewidth": 0,
             "ticks": ""
            },
            "type": "choropleth"
           }
          ],
          "contour": [
           {
            "colorbar": {
             "outlinewidth": 0,
             "ticks": ""
            },
            "colorscale": [
             [
              0,
              "#0d0887"
             ],
             [
              0.1111111111111111,
              "#46039f"
             ],
             [
              0.2222222222222222,
              "#7201a8"
             ],
             [
              0.3333333333333333,
              "#9c179e"
             ],
             [
              0.4444444444444444,
              "#bd3786"
             ],
             [
              0.5555555555555556,
              "#d8576b"
             ],
             [
              0.6666666666666666,
              "#ed7953"
             ],
             [
              0.7777777777777778,
              "#fb9f3a"
             ],
             [
              0.8888888888888888,
              "#fdca26"
             ],
             [
              1,
              "#f0f921"
             ]
            ],
            "type": "contour"
           }
          ],
          "contourcarpet": [
           {
            "colorbar": {
             "outlinewidth": 0,
             "ticks": ""
            },
            "type": "contourcarpet"
           }
          ],
          "heatmap": [
           {
            "colorbar": {
             "outlinewidth": 0,
             "ticks": ""
            },
            "colorscale": [
             [
              0,
              "#0d0887"
             ],
             [
              0.1111111111111111,
              "#46039f"
             ],
             [
              0.2222222222222222,
              "#7201a8"
             ],
             [
              0.3333333333333333,
              "#9c179e"
             ],
             [
              0.4444444444444444,
              "#bd3786"
             ],
             [
              0.5555555555555556,
              "#d8576b"
             ],
             [
              0.6666666666666666,
              "#ed7953"
             ],
             [
              0.7777777777777778,
              "#fb9f3a"
             ],
             [
              0.8888888888888888,
              "#fdca26"
             ],
             [
              1,
              "#f0f921"
             ]
            ],
            "type": "heatmap"
           }
          ],
          "heatmapgl": [
           {
            "colorbar": {
             "outlinewidth": 0,
             "ticks": ""
            },
            "colorscale": [
             [
              0,
              "#0d0887"
             ],
             [
              0.1111111111111111,
              "#46039f"
             ],
             [
              0.2222222222222222,
              "#7201a8"
             ],
             [
              0.3333333333333333,
              "#9c179e"
             ],
             [
              0.4444444444444444,
              "#bd3786"
             ],
             [
              0.5555555555555556,
              "#d8576b"
             ],
             [
              0.6666666666666666,
              "#ed7953"
             ],
             [
              0.7777777777777778,
              "#fb9f3a"
             ],
             [
              0.8888888888888888,
              "#fdca26"
             ],
             [
              1,
              "#f0f921"
             ]
            ],
            "type": "heatmapgl"
           }
          ],
          "histogram": [
           {
            "marker": {
             "colorbar": {
              "outlinewidth": 0,
              "ticks": ""
             }
            },
            "type": "histogram"
           }
          ],
          "histogram2d": [
           {
            "colorbar": {
             "outlinewidth": 0,
             "ticks": ""
            },
            "colorscale": [
             [
              0,
              "#0d0887"
             ],
             [
              0.1111111111111111,
              "#46039f"
             ],
             [
              0.2222222222222222,
              "#7201a8"
             ],
             [
              0.3333333333333333,
              "#9c179e"
             ],
             [
              0.4444444444444444,
              "#bd3786"
             ],
             [
              0.5555555555555556,
              "#d8576b"
             ],
             [
              0.6666666666666666,
              "#ed7953"
             ],
             [
              0.7777777777777778,
              "#fb9f3a"
             ],
             [
              0.8888888888888888,
              "#fdca26"
             ],
             [
              1,
              "#f0f921"
             ]
            ],
            "type": "histogram2d"
           }
          ],
          "histogram2dcontour": [
           {
            "colorbar": {
             "outlinewidth": 0,
             "ticks": ""
            },
            "colorscale": [
             [
              0,
              "#0d0887"
             ],
             [
              0.1111111111111111,
              "#46039f"
             ],
             [
              0.2222222222222222,
              "#7201a8"
             ],
             [
              0.3333333333333333,
              "#9c179e"
             ],
             [
              0.4444444444444444,
              "#bd3786"
             ],
             [
              0.5555555555555556,
              "#d8576b"
             ],
             [
              0.6666666666666666,
              "#ed7953"
             ],
             [
              0.7777777777777778,
              "#fb9f3a"
             ],
             [
              0.8888888888888888,
              "#fdca26"
             ],
             [
              1,
              "#f0f921"
             ]
            ],
            "type": "histogram2dcontour"
           }
          ],
          "mesh3d": [
           {
            "colorbar": {
             "outlinewidth": 0,
             "ticks": ""
            },
            "type": "mesh3d"
           }
          ],
          "parcoords": [
           {
            "line": {
             "colorbar": {
              "outlinewidth": 0,
              "ticks": ""
             }
            },
            "type": "parcoords"
           }
          ],
          "pie": [
           {
            "automargin": true,
            "type": "pie"
           }
          ],
          "scatter": [
           {
            "marker": {
             "colorbar": {
              "outlinewidth": 0,
              "ticks": ""
             }
            },
            "type": "scatter"
           }
          ],
          "scatter3d": [
           {
            "line": {
             "colorbar": {
              "outlinewidth": 0,
              "ticks": ""
             }
            },
            "marker": {
             "colorbar": {
              "outlinewidth": 0,
              "ticks": ""
             }
            },
            "type": "scatter3d"
           }
          ],
          "scattercarpet": [
           {
            "marker": {
             "colorbar": {
              "outlinewidth": 0,
              "ticks": ""
             }
            },
            "type": "scattercarpet"
           }
          ],
          "scattergeo": [
           {
            "marker": {
             "colorbar": {
              "outlinewidth": 0,
              "ticks": ""
             }
            },
            "type": "scattergeo"
           }
          ],
          "scattergl": [
           {
            "marker": {
             "colorbar": {
              "outlinewidth": 0,
              "ticks": ""
             }
            },
            "type": "scattergl"
           }
          ],
          "scattermapbox": [
           {
            "marker": {
             "colorbar": {
              "outlinewidth": 0,
              "ticks": ""
             }
            },
            "type": "scattermapbox"
           }
          ],
          "scatterpolar": [
           {
            "marker": {
             "colorbar": {
              "outlinewidth": 0,
              "ticks": ""
             }
            },
            "type": "scatterpolar"
           }
          ],
          "scatterpolargl": [
           {
            "marker": {
             "colorbar": {
              "outlinewidth": 0,
              "ticks": ""
             }
            },
            "type": "scatterpolargl"
           }
          ],
          "scatterternary": [
           {
            "marker": {
             "colorbar": {
              "outlinewidth": 0,
              "ticks": ""
             }
            },
            "type": "scatterternary"
           }
          ],
          "surface": [
           {
            "colorbar": {
             "outlinewidth": 0,
             "ticks": ""
            },
            "colorscale": [
             [
              0,
              "#0d0887"
             ],
             [
              0.1111111111111111,
              "#46039f"
             ],
             [
              0.2222222222222222,
              "#7201a8"
             ],
             [
              0.3333333333333333,
              "#9c179e"
             ],
             [
              0.4444444444444444,
              "#bd3786"
             ],
             [
              0.5555555555555556,
              "#d8576b"
             ],
             [
              0.6666666666666666,
              "#ed7953"
             ],
             [
              0.7777777777777778,
              "#fb9f3a"
             ],
             [
              0.8888888888888888,
              "#fdca26"
             ],
             [
              1,
              "#f0f921"
             ]
            ],
            "type": "surface"
           }
          ],
          "table": [
           {
            "cells": {
             "fill": {
              "color": "#EBF0F8"
             },
             "line": {
              "color": "white"
             }
            },
            "header": {
             "fill": {
              "color": "#C8D4E3"
             },
             "line": {
              "color": "white"
             }
            },
            "type": "table"
           }
          ]
         },
         "layout": {
          "annotationdefaults": {
           "arrowcolor": "#2a3f5f",
           "arrowhead": 0,
           "arrowwidth": 1
          },
          "coloraxis": {
           "colorbar": {
            "outlinewidth": 0,
            "ticks": ""
           }
          },
          "colorscale": {
           "diverging": [
            [
             0,
             "#8e0152"
            ],
            [
             0.1,
             "#c51b7d"
            ],
            [
             0.2,
             "#de77ae"
            ],
            [
             0.3,
             "#f1b6da"
            ],
            [
             0.4,
             "#fde0ef"
            ],
            [
             0.5,
             "#f7f7f7"
            ],
            [
             0.6,
             "#e6f5d0"
            ],
            [
             0.7,
             "#b8e186"
            ],
            [
             0.8,
             "#7fbc41"
            ],
            [
             0.9,
             "#4d9221"
            ],
            [
             1,
             "#276419"
            ]
           ],
           "sequential": [
            [
             0,
             "#0d0887"
            ],
            [
             0.1111111111111111,
             "#46039f"
            ],
            [
             0.2222222222222222,
             "#7201a8"
            ],
            [
             0.3333333333333333,
             "#9c179e"
            ],
            [
             0.4444444444444444,
             "#bd3786"
            ],
            [
             0.5555555555555556,
             "#d8576b"
            ],
            [
             0.6666666666666666,
             "#ed7953"
            ],
            [
             0.7777777777777778,
             "#fb9f3a"
            ],
            [
             0.8888888888888888,
             "#fdca26"
            ],
            [
             1,
             "#f0f921"
            ]
           ],
           "sequentialminus": [
            [
             0,
             "#0d0887"
            ],
            [
             0.1111111111111111,
             "#46039f"
            ],
            [
             0.2222222222222222,
             "#7201a8"
            ],
            [
             0.3333333333333333,
             "#9c179e"
            ],
            [
             0.4444444444444444,
             "#bd3786"
            ],
            [
             0.5555555555555556,
             "#d8576b"
            ],
            [
             0.6666666666666666,
             "#ed7953"
            ],
            [
             0.7777777777777778,
             "#fb9f3a"
            ],
            [
             0.8888888888888888,
             "#fdca26"
            ],
            [
             1,
             "#f0f921"
            ]
           ]
          },
          "colorway": [
           "#636efa",
           "#EF553B",
           "#00cc96",
           "#ab63fa",
           "#FFA15A",
           "#19d3f3",
           "#FF6692",
           "#B6E880",
           "#FF97FF",
           "#FECB52"
          ],
          "font": {
           "color": "#2a3f5f"
          },
          "geo": {
           "bgcolor": "white",
           "lakecolor": "white",
           "landcolor": "#E5ECF6",
           "showlakes": true,
           "showland": true,
           "subunitcolor": "white"
          },
          "hoverlabel": {
           "align": "left"
          },
          "hovermode": "closest",
          "mapbox": {
           "style": "light"
          },
          "paper_bgcolor": "white",
          "plot_bgcolor": "#E5ECF6",
          "polar": {
           "angularaxis": {
            "gridcolor": "white",
            "linecolor": "white",
            "ticks": ""
           },
           "bgcolor": "#E5ECF6",
           "radialaxis": {
            "gridcolor": "white",
            "linecolor": "white",
            "ticks": ""
           }
          },
          "scene": {
           "xaxis": {
            "backgroundcolor": "#E5ECF6",
            "gridcolor": "white",
            "gridwidth": 2,
            "linecolor": "white",
            "showbackground": true,
            "ticks": "",
            "zerolinecolor": "white"
           },
           "yaxis": {
            "backgroundcolor": "#E5ECF6",
            "gridcolor": "white",
            "gridwidth": 2,
            "linecolor": "white",
            "showbackground": true,
            "ticks": "",
            "zerolinecolor": "white"
           },
           "zaxis": {
            "backgroundcolor": "#E5ECF6",
            "gridcolor": "white",
            "gridwidth": 2,
            "linecolor": "white",
            "showbackground": true,
            "ticks": "",
            "zerolinecolor": "white"
           }
          },
          "shapedefaults": {
           "line": {
            "color": "#2a3f5f"
           }
          },
          "ternary": {
           "aaxis": {
            "gridcolor": "white",
            "linecolor": "white",
            "ticks": ""
           },
           "baxis": {
            "gridcolor": "white",
            "linecolor": "white",
            "ticks": ""
           },
           "bgcolor": "#E5ECF6",
           "caxis": {
            "gridcolor": "white",
            "linecolor": "white",
            "ticks": ""
           }
          },
          "title": {
           "x": 0.05
          },
          "xaxis": {
           "automargin": true,
           "gridcolor": "white",
           "linecolor": "white",
           "ticks": "",
           "title": {
            "standoff": 15
           },
           "zerolinecolor": "white",
           "zerolinewidth": 2
          },
          "yaxis": {
           "automargin": true,
           "gridcolor": "white",
           "linecolor": "white",
           "ticks": "",
           "title": {
            "standoff": 15
           },
           "zerolinecolor": "white",
           "zerolinewidth": 2
          }
         }
        }
       }
      },
      "text/html": [
       "<div>\n",
       "        \n",
       "        \n",
       "            <div id=\"233293ca-b6d0-46aa-a72a-b49738922cb6\" class=\"plotly-graph-div\" style=\"height:525px; width:100%;\"></div>\n",
       "            <script type=\"text/javascript\">\n",
       "                require([\"plotly\"], function(Plotly) {\n",
       "                    window.PLOTLYENV=window.PLOTLYENV || {};\n",
       "                    \n",
       "                if (document.getElementById(\"233293ca-b6d0-46aa-a72a-b49738922cb6\")) {\n",
       "                    Plotly.newPlot(\n",
       "                        '233293ca-b6d0-46aa-a72a-b49738922cb6',\n",
       "                        [{\"hovertemplate\": \"x: %{x}<br>y: %{y}<br>color: %{z}<extra></extra>\", \"type\": \"image\", \"z\": [[[246.0, 232.0, 204.0, 0.25], [246.0, 232.0, 204.0, 0.25], [57.0, 105.0, 145.0, 0.25], [246.0, 232.0, 204.0, 0.25], [246.0, 232.0, 204.0, 0.25]], [[246.0, 232.0, 204.0, 0.25], [246.0, 232.0, 204.0, 0.25], [246.0, 232.0, 204.0, 0.25], [246.0, 232.0, 204.0, 0.25], [246.0, 232.0, 204.0, 0.25]], [[194.0, 183.0, 54.0, 0.25], [246.0, 232.0, 204.0, 0.25], [246.0, 232.0, 204.0, 0.25], [213.0, 64.0, 8.0, 0.25], [213.0, 64.0, 8.0, 0.25]], [[213.0, 64.0, 8.0, 0.25], [246.0, 232.0, 204.0, 0.25], [246.0, 232.0, 204.0, 0.25], [246.0, 232.0, 204.0, 0.25], [246.0, 232.0, 204.0, 0.25]], [[246.0, 232.0, 204.0, 0.25], [246.0, 232.0, 204.0, 0.25], [246.0, 232.0, 204.0, 0.25], [246.0, 232.0, 204.0, 0.25], [246.0, 232.0, 204.0, 0.25]]], \"zmax\": [255, 255, 255, 1]}],\n",
       "                        {\"annotations\": [{\"showarrow\": false, \"text\": \"millionaire\", \"x\": 0, \"y\": 0}, {\"showarrow\": false, \"text\": \"racket\", \"x\": 1, \"y\": 0}, {\"showarrow\": false, \"text\": \"cricket\", \"x\": 2, \"y\": 0}, {\"showarrow\": false, \"text\": \"china\", \"x\": 3, \"y\": 0}, {\"showarrow\": false, \"text\": \"dress\", \"x\": 4, \"y\": 0}, {\"showarrow\": false, \"text\": \"jupiter\", \"x\": 0, \"y\": 1}, {\"showarrow\": false, \"text\": \"rabbit\", \"x\": 1, \"y\": 1}, {\"showarrow\": false, \"text\": \"beijing\", \"x\": 2, \"y\": 1}, {\"showarrow\": false, \"text\": \"cotton\", \"x\": 3, \"y\": 1}, {\"showarrow\": false, \"text\": \"roulette\", \"x\": 4, \"y\": 1}, {\"showarrow\": false, \"text\": \"carrot\", \"x\": 0, \"y\": 2}, {\"showarrow\": false, \"text\": \"dinosaur\", \"x\": 1, \"y\": 2}, {\"showarrow\": false, \"text\": \"suit\", \"x\": 2, \"y\": 2}, {\"showarrow\": false, \"text\": \"ketchup\", \"x\": 3, \"y\": 2}, {\"showarrow\": false, \"text\": \"paste\", \"x\": 4, \"y\": 2}, {\"showarrow\": false, \"text\": \"pole\", \"x\": 0, \"y\": 3}, {\"showarrow\": false, \"text\": \"spell\", \"x\": 1, \"y\": 3}, {\"showarrow\": false, \"text\": \"amazon\", \"x\": 2, \"y\": 3}, {\"showarrow\": false, \"text\": \"slip\", \"x\": 3, \"y\": 3}, {\"showarrow\": false, \"text\": \"slug\", \"x\": 4, \"y\": 3}, {\"showarrow\": false, \"text\": \"london\", \"x\": 0, \"y\": 4}, {\"showarrow\": false, \"text\": \"hole\", \"x\": 1, \"y\": 4}, {\"showarrow\": false, \"text\": \"mail\", \"x\": 2, \"y\": 4}, {\"showarrow\": false, \"text\": \"spring\", \"x\": 3, \"y\": 4}, {\"showarrow\": false, \"text\": \"grass\", \"x\": 4, \"y\": 4}], \"margin\": {\"t\": 60}, \"template\": {\"data\": {\"bar\": [{\"error_x\": {\"color\": \"#2a3f5f\"}, \"error_y\": {\"color\": \"#2a3f5f\"}, \"marker\": {\"line\": {\"color\": \"#E5ECF6\", \"width\": 0.5}}, \"type\": \"bar\"}], \"barpolar\": [{\"marker\": {\"line\": {\"color\": \"#E5ECF6\", \"width\": 0.5}}, \"type\": \"barpolar\"}], \"carpet\": [{\"aaxis\": {\"endlinecolor\": \"#2a3f5f\", \"gridcolor\": \"white\", \"linecolor\": \"white\", \"minorgridcolor\": \"white\", \"startlinecolor\": \"#2a3f5f\"}, \"baxis\": {\"endlinecolor\": \"#2a3f5f\", \"gridcolor\": \"white\", \"linecolor\": \"white\", \"minorgridcolor\": \"white\", \"startlinecolor\": \"#2a3f5f\"}, \"type\": \"carpet\"}], \"choropleth\": [{\"colorbar\": {\"outlinewidth\": 0, \"ticks\": \"\"}, \"type\": \"choropleth\"}], \"contour\": [{\"colorbar\": {\"outlinewidth\": 0, \"ticks\": \"\"}, \"colorscale\": [[0.0, \"#0d0887\"], [0.1111111111111111, \"#46039f\"], [0.2222222222222222, \"#7201a8\"], [0.3333333333333333, \"#9c179e\"], [0.4444444444444444, \"#bd3786\"], [0.5555555555555556, \"#d8576b\"], [0.6666666666666666, \"#ed7953\"], [0.7777777777777778, \"#fb9f3a\"], [0.8888888888888888, \"#fdca26\"], [1.0, \"#f0f921\"]], \"type\": \"contour\"}], \"contourcarpet\": [{\"colorbar\": {\"outlinewidth\": 0, \"ticks\": \"\"}, \"type\": \"contourcarpet\"}], \"heatmap\": [{\"colorbar\": {\"outlinewidth\": 0, \"ticks\": \"\"}, \"colorscale\": [[0.0, \"#0d0887\"], [0.1111111111111111, \"#46039f\"], [0.2222222222222222, \"#7201a8\"], [0.3333333333333333, \"#9c179e\"], [0.4444444444444444, \"#bd3786\"], [0.5555555555555556, \"#d8576b\"], [0.6666666666666666, \"#ed7953\"], [0.7777777777777778, \"#fb9f3a\"], [0.8888888888888888, \"#fdca26\"], [1.0, \"#f0f921\"]], \"type\": \"heatmap\"}], \"heatmapgl\": [{\"colorbar\": {\"outlinewidth\": 0, \"ticks\": \"\"}, \"colorscale\": [[0.0, \"#0d0887\"], [0.1111111111111111, \"#46039f\"], [0.2222222222222222, \"#7201a8\"], [0.3333333333333333, \"#9c179e\"], [0.4444444444444444, \"#bd3786\"], [0.5555555555555556, \"#d8576b\"], [0.6666666666666666, \"#ed7953\"], [0.7777777777777778, \"#fb9f3a\"], [0.8888888888888888, \"#fdca26\"], [1.0, \"#f0f921\"]], \"type\": \"heatmapgl\"}], \"histogram\": [{\"marker\": {\"colorbar\": {\"outlinewidth\": 0, \"ticks\": \"\"}}, \"type\": \"histogram\"}], \"histogram2d\": [{\"colorbar\": {\"outlinewidth\": 0, \"ticks\": \"\"}, \"colorscale\": [[0.0, \"#0d0887\"], [0.1111111111111111, \"#46039f\"], [0.2222222222222222, \"#7201a8\"], [0.3333333333333333, \"#9c179e\"], [0.4444444444444444, \"#bd3786\"], [0.5555555555555556, \"#d8576b\"], [0.6666666666666666, \"#ed7953\"], [0.7777777777777778, \"#fb9f3a\"], [0.8888888888888888, \"#fdca26\"], [1.0, \"#f0f921\"]], \"type\": \"histogram2d\"}], \"histogram2dcontour\": [{\"colorbar\": {\"outlinewidth\": 0, \"ticks\": \"\"}, \"colorscale\": [[0.0, \"#0d0887\"], [0.1111111111111111, \"#46039f\"], [0.2222222222222222, \"#7201a8\"], [0.3333333333333333, \"#9c179e\"], [0.4444444444444444, \"#bd3786\"], [0.5555555555555556, \"#d8576b\"], [0.6666666666666666, \"#ed7953\"], [0.7777777777777778, \"#fb9f3a\"], [0.8888888888888888, \"#fdca26\"], [1.0, \"#f0f921\"]], \"type\": \"histogram2dcontour\"}], \"mesh3d\": [{\"colorbar\": {\"outlinewidth\": 0, \"ticks\": \"\"}, \"type\": \"mesh3d\"}], \"parcoords\": [{\"line\": {\"colorbar\": {\"outlinewidth\": 0, \"ticks\": \"\"}}, \"type\": \"parcoords\"}], \"pie\": [{\"automargin\": true, \"type\": \"pie\"}], \"scatter\": [{\"marker\": {\"colorbar\": {\"outlinewidth\": 0, \"ticks\": \"\"}}, \"type\": \"scatter\"}], \"scatter3d\": [{\"line\": {\"colorbar\": {\"outlinewidth\": 0, \"ticks\": \"\"}}, \"marker\": {\"colorbar\": {\"outlinewidth\": 0, \"ticks\": \"\"}}, \"type\": \"scatter3d\"}], \"scattercarpet\": [{\"marker\": {\"colorbar\": {\"outlinewidth\": 0, \"ticks\": \"\"}}, \"type\": \"scattercarpet\"}], \"scattergeo\": [{\"marker\": {\"colorbar\": {\"outlinewidth\": 0, \"ticks\": \"\"}}, \"type\": \"scattergeo\"}], \"scattergl\": [{\"marker\": {\"colorbar\": {\"outlinewidth\": 0, \"ticks\": \"\"}}, \"type\": \"scattergl\"}], \"scattermapbox\": [{\"marker\": {\"colorbar\": {\"outlinewidth\": 0, \"ticks\": \"\"}}, \"type\": \"scattermapbox\"}], \"scatterpolar\": [{\"marker\": {\"colorbar\": {\"outlinewidth\": 0, \"ticks\": \"\"}}, \"type\": \"scatterpolar\"}], \"scatterpolargl\": [{\"marker\": {\"colorbar\": {\"outlinewidth\": 0, \"ticks\": \"\"}}, \"type\": \"scatterpolargl\"}], \"scatterternary\": [{\"marker\": {\"colorbar\": {\"outlinewidth\": 0, \"ticks\": \"\"}}, \"type\": \"scatterternary\"}], \"surface\": [{\"colorbar\": {\"outlinewidth\": 0, \"ticks\": \"\"}, \"colorscale\": [[0.0, \"#0d0887\"], [0.1111111111111111, \"#46039f\"], [0.2222222222222222, \"#7201a8\"], [0.3333333333333333, \"#9c179e\"], [0.4444444444444444, \"#bd3786\"], [0.5555555555555556, \"#d8576b\"], [0.6666666666666666, \"#ed7953\"], [0.7777777777777778, \"#fb9f3a\"], [0.8888888888888888, \"#fdca26\"], [1.0, \"#f0f921\"]], \"type\": \"surface\"}], \"table\": [{\"cells\": {\"fill\": {\"color\": \"#EBF0F8\"}, \"line\": {\"color\": \"white\"}}, \"header\": {\"fill\": {\"color\": \"#C8D4E3\"}, \"line\": {\"color\": \"white\"}}, \"type\": \"table\"}]}, \"layout\": {\"annotationdefaults\": {\"arrowcolor\": \"#2a3f5f\", \"arrowhead\": 0, \"arrowwidth\": 1}, \"coloraxis\": {\"colorbar\": {\"outlinewidth\": 0, \"ticks\": \"\"}}, \"colorscale\": {\"diverging\": [[0, \"#8e0152\"], [0.1, \"#c51b7d\"], [0.2, \"#de77ae\"], [0.3, \"#f1b6da\"], [0.4, \"#fde0ef\"], [0.5, \"#f7f7f7\"], [0.6, \"#e6f5d0\"], [0.7, \"#b8e186\"], [0.8, \"#7fbc41\"], [0.9, \"#4d9221\"], [1, \"#276419\"]], \"sequential\": [[0.0, \"#0d0887\"], [0.1111111111111111, \"#46039f\"], [0.2222222222222222, \"#7201a8\"], [0.3333333333333333, \"#9c179e\"], [0.4444444444444444, \"#bd3786\"], [0.5555555555555556, \"#d8576b\"], [0.6666666666666666, \"#ed7953\"], [0.7777777777777778, \"#fb9f3a\"], [0.8888888888888888, \"#fdca26\"], [1.0, \"#f0f921\"]], \"sequentialminus\": [[0.0, \"#0d0887\"], [0.1111111111111111, \"#46039f\"], [0.2222222222222222, \"#7201a8\"], [0.3333333333333333, \"#9c179e\"], [0.4444444444444444, \"#bd3786\"], [0.5555555555555556, \"#d8576b\"], [0.6666666666666666, \"#ed7953\"], [0.7777777777777778, \"#fb9f3a\"], [0.8888888888888888, \"#fdca26\"], [1.0, \"#f0f921\"]]}, \"colorway\": [\"#636efa\", \"#EF553B\", \"#00cc96\", \"#ab63fa\", \"#FFA15A\", \"#19d3f3\", \"#FF6692\", \"#B6E880\", \"#FF97FF\", \"#FECB52\"], \"font\": {\"color\": \"#2a3f5f\"}, \"geo\": {\"bgcolor\": \"white\", \"lakecolor\": \"white\", \"landcolor\": \"#E5ECF6\", \"showlakes\": true, \"showland\": true, \"subunitcolor\": \"white\"}, \"hoverlabel\": {\"align\": \"left\"}, \"hovermode\": \"closest\", \"mapbox\": {\"style\": \"light\"}, \"paper_bgcolor\": \"white\", \"plot_bgcolor\": \"#E5ECF6\", \"polar\": {\"angularaxis\": {\"gridcolor\": \"white\", \"linecolor\": \"white\", \"ticks\": \"\"}, \"bgcolor\": \"#E5ECF6\", \"radialaxis\": {\"gridcolor\": \"white\", \"linecolor\": \"white\", \"ticks\": \"\"}}, \"scene\": {\"xaxis\": {\"backgroundcolor\": \"#E5ECF6\", \"gridcolor\": \"white\", \"gridwidth\": 2, \"linecolor\": \"white\", \"showbackground\": true, \"ticks\": \"\", \"zerolinecolor\": \"white\"}, \"yaxis\": {\"backgroundcolor\": \"#E5ECF6\", \"gridcolor\": \"white\", \"gridwidth\": 2, \"linecolor\": \"white\", \"showbackground\": true, \"ticks\": \"\", \"zerolinecolor\": \"white\"}, \"zaxis\": {\"backgroundcolor\": \"#E5ECF6\", \"gridcolor\": \"white\", \"gridwidth\": 2, \"linecolor\": \"white\", \"showbackground\": true, \"ticks\": \"\", \"zerolinecolor\": \"white\"}}, \"shapedefaults\": {\"line\": {\"color\": \"#2a3f5f\"}}, \"ternary\": {\"aaxis\": {\"gridcolor\": \"white\", \"linecolor\": \"white\", \"ticks\": \"\"}, \"baxis\": {\"gridcolor\": \"white\", \"linecolor\": \"white\", \"ticks\": \"\"}, \"bgcolor\": \"#E5ECF6\", \"caxis\": {\"gridcolor\": \"white\", \"linecolor\": \"white\", \"ticks\": \"\"}}, \"title\": {\"x\": 0.05}, \"xaxis\": {\"automargin\": true, \"gridcolor\": \"white\", \"linecolor\": \"white\", \"ticks\": \"\", \"title\": {\"standoff\": 15}, \"zerolinecolor\": \"white\", \"zerolinewidth\": 2}, \"yaxis\": {\"automargin\": true, \"gridcolor\": \"white\", \"linecolor\": \"white\", \"ticks\": \"\", \"title\": {\"standoff\": 15}, \"zerolinecolor\": \"white\", \"zerolinewidth\": 2}}}},\n",
       "                        {\"responsive\": true}\n",
       "                    ).then(function(){\n",
       "                            \n",
       "var gd = document.getElementById('233293ca-b6d0-46aa-a72a-b49738922cb6');\n",
       "var x = new MutationObserver(function (mutations, observer) {{\n",
       "        var display = window.getComputedStyle(gd).display;\n",
       "        if (!display || display === 'none') {{\n",
       "            console.log([gd, 'removed!']);\n",
       "            Plotly.purge(gd);\n",
       "            observer.disconnect();\n",
       "        }}\n",
       "}});\n",
       "\n",
       "// Listen for the removal of the full notebook cells\n",
       "var notebookContainer = gd.closest('#notebook-container');\n",
       "if (notebookContainer) {{\n",
       "    x.observe(notebookContainer, {childList: true});\n",
       "}}\n",
       "\n",
       "// Listen for the clearing of the current output cell\n",
       "var outputEl = gd.closest('.output');\n",
       "if (outputEl) {{\n",
       "    x.observe(outputEl, {childList: true});\n",
       "}}\n",
       "\n",
       "                        })\n",
       "                };\n",
       "                });\n",
       "            </script>\n",
       "        </div>"
      ]
     },
     "metadata": {},
     "output_type": "display_data"
    },
    {
     "name": "stdout",
     "output_type": "stream",
     "text": [
      "It's blue's turn!\n",
      "Spymaster is looking at 247 possible clues\n",
      "blue spymaster gives clue: chink, 3\n",
      "blue team guesses: hole\n",
      "Correct! Round score is 1\n",
      "blue team guesses: china\n",
      "Correct! Round score is 2\n",
      "blue team guesses: beijing\n",
      "Dang! Guesser missed the mark\n"
     ]
    },
    {
     "data": {
      "application/vnd.plotly.v1+json": {
       "config": {
        "plotlyServerURL": "https://plot.ly"
       },
       "data": [
        {
         "hovertemplate": "x: %{x}<br>y: %{y}<br>color: %{z}<extra></extra>",
         "type": "image",
         "z": [
          [
           [
            246,
            232,
            204,
            0.25
           ],
           [
            246,
            232,
            204,
            0.25
           ],
           [
            57,
            105,
            145,
            0.25
           ],
           [
            57,
            105,
            145,
            0.25
           ],
           [
            246,
            232,
            204,
            0.25
           ]
          ],
          [
           [
            246,
            232,
            204,
            0.25
           ],
           [
            246,
            232,
            204,
            0.25
           ],
           [
            213,
            64,
            8,
            0.25
           ],
           [
            246,
            232,
            204,
            0.25
           ],
           [
            246,
            232,
            204,
            0.25
           ]
          ],
          [
           [
            194,
            183,
            54,
            0.25
           ],
           [
            246,
            232,
            204,
            0.25
           ],
           [
            246,
            232,
            204,
            0.25
           ],
           [
            213,
            64,
            8,
            0.25
           ],
           [
            213,
            64,
            8,
            0.25
           ]
          ],
          [
           [
            213,
            64,
            8,
            0.25
           ],
           [
            246,
            232,
            204,
            0.25
           ],
           [
            246,
            232,
            204,
            0.25
           ],
           [
            246,
            232,
            204,
            0.25
           ],
           [
            246,
            232,
            204,
            0.25
           ]
          ],
          [
           [
            246,
            232,
            204,
            0.25
           ],
           [
            57,
            105,
            145,
            0.25
           ],
           [
            246,
            232,
            204,
            0.25
           ],
           [
            246,
            232,
            204,
            0.25
           ],
           [
            246,
            232,
            204,
            0.25
           ]
          ]
         ],
         "zmax": [
          255,
          255,
          255,
          1
         ]
        }
       ],
       "layout": {
        "annotations": [
         {
          "showarrow": false,
          "text": "millionaire",
          "x": 0,
          "y": 0
         },
         {
          "showarrow": false,
          "text": "racket",
          "x": 1,
          "y": 0
         },
         {
          "showarrow": false,
          "text": "cricket",
          "x": 2,
          "y": 0
         },
         {
          "showarrow": false,
          "text": "china",
          "x": 3,
          "y": 0
         },
         {
          "showarrow": false,
          "text": "dress",
          "x": 4,
          "y": 0
         },
         {
          "showarrow": false,
          "text": "jupiter",
          "x": 0,
          "y": 1
         },
         {
          "showarrow": false,
          "text": "rabbit",
          "x": 1,
          "y": 1
         },
         {
          "showarrow": false,
          "text": "beijing",
          "x": 2,
          "y": 1
         },
         {
          "showarrow": false,
          "text": "cotton",
          "x": 3,
          "y": 1
         },
         {
          "showarrow": false,
          "text": "roulette",
          "x": 4,
          "y": 1
         },
         {
          "showarrow": false,
          "text": "carrot",
          "x": 0,
          "y": 2
         },
         {
          "showarrow": false,
          "text": "dinosaur",
          "x": 1,
          "y": 2
         },
         {
          "showarrow": false,
          "text": "suit",
          "x": 2,
          "y": 2
         },
         {
          "showarrow": false,
          "text": "ketchup",
          "x": 3,
          "y": 2
         },
         {
          "showarrow": false,
          "text": "paste",
          "x": 4,
          "y": 2
         },
         {
          "showarrow": false,
          "text": "pole",
          "x": 0,
          "y": 3
         },
         {
          "showarrow": false,
          "text": "spell",
          "x": 1,
          "y": 3
         },
         {
          "showarrow": false,
          "text": "amazon",
          "x": 2,
          "y": 3
         },
         {
          "showarrow": false,
          "text": "slip",
          "x": 3,
          "y": 3
         },
         {
          "showarrow": false,
          "text": "slug",
          "x": 4,
          "y": 3
         },
         {
          "showarrow": false,
          "text": "london",
          "x": 0,
          "y": 4
         },
         {
          "showarrow": false,
          "text": "hole",
          "x": 1,
          "y": 4
         },
         {
          "showarrow": false,
          "text": "mail",
          "x": 2,
          "y": 4
         },
         {
          "showarrow": false,
          "text": "spring",
          "x": 3,
          "y": 4
         },
         {
          "showarrow": false,
          "text": "grass",
          "x": 4,
          "y": 4
         }
        ],
        "margin": {
         "t": 60
        },
        "template": {
         "data": {
          "bar": [
           {
            "error_x": {
             "color": "#2a3f5f"
            },
            "error_y": {
             "color": "#2a3f5f"
            },
            "marker": {
             "line": {
              "color": "#E5ECF6",
              "width": 0.5
             }
            },
            "type": "bar"
           }
          ],
          "barpolar": [
           {
            "marker": {
             "line": {
              "color": "#E5ECF6",
              "width": 0.5
             }
            },
            "type": "barpolar"
           }
          ],
          "carpet": [
           {
            "aaxis": {
             "endlinecolor": "#2a3f5f",
             "gridcolor": "white",
             "linecolor": "white",
             "minorgridcolor": "white",
             "startlinecolor": "#2a3f5f"
            },
            "baxis": {
             "endlinecolor": "#2a3f5f",
             "gridcolor": "white",
             "linecolor": "white",
             "minorgridcolor": "white",
             "startlinecolor": "#2a3f5f"
            },
            "type": "carpet"
           }
          ],
          "choropleth": [
           {
            "colorbar": {
             "outlinewidth": 0,
             "ticks": ""
            },
            "type": "choropleth"
           }
          ],
          "contour": [
           {
            "colorbar": {
             "outlinewidth": 0,
             "ticks": ""
            },
            "colorscale": [
             [
              0,
              "#0d0887"
             ],
             [
              0.1111111111111111,
              "#46039f"
             ],
             [
              0.2222222222222222,
              "#7201a8"
             ],
             [
              0.3333333333333333,
              "#9c179e"
             ],
             [
              0.4444444444444444,
              "#bd3786"
             ],
             [
              0.5555555555555556,
              "#d8576b"
             ],
             [
              0.6666666666666666,
              "#ed7953"
             ],
             [
              0.7777777777777778,
              "#fb9f3a"
             ],
             [
              0.8888888888888888,
              "#fdca26"
             ],
             [
              1,
              "#f0f921"
             ]
            ],
            "type": "contour"
           }
          ],
          "contourcarpet": [
           {
            "colorbar": {
             "outlinewidth": 0,
             "ticks": ""
            },
            "type": "contourcarpet"
           }
          ],
          "heatmap": [
           {
            "colorbar": {
             "outlinewidth": 0,
             "ticks": ""
            },
            "colorscale": [
             [
              0,
              "#0d0887"
             ],
             [
              0.1111111111111111,
              "#46039f"
             ],
             [
              0.2222222222222222,
              "#7201a8"
             ],
             [
              0.3333333333333333,
              "#9c179e"
             ],
             [
              0.4444444444444444,
              "#bd3786"
             ],
             [
              0.5555555555555556,
              "#d8576b"
             ],
             [
              0.6666666666666666,
              "#ed7953"
             ],
             [
              0.7777777777777778,
              "#fb9f3a"
             ],
             [
              0.8888888888888888,
              "#fdca26"
             ],
             [
              1,
              "#f0f921"
             ]
            ],
            "type": "heatmap"
           }
          ],
          "heatmapgl": [
           {
            "colorbar": {
             "outlinewidth": 0,
             "ticks": ""
            },
            "colorscale": [
             [
              0,
              "#0d0887"
             ],
             [
              0.1111111111111111,
              "#46039f"
             ],
             [
              0.2222222222222222,
              "#7201a8"
             ],
             [
              0.3333333333333333,
              "#9c179e"
             ],
             [
              0.4444444444444444,
              "#bd3786"
             ],
             [
              0.5555555555555556,
              "#d8576b"
             ],
             [
              0.6666666666666666,
              "#ed7953"
             ],
             [
              0.7777777777777778,
              "#fb9f3a"
             ],
             [
              0.8888888888888888,
              "#fdca26"
             ],
             [
              1,
              "#f0f921"
             ]
            ],
            "type": "heatmapgl"
           }
          ],
          "histogram": [
           {
            "marker": {
             "colorbar": {
              "outlinewidth": 0,
              "ticks": ""
             }
            },
            "type": "histogram"
           }
          ],
          "histogram2d": [
           {
            "colorbar": {
             "outlinewidth": 0,
             "ticks": ""
            },
            "colorscale": [
             [
              0,
              "#0d0887"
             ],
             [
              0.1111111111111111,
              "#46039f"
             ],
             [
              0.2222222222222222,
              "#7201a8"
             ],
             [
              0.3333333333333333,
              "#9c179e"
             ],
             [
              0.4444444444444444,
              "#bd3786"
             ],
             [
              0.5555555555555556,
              "#d8576b"
             ],
             [
              0.6666666666666666,
              "#ed7953"
             ],
             [
              0.7777777777777778,
              "#fb9f3a"
             ],
             [
              0.8888888888888888,
              "#fdca26"
             ],
             [
              1,
              "#f0f921"
             ]
            ],
            "type": "histogram2d"
           }
          ],
          "histogram2dcontour": [
           {
            "colorbar": {
             "outlinewidth": 0,
             "ticks": ""
            },
            "colorscale": [
             [
              0,
              "#0d0887"
             ],
             [
              0.1111111111111111,
              "#46039f"
             ],
             [
              0.2222222222222222,
              "#7201a8"
             ],
             [
              0.3333333333333333,
              "#9c179e"
             ],
             [
              0.4444444444444444,
              "#bd3786"
             ],
             [
              0.5555555555555556,
              "#d8576b"
             ],
             [
              0.6666666666666666,
              "#ed7953"
             ],
             [
              0.7777777777777778,
              "#fb9f3a"
             ],
             [
              0.8888888888888888,
              "#fdca26"
             ],
             [
              1,
              "#f0f921"
             ]
            ],
            "type": "histogram2dcontour"
           }
          ],
          "mesh3d": [
           {
            "colorbar": {
             "outlinewidth": 0,
             "ticks": ""
            },
            "type": "mesh3d"
           }
          ],
          "parcoords": [
           {
            "line": {
             "colorbar": {
              "outlinewidth": 0,
              "ticks": ""
             }
            },
            "type": "parcoords"
           }
          ],
          "pie": [
           {
            "automargin": true,
            "type": "pie"
           }
          ],
          "scatter": [
           {
            "marker": {
             "colorbar": {
              "outlinewidth": 0,
              "ticks": ""
             }
            },
            "type": "scatter"
           }
          ],
          "scatter3d": [
           {
            "line": {
             "colorbar": {
              "outlinewidth": 0,
              "ticks": ""
             }
            },
            "marker": {
             "colorbar": {
              "outlinewidth": 0,
              "ticks": ""
             }
            },
            "type": "scatter3d"
           }
          ],
          "scattercarpet": [
           {
            "marker": {
             "colorbar": {
              "outlinewidth": 0,
              "ticks": ""
             }
            },
            "type": "scattercarpet"
           }
          ],
          "scattergeo": [
           {
            "marker": {
             "colorbar": {
              "outlinewidth": 0,
              "ticks": ""
             }
            },
            "type": "scattergeo"
           }
          ],
          "scattergl": [
           {
            "marker": {
             "colorbar": {
              "outlinewidth": 0,
              "ticks": ""
             }
            },
            "type": "scattergl"
           }
          ],
          "scattermapbox": [
           {
            "marker": {
             "colorbar": {
              "outlinewidth": 0,
              "ticks": ""
             }
            },
            "type": "scattermapbox"
           }
          ],
          "scatterpolar": [
           {
            "marker": {
             "colorbar": {
              "outlinewidth": 0,
              "ticks": ""
             }
            },
            "type": "scatterpolar"
           }
          ],
          "scatterpolargl": [
           {
            "marker": {
             "colorbar": {
              "outlinewidth": 0,
              "ticks": ""
             }
            },
            "type": "scatterpolargl"
           }
          ],
          "scatterternary": [
           {
            "marker": {
             "colorbar": {
              "outlinewidth": 0,
              "ticks": ""
             }
            },
            "type": "scatterternary"
           }
          ],
          "surface": [
           {
            "colorbar": {
             "outlinewidth": 0,
             "ticks": ""
            },
            "colorscale": [
             [
              0,
              "#0d0887"
             ],
             [
              0.1111111111111111,
              "#46039f"
             ],
             [
              0.2222222222222222,
              "#7201a8"
             ],
             [
              0.3333333333333333,
              "#9c179e"
             ],
             [
              0.4444444444444444,
              "#bd3786"
             ],
             [
              0.5555555555555556,
              "#d8576b"
             ],
             [
              0.6666666666666666,
              "#ed7953"
             ],
             [
              0.7777777777777778,
              "#fb9f3a"
             ],
             [
              0.8888888888888888,
              "#fdca26"
             ],
             [
              1,
              "#f0f921"
             ]
            ],
            "type": "surface"
           }
          ],
          "table": [
           {
            "cells": {
             "fill": {
              "color": "#EBF0F8"
             },
             "line": {
              "color": "white"
             }
            },
            "header": {
             "fill": {
              "color": "#C8D4E3"
             },
             "line": {
              "color": "white"
             }
            },
            "type": "table"
           }
          ]
         },
         "layout": {
          "annotationdefaults": {
           "arrowcolor": "#2a3f5f",
           "arrowhead": 0,
           "arrowwidth": 1
          },
          "coloraxis": {
           "colorbar": {
            "outlinewidth": 0,
            "ticks": ""
           }
          },
          "colorscale": {
           "diverging": [
            [
             0,
             "#8e0152"
            ],
            [
             0.1,
             "#c51b7d"
            ],
            [
             0.2,
             "#de77ae"
            ],
            [
             0.3,
             "#f1b6da"
            ],
            [
             0.4,
             "#fde0ef"
            ],
            [
             0.5,
             "#f7f7f7"
            ],
            [
             0.6,
             "#e6f5d0"
            ],
            [
             0.7,
             "#b8e186"
            ],
            [
             0.8,
             "#7fbc41"
            ],
            [
             0.9,
             "#4d9221"
            ],
            [
             1,
             "#276419"
            ]
           ],
           "sequential": [
            [
             0,
             "#0d0887"
            ],
            [
             0.1111111111111111,
             "#46039f"
            ],
            [
             0.2222222222222222,
             "#7201a8"
            ],
            [
             0.3333333333333333,
             "#9c179e"
            ],
            [
             0.4444444444444444,
             "#bd3786"
            ],
            [
             0.5555555555555556,
             "#d8576b"
            ],
            [
             0.6666666666666666,
             "#ed7953"
            ],
            [
             0.7777777777777778,
             "#fb9f3a"
            ],
            [
             0.8888888888888888,
             "#fdca26"
            ],
            [
             1,
             "#f0f921"
            ]
           ],
           "sequentialminus": [
            [
             0,
             "#0d0887"
            ],
            [
             0.1111111111111111,
             "#46039f"
            ],
            [
             0.2222222222222222,
             "#7201a8"
            ],
            [
             0.3333333333333333,
             "#9c179e"
            ],
            [
             0.4444444444444444,
             "#bd3786"
            ],
            [
             0.5555555555555556,
             "#d8576b"
            ],
            [
             0.6666666666666666,
             "#ed7953"
            ],
            [
             0.7777777777777778,
             "#fb9f3a"
            ],
            [
             0.8888888888888888,
             "#fdca26"
            ],
            [
             1,
             "#f0f921"
            ]
           ]
          },
          "colorway": [
           "#636efa",
           "#EF553B",
           "#00cc96",
           "#ab63fa",
           "#FFA15A",
           "#19d3f3",
           "#FF6692",
           "#B6E880",
           "#FF97FF",
           "#FECB52"
          ],
          "font": {
           "color": "#2a3f5f"
          },
          "geo": {
           "bgcolor": "white",
           "lakecolor": "white",
           "landcolor": "#E5ECF6",
           "showlakes": true,
           "showland": true,
           "subunitcolor": "white"
          },
          "hoverlabel": {
           "align": "left"
          },
          "hovermode": "closest",
          "mapbox": {
           "style": "light"
          },
          "paper_bgcolor": "white",
          "plot_bgcolor": "#E5ECF6",
          "polar": {
           "angularaxis": {
            "gridcolor": "white",
            "linecolor": "white",
            "ticks": ""
           },
           "bgcolor": "#E5ECF6",
           "radialaxis": {
            "gridcolor": "white",
            "linecolor": "white",
            "ticks": ""
           }
          },
          "scene": {
           "xaxis": {
            "backgroundcolor": "#E5ECF6",
            "gridcolor": "white",
            "gridwidth": 2,
            "linecolor": "white",
            "showbackground": true,
            "ticks": "",
            "zerolinecolor": "white"
           },
           "yaxis": {
            "backgroundcolor": "#E5ECF6",
            "gridcolor": "white",
            "gridwidth": 2,
            "linecolor": "white",
            "showbackground": true,
            "ticks": "",
            "zerolinecolor": "white"
           },
           "zaxis": {
            "backgroundcolor": "#E5ECF6",
            "gridcolor": "white",
            "gridwidth": 2,
            "linecolor": "white",
            "showbackground": true,
            "ticks": "",
            "zerolinecolor": "white"
           }
          },
          "shapedefaults": {
           "line": {
            "color": "#2a3f5f"
           }
          },
          "ternary": {
           "aaxis": {
            "gridcolor": "white",
            "linecolor": "white",
            "ticks": ""
           },
           "baxis": {
            "gridcolor": "white",
            "linecolor": "white",
            "ticks": ""
           },
           "bgcolor": "#E5ECF6",
           "caxis": {
            "gridcolor": "white",
            "linecolor": "white",
            "ticks": ""
           }
          },
          "title": {
           "x": 0.05
          },
          "xaxis": {
           "automargin": true,
           "gridcolor": "white",
           "linecolor": "white",
           "ticks": "",
           "title": {
            "standoff": 15
           },
           "zerolinecolor": "white",
           "zerolinewidth": 2
          },
          "yaxis": {
           "automargin": true,
           "gridcolor": "white",
           "linecolor": "white",
           "ticks": "",
           "title": {
            "standoff": 15
           },
           "zerolinecolor": "white",
           "zerolinewidth": 2
          }
         }
        }
       }
      },
      "text/html": [
       "<div>\n",
       "        \n",
       "        \n",
       "            <div id=\"82e72f1e-2abd-492a-928e-2fe65e1fa34d\" class=\"plotly-graph-div\" style=\"height:525px; width:100%;\"></div>\n",
       "            <script type=\"text/javascript\">\n",
       "                require([\"plotly\"], function(Plotly) {\n",
       "                    window.PLOTLYENV=window.PLOTLYENV || {};\n",
       "                    \n",
       "                if (document.getElementById(\"82e72f1e-2abd-492a-928e-2fe65e1fa34d\")) {\n",
       "                    Plotly.newPlot(\n",
       "                        '82e72f1e-2abd-492a-928e-2fe65e1fa34d',\n",
       "                        [{\"hovertemplate\": \"x: %{x}<br>y: %{y}<br>color: %{z}<extra></extra>\", \"type\": \"image\", \"z\": [[[246.0, 232.0, 204.0, 0.25], [246.0, 232.0, 204.0, 0.25], [57.0, 105.0, 145.0, 0.25], [57.0, 105.0, 145.0, 0.25], [246.0, 232.0, 204.0, 0.25]], [[246.0, 232.0, 204.0, 0.25], [246.0, 232.0, 204.0, 0.25], [213.0, 64.0, 8.0, 0.25], [246.0, 232.0, 204.0, 0.25], [246.0, 232.0, 204.0, 0.25]], [[194.0, 183.0, 54.0, 0.25], [246.0, 232.0, 204.0, 0.25], [246.0, 232.0, 204.0, 0.25], [213.0, 64.0, 8.0, 0.25], [213.0, 64.0, 8.0, 0.25]], [[213.0, 64.0, 8.0, 0.25], [246.0, 232.0, 204.0, 0.25], [246.0, 232.0, 204.0, 0.25], [246.0, 232.0, 204.0, 0.25], [246.0, 232.0, 204.0, 0.25]], [[246.0, 232.0, 204.0, 0.25], [57.0, 105.0, 145.0, 0.25], [246.0, 232.0, 204.0, 0.25], [246.0, 232.0, 204.0, 0.25], [246.0, 232.0, 204.0, 0.25]]], \"zmax\": [255, 255, 255, 1]}],\n",
       "                        {\"annotations\": [{\"showarrow\": false, \"text\": \"millionaire\", \"x\": 0, \"y\": 0}, {\"showarrow\": false, \"text\": \"racket\", \"x\": 1, \"y\": 0}, {\"showarrow\": false, \"text\": \"cricket\", \"x\": 2, \"y\": 0}, {\"showarrow\": false, \"text\": \"china\", \"x\": 3, \"y\": 0}, {\"showarrow\": false, \"text\": \"dress\", \"x\": 4, \"y\": 0}, {\"showarrow\": false, \"text\": \"jupiter\", \"x\": 0, \"y\": 1}, {\"showarrow\": false, \"text\": \"rabbit\", \"x\": 1, \"y\": 1}, {\"showarrow\": false, \"text\": \"beijing\", \"x\": 2, \"y\": 1}, {\"showarrow\": false, \"text\": \"cotton\", \"x\": 3, \"y\": 1}, {\"showarrow\": false, \"text\": \"roulette\", \"x\": 4, \"y\": 1}, {\"showarrow\": false, \"text\": \"carrot\", \"x\": 0, \"y\": 2}, {\"showarrow\": false, \"text\": \"dinosaur\", \"x\": 1, \"y\": 2}, {\"showarrow\": false, \"text\": \"suit\", \"x\": 2, \"y\": 2}, {\"showarrow\": false, \"text\": \"ketchup\", \"x\": 3, \"y\": 2}, {\"showarrow\": false, \"text\": \"paste\", \"x\": 4, \"y\": 2}, {\"showarrow\": false, \"text\": \"pole\", \"x\": 0, \"y\": 3}, {\"showarrow\": false, \"text\": \"spell\", \"x\": 1, \"y\": 3}, {\"showarrow\": false, \"text\": \"amazon\", \"x\": 2, \"y\": 3}, {\"showarrow\": false, \"text\": \"slip\", \"x\": 3, \"y\": 3}, {\"showarrow\": false, \"text\": \"slug\", \"x\": 4, \"y\": 3}, {\"showarrow\": false, \"text\": \"london\", \"x\": 0, \"y\": 4}, {\"showarrow\": false, \"text\": \"hole\", \"x\": 1, \"y\": 4}, {\"showarrow\": false, \"text\": \"mail\", \"x\": 2, \"y\": 4}, {\"showarrow\": false, \"text\": \"spring\", \"x\": 3, \"y\": 4}, {\"showarrow\": false, \"text\": \"grass\", \"x\": 4, \"y\": 4}], \"margin\": {\"t\": 60}, \"template\": {\"data\": {\"bar\": [{\"error_x\": {\"color\": \"#2a3f5f\"}, \"error_y\": {\"color\": \"#2a3f5f\"}, \"marker\": {\"line\": {\"color\": \"#E5ECF6\", \"width\": 0.5}}, \"type\": \"bar\"}], \"barpolar\": [{\"marker\": {\"line\": {\"color\": \"#E5ECF6\", \"width\": 0.5}}, \"type\": \"barpolar\"}], \"carpet\": [{\"aaxis\": {\"endlinecolor\": \"#2a3f5f\", \"gridcolor\": \"white\", \"linecolor\": \"white\", \"minorgridcolor\": \"white\", \"startlinecolor\": \"#2a3f5f\"}, \"baxis\": {\"endlinecolor\": \"#2a3f5f\", \"gridcolor\": \"white\", \"linecolor\": \"white\", \"minorgridcolor\": \"white\", \"startlinecolor\": \"#2a3f5f\"}, \"type\": \"carpet\"}], \"choropleth\": [{\"colorbar\": {\"outlinewidth\": 0, \"ticks\": \"\"}, \"type\": \"choropleth\"}], \"contour\": [{\"colorbar\": {\"outlinewidth\": 0, \"ticks\": \"\"}, \"colorscale\": [[0.0, \"#0d0887\"], [0.1111111111111111, \"#46039f\"], [0.2222222222222222, \"#7201a8\"], [0.3333333333333333, \"#9c179e\"], [0.4444444444444444, \"#bd3786\"], [0.5555555555555556, \"#d8576b\"], [0.6666666666666666, \"#ed7953\"], [0.7777777777777778, \"#fb9f3a\"], [0.8888888888888888, \"#fdca26\"], [1.0, \"#f0f921\"]], \"type\": \"contour\"}], \"contourcarpet\": [{\"colorbar\": {\"outlinewidth\": 0, \"ticks\": \"\"}, \"type\": \"contourcarpet\"}], \"heatmap\": [{\"colorbar\": {\"outlinewidth\": 0, \"ticks\": \"\"}, \"colorscale\": [[0.0, \"#0d0887\"], [0.1111111111111111, \"#46039f\"], [0.2222222222222222, \"#7201a8\"], [0.3333333333333333, \"#9c179e\"], [0.4444444444444444, \"#bd3786\"], [0.5555555555555556, \"#d8576b\"], [0.6666666666666666, \"#ed7953\"], [0.7777777777777778, \"#fb9f3a\"], [0.8888888888888888, \"#fdca26\"], [1.0, \"#f0f921\"]], \"type\": \"heatmap\"}], \"heatmapgl\": [{\"colorbar\": {\"outlinewidth\": 0, \"ticks\": \"\"}, \"colorscale\": [[0.0, \"#0d0887\"], [0.1111111111111111, \"#46039f\"], [0.2222222222222222, \"#7201a8\"], [0.3333333333333333, \"#9c179e\"], [0.4444444444444444, \"#bd3786\"], [0.5555555555555556, \"#d8576b\"], [0.6666666666666666, \"#ed7953\"], [0.7777777777777778, \"#fb9f3a\"], [0.8888888888888888, \"#fdca26\"], [1.0, \"#f0f921\"]], \"type\": \"heatmapgl\"}], \"histogram\": [{\"marker\": {\"colorbar\": {\"outlinewidth\": 0, \"ticks\": \"\"}}, \"type\": \"histogram\"}], \"histogram2d\": [{\"colorbar\": {\"outlinewidth\": 0, \"ticks\": \"\"}, \"colorscale\": [[0.0, \"#0d0887\"], [0.1111111111111111, \"#46039f\"], [0.2222222222222222, \"#7201a8\"], [0.3333333333333333, \"#9c179e\"], [0.4444444444444444, \"#bd3786\"], [0.5555555555555556, \"#d8576b\"], [0.6666666666666666, \"#ed7953\"], [0.7777777777777778, \"#fb9f3a\"], [0.8888888888888888, \"#fdca26\"], [1.0, \"#f0f921\"]], \"type\": \"histogram2d\"}], \"histogram2dcontour\": [{\"colorbar\": {\"outlinewidth\": 0, \"ticks\": \"\"}, \"colorscale\": [[0.0, \"#0d0887\"], [0.1111111111111111, \"#46039f\"], [0.2222222222222222, \"#7201a8\"], [0.3333333333333333, \"#9c179e\"], [0.4444444444444444, \"#bd3786\"], [0.5555555555555556, \"#d8576b\"], [0.6666666666666666, \"#ed7953\"], [0.7777777777777778, \"#fb9f3a\"], [0.8888888888888888, \"#fdca26\"], [1.0, \"#f0f921\"]], \"type\": \"histogram2dcontour\"}], \"mesh3d\": [{\"colorbar\": {\"outlinewidth\": 0, \"ticks\": \"\"}, \"type\": \"mesh3d\"}], \"parcoords\": [{\"line\": {\"colorbar\": {\"outlinewidth\": 0, \"ticks\": \"\"}}, \"type\": \"parcoords\"}], \"pie\": [{\"automargin\": true, \"type\": \"pie\"}], \"scatter\": [{\"marker\": {\"colorbar\": {\"outlinewidth\": 0, \"ticks\": \"\"}}, \"type\": \"scatter\"}], \"scatter3d\": [{\"line\": {\"colorbar\": {\"outlinewidth\": 0, \"ticks\": \"\"}}, \"marker\": {\"colorbar\": {\"outlinewidth\": 0, \"ticks\": \"\"}}, \"type\": \"scatter3d\"}], \"scattercarpet\": [{\"marker\": {\"colorbar\": {\"outlinewidth\": 0, \"ticks\": \"\"}}, \"type\": \"scattercarpet\"}], \"scattergeo\": [{\"marker\": {\"colorbar\": {\"outlinewidth\": 0, \"ticks\": \"\"}}, \"type\": \"scattergeo\"}], \"scattergl\": [{\"marker\": {\"colorbar\": {\"outlinewidth\": 0, \"ticks\": \"\"}}, \"type\": \"scattergl\"}], \"scattermapbox\": [{\"marker\": {\"colorbar\": {\"outlinewidth\": 0, \"ticks\": \"\"}}, \"type\": \"scattermapbox\"}], \"scatterpolar\": [{\"marker\": {\"colorbar\": {\"outlinewidth\": 0, \"ticks\": \"\"}}, \"type\": \"scatterpolar\"}], \"scatterpolargl\": [{\"marker\": {\"colorbar\": {\"outlinewidth\": 0, \"ticks\": \"\"}}, \"type\": \"scatterpolargl\"}], \"scatterternary\": [{\"marker\": {\"colorbar\": {\"outlinewidth\": 0, \"ticks\": \"\"}}, \"type\": \"scatterternary\"}], \"surface\": [{\"colorbar\": {\"outlinewidth\": 0, \"ticks\": \"\"}, \"colorscale\": [[0.0, \"#0d0887\"], [0.1111111111111111, \"#46039f\"], [0.2222222222222222, \"#7201a8\"], [0.3333333333333333, \"#9c179e\"], [0.4444444444444444, \"#bd3786\"], [0.5555555555555556, \"#d8576b\"], [0.6666666666666666, \"#ed7953\"], [0.7777777777777778, \"#fb9f3a\"], [0.8888888888888888, \"#fdca26\"], [1.0, \"#f0f921\"]], \"type\": \"surface\"}], \"table\": [{\"cells\": {\"fill\": {\"color\": \"#EBF0F8\"}, \"line\": {\"color\": \"white\"}}, \"header\": {\"fill\": {\"color\": \"#C8D4E3\"}, \"line\": {\"color\": \"white\"}}, \"type\": \"table\"}]}, \"layout\": {\"annotationdefaults\": {\"arrowcolor\": \"#2a3f5f\", \"arrowhead\": 0, \"arrowwidth\": 1}, \"coloraxis\": {\"colorbar\": {\"outlinewidth\": 0, \"ticks\": \"\"}}, \"colorscale\": {\"diverging\": [[0, \"#8e0152\"], [0.1, \"#c51b7d\"], [0.2, \"#de77ae\"], [0.3, \"#f1b6da\"], [0.4, \"#fde0ef\"], [0.5, \"#f7f7f7\"], [0.6, \"#e6f5d0\"], [0.7, \"#b8e186\"], [0.8, \"#7fbc41\"], [0.9, \"#4d9221\"], [1, \"#276419\"]], \"sequential\": [[0.0, \"#0d0887\"], [0.1111111111111111, \"#46039f\"], [0.2222222222222222, \"#7201a8\"], [0.3333333333333333, \"#9c179e\"], [0.4444444444444444, \"#bd3786\"], [0.5555555555555556, \"#d8576b\"], [0.6666666666666666, \"#ed7953\"], [0.7777777777777778, \"#fb9f3a\"], [0.8888888888888888, \"#fdca26\"], [1.0, \"#f0f921\"]], \"sequentialminus\": [[0.0, \"#0d0887\"], [0.1111111111111111, \"#46039f\"], [0.2222222222222222, \"#7201a8\"], [0.3333333333333333, \"#9c179e\"], [0.4444444444444444, \"#bd3786\"], [0.5555555555555556, \"#d8576b\"], [0.6666666666666666, \"#ed7953\"], [0.7777777777777778, \"#fb9f3a\"], [0.8888888888888888, \"#fdca26\"], [1.0, \"#f0f921\"]]}, \"colorway\": [\"#636efa\", \"#EF553B\", \"#00cc96\", \"#ab63fa\", \"#FFA15A\", \"#19d3f3\", \"#FF6692\", \"#B6E880\", \"#FF97FF\", \"#FECB52\"], \"font\": {\"color\": \"#2a3f5f\"}, \"geo\": {\"bgcolor\": \"white\", \"lakecolor\": \"white\", \"landcolor\": \"#E5ECF6\", \"showlakes\": true, \"showland\": true, \"subunitcolor\": \"white\"}, \"hoverlabel\": {\"align\": \"left\"}, \"hovermode\": \"closest\", \"mapbox\": {\"style\": \"light\"}, \"paper_bgcolor\": \"white\", \"plot_bgcolor\": \"#E5ECF6\", \"polar\": {\"angularaxis\": {\"gridcolor\": \"white\", \"linecolor\": \"white\", \"ticks\": \"\"}, \"bgcolor\": \"#E5ECF6\", \"radialaxis\": {\"gridcolor\": \"white\", \"linecolor\": \"white\", \"ticks\": \"\"}}, \"scene\": {\"xaxis\": {\"backgroundcolor\": \"#E5ECF6\", \"gridcolor\": \"white\", \"gridwidth\": 2, \"linecolor\": \"white\", \"showbackground\": true, \"ticks\": \"\", \"zerolinecolor\": \"white\"}, \"yaxis\": {\"backgroundcolor\": \"#E5ECF6\", \"gridcolor\": \"white\", \"gridwidth\": 2, \"linecolor\": \"white\", \"showbackground\": true, \"ticks\": \"\", \"zerolinecolor\": \"white\"}, \"zaxis\": {\"backgroundcolor\": \"#E5ECF6\", \"gridcolor\": \"white\", \"gridwidth\": 2, \"linecolor\": \"white\", \"showbackground\": true, \"ticks\": \"\", \"zerolinecolor\": \"white\"}}, \"shapedefaults\": {\"line\": {\"color\": \"#2a3f5f\"}}, \"ternary\": {\"aaxis\": {\"gridcolor\": \"white\", \"linecolor\": \"white\", \"ticks\": \"\"}, \"baxis\": {\"gridcolor\": \"white\", \"linecolor\": \"white\", \"ticks\": \"\"}, \"bgcolor\": \"#E5ECF6\", \"caxis\": {\"gridcolor\": \"white\", \"linecolor\": \"white\", \"ticks\": \"\"}}, \"title\": {\"x\": 0.05}, \"xaxis\": {\"automargin\": true, \"gridcolor\": \"white\", \"linecolor\": \"white\", \"ticks\": \"\", \"title\": {\"standoff\": 15}, \"zerolinecolor\": \"white\", \"zerolinewidth\": 2}, \"yaxis\": {\"automargin\": true, \"gridcolor\": \"white\", \"linecolor\": \"white\", \"ticks\": \"\", \"title\": {\"standoff\": 15}, \"zerolinecolor\": \"white\", \"zerolinewidth\": 2}}}},\n",
       "                        {\"responsive\": true}\n",
       "                    ).then(function(){\n",
       "                            \n",
       "var gd = document.getElementById('82e72f1e-2abd-492a-928e-2fe65e1fa34d');\n",
       "var x = new MutationObserver(function (mutations, observer) {{\n",
       "        var display = window.getComputedStyle(gd).display;\n",
       "        if (!display || display === 'none') {{\n",
       "            console.log([gd, 'removed!']);\n",
       "            Plotly.purge(gd);\n",
       "            observer.disconnect();\n",
       "        }}\n",
       "}});\n",
       "\n",
       "// Listen for the removal of the full notebook cells\n",
       "var notebookContainer = gd.closest('#notebook-container');\n",
       "if (notebookContainer) {{\n",
       "    x.observe(notebookContainer, {childList: true});\n",
       "}}\n",
       "\n",
       "// Listen for the clearing of the current output cell\n",
       "var outputEl = gd.closest('.output');\n",
       "if (outputEl) {{\n",
       "    x.observe(outputEl, {childList: true});\n",
       "}}\n",
       "\n",
       "                        })\n",
       "                };\n",
       "                });\n",
       "            </script>\n",
       "        </div>"
      ]
     },
     "metadata": {},
     "output_type": "display_data"
    },
    {
     "name": "stdout",
     "output_type": "stream",
     "text": [
      "It's red's turn!\n",
      "Spymaster is looking at 11 possible clues\n",
      "red spymaster gives clue: rabbits, 1\n",
      "red team guesses: rabbit\n",
      "Correct! Round score is 1\n"
     ]
    },
    {
     "data": {
      "application/vnd.plotly.v1+json": {
       "config": {
        "plotlyServerURL": "https://plot.ly"
       },
       "data": [
        {
         "hovertemplate": "x: %{x}<br>y: %{y}<br>color: %{z}<extra></extra>",
         "type": "image",
         "z": [
          [
           [
            246,
            232,
            204,
            0.25
           ],
           [
            246,
            232,
            204,
            0.25
           ],
           [
            57,
            105,
            145,
            0.25
           ],
           [
            57,
            105,
            145,
            0.25
           ],
           [
            246,
            232,
            204,
            0.25
           ]
          ],
          [
           [
            246,
            232,
            204,
            0.25
           ],
           [
            213,
            64,
            8,
            0.25
           ],
           [
            213,
            64,
            8,
            0.25
           ],
           [
            246,
            232,
            204,
            0.25
           ],
           [
            246,
            232,
            204,
            0.25
           ]
          ],
          [
           [
            194,
            183,
            54,
            0.25
           ],
           [
            246,
            232,
            204,
            0.25
           ],
           [
            246,
            232,
            204,
            0.25
           ],
           [
            213,
            64,
            8,
            0.25
           ],
           [
            213,
            64,
            8,
            0.25
           ]
          ],
          [
           [
            213,
            64,
            8,
            0.25
           ],
           [
            246,
            232,
            204,
            0.25
           ],
           [
            246,
            232,
            204,
            0.25
           ],
           [
            246,
            232,
            204,
            0.25
           ],
           [
            246,
            232,
            204,
            0.25
           ]
          ],
          [
           [
            246,
            232,
            204,
            0.25
           ],
           [
            57,
            105,
            145,
            0.25
           ],
           [
            246,
            232,
            204,
            0.25
           ],
           [
            246,
            232,
            204,
            0.25
           ],
           [
            246,
            232,
            204,
            0.25
           ]
          ]
         ],
         "zmax": [
          255,
          255,
          255,
          1
         ]
        }
       ],
       "layout": {
        "annotations": [
         {
          "showarrow": false,
          "text": "millionaire",
          "x": 0,
          "y": 0
         },
         {
          "showarrow": false,
          "text": "racket",
          "x": 1,
          "y": 0
         },
         {
          "showarrow": false,
          "text": "cricket",
          "x": 2,
          "y": 0
         },
         {
          "showarrow": false,
          "text": "china",
          "x": 3,
          "y": 0
         },
         {
          "showarrow": false,
          "text": "dress",
          "x": 4,
          "y": 0
         },
         {
          "showarrow": false,
          "text": "jupiter",
          "x": 0,
          "y": 1
         },
         {
          "showarrow": false,
          "text": "rabbit",
          "x": 1,
          "y": 1
         },
         {
          "showarrow": false,
          "text": "beijing",
          "x": 2,
          "y": 1
         },
         {
          "showarrow": false,
          "text": "cotton",
          "x": 3,
          "y": 1
         },
         {
          "showarrow": false,
          "text": "roulette",
          "x": 4,
          "y": 1
         },
         {
          "showarrow": false,
          "text": "carrot",
          "x": 0,
          "y": 2
         },
         {
          "showarrow": false,
          "text": "dinosaur",
          "x": 1,
          "y": 2
         },
         {
          "showarrow": false,
          "text": "suit",
          "x": 2,
          "y": 2
         },
         {
          "showarrow": false,
          "text": "ketchup",
          "x": 3,
          "y": 2
         },
         {
          "showarrow": false,
          "text": "paste",
          "x": 4,
          "y": 2
         },
         {
          "showarrow": false,
          "text": "pole",
          "x": 0,
          "y": 3
         },
         {
          "showarrow": false,
          "text": "spell",
          "x": 1,
          "y": 3
         },
         {
          "showarrow": false,
          "text": "amazon",
          "x": 2,
          "y": 3
         },
         {
          "showarrow": false,
          "text": "slip",
          "x": 3,
          "y": 3
         },
         {
          "showarrow": false,
          "text": "slug",
          "x": 4,
          "y": 3
         },
         {
          "showarrow": false,
          "text": "london",
          "x": 0,
          "y": 4
         },
         {
          "showarrow": false,
          "text": "hole",
          "x": 1,
          "y": 4
         },
         {
          "showarrow": false,
          "text": "mail",
          "x": 2,
          "y": 4
         },
         {
          "showarrow": false,
          "text": "spring",
          "x": 3,
          "y": 4
         },
         {
          "showarrow": false,
          "text": "grass",
          "x": 4,
          "y": 4
         }
        ],
        "margin": {
         "t": 60
        },
        "template": {
         "data": {
          "bar": [
           {
            "error_x": {
             "color": "#2a3f5f"
            },
            "error_y": {
             "color": "#2a3f5f"
            },
            "marker": {
             "line": {
              "color": "#E5ECF6",
              "width": 0.5
             }
            },
            "type": "bar"
           }
          ],
          "barpolar": [
           {
            "marker": {
             "line": {
              "color": "#E5ECF6",
              "width": 0.5
             }
            },
            "type": "barpolar"
           }
          ],
          "carpet": [
           {
            "aaxis": {
             "endlinecolor": "#2a3f5f",
             "gridcolor": "white",
             "linecolor": "white",
             "minorgridcolor": "white",
             "startlinecolor": "#2a3f5f"
            },
            "baxis": {
             "endlinecolor": "#2a3f5f",
             "gridcolor": "white",
             "linecolor": "white",
             "minorgridcolor": "white",
             "startlinecolor": "#2a3f5f"
            },
            "type": "carpet"
           }
          ],
          "choropleth": [
           {
            "colorbar": {
             "outlinewidth": 0,
             "ticks": ""
            },
            "type": "choropleth"
           }
          ],
          "contour": [
           {
            "colorbar": {
             "outlinewidth": 0,
             "ticks": ""
            },
            "colorscale": [
             [
              0,
              "#0d0887"
             ],
             [
              0.1111111111111111,
              "#46039f"
             ],
             [
              0.2222222222222222,
              "#7201a8"
             ],
             [
              0.3333333333333333,
              "#9c179e"
             ],
             [
              0.4444444444444444,
              "#bd3786"
             ],
             [
              0.5555555555555556,
              "#d8576b"
             ],
             [
              0.6666666666666666,
              "#ed7953"
             ],
             [
              0.7777777777777778,
              "#fb9f3a"
             ],
             [
              0.8888888888888888,
              "#fdca26"
             ],
             [
              1,
              "#f0f921"
             ]
            ],
            "type": "contour"
           }
          ],
          "contourcarpet": [
           {
            "colorbar": {
             "outlinewidth": 0,
             "ticks": ""
            },
            "type": "contourcarpet"
           }
          ],
          "heatmap": [
           {
            "colorbar": {
             "outlinewidth": 0,
             "ticks": ""
            },
            "colorscale": [
             [
              0,
              "#0d0887"
             ],
             [
              0.1111111111111111,
              "#46039f"
             ],
             [
              0.2222222222222222,
              "#7201a8"
             ],
             [
              0.3333333333333333,
              "#9c179e"
             ],
             [
              0.4444444444444444,
              "#bd3786"
             ],
             [
              0.5555555555555556,
              "#d8576b"
             ],
             [
              0.6666666666666666,
              "#ed7953"
             ],
             [
              0.7777777777777778,
              "#fb9f3a"
             ],
             [
              0.8888888888888888,
              "#fdca26"
             ],
             [
              1,
              "#f0f921"
             ]
            ],
            "type": "heatmap"
           }
          ],
          "heatmapgl": [
           {
            "colorbar": {
             "outlinewidth": 0,
             "ticks": ""
            },
            "colorscale": [
             [
              0,
              "#0d0887"
             ],
             [
              0.1111111111111111,
              "#46039f"
             ],
             [
              0.2222222222222222,
              "#7201a8"
             ],
             [
              0.3333333333333333,
              "#9c179e"
             ],
             [
              0.4444444444444444,
              "#bd3786"
             ],
             [
              0.5555555555555556,
              "#d8576b"
             ],
             [
              0.6666666666666666,
              "#ed7953"
             ],
             [
              0.7777777777777778,
              "#fb9f3a"
             ],
             [
              0.8888888888888888,
              "#fdca26"
             ],
             [
              1,
              "#f0f921"
             ]
            ],
            "type": "heatmapgl"
           }
          ],
          "histogram": [
           {
            "marker": {
             "colorbar": {
              "outlinewidth": 0,
              "ticks": ""
             }
            },
            "type": "histogram"
           }
          ],
          "histogram2d": [
           {
            "colorbar": {
             "outlinewidth": 0,
             "ticks": ""
            },
            "colorscale": [
             [
              0,
              "#0d0887"
             ],
             [
              0.1111111111111111,
              "#46039f"
             ],
             [
              0.2222222222222222,
              "#7201a8"
             ],
             [
              0.3333333333333333,
              "#9c179e"
             ],
             [
              0.4444444444444444,
              "#bd3786"
             ],
             [
              0.5555555555555556,
              "#d8576b"
             ],
             [
              0.6666666666666666,
              "#ed7953"
             ],
             [
              0.7777777777777778,
              "#fb9f3a"
             ],
             [
              0.8888888888888888,
              "#fdca26"
             ],
             [
              1,
              "#f0f921"
             ]
            ],
            "type": "histogram2d"
           }
          ],
          "histogram2dcontour": [
           {
            "colorbar": {
             "outlinewidth": 0,
             "ticks": ""
            },
            "colorscale": [
             [
              0,
              "#0d0887"
             ],
             [
              0.1111111111111111,
              "#46039f"
             ],
             [
              0.2222222222222222,
              "#7201a8"
             ],
             [
              0.3333333333333333,
              "#9c179e"
             ],
             [
              0.4444444444444444,
              "#bd3786"
             ],
             [
              0.5555555555555556,
              "#d8576b"
             ],
             [
              0.6666666666666666,
              "#ed7953"
             ],
             [
              0.7777777777777778,
              "#fb9f3a"
             ],
             [
              0.8888888888888888,
              "#fdca26"
             ],
             [
              1,
              "#f0f921"
             ]
            ],
            "type": "histogram2dcontour"
           }
          ],
          "mesh3d": [
           {
            "colorbar": {
             "outlinewidth": 0,
             "ticks": ""
            },
            "type": "mesh3d"
           }
          ],
          "parcoords": [
           {
            "line": {
             "colorbar": {
              "outlinewidth": 0,
              "ticks": ""
             }
            },
            "type": "parcoords"
           }
          ],
          "pie": [
           {
            "automargin": true,
            "type": "pie"
           }
          ],
          "scatter": [
           {
            "marker": {
             "colorbar": {
              "outlinewidth": 0,
              "ticks": ""
             }
            },
            "type": "scatter"
           }
          ],
          "scatter3d": [
           {
            "line": {
             "colorbar": {
              "outlinewidth": 0,
              "ticks": ""
             }
            },
            "marker": {
             "colorbar": {
              "outlinewidth": 0,
              "ticks": ""
             }
            },
            "type": "scatter3d"
           }
          ],
          "scattercarpet": [
           {
            "marker": {
             "colorbar": {
              "outlinewidth": 0,
              "ticks": ""
             }
            },
            "type": "scattercarpet"
           }
          ],
          "scattergeo": [
           {
            "marker": {
             "colorbar": {
              "outlinewidth": 0,
              "ticks": ""
             }
            },
            "type": "scattergeo"
           }
          ],
          "scattergl": [
           {
            "marker": {
             "colorbar": {
              "outlinewidth": 0,
              "ticks": ""
             }
            },
            "type": "scattergl"
           }
          ],
          "scattermapbox": [
           {
            "marker": {
             "colorbar": {
              "outlinewidth": 0,
              "ticks": ""
             }
            },
            "type": "scattermapbox"
           }
          ],
          "scatterpolar": [
           {
            "marker": {
             "colorbar": {
              "outlinewidth": 0,
              "ticks": ""
             }
            },
            "type": "scatterpolar"
           }
          ],
          "scatterpolargl": [
           {
            "marker": {
             "colorbar": {
              "outlinewidth": 0,
              "ticks": ""
             }
            },
            "type": "scatterpolargl"
           }
          ],
          "scatterternary": [
           {
            "marker": {
             "colorbar": {
              "outlinewidth": 0,
              "ticks": ""
             }
            },
            "type": "scatterternary"
           }
          ],
          "surface": [
           {
            "colorbar": {
             "outlinewidth": 0,
             "ticks": ""
            },
            "colorscale": [
             [
              0,
              "#0d0887"
             ],
             [
              0.1111111111111111,
              "#46039f"
             ],
             [
              0.2222222222222222,
              "#7201a8"
             ],
             [
              0.3333333333333333,
              "#9c179e"
             ],
             [
              0.4444444444444444,
              "#bd3786"
             ],
             [
              0.5555555555555556,
              "#d8576b"
             ],
             [
              0.6666666666666666,
              "#ed7953"
             ],
             [
              0.7777777777777778,
              "#fb9f3a"
             ],
             [
              0.8888888888888888,
              "#fdca26"
             ],
             [
              1,
              "#f0f921"
             ]
            ],
            "type": "surface"
           }
          ],
          "table": [
           {
            "cells": {
             "fill": {
              "color": "#EBF0F8"
             },
             "line": {
              "color": "white"
             }
            },
            "header": {
             "fill": {
              "color": "#C8D4E3"
             },
             "line": {
              "color": "white"
             }
            },
            "type": "table"
           }
          ]
         },
         "layout": {
          "annotationdefaults": {
           "arrowcolor": "#2a3f5f",
           "arrowhead": 0,
           "arrowwidth": 1
          },
          "coloraxis": {
           "colorbar": {
            "outlinewidth": 0,
            "ticks": ""
           }
          },
          "colorscale": {
           "diverging": [
            [
             0,
             "#8e0152"
            ],
            [
             0.1,
             "#c51b7d"
            ],
            [
             0.2,
             "#de77ae"
            ],
            [
             0.3,
             "#f1b6da"
            ],
            [
             0.4,
             "#fde0ef"
            ],
            [
             0.5,
             "#f7f7f7"
            ],
            [
             0.6,
             "#e6f5d0"
            ],
            [
             0.7,
             "#b8e186"
            ],
            [
             0.8,
             "#7fbc41"
            ],
            [
             0.9,
             "#4d9221"
            ],
            [
             1,
             "#276419"
            ]
           ],
           "sequential": [
            [
             0,
             "#0d0887"
            ],
            [
             0.1111111111111111,
             "#46039f"
            ],
            [
             0.2222222222222222,
             "#7201a8"
            ],
            [
             0.3333333333333333,
             "#9c179e"
            ],
            [
             0.4444444444444444,
             "#bd3786"
            ],
            [
             0.5555555555555556,
             "#d8576b"
            ],
            [
             0.6666666666666666,
             "#ed7953"
            ],
            [
             0.7777777777777778,
             "#fb9f3a"
            ],
            [
             0.8888888888888888,
             "#fdca26"
            ],
            [
             1,
             "#f0f921"
            ]
           ],
           "sequentialminus": [
            [
             0,
             "#0d0887"
            ],
            [
             0.1111111111111111,
             "#46039f"
            ],
            [
             0.2222222222222222,
             "#7201a8"
            ],
            [
             0.3333333333333333,
             "#9c179e"
            ],
            [
             0.4444444444444444,
             "#bd3786"
            ],
            [
             0.5555555555555556,
             "#d8576b"
            ],
            [
             0.6666666666666666,
             "#ed7953"
            ],
            [
             0.7777777777777778,
             "#fb9f3a"
            ],
            [
             0.8888888888888888,
             "#fdca26"
            ],
            [
             1,
             "#f0f921"
            ]
           ]
          },
          "colorway": [
           "#636efa",
           "#EF553B",
           "#00cc96",
           "#ab63fa",
           "#FFA15A",
           "#19d3f3",
           "#FF6692",
           "#B6E880",
           "#FF97FF",
           "#FECB52"
          ],
          "font": {
           "color": "#2a3f5f"
          },
          "geo": {
           "bgcolor": "white",
           "lakecolor": "white",
           "landcolor": "#E5ECF6",
           "showlakes": true,
           "showland": true,
           "subunitcolor": "white"
          },
          "hoverlabel": {
           "align": "left"
          },
          "hovermode": "closest",
          "mapbox": {
           "style": "light"
          },
          "paper_bgcolor": "white",
          "plot_bgcolor": "#E5ECF6",
          "polar": {
           "angularaxis": {
            "gridcolor": "white",
            "linecolor": "white",
            "ticks": ""
           },
           "bgcolor": "#E5ECF6",
           "radialaxis": {
            "gridcolor": "white",
            "linecolor": "white",
            "ticks": ""
           }
          },
          "scene": {
           "xaxis": {
            "backgroundcolor": "#E5ECF6",
            "gridcolor": "white",
            "gridwidth": 2,
            "linecolor": "white",
            "showbackground": true,
            "ticks": "",
            "zerolinecolor": "white"
           },
           "yaxis": {
            "backgroundcolor": "#E5ECF6",
            "gridcolor": "white",
            "gridwidth": 2,
            "linecolor": "white",
            "showbackground": true,
            "ticks": "",
            "zerolinecolor": "white"
           },
           "zaxis": {
            "backgroundcolor": "#E5ECF6",
            "gridcolor": "white",
            "gridwidth": 2,
            "linecolor": "white",
            "showbackground": true,
            "ticks": "",
            "zerolinecolor": "white"
           }
          },
          "shapedefaults": {
           "line": {
            "color": "#2a3f5f"
           }
          },
          "ternary": {
           "aaxis": {
            "gridcolor": "white",
            "linecolor": "white",
            "ticks": ""
           },
           "baxis": {
            "gridcolor": "white",
            "linecolor": "white",
            "ticks": ""
           },
           "bgcolor": "#E5ECF6",
           "caxis": {
            "gridcolor": "white",
            "linecolor": "white",
            "ticks": ""
           }
          },
          "title": {
           "x": 0.05
          },
          "xaxis": {
           "automargin": true,
           "gridcolor": "white",
           "linecolor": "white",
           "ticks": "",
           "title": {
            "standoff": 15
           },
           "zerolinecolor": "white",
           "zerolinewidth": 2
          },
          "yaxis": {
           "automargin": true,
           "gridcolor": "white",
           "linecolor": "white",
           "ticks": "",
           "title": {
            "standoff": 15
           },
           "zerolinecolor": "white",
           "zerolinewidth": 2
          }
         }
        }
       }
      },
      "text/html": [
       "<div>\n",
       "        \n",
       "        \n",
       "            <div id=\"37caf851-1e4f-4539-a046-f4214eaa4f1d\" class=\"plotly-graph-div\" style=\"height:525px; width:100%;\"></div>\n",
       "            <script type=\"text/javascript\">\n",
       "                require([\"plotly\"], function(Plotly) {\n",
       "                    window.PLOTLYENV=window.PLOTLYENV || {};\n",
       "                    \n",
       "                if (document.getElementById(\"37caf851-1e4f-4539-a046-f4214eaa4f1d\")) {\n",
       "                    Plotly.newPlot(\n",
       "                        '37caf851-1e4f-4539-a046-f4214eaa4f1d',\n",
       "                        [{\"hovertemplate\": \"x: %{x}<br>y: %{y}<br>color: %{z}<extra></extra>\", \"type\": \"image\", \"z\": [[[246.0, 232.0, 204.0, 0.25], [246.0, 232.0, 204.0, 0.25], [57.0, 105.0, 145.0, 0.25], [57.0, 105.0, 145.0, 0.25], [246.0, 232.0, 204.0, 0.25]], [[246.0, 232.0, 204.0, 0.25], [213.0, 64.0, 8.0, 0.25], [213.0, 64.0, 8.0, 0.25], [246.0, 232.0, 204.0, 0.25], [246.0, 232.0, 204.0, 0.25]], [[194.0, 183.0, 54.0, 0.25], [246.0, 232.0, 204.0, 0.25], [246.0, 232.0, 204.0, 0.25], [213.0, 64.0, 8.0, 0.25], [213.0, 64.0, 8.0, 0.25]], [[213.0, 64.0, 8.0, 0.25], [246.0, 232.0, 204.0, 0.25], [246.0, 232.0, 204.0, 0.25], [246.0, 232.0, 204.0, 0.25], [246.0, 232.0, 204.0, 0.25]], [[246.0, 232.0, 204.0, 0.25], [57.0, 105.0, 145.0, 0.25], [246.0, 232.0, 204.0, 0.25], [246.0, 232.0, 204.0, 0.25], [246.0, 232.0, 204.0, 0.25]]], \"zmax\": [255, 255, 255, 1]}],\n",
       "                        {\"annotations\": [{\"showarrow\": false, \"text\": \"millionaire\", \"x\": 0, \"y\": 0}, {\"showarrow\": false, \"text\": \"racket\", \"x\": 1, \"y\": 0}, {\"showarrow\": false, \"text\": \"cricket\", \"x\": 2, \"y\": 0}, {\"showarrow\": false, \"text\": \"china\", \"x\": 3, \"y\": 0}, {\"showarrow\": false, \"text\": \"dress\", \"x\": 4, \"y\": 0}, {\"showarrow\": false, \"text\": \"jupiter\", \"x\": 0, \"y\": 1}, {\"showarrow\": false, \"text\": \"rabbit\", \"x\": 1, \"y\": 1}, {\"showarrow\": false, \"text\": \"beijing\", \"x\": 2, \"y\": 1}, {\"showarrow\": false, \"text\": \"cotton\", \"x\": 3, \"y\": 1}, {\"showarrow\": false, \"text\": \"roulette\", \"x\": 4, \"y\": 1}, {\"showarrow\": false, \"text\": \"carrot\", \"x\": 0, \"y\": 2}, {\"showarrow\": false, \"text\": \"dinosaur\", \"x\": 1, \"y\": 2}, {\"showarrow\": false, \"text\": \"suit\", \"x\": 2, \"y\": 2}, {\"showarrow\": false, \"text\": \"ketchup\", \"x\": 3, \"y\": 2}, {\"showarrow\": false, \"text\": \"paste\", \"x\": 4, \"y\": 2}, {\"showarrow\": false, \"text\": \"pole\", \"x\": 0, \"y\": 3}, {\"showarrow\": false, \"text\": \"spell\", \"x\": 1, \"y\": 3}, {\"showarrow\": false, \"text\": \"amazon\", \"x\": 2, \"y\": 3}, {\"showarrow\": false, \"text\": \"slip\", \"x\": 3, \"y\": 3}, {\"showarrow\": false, \"text\": \"slug\", \"x\": 4, \"y\": 3}, {\"showarrow\": false, \"text\": \"london\", \"x\": 0, \"y\": 4}, {\"showarrow\": false, \"text\": \"hole\", \"x\": 1, \"y\": 4}, {\"showarrow\": false, \"text\": \"mail\", \"x\": 2, \"y\": 4}, {\"showarrow\": false, \"text\": \"spring\", \"x\": 3, \"y\": 4}, {\"showarrow\": false, \"text\": \"grass\", \"x\": 4, \"y\": 4}], \"margin\": {\"t\": 60}, \"template\": {\"data\": {\"bar\": [{\"error_x\": {\"color\": \"#2a3f5f\"}, \"error_y\": {\"color\": \"#2a3f5f\"}, \"marker\": {\"line\": {\"color\": \"#E5ECF6\", \"width\": 0.5}}, \"type\": \"bar\"}], \"barpolar\": [{\"marker\": {\"line\": {\"color\": \"#E5ECF6\", \"width\": 0.5}}, \"type\": \"barpolar\"}], \"carpet\": [{\"aaxis\": {\"endlinecolor\": \"#2a3f5f\", \"gridcolor\": \"white\", \"linecolor\": \"white\", \"minorgridcolor\": \"white\", \"startlinecolor\": \"#2a3f5f\"}, \"baxis\": {\"endlinecolor\": \"#2a3f5f\", \"gridcolor\": \"white\", \"linecolor\": \"white\", \"minorgridcolor\": \"white\", \"startlinecolor\": \"#2a3f5f\"}, \"type\": \"carpet\"}], \"choropleth\": [{\"colorbar\": {\"outlinewidth\": 0, \"ticks\": \"\"}, \"type\": \"choropleth\"}], \"contour\": [{\"colorbar\": {\"outlinewidth\": 0, \"ticks\": \"\"}, \"colorscale\": [[0.0, \"#0d0887\"], [0.1111111111111111, \"#46039f\"], [0.2222222222222222, \"#7201a8\"], [0.3333333333333333, \"#9c179e\"], [0.4444444444444444, \"#bd3786\"], [0.5555555555555556, \"#d8576b\"], [0.6666666666666666, \"#ed7953\"], [0.7777777777777778, \"#fb9f3a\"], [0.8888888888888888, \"#fdca26\"], [1.0, \"#f0f921\"]], \"type\": \"contour\"}], \"contourcarpet\": [{\"colorbar\": {\"outlinewidth\": 0, \"ticks\": \"\"}, \"type\": \"contourcarpet\"}], \"heatmap\": [{\"colorbar\": {\"outlinewidth\": 0, \"ticks\": \"\"}, \"colorscale\": [[0.0, \"#0d0887\"], [0.1111111111111111, \"#46039f\"], [0.2222222222222222, \"#7201a8\"], [0.3333333333333333, \"#9c179e\"], [0.4444444444444444, \"#bd3786\"], [0.5555555555555556, \"#d8576b\"], [0.6666666666666666, \"#ed7953\"], [0.7777777777777778, \"#fb9f3a\"], [0.8888888888888888, \"#fdca26\"], [1.0, \"#f0f921\"]], \"type\": \"heatmap\"}], \"heatmapgl\": [{\"colorbar\": {\"outlinewidth\": 0, \"ticks\": \"\"}, \"colorscale\": [[0.0, \"#0d0887\"], [0.1111111111111111, \"#46039f\"], [0.2222222222222222, \"#7201a8\"], [0.3333333333333333, \"#9c179e\"], [0.4444444444444444, \"#bd3786\"], [0.5555555555555556, \"#d8576b\"], [0.6666666666666666, \"#ed7953\"], [0.7777777777777778, \"#fb9f3a\"], [0.8888888888888888, \"#fdca26\"], [1.0, \"#f0f921\"]], \"type\": \"heatmapgl\"}], \"histogram\": [{\"marker\": {\"colorbar\": {\"outlinewidth\": 0, \"ticks\": \"\"}}, \"type\": \"histogram\"}], \"histogram2d\": [{\"colorbar\": {\"outlinewidth\": 0, \"ticks\": \"\"}, \"colorscale\": [[0.0, \"#0d0887\"], [0.1111111111111111, \"#46039f\"], [0.2222222222222222, \"#7201a8\"], [0.3333333333333333, \"#9c179e\"], [0.4444444444444444, \"#bd3786\"], [0.5555555555555556, \"#d8576b\"], [0.6666666666666666, \"#ed7953\"], [0.7777777777777778, \"#fb9f3a\"], [0.8888888888888888, \"#fdca26\"], [1.0, \"#f0f921\"]], \"type\": \"histogram2d\"}], \"histogram2dcontour\": [{\"colorbar\": {\"outlinewidth\": 0, \"ticks\": \"\"}, \"colorscale\": [[0.0, \"#0d0887\"], [0.1111111111111111, \"#46039f\"], [0.2222222222222222, \"#7201a8\"], [0.3333333333333333, \"#9c179e\"], [0.4444444444444444, \"#bd3786\"], [0.5555555555555556, \"#d8576b\"], [0.6666666666666666, \"#ed7953\"], [0.7777777777777778, \"#fb9f3a\"], [0.8888888888888888, \"#fdca26\"], [1.0, \"#f0f921\"]], \"type\": \"histogram2dcontour\"}], \"mesh3d\": [{\"colorbar\": {\"outlinewidth\": 0, \"ticks\": \"\"}, \"type\": \"mesh3d\"}], \"parcoords\": [{\"line\": {\"colorbar\": {\"outlinewidth\": 0, \"ticks\": \"\"}}, \"type\": \"parcoords\"}], \"pie\": [{\"automargin\": true, \"type\": \"pie\"}], \"scatter\": [{\"marker\": {\"colorbar\": {\"outlinewidth\": 0, \"ticks\": \"\"}}, \"type\": \"scatter\"}], \"scatter3d\": [{\"line\": {\"colorbar\": {\"outlinewidth\": 0, \"ticks\": \"\"}}, \"marker\": {\"colorbar\": {\"outlinewidth\": 0, \"ticks\": \"\"}}, \"type\": \"scatter3d\"}], \"scattercarpet\": [{\"marker\": {\"colorbar\": {\"outlinewidth\": 0, \"ticks\": \"\"}}, \"type\": \"scattercarpet\"}], \"scattergeo\": [{\"marker\": {\"colorbar\": {\"outlinewidth\": 0, \"ticks\": \"\"}}, \"type\": \"scattergeo\"}], \"scattergl\": [{\"marker\": {\"colorbar\": {\"outlinewidth\": 0, \"ticks\": \"\"}}, \"type\": \"scattergl\"}], \"scattermapbox\": [{\"marker\": {\"colorbar\": {\"outlinewidth\": 0, \"ticks\": \"\"}}, \"type\": \"scattermapbox\"}], \"scatterpolar\": [{\"marker\": {\"colorbar\": {\"outlinewidth\": 0, \"ticks\": \"\"}}, \"type\": \"scatterpolar\"}], \"scatterpolargl\": [{\"marker\": {\"colorbar\": {\"outlinewidth\": 0, \"ticks\": \"\"}}, \"type\": \"scatterpolargl\"}], \"scatterternary\": [{\"marker\": {\"colorbar\": {\"outlinewidth\": 0, \"ticks\": \"\"}}, \"type\": \"scatterternary\"}], \"surface\": [{\"colorbar\": {\"outlinewidth\": 0, \"ticks\": \"\"}, \"colorscale\": [[0.0, \"#0d0887\"], [0.1111111111111111, \"#46039f\"], [0.2222222222222222, \"#7201a8\"], [0.3333333333333333, \"#9c179e\"], [0.4444444444444444, \"#bd3786\"], [0.5555555555555556, \"#d8576b\"], [0.6666666666666666, \"#ed7953\"], [0.7777777777777778, \"#fb9f3a\"], [0.8888888888888888, \"#fdca26\"], [1.0, \"#f0f921\"]], \"type\": \"surface\"}], \"table\": [{\"cells\": {\"fill\": {\"color\": \"#EBF0F8\"}, \"line\": {\"color\": \"white\"}}, \"header\": {\"fill\": {\"color\": \"#C8D4E3\"}, \"line\": {\"color\": \"white\"}}, \"type\": \"table\"}]}, \"layout\": {\"annotationdefaults\": {\"arrowcolor\": \"#2a3f5f\", \"arrowhead\": 0, \"arrowwidth\": 1}, \"coloraxis\": {\"colorbar\": {\"outlinewidth\": 0, \"ticks\": \"\"}}, \"colorscale\": {\"diverging\": [[0, \"#8e0152\"], [0.1, \"#c51b7d\"], [0.2, \"#de77ae\"], [0.3, \"#f1b6da\"], [0.4, \"#fde0ef\"], [0.5, \"#f7f7f7\"], [0.6, \"#e6f5d0\"], [0.7, \"#b8e186\"], [0.8, \"#7fbc41\"], [0.9, \"#4d9221\"], [1, \"#276419\"]], \"sequential\": [[0.0, \"#0d0887\"], [0.1111111111111111, \"#46039f\"], [0.2222222222222222, \"#7201a8\"], [0.3333333333333333, \"#9c179e\"], [0.4444444444444444, \"#bd3786\"], [0.5555555555555556, \"#d8576b\"], [0.6666666666666666, \"#ed7953\"], [0.7777777777777778, \"#fb9f3a\"], [0.8888888888888888, \"#fdca26\"], [1.0, \"#f0f921\"]], \"sequentialminus\": [[0.0, \"#0d0887\"], [0.1111111111111111, \"#46039f\"], [0.2222222222222222, \"#7201a8\"], [0.3333333333333333, \"#9c179e\"], [0.4444444444444444, \"#bd3786\"], [0.5555555555555556, \"#d8576b\"], [0.6666666666666666, \"#ed7953\"], [0.7777777777777778, \"#fb9f3a\"], [0.8888888888888888, \"#fdca26\"], [1.0, \"#f0f921\"]]}, \"colorway\": [\"#636efa\", \"#EF553B\", \"#00cc96\", \"#ab63fa\", \"#FFA15A\", \"#19d3f3\", \"#FF6692\", \"#B6E880\", \"#FF97FF\", \"#FECB52\"], \"font\": {\"color\": \"#2a3f5f\"}, \"geo\": {\"bgcolor\": \"white\", \"lakecolor\": \"white\", \"landcolor\": \"#E5ECF6\", \"showlakes\": true, \"showland\": true, \"subunitcolor\": \"white\"}, \"hoverlabel\": {\"align\": \"left\"}, \"hovermode\": \"closest\", \"mapbox\": {\"style\": \"light\"}, \"paper_bgcolor\": \"white\", \"plot_bgcolor\": \"#E5ECF6\", \"polar\": {\"angularaxis\": {\"gridcolor\": \"white\", \"linecolor\": \"white\", \"ticks\": \"\"}, \"bgcolor\": \"#E5ECF6\", \"radialaxis\": {\"gridcolor\": \"white\", \"linecolor\": \"white\", \"ticks\": \"\"}}, \"scene\": {\"xaxis\": {\"backgroundcolor\": \"#E5ECF6\", \"gridcolor\": \"white\", \"gridwidth\": 2, \"linecolor\": \"white\", \"showbackground\": true, \"ticks\": \"\", \"zerolinecolor\": \"white\"}, \"yaxis\": {\"backgroundcolor\": \"#E5ECF6\", \"gridcolor\": \"white\", \"gridwidth\": 2, \"linecolor\": \"white\", \"showbackground\": true, \"ticks\": \"\", \"zerolinecolor\": \"white\"}, \"zaxis\": {\"backgroundcolor\": \"#E5ECF6\", \"gridcolor\": \"white\", \"gridwidth\": 2, \"linecolor\": \"white\", \"showbackground\": true, \"ticks\": \"\", \"zerolinecolor\": \"white\"}}, \"shapedefaults\": {\"line\": {\"color\": \"#2a3f5f\"}}, \"ternary\": {\"aaxis\": {\"gridcolor\": \"white\", \"linecolor\": \"white\", \"ticks\": \"\"}, \"baxis\": {\"gridcolor\": \"white\", \"linecolor\": \"white\", \"ticks\": \"\"}, \"bgcolor\": \"#E5ECF6\", \"caxis\": {\"gridcolor\": \"white\", \"linecolor\": \"white\", \"ticks\": \"\"}}, \"title\": {\"x\": 0.05}, \"xaxis\": {\"automargin\": true, \"gridcolor\": \"white\", \"linecolor\": \"white\", \"ticks\": \"\", \"title\": {\"standoff\": 15}, \"zerolinecolor\": \"white\", \"zerolinewidth\": 2}, \"yaxis\": {\"automargin\": true, \"gridcolor\": \"white\", \"linecolor\": \"white\", \"ticks\": \"\", \"title\": {\"standoff\": 15}, \"zerolinecolor\": \"white\", \"zerolinewidth\": 2}}}},\n",
       "                        {\"responsive\": true}\n",
       "                    ).then(function(){\n",
       "                            \n",
       "var gd = document.getElementById('37caf851-1e4f-4539-a046-f4214eaa4f1d');\n",
       "var x = new MutationObserver(function (mutations, observer) {{\n",
       "        var display = window.getComputedStyle(gd).display;\n",
       "        if (!display || display === 'none') {{\n",
       "            console.log([gd, 'removed!']);\n",
       "            Plotly.purge(gd);\n",
       "            observer.disconnect();\n",
       "        }}\n",
       "}});\n",
       "\n",
       "// Listen for the removal of the full notebook cells\n",
       "var notebookContainer = gd.closest('#notebook-container');\n",
       "if (notebookContainer) {{\n",
       "    x.observe(notebookContainer, {childList: true});\n",
       "}}\n",
       "\n",
       "// Listen for the clearing of the current output cell\n",
       "var outputEl = gd.closest('.output');\n",
       "if (outputEl) {{\n",
       "    x.observe(outputEl, {childList: true});\n",
       "}}\n",
       "\n",
       "                        })\n",
       "                };\n",
       "                });\n",
       "            </script>\n",
       "        </div>"
      ]
     },
     "metadata": {},
     "output_type": "display_data"
    },
    {
     "name": "stdout",
     "output_type": "stream",
     "text": [
      "It's blue's turn!\n",
      "Spymaster is looking at 57 possible clues\n",
      "blue spymaster gives clue: sprung, 2\n",
      "blue team guesses: spring\n",
      "Correct! Round score is 1\n",
      "blue team guesses: slip\n",
      "Correct! Round score is 2\n"
     ]
    },
    {
     "data": {
      "application/vnd.plotly.v1+json": {
       "config": {
        "plotlyServerURL": "https://plot.ly"
       },
       "data": [
        {
         "hovertemplate": "x: %{x}<br>y: %{y}<br>color: %{z}<extra></extra>",
         "type": "image",
         "z": [
          [
           [
            246,
            232,
            204,
            0.25
           ],
           [
            246,
            232,
            204,
            0.25
           ],
           [
            57,
            105,
            145,
            0.25
           ],
           [
            57,
            105,
            145,
            0.25
           ],
           [
            246,
            232,
            204,
            0.25
           ]
          ],
          [
           [
            246,
            232,
            204,
            0.25
           ],
           [
            213,
            64,
            8,
            0.25
           ],
           [
            213,
            64,
            8,
            0.25
           ],
           [
            246,
            232,
            204,
            0.25
           ],
           [
            246,
            232,
            204,
            0.25
           ]
          ],
          [
           [
            194,
            183,
            54,
            0.25
           ],
           [
            246,
            232,
            204,
            0.25
           ],
           [
            246,
            232,
            204,
            0.25
           ],
           [
            213,
            64,
            8,
            0.25
           ],
           [
            213,
            64,
            8,
            0.25
           ]
          ],
          [
           [
            213,
            64,
            8,
            0.25
           ],
           [
            246,
            232,
            204,
            0.25
           ],
           [
            246,
            232,
            204,
            0.25
           ],
           [
            57,
            105,
            145,
            0.25
           ],
           [
            246,
            232,
            204,
            0.25
           ]
          ],
          [
           [
            246,
            232,
            204,
            0.25
           ],
           [
            57,
            105,
            145,
            0.25
           ],
           [
            246,
            232,
            204,
            0.25
           ],
           [
            57,
            105,
            145,
            0.25
           ],
           [
            246,
            232,
            204,
            0.25
           ]
          ]
         ],
         "zmax": [
          255,
          255,
          255,
          1
         ]
        }
       ],
       "layout": {
        "annotations": [
         {
          "showarrow": false,
          "text": "millionaire",
          "x": 0,
          "y": 0
         },
         {
          "showarrow": false,
          "text": "racket",
          "x": 1,
          "y": 0
         },
         {
          "showarrow": false,
          "text": "cricket",
          "x": 2,
          "y": 0
         },
         {
          "showarrow": false,
          "text": "china",
          "x": 3,
          "y": 0
         },
         {
          "showarrow": false,
          "text": "dress",
          "x": 4,
          "y": 0
         },
         {
          "showarrow": false,
          "text": "jupiter",
          "x": 0,
          "y": 1
         },
         {
          "showarrow": false,
          "text": "rabbit",
          "x": 1,
          "y": 1
         },
         {
          "showarrow": false,
          "text": "beijing",
          "x": 2,
          "y": 1
         },
         {
          "showarrow": false,
          "text": "cotton",
          "x": 3,
          "y": 1
         },
         {
          "showarrow": false,
          "text": "roulette",
          "x": 4,
          "y": 1
         },
         {
          "showarrow": false,
          "text": "carrot",
          "x": 0,
          "y": 2
         },
         {
          "showarrow": false,
          "text": "dinosaur",
          "x": 1,
          "y": 2
         },
         {
          "showarrow": false,
          "text": "suit",
          "x": 2,
          "y": 2
         },
         {
          "showarrow": false,
          "text": "ketchup",
          "x": 3,
          "y": 2
         },
         {
          "showarrow": false,
          "text": "paste",
          "x": 4,
          "y": 2
         },
         {
          "showarrow": false,
          "text": "pole",
          "x": 0,
          "y": 3
         },
         {
          "showarrow": false,
          "text": "spell",
          "x": 1,
          "y": 3
         },
         {
          "showarrow": false,
          "text": "amazon",
          "x": 2,
          "y": 3
         },
         {
          "showarrow": false,
          "text": "slip",
          "x": 3,
          "y": 3
         },
         {
          "showarrow": false,
          "text": "slug",
          "x": 4,
          "y": 3
         },
         {
          "showarrow": false,
          "text": "london",
          "x": 0,
          "y": 4
         },
         {
          "showarrow": false,
          "text": "hole",
          "x": 1,
          "y": 4
         },
         {
          "showarrow": false,
          "text": "mail",
          "x": 2,
          "y": 4
         },
         {
          "showarrow": false,
          "text": "spring",
          "x": 3,
          "y": 4
         },
         {
          "showarrow": false,
          "text": "grass",
          "x": 4,
          "y": 4
         }
        ],
        "margin": {
         "t": 60
        },
        "template": {
         "data": {
          "bar": [
           {
            "error_x": {
             "color": "#2a3f5f"
            },
            "error_y": {
             "color": "#2a3f5f"
            },
            "marker": {
             "line": {
              "color": "#E5ECF6",
              "width": 0.5
             }
            },
            "type": "bar"
           }
          ],
          "barpolar": [
           {
            "marker": {
             "line": {
              "color": "#E5ECF6",
              "width": 0.5
             }
            },
            "type": "barpolar"
           }
          ],
          "carpet": [
           {
            "aaxis": {
             "endlinecolor": "#2a3f5f",
             "gridcolor": "white",
             "linecolor": "white",
             "minorgridcolor": "white",
             "startlinecolor": "#2a3f5f"
            },
            "baxis": {
             "endlinecolor": "#2a3f5f",
             "gridcolor": "white",
             "linecolor": "white",
             "minorgridcolor": "white",
             "startlinecolor": "#2a3f5f"
            },
            "type": "carpet"
           }
          ],
          "choropleth": [
           {
            "colorbar": {
             "outlinewidth": 0,
             "ticks": ""
            },
            "type": "choropleth"
           }
          ],
          "contour": [
           {
            "colorbar": {
             "outlinewidth": 0,
             "ticks": ""
            },
            "colorscale": [
             [
              0,
              "#0d0887"
             ],
             [
              0.1111111111111111,
              "#46039f"
             ],
             [
              0.2222222222222222,
              "#7201a8"
             ],
             [
              0.3333333333333333,
              "#9c179e"
             ],
             [
              0.4444444444444444,
              "#bd3786"
             ],
             [
              0.5555555555555556,
              "#d8576b"
             ],
             [
              0.6666666666666666,
              "#ed7953"
             ],
             [
              0.7777777777777778,
              "#fb9f3a"
             ],
             [
              0.8888888888888888,
              "#fdca26"
             ],
             [
              1,
              "#f0f921"
             ]
            ],
            "type": "contour"
           }
          ],
          "contourcarpet": [
           {
            "colorbar": {
             "outlinewidth": 0,
             "ticks": ""
            },
            "type": "contourcarpet"
           }
          ],
          "heatmap": [
           {
            "colorbar": {
             "outlinewidth": 0,
             "ticks": ""
            },
            "colorscale": [
             [
              0,
              "#0d0887"
             ],
             [
              0.1111111111111111,
              "#46039f"
             ],
             [
              0.2222222222222222,
              "#7201a8"
             ],
             [
              0.3333333333333333,
              "#9c179e"
             ],
             [
              0.4444444444444444,
              "#bd3786"
             ],
             [
              0.5555555555555556,
              "#d8576b"
             ],
             [
              0.6666666666666666,
              "#ed7953"
             ],
             [
              0.7777777777777778,
              "#fb9f3a"
             ],
             [
              0.8888888888888888,
              "#fdca26"
             ],
             [
              1,
              "#f0f921"
             ]
            ],
            "type": "heatmap"
           }
          ],
          "heatmapgl": [
           {
            "colorbar": {
             "outlinewidth": 0,
             "ticks": ""
            },
            "colorscale": [
             [
              0,
              "#0d0887"
             ],
             [
              0.1111111111111111,
              "#46039f"
             ],
             [
              0.2222222222222222,
              "#7201a8"
             ],
             [
              0.3333333333333333,
              "#9c179e"
             ],
             [
              0.4444444444444444,
              "#bd3786"
             ],
             [
              0.5555555555555556,
              "#d8576b"
             ],
             [
              0.6666666666666666,
              "#ed7953"
             ],
             [
              0.7777777777777778,
              "#fb9f3a"
             ],
             [
              0.8888888888888888,
              "#fdca26"
             ],
             [
              1,
              "#f0f921"
             ]
            ],
            "type": "heatmapgl"
           }
          ],
          "histogram": [
           {
            "marker": {
             "colorbar": {
              "outlinewidth": 0,
              "ticks": ""
             }
            },
            "type": "histogram"
           }
          ],
          "histogram2d": [
           {
            "colorbar": {
             "outlinewidth": 0,
             "ticks": ""
            },
            "colorscale": [
             [
              0,
              "#0d0887"
             ],
             [
              0.1111111111111111,
              "#46039f"
             ],
             [
              0.2222222222222222,
              "#7201a8"
             ],
             [
              0.3333333333333333,
              "#9c179e"
             ],
             [
              0.4444444444444444,
              "#bd3786"
             ],
             [
              0.5555555555555556,
              "#d8576b"
             ],
             [
              0.6666666666666666,
              "#ed7953"
             ],
             [
              0.7777777777777778,
              "#fb9f3a"
             ],
             [
              0.8888888888888888,
              "#fdca26"
             ],
             [
              1,
              "#f0f921"
             ]
            ],
            "type": "histogram2d"
           }
          ],
          "histogram2dcontour": [
           {
            "colorbar": {
             "outlinewidth": 0,
             "ticks": ""
            },
            "colorscale": [
             [
              0,
              "#0d0887"
             ],
             [
              0.1111111111111111,
              "#46039f"
             ],
             [
              0.2222222222222222,
              "#7201a8"
             ],
             [
              0.3333333333333333,
              "#9c179e"
             ],
             [
              0.4444444444444444,
              "#bd3786"
             ],
             [
              0.5555555555555556,
              "#d8576b"
             ],
             [
              0.6666666666666666,
              "#ed7953"
             ],
             [
              0.7777777777777778,
              "#fb9f3a"
             ],
             [
              0.8888888888888888,
              "#fdca26"
             ],
             [
              1,
              "#f0f921"
             ]
            ],
            "type": "histogram2dcontour"
           }
          ],
          "mesh3d": [
           {
            "colorbar": {
             "outlinewidth": 0,
             "ticks": ""
            },
            "type": "mesh3d"
           }
          ],
          "parcoords": [
           {
            "line": {
             "colorbar": {
              "outlinewidth": 0,
              "ticks": ""
             }
            },
            "type": "parcoords"
           }
          ],
          "pie": [
           {
            "automargin": true,
            "type": "pie"
           }
          ],
          "scatter": [
           {
            "marker": {
             "colorbar": {
              "outlinewidth": 0,
              "ticks": ""
             }
            },
            "type": "scatter"
           }
          ],
          "scatter3d": [
           {
            "line": {
             "colorbar": {
              "outlinewidth": 0,
              "ticks": ""
             }
            },
            "marker": {
             "colorbar": {
              "outlinewidth": 0,
              "ticks": ""
             }
            },
            "type": "scatter3d"
           }
          ],
          "scattercarpet": [
           {
            "marker": {
             "colorbar": {
              "outlinewidth": 0,
              "ticks": ""
             }
            },
            "type": "scattercarpet"
           }
          ],
          "scattergeo": [
           {
            "marker": {
             "colorbar": {
              "outlinewidth": 0,
              "ticks": ""
             }
            },
            "type": "scattergeo"
           }
          ],
          "scattergl": [
           {
            "marker": {
             "colorbar": {
              "outlinewidth": 0,
              "ticks": ""
             }
            },
            "type": "scattergl"
           }
          ],
          "scattermapbox": [
           {
            "marker": {
             "colorbar": {
              "outlinewidth": 0,
              "ticks": ""
             }
            },
            "type": "scattermapbox"
           }
          ],
          "scatterpolar": [
           {
            "marker": {
             "colorbar": {
              "outlinewidth": 0,
              "ticks": ""
             }
            },
            "type": "scatterpolar"
           }
          ],
          "scatterpolargl": [
           {
            "marker": {
             "colorbar": {
              "outlinewidth": 0,
              "ticks": ""
             }
            },
            "type": "scatterpolargl"
           }
          ],
          "scatterternary": [
           {
            "marker": {
             "colorbar": {
              "outlinewidth": 0,
              "ticks": ""
             }
            },
            "type": "scatterternary"
           }
          ],
          "surface": [
           {
            "colorbar": {
             "outlinewidth": 0,
             "ticks": ""
            },
            "colorscale": [
             [
              0,
              "#0d0887"
             ],
             [
              0.1111111111111111,
              "#46039f"
             ],
             [
              0.2222222222222222,
              "#7201a8"
             ],
             [
              0.3333333333333333,
              "#9c179e"
             ],
             [
              0.4444444444444444,
              "#bd3786"
             ],
             [
              0.5555555555555556,
              "#d8576b"
             ],
             [
              0.6666666666666666,
              "#ed7953"
             ],
             [
              0.7777777777777778,
              "#fb9f3a"
             ],
             [
              0.8888888888888888,
              "#fdca26"
             ],
             [
              1,
              "#f0f921"
             ]
            ],
            "type": "surface"
           }
          ],
          "table": [
           {
            "cells": {
             "fill": {
              "color": "#EBF0F8"
             },
             "line": {
              "color": "white"
             }
            },
            "header": {
             "fill": {
              "color": "#C8D4E3"
             },
             "line": {
              "color": "white"
             }
            },
            "type": "table"
           }
          ]
         },
         "layout": {
          "annotationdefaults": {
           "arrowcolor": "#2a3f5f",
           "arrowhead": 0,
           "arrowwidth": 1
          },
          "coloraxis": {
           "colorbar": {
            "outlinewidth": 0,
            "ticks": ""
           }
          },
          "colorscale": {
           "diverging": [
            [
             0,
             "#8e0152"
            ],
            [
             0.1,
             "#c51b7d"
            ],
            [
             0.2,
             "#de77ae"
            ],
            [
             0.3,
             "#f1b6da"
            ],
            [
             0.4,
             "#fde0ef"
            ],
            [
             0.5,
             "#f7f7f7"
            ],
            [
             0.6,
             "#e6f5d0"
            ],
            [
             0.7,
             "#b8e186"
            ],
            [
             0.8,
             "#7fbc41"
            ],
            [
             0.9,
             "#4d9221"
            ],
            [
             1,
             "#276419"
            ]
           ],
           "sequential": [
            [
             0,
             "#0d0887"
            ],
            [
             0.1111111111111111,
             "#46039f"
            ],
            [
             0.2222222222222222,
             "#7201a8"
            ],
            [
             0.3333333333333333,
             "#9c179e"
            ],
            [
             0.4444444444444444,
             "#bd3786"
            ],
            [
             0.5555555555555556,
             "#d8576b"
            ],
            [
             0.6666666666666666,
             "#ed7953"
            ],
            [
             0.7777777777777778,
             "#fb9f3a"
            ],
            [
             0.8888888888888888,
             "#fdca26"
            ],
            [
             1,
             "#f0f921"
            ]
           ],
           "sequentialminus": [
            [
             0,
             "#0d0887"
            ],
            [
             0.1111111111111111,
             "#46039f"
            ],
            [
             0.2222222222222222,
             "#7201a8"
            ],
            [
             0.3333333333333333,
             "#9c179e"
            ],
            [
             0.4444444444444444,
             "#bd3786"
            ],
            [
             0.5555555555555556,
             "#d8576b"
            ],
            [
             0.6666666666666666,
             "#ed7953"
            ],
            [
             0.7777777777777778,
             "#fb9f3a"
            ],
            [
             0.8888888888888888,
             "#fdca26"
            ],
            [
             1,
             "#f0f921"
            ]
           ]
          },
          "colorway": [
           "#636efa",
           "#EF553B",
           "#00cc96",
           "#ab63fa",
           "#FFA15A",
           "#19d3f3",
           "#FF6692",
           "#B6E880",
           "#FF97FF",
           "#FECB52"
          ],
          "font": {
           "color": "#2a3f5f"
          },
          "geo": {
           "bgcolor": "white",
           "lakecolor": "white",
           "landcolor": "#E5ECF6",
           "showlakes": true,
           "showland": true,
           "subunitcolor": "white"
          },
          "hoverlabel": {
           "align": "left"
          },
          "hovermode": "closest",
          "mapbox": {
           "style": "light"
          },
          "paper_bgcolor": "white",
          "plot_bgcolor": "#E5ECF6",
          "polar": {
           "angularaxis": {
            "gridcolor": "white",
            "linecolor": "white",
            "ticks": ""
           },
           "bgcolor": "#E5ECF6",
           "radialaxis": {
            "gridcolor": "white",
            "linecolor": "white",
            "ticks": ""
           }
          },
          "scene": {
           "xaxis": {
            "backgroundcolor": "#E5ECF6",
            "gridcolor": "white",
            "gridwidth": 2,
            "linecolor": "white",
            "showbackground": true,
            "ticks": "",
            "zerolinecolor": "white"
           },
           "yaxis": {
            "backgroundcolor": "#E5ECF6",
            "gridcolor": "white",
            "gridwidth": 2,
            "linecolor": "white",
            "showbackground": true,
            "ticks": "",
            "zerolinecolor": "white"
           },
           "zaxis": {
            "backgroundcolor": "#E5ECF6",
            "gridcolor": "white",
            "gridwidth": 2,
            "linecolor": "white",
            "showbackground": true,
            "ticks": "",
            "zerolinecolor": "white"
           }
          },
          "shapedefaults": {
           "line": {
            "color": "#2a3f5f"
           }
          },
          "ternary": {
           "aaxis": {
            "gridcolor": "white",
            "linecolor": "white",
            "ticks": ""
           },
           "baxis": {
            "gridcolor": "white",
            "linecolor": "white",
            "ticks": ""
           },
           "bgcolor": "#E5ECF6",
           "caxis": {
            "gridcolor": "white",
            "linecolor": "white",
            "ticks": ""
           }
          },
          "title": {
           "x": 0.05
          },
          "xaxis": {
           "automargin": true,
           "gridcolor": "white",
           "linecolor": "white",
           "ticks": "",
           "title": {
            "standoff": 15
           },
           "zerolinecolor": "white",
           "zerolinewidth": 2
          },
          "yaxis": {
           "automargin": true,
           "gridcolor": "white",
           "linecolor": "white",
           "ticks": "",
           "title": {
            "standoff": 15
           },
           "zerolinecolor": "white",
           "zerolinewidth": 2
          }
         }
        }
       }
      },
      "text/html": [
       "<div>\n",
       "        \n",
       "        \n",
       "            <div id=\"1567d638-dcd0-4ec2-a433-d05c91f388ae\" class=\"plotly-graph-div\" style=\"height:525px; width:100%;\"></div>\n",
       "            <script type=\"text/javascript\">\n",
       "                require([\"plotly\"], function(Plotly) {\n",
       "                    window.PLOTLYENV=window.PLOTLYENV || {};\n",
       "                    \n",
       "                if (document.getElementById(\"1567d638-dcd0-4ec2-a433-d05c91f388ae\")) {\n",
       "                    Plotly.newPlot(\n",
       "                        '1567d638-dcd0-4ec2-a433-d05c91f388ae',\n",
       "                        [{\"hovertemplate\": \"x: %{x}<br>y: %{y}<br>color: %{z}<extra></extra>\", \"type\": \"image\", \"z\": [[[246.0, 232.0, 204.0, 0.25], [246.0, 232.0, 204.0, 0.25], [57.0, 105.0, 145.0, 0.25], [57.0, 105.0, 145.0, 0.25], [246.0, 232.0, 204.0, 0.25]], [[246.0, 232.0, 204.0, 0.25], [213.0, 64.0, 8.0, 0.25], [213.0, 64.0, 8.0, 0.25], [246.0, 232.0, 204.0, 0.25], [246.0, 232.0, 204.0, 0.25]], [[194.0, 183.0, 54.0, 0.25], [246.0, 232.0, 204.0, 0.25], [246.0, 232.0, 204.0, 0.25], [213.0, 64.0, 8.0, 0.25], [213.0, 64.0, 8.0, 0.25]], [[213.0, 64.0, 8.0, 0.25], [246.0, 232.0, 204.0, 0.25], [246.0, 232.0, 204.0, 0.25], [57.0, 105.0, 145.0, 0.25], [246.0, 232.0, 204.0, 0.25]], [[246.0, 232.0, 204.0, 0.25], [57.0, 105.0, 145.0, 0.25], [246.0, 232.0, 204.0, 0.25], [57.0, 105.0, 145.0, 0.25], [246.0, 232.0, 204.0, 0.25]]], \"zmax\": [255, 255, 255, 1]}],\n",
       "                        {\"annotations\": [{\"showarrow\": false, \"text\": \"millionaire\", \"x\": 0, \"y\": 0}, {\"showarrow\": false, \"text\": \"racket\", \"x\": 1, \"y\": 0}, {\"showarrow\": false, \"text\": \"cricket\", \"x\": 2, \"y\": 0}, {\"showarrow\": false, \"text\": \"china\", \"x\": 3, \"y\": 0}, {\"showarrow\": false, \"text\": \"dress\", \"x\": 4, \"y\": 0}, {\"showarrow\": false, \"text\": \"jupiter\", \"x\": 0, \"y\": 1}, {\"showarrow\": false, \"text\": \"rabbit\", \"x\": 1, \"y\": 1}, {\"showarrow\": false, \"text\": \"beijing\", \"x\": 2, \"y\": 1}, {\"showarrow\": false, \"text\": \"cotton\", \"x\": 3, \"y\": 1}, {\"showarrow\": false, \"text\": \"roulette\", \"x\": 4, \"y\": 1}, {\"showarrow\": false, \"text\": \"carrot\", \"x\": 0, \"y\": 2}, {\"showarrow\": false, \"text\": \"dinosaur\", \"x\": 1, \"y\": 2}, {\"showarrow\": false, \"text\": \"suit\", \"x\": 2, \"y\": 2}, {\"showarrow\": false, \"text\": \"ketchup\", \"x\": 3, \"y\": 2}, {\"showarrow\": false, \"text\": \"paste\", \"x\": 4, \"y\": 2}, {\"showarrow\": false, \"text\": \"pole\", \"x\": 0, \"y\": 3}, {\"showarrow\": false, \"text\": \"spell\", \"x\": 1, \"y\": 3}, {\"showarrow\": false, \"text\": \"amazon\", \"x\": 2, \"y\": 3}, {\"showarrow\": false, \"text\": \"slip\", \"x\": 3, \"y\": 3}, {\"showarrow\": false, \"text\": \"slug\", \"x\": 4, \"y\": 3}, {\"showarrow\": false, \"text\": \"london\", \"x\": 0, \"y\": 4}, {\"showarrow\": false, \"text\": \"hole\", \"x\": 1, \"y\": 4}, {\"showarrow\": false, \"text\": \"mail\", \"x\": 2, \"y\": 4}, {\"showarrow\": false, \"text\": \"spring\", \"x\": 3, \"y\": 4}, {\"showarrow\": false, \"text\": \"grass\", \"x\": 4, \"y\": 4}], \"margin\": {\"t\": 60}, \"template\": {\"data\": {\"bar\": [{\"error_x\": {\"color\": \"#2a3f5f\"}, \"error_y\": {\"color\": \"#2a3f5f\"}, \"marker\": {\"line\": {\"color\": \"#E5ECF6\", \"width\": 0.5}}, \"type\": \"bar\"}], \"barpolar\": [{\"marker\": {\"line\": {\"color\": \"#E5ECF6\", \"width\": 0.5}}, \"type\": \"barpolar\"}], \"carpet\": [{\"aaxis\": {\"endlinecolor\": \"#2a3f5f\", \"gridcolor\": \"white\", \"linecolor\": \"white\", \"minorgridcolor\": \"white\", \"startlinecolor\": \"#2a3f5f\"}, \"baxis\": {\"endlinecolor\": \"#2a3f5f\", \"gridcolor\": \"white\", \"linecolor\": \"white\", \"minorgridcolor\": \"white\", \"startlinecolor\": \"#2a3f5f\"}, \"type\": \"carpet\"}], \"choropleth\": [{\"colorbar\": {\"outlinewidth\": 0, \"ticks\": \"\"}, \"type\": \"choropleth\"}], \"contour\": [{\"colorbar\": {\"outlinewidth\": 0, \"ticks\": \"\"}, \"colorscale\": [[0.0, \"#0d0887\"], [0.1111111111111111, \"#46039f\"], [0.2222222222222222, \"#7201a8\"], [0.3333333333333333, \"#9c179e\"], [0.4444444444444444, \"#bd3786\"], [0.5555555555555556, \"#d8576b\"], [0.6666666666666666, \"#ed7953\"], [0.7777777777777778, \"#fb9f3a\"], [0.8888888888888888, \"#fdca26\"], [1.0, \"#f0f921\"]], \"type\": \"contour\"}], \"contourcarpet\": [{\"colorbar\": {\"outlinewidth\": 0, \"ticks\": \"\"}, \"type\": \"contourcarpet\"}], \"heatmap\": [{\"colorbar\": {\"outlinewidth\": 0, \"ticks\": \"\"}, \"colorscale\": [[0.0, \"#0d0887\"], [0.1111111111111111, \"#46039f\"], [0.2222222222222222, \"#7201a8\"], [0.3333333333333333, \"#9c179e\"], [0.4444444444444444, \"#bd3786\"], [0.5555555555555556, \"#d8576b\"], [0.6666666666666666, \"#ed7953\"], [0.7777777777777778, \"#fb9f3a\"], [0.8888888888888888, \"#fdca26\"], [1.0, \"#f0f921\"]], \"type\": \"heatmap\"}], \"heatmapgl\": [{\"colorbar\": {\"outlinewidth\": 0, \"ticks\": \"\"}, \"colorscale\": [[0.0, \"#0d0887\"], [0.1111111111111111, \"#46039f\"], [0.2222222222222222, \"#7201a8\"], [0.3333333333333333, \"#9c179e\"], [0.4444444444444444, \"#bd3786\"], [0.5555555555555556, \"#d8576b\"], [0.6666666666666666, \"#ed7953\"], [0.7777777777777778, \"#fb9f3a\"], [0.8888888888888888, \"#fdca26\"], [1.0, \"#f0f921\"]], \"type\": \"heatmapgl\"}], \"histogram\": [{\"marker\": {\"colorbar\": {\"outlinewidth\": 0, \"ticks\": \"\"}}, \"type\": \"histogram\"}], \"histogram2d\": [{\"colorbar\": {\"outlinewidth\": 0, \"ticks\": \"\"}, \"colorscale\": [[0.0, \"#0d0887\"], [0.1111111111111111, \"#46039f\"], [0.2222222222222222, \"#7201a8\"], [0.3333333333333333, \"#9c179e\"], [0.4444444444444444, \"#bd3786\"], [0.5555555555555556, \"#d8576b\"], [0.6666666666666666, \"#ed7953\"], [0.7777777777777778, \"#fb9f3a\"], [0.8888888888888888, \"#fdca26\"], [1.0, \"#f0f921\"]], \"type\": \"histogram2d\"}], \"histogram2dcontour\": [{\"colorbar\": {\"outlinewidth\": 0, \"ticks\": \"\"}, \"colorscale\": [[0.0, \"#0d0887\"], [0.1111111111111111, \"#46039f\"], [0.2222222222222222, \"#7201a8\"], [0.3333333333333333, \"#9c179e\"], [0.4444444444444444, \"#bd3786\"], [0.5555555555555556, \"#d8576b\"], [0.6666666666666666, \"#ed7953\"], [0.7777777777777778, \"#fb9f3a\"], [0.8888888888888888, \"#fdca26\"], [1.0, \"#f0f921\"]], \"type\": \"histogram2dcontour\"}], \"mesh3d\": [{\"colorbar\": {\"outlinewidth\": 0, \"ticks\": \"\"}, \"type\": \"mesh3d\"}], \"parcoords\": [{\"line\": {\"colorbar\": {\"outlinewidth\": 0, \"ticks\": \"\"}}, \"type\": \"parcoords\"}], \"pie\": [{\"automargin\": true, \"type\": \"pie\"}], \"scatter\": [{\"marker\": {\"colorbar\": {\"outlinewidth\": 0, \"ticks\": \"\"}}, \"type\": \"scatter\"}], \"scatter3d\": [{\"line\": {\"colorbar\": {\"outlinewidth\": 0, \"ticks\": \"\"}}, \"marker\": {\"colorbar\": {\"outlinewidth\": 0, \"ticks\": \"\"}}, \"type\": \"scatter3d\"}], \"scattercarpet\": [{\"marker\": {\"colorbar\": {\"outlinewidth\": 0, \"ticks\": \"\"}}, \"type\": \"scattercarpet\"}], \"scattergeo\": [{\"marker\": {\"colorbar\": {\"outlinewidth\": 0, \"ticks\": \"\"}}, \"type\": \"scattergeo\"}], \"scattergl\": [{\"marker\": {\"colorbar\": {\"outlinewidth\": 0, \"ticks\": \"\"}}, \"type\": \"scattergl\"}], \"scattermapbox\": [{\"marker\": {\"colorbar\": {\"outlinewidth\": 0, \"ticks\": \"\"}}, \"type\": \"scattermapbox\"}], \"scatterpolar\": [{\"marker\": {\"colorbar\": {\"outlinewidth\": 0, \"ticks\": \"\"}}, \"type\": \"scatterpolar\"}], \"scatterpolargl\": [{\"marker\": {\"colorbar\": {\"outlinewidth\": 0, \"ticks\": \"\"}}, \"type\": \"scatterpolargl\"}], \"scatterternary\": [{\"marker\": {\"colorbar\": {\"outlinewidth\": 0, \"ticks\": \"\"}}, \"type\": \"scatterternary\"}], \"surface\": [{\"colorbar\": {\"outlinewidth\": 0, \"ticks\": \"\"}, \"colorscale\": [[0.0, \"#0d0887\"], [0.1111111111111111, \"#46039f\"], [0.2222222222222222, \"#7201a8\"], [0.3333333333333333, \"#9c179e\"], [0.4444444444444444, \"#bd3786\"], [0.5555555555555556, \"#d8576b\"], [0.6666666666666666, \"#ed7953\"], [0.7777777777777778, \"#fb9f3a\"], [0.8888888888888888, \"#fdca26\"], [1.0, \"#f0f921\"]], \"type\": \"surface\"}], \"table\": [{\"cells\": {\"fill\": {\"color\": \"#EBF0F8\"}, \"line\": {\"color\": \"white\"}}, \"header\": {\"fill\": {\"color\": \"#C8D4E3\"}, \"line\": {\"color\": \"white\"}}, \"type\": \"table\"}]}, \"layout\": {\"annotationdefaults\": {\"arrowcolor\": \"#2a3f5f\", \"arrowhead\": 0, \"arrowwidth\": 1}, \"coloraxis\": {\"colorbar\": {\"outlinewidth\": 0, \"ticks\": \"\"}}, \"colorscale\": {\"diverging\": [[0, \"#8e0152\"], [0.1, \"#c51b7d\"], [0.2, \"#de77ae\"], [0.3, \"#f1b6da\"], [0.4, \"#fde0ef\"], [0.5, \"#f7f7f7\"], [0.6, \"#e6f5d0\"], [0.7, \"#b8e186\"], [0.8, \"#7fbc41\"], [0.9, \"#4d9221\"], [1, \"#276419\"]], \"sequential\": [[0.0, \"#0d0887\"], [0.1111111111111111, \"#46039f\"], [0.2222222222222222, \"#7201a8\"], [0.3333333333333333, \"#9c179e\"], [0.4444444444444444, \"#bd3786\"], [0.5555555555555556, \"#d8576b\"], [0.6666666666666666, \"#ed7953\"], [0.7777777777777778, \"#fb9f3a\"], [0.8888888888888888, \"#fdca26\"], [1.0, \"#f0f921\"]], \"sequentialminus\": [[0.0, \"#0d0887\"], [0.1111111111111111, \"#46039f\"], [0.2222222222222222, \"#7201a8\"], [0.3333333333333333, \"#9c179e\"], [0.4444444444444444, \"#bd3786\"], [0.5555555555555556, \"#d8576b\"], [0.6666666666666666, \"#ed7953\"], [0.7777777777777778, \"#fb9f3a\"], [0.8888888888888888, \"#fdca26\"], [1.0, \"#f0f921\"]]}, \"colorway\": [\"#636efa\", \"#EF553B\", \"#00cc96\", \"#ab63fa\", \"#FFA15A\", \"#19d3f3\", \"#FF6692\", \"#B6E880\", \"#FF97FF\", \"#FECB52\"], \"font\": {\"color\": \"#2a3f5f\"}, \"geo\": {\"bgcolor\": \"white\", \"lakecolor\": \"white\", \"landcolor\": \"#E5ECF6\", \"showlakes\": true, \"showland\": true, \"subunitcolor\": \"white\"}, \"hoverlabel\": {\"align\": \"left\"}, \"hovermode\": \"closest\", \"mapbox\": {\"style\": \"light\"}, \"paper_bgcolor\": \"white\", \"plot_bgcolor\": \"#E5ECF6\", \"polar\": {\"angularaxis\": {\"gridcolor\": \"white\", \"linecolor\": \"white\", \"ticks\": \"\"}, \"bgcolor\": \"#E5ECF6\", \"radialaxis\": {\"gridcolor\": \"white\", \"linecolor\": \"white\", \"ticks\": \"\"}}, \"scene\": {\"xaxis\": {\"backgroundcolor\": \"#E5ECF6\", \"gridcolor\": \"white\", \"gridwidth\": 2, \"linecolor\": \"white\", \"showbackground\": true, \"ticks\": \"\", \"zerolinecolor\": \"white\"}, \"yaxis\": {\"backgroundcolor\": \"#E5ECF6\", \"gridcolor\": \"white\", \"gridwidth\": 2, \"linecolor\": \"white\", \"showbackground\": true, \"ticks\": \"\", \"zerolinecolor\": \"white\"}, \"zaxis\": {\"backgroundcolor\": \"#E5ECF6\", \"gridcolor\": \"white\", \"gridwidth\": 2, \"linecolor\": \"white\", \"showbackground\": true, \"ticks\": \"\", \"zerolinecolor\": \"white\"}}, \"shapedefaults\": {\"line\": {\"color\": \"#2a3f5f\"}}, \"ternary\": {\"aaxis\": {\"gridcolor\": \"white\", \"linecolor\": \"white\", \"ticks\": \"\"}, \"baxis\": {\"gridcolor\": \"white\", \"linecolor\": \"white\", \"ticks\": \"\"}, \"bgcolor\": \"#E5ECF6\", \"caxis\": {\"gridcolor\": \"white\", \"linecolor\": \"white\", \"ticks\": \"\"}}, \"title\": {\"x\": 0.05}, \"xaxis\": {\"automargin\": true, \"gridcolor\": \"white\", \"linecolor\": \"white\", \"ticks\": \"\", \"title\": {\"standoff\": 15}, \"zerolinecolor\": \"white\", \"zerolinewidth\": 2}, \"yaxis\": {\"automargin\": true, \"gridcolor\": \"white\", \"linecolor\": \"white\", \"ticks\": \"\", \"title\": {\"standoff\": 15}, \"zerolinecolor\": \"white\", \"zerolinewidth\": 2}}}},\n",
       "                        {\"responsive\": true}\n",
       "                    ).then(function(){\n",
       "                            \n",
       "var gd = document.getElementById('1567d638-dcd0-4ec2-a433-d05c91f388ae');\n",
       "var x = new MutationObserver(function (mutations, observer) {{\n",
       "        var display = window.getComputedStyle(gd).display;\n",
       "        if (!display || display === 'none') {{\n",
       "            console.log([gd, 'removed!']);\n",
       "            Plotly.purge(gd);\n",
       "            observer.disconnect();\n",
       "        }}\n",
       "}});\n",
       "\n",
       "// Listen for the removal of the full notebook cells\n",
       "var notebookContainer = gd.closest('#notebook-container');\n",
       "if (notebookContainer) {{\n",
       "    x.observe(notebookContainer, {childList: true});\n",
       "}}\n",
       "\n",
       "// Listen for the clearing of the current output cell\n",
       "var outputEl = gd.closest('.output');\n",
       "if (outputEl) {{\n",
       "    x.observe(outputEl, {childList: true});\n",
       "}}\n",
       "\n",
       "                        })\n",
       "                };\n",
       "                });\n",
       "            </script>\n",
       "        </div>"
      ]
     },
     "metadata": {},
     "output_type": "display_data"
    },
    {
     "name": "stdout",
     "output_type": "stream",
     "text": [
      "It's red's turn!\n",
      "Spymaster is looking at 4 possible clues\n",
      "red spymaster gives clue: kew, 1\n",
      "red team guesses: london\n",
      "Correct! Round score is 1\n"
     ]
    },
    {
     "data": {
      "application/vnd.plotly.v1+json": {
       "config": {
        "plotlyServerURL": "https://plot.ly"
       },
       "data": [
        {
         "hovertemplate": "x: %{x}<br>y: %{y}<br>color: %{z}<extra></extra>",
         "type": "image",
         "z": [
          [
           [
            246,
            232,
            204,
            0.25
           ],
           [
            246,
            232,
            204,
            0.25
           ],
           [
            57,
            105,
            145,
            0.25
           ],
           [
            57,
            105,
            145,
            0.25
           ],
           [
            246,
            232,
            204,
            0.25
           ]
          ],
          [
           [
            246,
            232,
            204,
            0.25
           ],
           [
            213,
            64,
            8,
            0.25
           ],
           [
            213,
            64,
            8,
            0.25
           ],
           [
            246,
            232,
            204,
            0.25
           ],
           [
            246,
            232,
            204,
            0.25
           ]
          ],
          [
           [
            194,
            183,
            54,
            0.25
           ],
           [
            246,
            232,
            204,
            0.25
           ],
           [
            246,
            232,
            204,
            0.25
           ],
           [
            213,
            64,
            8,
            0.25
           ],
           [
            213,
            64,
            8,
            0.25
           ]
          ],
          [
           [
            213,
            64,
            8,
            0.25
           ],
           [
            246,
            232,
            204,
            0.25
           ],
           [
            246,
            232,
            204,
            0.25
           ],
           [
            57,
            105,
            145,
            0.25
           ],
           [
            246,
            232,
            204,
            0.25
           ]
          ],
          [
           [
            213,
            64,
            8,
            0.25
           ],
           [
            57,
            105,
            145,
            0.25
           ],
           [
            246,
            232,
            204,
            0.25
           ],
           [
            57,
            105,
            145,
            0.25
           ],
           [
            246,
            232,
            204,
            0.25
           ]
          ]
         ],
         "zmax": [
          255,
          255,
          255,
          1
         ]
        }
       ],
       "layout": {
        "annotations": [
         {
          "showarrow": false,
          "text": "millionaire",
          "x": 0,
          "y": 0
         },
         {
          "showarrow": false,
          "text": "racket",
          "x": 1,
          "y": 0
         },
         {
          "showarrow": false,
          "text": "cricket",
          "x": 2,
          "y": 0
         },
         {
          "showarrow": false,
          "text": "china",
          "x": 3,
          "y": 0
         },
         {
          "showarrow": false,
          "text": "dress",
          "x": 4,
          "y": 0
         },
         {
          "showarrow": false,
          "text": "jupiter",
          "x": 0,
          "y": 1
         },
         {
          "showarrow": false,
          "text": "rabbit",
          "x": 1,
          "y": 1
         },
         {
          "showarrow": false,
          "text": "beijing",
          "x": 2,
          "y": 1
         },
         {
          "showarrow": false,
          "text": "cotton",
          "x": 3,
          "y": 1
         },
         {
          "showarrow": false,
          "text": "roulette",
          "x": 4,
          "y": 1
         },
         {
          "showarrow": false,
          "text": "carrot",
          "x": 0,
          "y": 2
         },
         {
          "showarrow": false,
          "text": "dinosaur",
          "x": 1,
          "y": 2
         },
         {
          "showarrow": false,
          "text": "suit",
          "x": 2,
          "y": 2
         },
         {
          "showarrow": false,
          "text": "ketchup",
          "x": 3,
          "y": 2
         },
         {
          "showarrow": false,
          "text": "paste",
          "x": 4,
          "y": 2
         },
         {
          "showarrow": false,
          "text": "pole",
          "x": 0,
          "y": 3
         },
         {
          "showarrow": false,
          "text": "spell",
          "x": 1,
          "y": 3
         },
         {
          "showarrow": false,
          "text": "amazon",
          "x": 2,
          "y": 3
         },
         {
          "showarrow": false,
          "text": "slip",
          "x": 3,
          "y": 3
         },
         {
          "showarrow": false,
          "text": "slug",
          "x": 4,
          "y": 3
         },
         {
          "showarrow": false,
          "text": "london",
          "x": 0,
          "y": 4
         },
         {
          "showarrow": false,
          "text": "hole",
          "x": 1,
          "y": 4
         },
         {
          "showarrow": false,
          "text": "mail",
          "x": 2,
          "y": 4
         },
         {
          "showarrow": false,
          "text": "spring",
          "x": 3,
          "y": 4
         },
         {
          "showarrow": false,
          "text": "grass",
          "x": 4,
          "y": 4
         }
        ],
        "margin": {
         "t": 60
        },
        "template": {
         "data": {
          "bar": [
           {
            "error_x": {
             "color": "#2a3f5f"
            },
            "error_y": {
             "color": "#2a3f5f"
            },
            "marker": {
             "line": {
              "color": "#E5ECF6",
              "width": 0.5
             }
            },
            "type": "bar"
           }
          ],
          "barpolar": [
           {
            "marker": {
             "line": {
              "color": "#E5ECF6",
              "width": 0.5
             }
            },
            "type": "barpolar"
           }
          ],
          "carpet": [
           {
            "aaxis": {
             "endlinecolor": "#2a3f5f",
             "gridcolor": "white",
             "linecolor": "white",
             "minorgridcolor": "white",
             "startlinecolor": "#2a3f5f"
            },
            "baxis": {
             "endlinecolor": "#2a3f5f",
             "gridcolor": "white",
             "linecolor": "white",
             "minorgridcolor": "white",
             "startlinecolor": "#2a3f5f"
            },
            "type": "carpet"
           }
          ],
          "choropleth": [
           {
            "colorbar": {
             "outlinewidth": 0,
             "ticks": ""
            },
            "type": "choropleth"
           }
          ],
          "contour": [
           {
            "colorbar": {
             "outlinewidth": 0,
             "ticks": ""
            },
            "colorscale": [
             [
              0,
              "#0d0887"
             ],
             [
              0.1111111111111111,
              "#46039f"
             ],
             [
              0.2222222222222222,
              "#7201a8"
             ],
             [
              0.3333333333333333,
              "#9c179e"
             ],
             [
              0.4444444444444444,
              "#bd3786"
             ],
             [
              0.5555555555555556,
              "#d8576b"
             ],
             [
              0.6666666666666666,
              "#ed7953"
             ],
             [
              0.7777777777777778,
              "#fb9f3a"
             ],
             [
              0.8888888888888888,
              "#fdca26"
             ],
             [
              1,
              "#f0f921"
             ]
            ],
            "type": "contour"
           }
          ],
          "contourcarpet": [
           {
            "colorbar": {
             "outlinewidth": 0,
             "ticks": ""
            },
            "type": "contourcarpet"
           }
          ],
          "heatmap": [
           {
            "colorbar": {
             "outlinewidth": 0,
             "ticks": ""
            },
            "colorscale": [
             [
              0,
              "#0d0887"
             ],
             [
              0.1111111111111111,
              "#46039f"
             ],
             [
              0.2222222222222222,
              "#7201a8"
             ],
             [
              0.3333333333333333,
              "#9c179e"
             ],
             [
              0.4444444444444444,
              "#bd3786"
             ],
             [
              0.5555555555555556,
              "#d8576b"
             ],
             [
              0.6666666666666666,
              "#ed7953"
             ],
             [
              0.7777777777777778,
              "#fb9f3a"
             ],
             [
              0.8888888888888888,
              "#fdca26"
             ],
             [
              1,
              "#f0f921"
             ]
            ],
            "type": "heatmap"
           }
          ],
          "heatmapgl": [
           {
            "colorbar": {
             "outlinewidth": 0,
             "ticks": ""
            },
            "colorscale": [
             [
              0,
              "#0d0887"
             ],
             [
              0.1111111111111111,
              "#46039f"
             ],
             [
              0.2222222222222222,
              "#7201a8"
             ],
             [
              0.3333333333333333,
              "#9c179e"
             ],
             [
              0.4444444444444444,
              "#bd3786"
             ],
             [
              0.5555555555555556,
              "#d8576b"
             ],
             [
              0.6666666666666666,
              "#ed7953"
             ],
             [
              0.7777777777777778,
              "#fb9f3a"
             ],
             [
              0.8888888888888888,
              "#fdca26"
             ],
             [
              1,
              "#f0f921"
             ]
            ],
            "type": "heatmapgl"
           }
          ],
          "histogram": [
           {
            "marker": {
             "colorbar": {
              "outlinewidth": 0,
              "ticks": ""
             }
            },
            "type": "histogram"
           }
          ],
          "histogram2d": [
           {
            "colorbar": {
             "outlinewidth": 0,
             "ticks": ""
            },
            "colorscale": [
             [
              0,
              "#0d0887"
             ],
             [
              0.1111111111111111,
              "#46039f"
             ],
             [
              0.2222222222222222,
              "#7201a8"
             ],
             [
              0.3333333333333333,
              "#9c179e"
             ],
             [
              0.4444444444444444,
              "#bd3786"
             ],
             [
              0.5555555555555556,
              "#d8576b"
             ],
             [
              0.6666666666666666,
              "#ed7953"
             ],
             [
              0.7777777777777778,
              "#fb9f3a"
             ],
             [
              0.8888888888888888,
              "#fdca26"
             ],
             [
              1,
              "#f0f921"
             ]
            ],
            "type": "histogram2d"
           }
          ],
          "histogram2dcontour": [
           {
            "colorbar": {
             "outlinewidth": 0,
             "ticks": ""
            },
            "colorscale": [
             [
              0,
              "#0d0887"
             ],
             [
              0.1111111111111111,
              "#46039f"
             ],
             [
              0.2222222222222222,
              "#7201a8"
             ],
             [
              0.3333333333333333,
              "#9c179e"
             ],
             [
              0.4444444444444444,
              "#bd3786"
             ],
             [
              0.5555555555555556,
              "#d8576b"
             ],
             [
              0.6666666666666666,
              "#ed7953"
             ],
             [
              0.7777777777777778,
              "#fb9f3a"
             ],
             [
              0.8888888888888888,
              "#fdca26"
             ],
             [
              1,
              "#f0f921"
             ]
            ],
            "type": "histogram2dcontour"
           }
          ],
          "mesh3d": [
           {
            "colorbar": {
             "outlinewidth": 0,
             "ticks": ""
            },
            "type": "mesh3d"
           }
          ],
          "parcoords": [
           {
            "line": {
             "colorbar": {
              "outlinewidth": 0,
              "ticks": ""
             }
            },
            "type": "parcoords"
           }
          ],
          "pie": [
           {
            "automargin": true,
            "type": "pie"
           }
          ],
          "scatter": [
           {
            "marker": {
             "colorbar": {
              "outlinewidth": 0,
              "ticks": ""
             }
            },
            "type": "scatter"
           }
          ],
          "scatter3d": [
           {
            "line": {
             "colorbar": {
              "outlinewidth": 0,
              "ticks": ""
             }
            },
            "marker": {
             "colorbar": {
              "outlinewidth": 0,
              "ticks": ""
             }
            },
            "type": "scatter3d"
           }
          ],
          "scattercarpet": [
           {
            "marker": {
             "colorbar": {
              "outlinewidth": 0,
              "ticks": ""
             }
            },
            "type": "scattercarpet"
           }
          ],
          "scattergeo": [
           {
            "marker": {
             "colorbar": {
              "outlinewidth": 0,
              "ticks": ""
             }
            },
            "type": "scattergeo"
           }
          ],
          "scattergl": [
           {
            "marker": {
             "colorbar": {
              "outlinewidth": 0,
              "ticks": ""
             }
            },
            "type": "scattergl"
           }
          ],
          "scattermapbox": [
           {
            "marker": {
             "colorbar": {
              "outlinewidth": 0,
              "ticks": ""
             }
            },
            "type": "scattermapbox"
           }
          ],
          "scatterpolar": [
           {
            "marker": {
             "colorbar": {
              "outlinewidth": 0,
              "ticks": ""
             }
            },
            "type": "scatterpolar"
           }
          ],
          "scatterpolargl": [
           {
            "marker": {
             "colorbar": {
              "outlinewidth": 0,
              "ticks": ""
             }
            },
            "type": "scatterpolargl"
           }
          ],
          "scatterternary": [
           {
            "marker": {
             "colorbar": {
              "outlinewidth": 0,
              "ticks": ""
             }
            },
            "type": "scatterternary"
           }
          ],
          "surface": [
           {
            "colorbar": {
             "outlinewidth": 0,
             "ticks": ""
            },
            "colorscale": [
             [
              0,
              "#0d0887"
             ],
             [
              0.1111111111111111,
              "#46039f"
             ],
             [
              0.2222222222222222,
              "#7201a8"
             ],
             [
              0.3333333333333333,
              "#9c179e"
             ],
             [
              0.4444444444444444,
              "#bd3786"
             ],
             [
              0.5555555555555556,
              "#d8576b"
             ],
             [
              0.6666666666666666,
              "#ed7953"
             ],
             [
              0.7777777777777778,
              "#fb9f3a"
             ],
             [
              0.8888888888888888,
              "#fdca26"
             ],
             [
              1,
              "#f0f921"
             ]
            ],
            "type": "surface"
           }
          ],
          "table": [
           {
            "cells": {
             "fill": {
              "color": "#EBF0F8"
             },
             "line": {
              "color": "white"
             }
            },
            "header": {
             "fill": {
              "color": "#C8D4E3"
             },
             "line": {
              "color": "white"
             }
            },
            "type": "table"
           }
          ]
         },
         "layout": {
          "annotationdefaults": {
           "arrowcolor": "#2a3f5f",
           "arrowhead": 0,
           "arrowwidth": 1
          },
          "coloraxis": {
           "colorbar": {
            "outlinewidth": 0,
            "ticks": ""
           }
          },
          "colorscale": {
           "diverging": [
            [
             0,
             "#8e0152"
            ],
            [
             0.1,
             "#c51b7d"
            ],
            [
             0.2,
             "#de77ae"
            ],
            [
             0.3,
             "#f1b6da"
            ],
            [
             0.4,
             "#fde0ef"
            ],
            [
             0.5,
             "#f7f7f7"
            ],
            [
             0.6,
             "#e6f5d0"
            ],
            [
             0.7,
             "#b8e186"
            ],
            [
             0.8,
             "#7fbc41"
            ],
            [
             0.9,
             "#4d9221"
            ],
            [
             1,
             "#276419"
            ]
           ],
           "sequential": [
            [
             0,
             "#0d0887"
            ],
            [
             0.1111111111111111,
             "#46039f"
            ],
            [
             0.2222222222222222,
             "#7201a8"
            ],
            [
             0.3333333333333333,
             "#9c179e"
            ],
            [
             0.4444444444444444,
             "#bd3786"
            ],
            [
             0.5555555555555556,
             "#d8576b"
            ],
            [
             0.6666666666666666,
             "#ed7953"
            ],
            [
             0.7777777777777778,
             "#fb9f3a"
            ],
            [
             0.8888888888888888,
             "#fdca26"
            ],
            [
             1,
             "#f0f921"
            ]
           ],
           "sequentialminus": [
            [
             0,
             "#0d0887"
            ],
            [
             0.1111111111111111,
             "#46039f"
            ],
            [
             0.2222222222222222,
             "#7201a8"
            ],
            [
             0.3333333333333333,
             "#9c179e"
            ],
            [
             0.4444444444444444,
             "#bd3786"
            ],
            [
             0.5555555555555556,
             "#d8576b"
            ],
            [
             0.6666666666666666,
             "#ed7953"
            ],
            [
             0.7777777777777778,
             "#fb9f3a"
            ],
            [
             0.8888888888888888,
             "#fdca26"
            ],
            [
             1,
             "#f0f921"
            ]
           ]
          },
          "colorway": [
           "#636efa",
           "#EF553B",
           "#00cc96",
           "#ab63fa",
           "#FFA15A",
           "#19d3f3",
           "#FF6692",
           "#B6E880",
           "#FF97FF",
           "#FECB52"
          ],
          "font": {
           "color": "#2a3f5f"
          },
          "geo": {
           "bgcolor": "white",
           "lakecolor": "white",
           "landcolor": "#E5ECF6",
           "showlakes": true,
           "showland": true,
           "subunitcolor": "white"
          },
          "hoverlabel": {
           "align": "left"
          },
          "hovermode": "closest",
          "mapbox": {
           "style": "light"
          },
          "paper_bgcolor": "white",
          "plot_bgcolor": "#E5ECF6",
          "polar": {
           "angularaxis": {
            "gridcolor": "white",
            "linecolor": "white",
            "ticks": ""
           },
           "bgcolor": "#E5ECF6",
           "radialaxis": {
            "gridcolor": "white",
            "linecolor": "white",
            "ticks": ""
           }
          },
          "scene": {
           "xaxis": {
            "backgroundcolor": "#E5ECF6",
            "gridcolor": "white",
            "gridwidth": 2,
            "linecolor": "white",
            "showbackground": true,
            "ticks": "",
            "zerolinecolor": "white"
           },
           "yaxis": {
            "backgroundcolor": "#E5ECF6",
            "gridcolor": "white",
            "gridwidth": 2,
            "linecolor": "white",
            "showbackground": true,
            "ticks": "",
            "zerolinecolor": "white"
           },
           "zaxis": {
            "backgroundcolor": "#E5ECF6",
            "gridcolor": "white",
            "gridwidth": 2,
            "linecolor": "white",
            "showbackground": true,
            "ticks": "",
            "zerolinecolor": "white"
           }
          },
          "shapedefaults": {
           "line": {
            "color": "#2a3f5f"
           }
          },
          "ternary": {
           "aaxis": {
            "gridcolor": "white",
            "linecolor": "white",
            "ticks": ""
           },
           "baxis": {
            "gridcolor": "white",
            "linecolor": "white",
            "ticks": ""
           },
           "bgcolor": "#E5ECF6",
           "caxis": {
            "gridcolor": "white",
            "linecolor": "white",
            "ticks": ""
           }
          },
          "title": {
           "x": 0.05
          },
          "xaxis": {
           "automargin": true,
           "gridcolor": "white",
           "linecolor": "white",
           "ticks": "",
           "title": {
            "standoff": 15
           },
           "zerolinecolor": "white",
           "zerolinewidth": 2
          },
          "yaxis": {
           "automargin": true,
           "gridcolor": "white",
           "linecolor": "white",
           "ticks": "",
           "title": {
            "standoff": 15
           },
           "zerolinecolor": "white",
           "zerolinewidth": 2
          }
         }
        }
       }
      },
      "text/html": [
       "<div>\n",
       "        \n",
       "        \n",
       "            <div id=\"a882da82-4a12-4c67-a161-e7e2c28f4abe\" class=\"plotly-graph-div\" style=\"height:525px; width:100%;\"></div>\n",
       "            <script type=\"text/javascript\">\n",
       "                require([\"plotly\"], function(Plotly) {\n",
       "                    window.PLOTLYENV=window.PLOTLYENV || {};\n",
       "                    \n",
       "                if (document.getElementById(\"a882da82-4a12-4c67-a161-e7e2c28f4abe\")) {\n",
       "                    Plotly.newPlot(\n",
       "                        'a882da82-4a12-4c67-a161-e7e2c28f4abe',\n",
       "                        [{\"hovertemplate\": \"x: %{x}<br>y: %{y}<br>color: %{z}<extra></extra>\", \"type\": \"image\", \"z\": [[[246.0, 232.0, 204.0, 0.25], [246.0, 232.0, 204.0, 0.25], [57.0, 105.0, 145.0, 0.25], [57.0, 105.0, 145.0, 0.25], [246.0, 232.0, 204.0, 0.25]], [[246.0, 232.0, 204.0, 0.25], [213.0, 64.0, 8.0, 0.25], [213.0, 64.0, 8.0, 0.25], [246.0, 232.0, 204.0, 0.25], [246.0, 232.0, 204.0, 0.25]], [[194.0, 183.0, 54.0, 0.25], [246.0, 232.0, 204.0, 0.25], [246.0, 232.0, 204.0, 0.25], [213.0, 64.0, 8.0, 0.25], [213.0, 64.0, 8.0, 0.25]], [[213.0, 64.0, 8.0, 0.25], [246.0, 232.0, 204.0, 0.25], [246.0, 232.0, 204.0, 0.25], [57.0, 105.0, 145.0, 0.25], [246.0, 232.0, 204.0, 0.25]], [[213.0, 64.0, 8.0, 0.25], [57.0, 105.0, 145.0, 0.25], [246.0, 232.0, 204.0, 0.25], [57.0, 105.0, 145.0, 0.25], [246.0, 232.0, 204.0, 0.25]]], \"zmax\": [255, 255, 255, 1]}],\n",
       "                        {\"annotations\": [{\"showarrow\": false, \"text\": \"millionaire\", \"x\": 0, \"y\": 0}, {\"showarrow\": false, \"text\": \"racket\", \"x\": 1, \"y\": 0}, {\"showarrow\": false, \"text\": \"cricket\", \"x\": 2, \"y\": 0}, {\"showarrow\": false, \"text\": \"china\", \"x\": 3, \"y\": 0}, {\"showarrow\": false, \"text\": \"dress\", \"x\": 4, \"y\": 0}, {\"showarrow\": false, \"text\": \"jupiter\", \"x\": 0, \"y\": 1}, {\"showarrow\": false, \"text\": \"rabbit\", \"x\": 1, \"y\": 1}, {\"showarrow\": false, \"text\": \"beijing\", \"x\": 2, \"y\": 1}, {\"showarrow\": false, \"text\": \"cotton\", \"x\": 3, \"y\": 1}, {\"showarrow\": false, \"text\": \"roulette\", \"x\": 4, \"y\": 1}, {\"showarrow\": false, \"text\": \"carrot\", \"x\": 0, \"y\": 2}, {\"showarrow\": false, \"text\": \"dinosaur\", \"x\": 1, \"y\": 2}, {\"showarrow\": false, \"text\": \"suit\", \"x\": 2, \"y\": 2}, {\"showarrow\": false, \"text\": \"ketchup\", \"x\": 3, \"y\": 2}, {\"showarrow\": false, \"text\": \"paste\", \"x\": 4, \"y\": 2}, {\"showarrow\": false, \"text\": \"pole\", \"x\": 0, \"y\": 3}, {\"showarrow\": false, \"text\": \"spell\", \"x\": 1, \"y\": 3}, {\"showarrow\": false, \"text\": \"amazon\", \"x\": 2, \"y\": 3}, {\"showarrow\": false, \"text\": \"slip\", \"x\": 3, \"y\": 3}, {\"showarrow\": false, \"text\": \"slug\", \"x\": 4, \"y\": 3}, {\"showarrow\": false, \"text\": \"london\", \"x\": 0, \"y\": 4}, {\"showarrow\": false, \"text\": \"hole\", \"x\": 1, \"y\": 4}, {\"showarrow\": false, \"text\": \"mail\", \"x\": 2, \"y\": 4}, {\"showarrow\": false, \"text\": \"spring\", \"x\": 3, \"y\": 4}, {\"showarrow\": false, \"text\": \"grass\", \"x\": 4, \"y\": 4}], \"margin\": {\"t\": 60}, \"template\": {\"data\": {\"bar\": [{\"error_x\": {\"color\": \"#2a3f5f\"}, \"error_y\": {\"color\": \"#2a3f5f\"}, \"marker\": {\"line\": {\"color\": \"#E5ECF6\", \"width\": 0.5}}, \"type\": \"bar\"}], \"barpolar\": [{\"marker\": {\"line\": {\"color\": \"#E5ECF6\", \"width\": 0.5}}, \"type\": \"barpolar\"}], \"carpet\": [{\"aaxis\": {\"endlinecolor\": \"#2a3f5f\", \"gridcolor\": \"white\", \"linecolor\": \"white\", \"minorgridcolor\": \"white\", \"startlinecolor\": \"#2a3f5f\"}, \"baxis\": {\"endlinecolor\": \"#2a3f5f\", \"gridcolor\": \"white\", \"linecolor\": \"white\", \"minorgridcolor\": \"white\", \"startlinecolor\": \"#2a3f5f\"}, \"type\": \"carpet\"}], \"choropleth\": [{\"colorbar\": {\"outlinewidth\": 0, \"ticks\": \"\"}, \"type\": \"choropleth\"}], \"contour\": [{\"colorbar\": {\"outlinewidth\": 0, \"ticks\": \"\"}, \"colorscale\": [[0.0, \"#0d0887\"], [0.1111111111111111, \"#46039f\"], [0.2222222222222222, \"#7201a8\"], [0.3333333333333333, \"#9c179e\"], [0.4444444444444444, \"#bd3786\"], [0.5555555555555556, \"#d8576b\"], [0.6666666666666666, \"#ed7953\"], [0.7777777777777778, \"#fb9f3a\"], [0.8888888888888888, \"#fdca26\"], [1.0, \"#f0f921\"]], \"type\": \"contour\"}], \"contourcarpet\": [{\"colorbar\": {\"outlinewidth\": 0, \"ticks\": \"\"}, \"type\": \"contourcarpet\"}], \"heatmap\": [{\"colorbar\": {\"outlinewidth\": 0, \"ticks\": \"\"}, \"colorscale\": [[0.0, \"#0d0887\"], [0.1111111111111111, \"#46039f\"], [0.2222222222222222, \"#7201a8\"], [0.3333333333333333, \"#9c179e\"], [0.4444444444444444, \"#bd3786\"], [0.5555555555555556, \"#d8576b\"], [0.6666666666666666, \"#ed7953\"], [0.7777777777777778, \"#fb9f3a\"], [0.8888888888888888, \"#fdca26\"], [1.0, \"#f0f921\"]], \"type\": \"heatmap\"}], \"heatmapgl\": [{\"colorbar\": {\"outlinewidth\": 0, \"ticks\": \"\"}, \"colorscale\": [[0.0, \"#0d0887\"], [0.1111111111111111, \"#46039f\"], [0.2222222222222222, \"#7201a8\"], [0.3333333333333333, \"#9c179e\"], [0.4444444444444444, \"#bd3786\"], [0.5555555555555556, \"#d8576b\"], [0.6666666666666666, \"#ed7953\"], [0.7777777777777778, \"#fb9f3a\"], [0.8888888888888888, \"#fdca26\"], [1.0, \"#f0f921\"]], \"type\": \"heatmapgl\"}], \"histogram\": [{\"marker\": {\"colorbar\": {\"outlinewidth\": 0, \"ticks\": \"\"}}, \"type\": \"histogram\"}], \"histogram2d\": [{\"colorbar\": {\"outlinewidth\": 0, \"ticks\": \"\"}, \"colorscale\": [[0.0, \"#0d0887\"], [0.1111111111111111, \"#46039f\"], [0.2222222222222222, \"#7201a8\"], [0.3333333333333333, \"#9c179e\"], [0.4444444444444444, \"#bd3786\"], [0.5555555555555556, \"#d8576b\"], [0.6666666666666666, \"#ed7953\"], [0.7777777777777778, \"#fb9f3a\"], [0.8888888888888888, \"#fdca26\"], [1.0, \"#f0f921\"]], \"type\": \"histogram2d\"}], \"histogram2dcontour\": [{\"colorbar\": {\"outlinewidth\": 0, \"ticks\": \"\"}, \"colorscale\": [[0.0, \"#0d0887\"], [0.1111111111111111, \"#46039f\"], [0.2222222222222222, \"#7201a8\"], [0.3333333333333333, \"#9c179e\"], [0.4444444444444444, \"#bd3786\"], [0.5555555555555556, \"#d8576b\"], [0.6666666666666666, \"#ed7953\"], [0.7777777777777778, \"#fb9f3a\"], [0.8888888888888888, \"#fdca26\"], [1.0, \"#f0f921\"]], \"type\": \"histogram2dcontour\"}], \"mesh3d\": [{\"colorbar\": {\"outlinewidth\": 0, \"ticks\": \"\"}, \"type\": \"mesh3d\"}], \"parcoords\": [{\"line\": {\"colorbar\": {\"outlinewidth\": 0, \"ticks\": \"\"}}, \"type\": \"parcoords\"}], \"pie\": [{\"automargin\": true, \"type\": \"pie\"}], \"scatter\": [{\"marker\": {\"colorbar\": {\"outlinewidth\": 0, \"ticks\": \"\"}}, \"type\": \"scatter\"}], \"scatter3d\": [{\"line\": {\"colorbar\": {\"outlinewidth\": 0, \"ticks\": \"\"}}, \"marker\": {\"colorbar\": {\"outlinewidth\": 0, \"ticks\": \"\"}}, \"type\": \"scatter3d\"}], \"scattercarpet\": [{\"marker\": {\"colorbar\": {\"outlinewidth\": 0, \"ticks\": \"\"}}, \"type\": \"scattercarpet\"}], \"scattergeo\": [{\"marker\": {\"colorbar\": {\"outlinewidth\": 0, \"ticks\": \"\"}}, \"type\": \"scattergeo\"}], \"scattergl\": [{\"marker\": {\"colorbar\": {\"outlinewidth\": 0, \"ticks\": \"\"}}, \"type\": \"scattergl\"}], \"scattermapbox\": [{\"marker\": {\"colorbar\": {\"outlinewidth\": 0, \"ticks\": \"\"}}, \"type\": \"scattermapbox\"}], \"scatterpolar\": [{\"marker\": {\"colorbar\": {\"outlinewidth\": 0, \"ticks\": \"\"}}, \"type\": \"scatterpolar\"}], \"scatterpolargl\": [{\"marker\": {\"colorbar\": {\"outlinewidth\": 0, \"ticks\": \"\"}}, \"type\": \"scatterpolargl\"}], \"scatterternary\": [{\"marker\": {\"colorbar\": {\"outlinewidth\": 0, \"ticks\": \"\"}}, \"type\": \"scatterternary\"}], \"surface\": [{\"colorbar\": {\"outlinewidth\": 0, \"ticks\": \"\"}, \"colorscale\": [[0.0, \"#0d0887\"], [0.1111111111111111, \"#46039f\"], [0.2222222222222222, \"#7201a8\"], [0.3333333333333333, \"#9c179e\"], [0.4444444444444444, \"#bd3786\"], [0.5555555555555556, \"#d8576b\"], [0.6666666666666666, \"#ed7953\"], [0.7777777777777778, \"#fb9f3a\"], [0.8888888888888888, \"#fdca26\"], [1.0, \"#f0f921\"]], \"type\": \"surface\"}], \"table\": [{\"cells\": {\"fill\": {\"color\": \"#EBF0F8\"}, \"line\": {\"color\": \"white\"}}, \"header\": {\"fill\": {\"color\": \"#C8D4E3\"}, \"line\": {\"color\": \"white\"}}, \"type\": \"table\"}]}, \"layout\": {\"annotationdefaults\": {\"arrowcolor\": \"#2a3f5f\", \"arrowhead\": 0, \"arrowwidth\": 1}, \"coloraxis\": {\"colorbar\": {\"outlinewidth\": 0, \"ticks\": \"\"}}, \"colorscale\": {\"diverging\": [[0, \"#8e0152\"], [0.1, \"#c51b7d\"], [0.2, \"#de77ae\"], [0.3, \"#f1b6da\"], [0.4, \"#fde0ef\"], [0.5, \"#f7f7f7\"], [0.6, \"#e6f5d0\"], [0.7, \"#b8e186\"], [0.8, \"#7fbc41\"], [0.9, \"#4d9221\"], [1, \"#276419\"]], \"sequential\": [[0.0, \"#0d0887\"], [0.1111111111111111, \"#46039f\"], [0.2222222222222222, \"#7201a8\"], [0.3333333333333333, \"#9c179e\"], [0.4444444444444444, \"#bd3786\"], [0.5555555555555556, \"#d8576b\"], [0.6666666666666666, \"#ed7953\"], [0.7777777777777778, \"#fb9f3a\"], [0.8888888888888888, \"#fdca26\"], [1.0, \"#f0f921\"]], \"sequentialminus\": [[0.0, \"#0d0887\"], [0.1111111111111111, \"#46039f\"], [0.2222222222222222, \"#7201a8\"], [0.3333333333333333, \"#9c179e\"], [0.4444444444444444, \"#bd3786\"], [0.5555555555555556, \"#d8576b\"], [0.6666666666666666, \"#ed7953\"], [0.7777777777777778, \"#fb9f3a\"], [0.8888888888888888, \"#fdca26\"], [1.0, \"#f0f921\"]]}, \"colorway\": [\"#636efa\", \"#EF553B\", \"#00cc96\", \"#ab63fa\", \"#FFA15A\", \"#19d3f3\", \"#FF6692\", \"#B6E880\", \"#FF97FF\", \"#FECB52\"], \"font\": {\"color\": \"#2a3f5f\"}, \"geo\": {\"bgcolor\": \"white\", \"lakecolor\": \"white\", \"landcolor\": \"#E5ECF6\", \"showlakes\": true, \"showland\": true, \"subunitcolor\": \"white\"}, \"hoverlabel\": {\"align\": \"left\"}, \"hovermode\": \"closest\", \"mapbox\": {\"style\": \"light\"}, \"paper_bgcolor\": \"white\", \"plot_bgcolor\": \"#E5ECF6\", \"polar\": {\"angularaxis\": {\"gridcolor\": \"white\", \"linecolor\": \"white\", \"ticks\": \"\"}, \"bgcolor\": \"#E5ECF6\", \"radialaxis\": {\"gridcolor\": \"white\", \"linecolor\": \"white\", \"ticks\": \"\"}}, \"scene\": {\"xaxis\": {\"backgroundcolor\": \"#E5ECF6\", \"gridcolor\": \"white\", \"gridwidth\": 2, \"linecolor\": \"white\", \"showbackground\": true, \"ticks\": \"\", \"zerolinecolor\": \"white\"}, \"yaxis\": {\"backgroundcolor\": \"#E5ECF6\", \"gridcolor\": \"white\", \"gridwidth\": 2, \"linecolor\": \"white\", \"showbackground\": true, \"ticks\": \"\", \"zerolinecolor\": \"white\"}, \"zaxis\": {\"backgroundcolor\": \"#E5ECF6\", \"gridcolor\": \"white\", \"gridwidth\": 2, \"linecolor\": \"white\", \"showbackground\": true, \"ticks\": \"\", \"zerolinecolor\": \"white\"}}, \"shapedefaults\": {\"line\": {\"color\": \"#2a3f5f\"}}, \"ternary\": {\"aaxis\": {\"gridcolor\": \"white\", \"linecolor\": \"white\", \"ticks\": \"\"}, \"baxis\": {\"gridcolor\": \"white\", \"linecolor\": \"white\", \"ticks\": \"\"}, \"bgcolor\": \"#E5ECF6\", \"caxis\": {\"gridcolor\": \"white\", \"linecolor\": \"white\", \"ticks\": \"\"}}, \"title\": {\"x\": 0.05}, \"xaxis\": {\"automargin\": true, \"gridcolor\": \"white\", \"linecolor\": \"white\", \"ticks\": \"\", \"title\": {\"standoff\": 15}, \"zerolinecolor\": \"white\", \"zerolinewidth\": 2}, \"yaxis\": {\"automargin\": true, \"gridcolor\": \"white\", \"linecolor\": \"white\", \"ticks\": \"\", \"title\": {\"standoff\": 15}, \"zerolinecolor\": \"white\", \"zerolinewidth\": 2}}}},\n",
       "                        {\"responsive\": true}\n",
       "                    ).then(function(){\n",
       "                            \n",
       "var gd = document.getElementById('a882da82-4a12-4c67-a161-e7e2c28f4abe');\n",
       "var x = new MutationObserver(function (mutations, observer) {{\n",
       "        var display = window.getComputedStyle(gd).display;\n",
       "        if (!display || display === 'none') {{\n",
       "            console.log([gd, 'removed!']);\n",
       "            Plotly.purge(gd);\n",
       "            observer.disconnect();\n",
       "        }}\n",
       "}});\n",
       "\n",
       "// Listen for the removal of the full notebook cells\n",
       "var notebookContainer = gd.closest('#notebook-container');\n",
       "if (notebookContainer) {{\n",
       "    x.observe(notebookContainer, {childList: true});\n",
       "}}\n",
       "\n",
       "// Listen for the clearing of the current output cell\n",
       "var outputEl = gd.closest('.output');\n",
       "if (outputEl) {{\n",
       "    x.observe(outputEl, {childList: true});\n",
       "}}\n",
       "\n",
       "                        })\n",
       "                };\n",
       "                });\n",
       "            </script>\n",
       "        </div>"
      ]
     },
     "metadata": {},
     "output_type": "display_data"
    },
    {
     "name": "stdout",
     "output_type": "stream",
     "text": [
      "It's blue's turn!\n",
      "Spymaster is looking at 11 possible clues\n",
      "blue spymaster gives clue: gamblers, 2\n",
      "blue team guesses: roulette\n",
      "Correct! Round score is 1\n",
      "blue team guesses: millionaire\n",
      "Correct! Round score is 2\n"
     ]
    },
    {
     "data": {
      "application/vnd.plotly.v1+json": {
       "config": {
        "plotlyServerURL": "https://plot.ly"
       },
       "data": [
        {
         "hovertemplate": "x: %{x}<br>y: %{y}<br>color: %{z}<extra></extra>",
         "type": "image",
         "z": [
          [
           [
            57,
            105,
            145,
            0.25
           ],
           [
            246,
            232,
            204,
            0.25
           ],
           [
            57,
            105,
            145,
            0.25
           ],
           [
            57,
            105,
            145,
            0.25
           ],
           [
            246,
            232,
            204,
            0.25
           ]
          ],
          [
           [
            246,
            232,
            204,
            0.25
           ],
           [
            213,
            64,
            8,
            0.25
           ],
           [
            213,
            64,
            8,
            0.25
           ],
           [
            246,
            232,
            204,
            0.25
           ],
           [
            57,
            105,
            145,
            0.25
           ]
          ],
          [
           [
            194,
            183,
            54,
            0.25
           ],
           [
            246,
            232,
            204,
            0.25
           ],
           [
            246,
            232,
            204,
            0.25
           ],
           [
            213,
            64,
            8,
            0.25
           ],
           [
            213,
            64,
            8,
            0.25
           ]
          ],
          [
           [
            213,
            64,
            8,
            0.25
           ],
           [
            246,
            232,
            204,
            0.25
           ],
           [
            246,
            232,
            204,
            0.25
           ],
           [
            57,
            105,
            145,
            0.25
           ],
           [
            246,
            232,
            204,
            0.25
           ]
          ],
          [
           [
            213,
            64,
            8,
            0.25
           ],
           [
            57,
            105,
            145,
            0.25
           ],
           [
            246,
            232,
            204,
            0.25
           ],
           [
            57,
            105,
            145,
            0.25
           ],
           [
            246,
            232,
            204,
            0.25
           ]
          ]
         ],
         "zmax": [
          255,
          255,
          255,
          1
         ]
        }
       ],
       "layout": {
        "annotations": [
         {
          "showarrow": false,
          "text": "millionaire",
          "x": 0,
          "y": 0
         },
         {
          "showarrow": false,
          "text": "racket",
          "x": 1,
          "y": 0
         },
         {
          "showarrow": false,
          "text": "cricket",
          "x": 2,
          "y": 0
         },
         {
          "showarrow": false,
          "text": "china",
          "x": 3,
          "y": 0
         },
         {
          "showarrow": false,
          "text": "dress",
          "x": 4,
          "y": 0
         },
         {
          "showarrow": false,
          "text": "jupiter",
          "x": 0,
          "y": 1
         },
         {
          "showarrow": false,
          "text": "rabbit",
          "x": 1,
          "y": 1
         },
         {
          "showarrow": false,
          "text": "beijing",
          "x": 2,
          "y": 1
         },
         {
          "showarrow": false,
          "text": "cotton",
          "x": 3,
          "y": 1
         },
         {
          "showarrow": false,
          "text": "roulette",
          "x": 4,
          "y": 1
         },
         {
          "showarrow": false,
          "text": "carrot",
          "x": 0,
          "y": 2
         },
         {
          "showarrow": false,
          "text": "dinosaur",
          "x": 1,
          "y": 2
         },
         {
          "showarrow": false,
          "text": "suit",
          "x": 2,
          "y": 2
         },
         {
          "showarrow": false,
          "text": "ketchup",
          "x": 3,
          "y": 2
         },
         {
          "showarrow": false,
          "text": "paste",
          "x": 4,
          "y": 2
         },
         {
          "showarrow": false,
          "text": "pole",
          "x": 0,
          "y": 3
         },
         {
          "showarrow": false,
          "text": "spell",
          "x": 1,
          "y": 3
         },
         {
          "showarrow": false,
          "text": "amazon",
          "x": 2,
          "y": 3
         },
         {
          "showarrow": false,
          "text": "slip",
          "x": 3,
          "y": 3
         },
         {
          "showarrow": false,
          "text": "slug",
          "x": 4,
          "y": 3
         },
         {
          "showarrow": false,
          "text": "london",
          "x": 0,
          "y": 4
         },
         {
          "showarrow": false,
          "text": "hole",
          "x": 1,
          "y": 4
         },
         {
          "showarrow": false,
          "text": "mail",
          "x": 2,
          "y": 4
         },
         {
          "showarrow": false,
          "text": "spring",
          "x": 3,
          "y": 4
         },
         {
          "showarrow": false,
          "text": "grass",
          "x": 4,
          "y": 4
         }
        ],
        "margin": {
         "t": 60
        },
        "template": {
         "data": {
          "bar": [
           {
            "error_x": {
             "color": "#2a3f5f"
            },
            "error_y": {
             "color": "#2a3f5f"
            },
            "marker": {
             "line": {
              "color": "#E5ECF6",
              "width": 0.5
             }
            },
            "type": "bar"
           }
          ],
          "barpolar": [
           {
            "marker": {
             "line": {
              "color": "#E5ECF6",
              "width": 0.5
             }
            },
            "type": "barpolar"
           }
          ],
          "carpet": [
           {
            "aaxis": {
             "endlinecolor": "#2a3f5f",
             "gridcolor": "white",
             "linecolor": "white",
             "minorgridcolor": "white",
             "startlinecolor": "#2a3f5f"
            },
            "baxis": {
             "endlinecolor": "#2a3f5f",
             "gridcolor": "white",
             "linecolor": "white",
             "minorgridcolor": "white",
             "startlinecolor": "#2a3f5f"
            },
            "type": "carpet"
           }
          ],
          "choropleth": [
           {
            "colorbar": {
             "outlinewidth": 0,
             "ticks": ""
            },
            "type": "choropleth"
           }
          ],
          "contour": [
           {
            "colorbar": {
             "outlinewidth": 0,
             "ticks": ""
            },
            "colorscale": [
             [
              0,
              "#0d0887"
             ],
             [
              0.1111111111111111,
              "#46039f"
             ],
             [
              0.2222222222222222,
              "#7201a8"
             ],
             [
              0.3333333333333333,
              "#9c179e"
             ],
             [
              0.4444444444444444,
              "#bd3786"
             ],
             [
              0.5555555555555556,
              "#d8576b"
             ],
             [
              0.6666666666666666,
              "#ed7953"
             ],
             [
              0.7777777777777778,
              "#fb9f3a"
             ],
             [
              0.8888888888888888,
              "#fdca26"
             ],
             [
              1,
              "#f0f921"
             ]
            ],
            "type": "contour"
           }
          ],
          "contourcarpet": [
           {
            "colorbar": {
             "outlinewidth": 0,
             "ticks": ""
            },
            "type": "contourcarpet"
           }
          ],
          "heatmap": [
           {
            "colorbar": {
             "outlinewidth": 0,
             "ticks": ""
            },
            "colorscale": [
             [
              0,
              "#0d0887"
             ],
             [
              0.1111111111111111,
              "#46039f"
             ],
             [
              0.2222222222222222,
              "#7201a8"
             ],
             [
              0.3333333333333333,
              "#9c179e"
             ],
             [
              0.4444444444444444,
              "#bd3786"
             ],
             [
              0.5555555555555556,
              "#d8576b"
             ],
             [
              0.6666666666666666,
              "#ed7953"
             ],
             [
              0.7777777777777778,
              "#fb9f3a"
             ],
             [
              0.8888888888888888,
              "#fdca26"
             ],
             [
              1,
              "#f0f921"
             ]
            ],
            "type": "heatmap"
           }
          ],
          "heatmapgl": [
           {
            "colorbar": {
             "outlinewidth": 0,
             "ticks": ""
            },
            "colorscale": [
             [
              0,
              "#0d0887"
             ],
             [
              0.1111111111111111,
              "#46039f"
             ],
             [
              0.2222222222222222,
              "#7201a8"
             ],
             [
              0.3333333333333333,
              "#9c179e"
             ],
             [
              0.4444444444444444,
              "#bd3786"
             ],
             [
              0.5555555555555556,
              "#d8576b"
             ],
             [
              0.6666666666666666,
              "#ed7953"
             ],
             [
              0.7777777777777778,
              "#fb9f3a"
             ],
             [
              0.8888888888888888,
              "#fdca26"
             ],
             [
              1,
              "#f0f921"
             ]
            ],
            "type": "heatmapgl"
           }
          ],
          "histogram": [
           {
            "marker": {
             "colorbar": {
              "outlinewidth": 0,
              "ticks": ""
             }
            },
            "type": "histogram"
           }
          ],
          "histogram2d": [
           {
            "colorbar": {
             "outlinewidth": 0,
             "ticks": ""
            },
            "colorscale": [
             [
              0,
              "#0d0887"
             ],
             [
              0.1111111111111111,
              "#46039f"
             ],
             [
              0.2222222222222222,
              "#7201a8"
             ],
             [
              0.3333333333333333,
              "#9c179e"
             ],
             [
              0.4444444444444444,
              "#bd3786"
             ],
             [
              0.5555555555555556,
              "#d8576b"
             ],
             [
              0.6666666666666666,
              "#ed7953"
             ],
             [
              0.7777777777777778,
              "#fb9f3a"
             ],
             [
              0.8888888888888888,
              "#fdca26"
             ],
             [
              1,
              "#f0f921"
             ]
            ],
            "type": "histogram2d"
           }
          ],
          "histogram2dcontour": [
           {
            "colorbar": {
             "outlinewidth": 0,
             "ticks": ""
            },
            "colorscale": [
             [
              0,
              "#0d0887"
             ],
             [
              0.1111111111111111,
              "#46039f"
             ],
             [
              0.2222222222222222,
              "#7201a8"
             ],
             [
              0.3333333333333333,
              "#9c179e"
             ],
             [
              0.4444444444444444,
              "#bd3786"
             ],
             [
              0.5555555555555556,
              "#d8576b"
             ],
             [
              0.6666666666666666,
              "#ed7953"
             ],
             [
              0.7777777777777778,
              "#fb9f3a"
             ],
             [
              0.8888888888888888,
              "#fdca26"
             ],
             [
              1,
              "#f0f921"
             ]
            ],
            "type": "histogram2dcontour"
           }
          ],
          "mesh3d": [
           {
            "colorbar": {
             "outlinewidth": 0,
             "ticks": ""
            },
            "type": "mesh3d"
           }
          ],
          "parcoords": [
           {
            "line": {
             "colorbar": {
              "outlinewidth": 0,
              "ticks": ""
             }
            },
            "type": "parcoords"
           }
          ],
          "pie": [
           {
            "automargin": true,
            "type": "pie"
           }
          ],
          "scatter": [
           {
            "marker": {
             "colorbar": {
              "outlinewidth": 0,
              "ticks": ""
             }
            },
            "type": "scatter"
           }
          ],
          "scatter3d": [
           {
            "line": {
             "colorbar": {
              "outlinewidth": 0,
              "ticks": ""
             }
            },
            "marker": {
             "colorbar": {
              "outlinewidth": 0,
              "ticks": ""
             }
            },
            "type": "scatter3d"
           }
          ],
          "scattercarpet": [
           {
            "marker": {
             "colorbar": {
              "outlinewidth": 0,
              "ticks": ""
             }
            },
            "type": "scattercarpet"
           }
          ],
          "scattergeo": [
           {
            "marker": {
             "colorbar": {
              "outlinewidth": 0,
              "ticks": ""
             }
            },
            "type": "scattergeo"
           }
          ],
          "scattergl": [
           {
            "marker": {
             "colorbar": {
              "outlinewidth": 0,
              "ticks": ""
             }
            },
            "type": "scattergl"
           }
          ],
          "scattermapbox": [
           {
            "marker": {
             "colorbar": {
              "outlinewidth": 0,
              "ticks": ""
             }
            },
            "type": "scattermapbox"
           }
          ],
          "scatterpolar": [
           {
            "marker": {
             "colorbar": {
              "outlinewidth": 0,
              "ticks": ""
             }
            },
            "type": "scatterpolar"
           }
          ],
          "scatterpolargl": [
           {
            "marker": {
             "colorbar": {
              "outlinewidth": 0,
              "ticks": ""
             }
            },
            "type": "scatterpolargl"
           }
          ],
          "scatterternary": [
           {
            "marker": {
             "colorbar": {
              "outlinewidth": 0,
              "ticks": ""
             }
            },
            "type": "scatterternary"
           }
          ],
          "surface": [
           {
            "colorbar": {
             "outlinewidth": 0,
             "ticks": ""
            },
            "colorscale": [
             [
              0,
              "#0d0887"
             ],
             [
              0.1111111111111111,
              "#46039f"
             ],
             [
              0.2222222222222222,
              "#7201a8"
             ],
             [
              0.3333333333333333,
              "#9c179e"
             ],
             [
              0.4444444444444444,
              "#bd3786"
             ],
             [
              0.5555555555555556,
              "#d8576b"
             ],
             [
              0.6666666666666666,
              "#ed7953"
             ],
             [
              0.7777777777777778,
              "#fb9f3a"
             ],
             [
              0.8888888888888888,
              "#fdca26"
             ],
             [
              1,
              "#f0f921"
             ]
            ],
            "type": "surface"
           }
          ],
          "table": [
           {
            "cells": {
             "fill": {
              "color": "#EBF0F8"
             },
             "line": {
              "color": "white"
             }
            },
            "header": {
             "fill": {
              "color": "#C8D4E3"
             },
             "line": {
              "color": "white"
             }
            },
            "type": "table"
           }
          ]
         },
         "layout": {
          "annotationdefaults": {
           "arrowcolor": "#2a3f5f",
           "arrowhead": 0,
           "arrowwidth": 1
          },
          "coloraxis": {
           "colorbar": {
            "outlinewidth": 0,
            "ticks": ""
           }
          },
          "colorscale": {
           "diverging": [
            [
             0,
             "#8e0152"
            ],
            [
             0.1,
             "#c51b7d"
            ],
            [
             0.2,
             "#de77ae"
            ],
            [
             0.3,
             "#f1b6da"
            ],
            [
             0.4,
             "#fde0ef"
            ],
            [
             0.5,
             "#f7f7f7"
            ],
            [
             0.6,
             "#e6f5d0"
            ],
            [
             0.7,
             "#b8e186"
            ],
            [
             0.8,
             "#7fbc41"
            ],
            [
             0.9,
             "#4d9221"
            ],
            [
             1,
             "#276419"
            ]
           ],
           "sequential": [
            [
             0,
             "#0d0887"
            ],
            [
             0.1111111111111111,
             "#46039f"
            ],
            [
             0.2222222222222222,
             "#7201a8"
            ],
            [
             0.3333333333333333,
             "#9c179e"
            ],
            [
             0.4444444444444444,
             "#bd3786"
            ],
            [
             0.5555555555555556,
             "#d8576b"
            ],
            [
             0.6666666666666666,
             "#ed7953"
            ],
            [
             0.7777777777777778,
             "#fb9f3a"
            ],
            [
             0.8888888888888888,
             "#fdca26"
            ],
            [
             1,
             "#f0f921"
            ]
           ],
           "sequentialminus": [
            [
             0,
             "#0d0887"
            ],
            [
             0.1111111111111111,
             "#46039f"
            ],
            [
             0.2222222222222222,
             "#7201a8"
            ],
            [
             0.3333333333333333,
             "#9c179e"
            ],
            [
             0.4444444444444444,
             "#bd3786"
            ],
            [
             0.5555555555555556,
             "#d8576b"
            ],
            [
             0.6666666666666666,
             "#ed7953"
            ],
            [
             0.7777777777777778,
             "#fb9f3a"
            ],
            [
             0.8888888888888888,
             "#fdca26"
            ],
            [
             1,
             "#f0f921"
            ]
           ]
          },
          "colorway": [
           "#636efa",
           "#EF553B",
           "#00cc96",
           "#ab63fa",
           "#FFA15A",
           "#19d3f3",
           "#FF6692",
           "#B6E880",
           "#FF97FF",
           "#FECB52"
          ],
          "font": {
           "color": "#2a3f5f"
          },
          "geo": {
           "bgcolor": "white",
           "lakecolor": "white",
           "landcolor": "#E5ECF6",
           "showlakes": true,
           "showland": true,
           "subunitcolor": "white"
          },
          "hoverlabel": {
           "align": "left"
          },
          "hovermode": "closest",
          "mapbox": {
           "style": "light"
          },
          "paper_bgcolor": "white",
          "plot_bgcolor": "#E5ECF6",
          "polar": {
           "angularaxis": {
            "gridcolor": "white",
            "linecolor": "white",
            "ticks": ""
           },
           "bgcolor": "#E5ECF6",
           "radialaxis": {
            "gridcolor": "white",
            "linecolor": "white",
            "ticks": ""
           }
          },
          "scene": {
           "xaxis": {
            "backgroundcolor": "#E5ECF6",
            "gridcolor": "white",
            "gridwidth": 2,
            "linecolor": "white",
            "showbackground": true,
            "ticks": "",
            "zerolinecolor": "white"
           },
           "yaxis": {
            "backgroundcolor": "#E5ECF6",
            "gridcolor": "white",
            "gridwidth": 2,
            "linecolor": "white",
            "showbackground": true,
            "ticks": "",
            "zerolinecolor": "white"
           },
           "zaxis": {
            "backgroundcolor": "#E5ECF6",
            "gridcolor": "white",
            "gridwidth": 2,
            "linecolor": "white",
            "showbackground": true,
            "ticks": "",
            "zerolinecolor": "white"
           }
          },
          "shapedefaults": {
           "line": {
            "color": "#2a3f5f"
           }
          },
          "ternary": {
           "aaxis": {
            "gridcolor": "white",
            "linecolor": "white",
            "ticks": ""
           },
           "baxis": {
            "gridcolor": "white",
            "linecolor": "white",
            "ticks": ""
           },
           "bgcolor": "#E5ECF6",
           "caxis": {
            "gridcolor": "white",
            "linecolor": "white",
            "ticks": ""
           }
          },
          "title": {
           "x": 0.05
          },
          "xaxis": {
           "automargin": true,
           "gridcolor": "white",
           "linecolor": "white",
           "ticks": "",
           "title": {
            "standoff": 15
           },
           "zerolinecolor": "white",
           "zerolinewidth": 2
          },
          "yaxis": {
           "automargin": true,
           "gridcolor": "white",
           "linecolor": "white",
           "ticks": "",
           "title": {
            "standoff": 15
           },
           "zerolinecolor": "white",
           "zerolinewidth": 2
          }
         }
        }
       }
      },
      "text/html": [
       "<div>\n",
       "        \n",
       "        \n",
       "            <div id=\"cb2423cd-75b8-4258-bfe8-a6935f423c4d\" class=\"plotly-graph-div\" style=\"height:525px; width:100%;\"></div>\n",
       "            <script type=\"text/javascript\">\n",
       "                require([\"plotly\"], function(Plotly) {\n",
       "                    window.PLOTLYENV=window.PLOTLYENV || {};\n",
       "                    \n",
       "                if (document.getElementById(\"cb2423cd-75b8-4258-bfe8-a6935f423c4d\")) {\n",
       "                    Plotly.newPlot(\n",
       "                        'cb2423cd-75b8-4258-bfe8-a6935f423c4d',\n",
       "                        [{\"hovertemplate\": \"x: %{x}<br>y: %{y}<br>color: %{z}<extra></extra>\", \"type\": \"image\", \"z\": [[[57.0, 105.0, 145.0, 0.25], [246.0, 232.0, 204.0, 0.25], [57.0, 105.0, 145.0, 0.25], [57.0, 105.0, 145.0, 0.25], [246.0, 232.0, 204.0, 0.25]], [[246.0, 232.0, 204.0, 0.25], [213.0, 64.0, 8.0, 0.25], [213.0, 64.0, 8.0, 0.25], [246.0, 232.0, 204.0, 0.25], [57.0, 105.0, 145.0, 0.25]], [[194.0, 183.0, 54.0, 0.25], [246.0, 232.0, 204.0, 0.25], [246.0, 232.0, 204.0, 0.25], [213.0, 64.0, 8.0, 0.25], [213.0, 64.0, 8.0, 0.25]], [[213.0, 64.0, 8.0, 0.25], [246.0, 232.0, 204.0, 0.25], [246.0, 232.0, 204.0, 0.25], [57.0, 105.0, 145.0, 0.25], [246.0, 232.0, 204.0, 0.25]], [[213.0, 64.0, 8.0, 0.25], [57.0, 105.0, 145.0, 0.25], [246.0, 232.0, 204.0, 0.25], [57.0, 105.0, 145.0, 0.25], [246.0, 232.0, 204.0, 0.25]]], \"zmax\": [255, 255, 255, 1]}],\n",
       "                        {\"annotations\": [{\"showarrow\": false, \"text\": \"millionaire\", \"x\": 0, \"y\": 0}, {\"showarrow\": false, \"text\": \"racket\", \"x\": 1, \"y\": 0}, {\"showarrow\": false, \"text\": \"cricket\", \"x\": 2, \"y\": 0}, {\"showarrow\": false, \"text\": \"china\", \"x\": 3, \"y\": 0}, {\"showarrow\": false, \"text\": \"dress\", \"x\": 4, \"y\": 0}, {\"showarrow\": false, \"text\": \"jupiter\", \"x\": 0, \"y\": 1}, {\"showarrow\": false, \"text\": \"rabbit\", \"x\": 1, \"y\": 1}, {\"showarrow\": false, \"text\": \"beijing\", \"x\": 2, \"y\": 1}, {\"showarrow\": false, \"text\": \"cotton\", \"x\": 3, \"y\": 1}, {\"showarrow\": false, \"text\": \"roulette\", \"x\": 4, \"y\": 1}, {\"showarrow\": false, \"text\": \"carrot\", \"x\": 0, \"y\": 2}, {\"showarrow\": false, \"text\": \"dinosaur\", \"x\": 1, \"y\": 2}, {\"showarrow\": false, \"text\": \"suit\", \"x\": 2, \"y\": 2}, {\"showarrow\": false, \"text\": \"ketchup\", \"x\": 3, \"y\": 2}, {\"showarrow\": false, \"text\": \"paste\", \"x\": 4, \"y\": 2}, {\"showarrow\": false, \"text\": \"pole\", \"x\": 0, \"y\": 3}, {\"showarrow\": false, \"text\": \"spell\", \"x\": 1, \"y\": 3}, {\"showarrow\": false, \"text\": \"amazon\", \"x\": 2, \"y\": 3}, {\"showarrow\": false, \"text\": \"slip\", \"x\": 3, \"y\": 3}, {\"showarrow\": false, \"text\": \"slug\", \"x\": 4, \"y\": 3}, {\"showarrow\": false, \"text\": \"london\", \"x\": 0, \"y\": 4}, {\"showarrow\": false, \"text\": \"hole\", \"x\": 1, \"y\": 4}, {\"showarrow\": false, \"text\": \"mail\", \"x\": 2, \"y\": 4}, {\"showarrow\": false, \"text\": \"spring\", \"x\": 3, \"y\": 4}, {\"showarrow\": false, \"text\": \"grass\", \"x\": 4, \"y\": 4}], \"margin\": {\"t\": 60}, \"template\": {\"data\": {\"bar\": [{\"error_x\": {\"color\": \"#2a3f5f\"}, \"error_y\": {\"color\": \"#2a3f5f\"}, \"marker\": {\"line\": {\"color\": \"#E5ECF6\", \"width\": 0.5}}, \"type\": \"bar\"}], \"barpolar\": [{\"marker\": {\"line\": {\"color\": \"#E5ECF6\", \"width\": 0.5}}, \"type\": \"barpolar\"}], \"carpet\": [{\"aaxis\": {\"endlinecolor\": \"#2a3f5f\", \"gridcolor\": \"white\", \"linecolor\": \"white\", \"minorgridcolor\": \"white\", \"startlinecolor\": \"#2a3f5f\"}, \"baxis\": {\"endlinecolor\": \"#2a3f5f\", \"gridcolor\": \"white\", \"linecolor\": \"white\", \"minorgridcolor\": \"white\", \"startlinecolor\": \"#2a3f5f\"}, \"type\": \"carpet\"}], \"choropleth\": [{\"colorbar\": {\"outlinewidth\": 0, \"ticks\": \"\"}, \"type\": \"choropleth\"}], \"contour\": [{\"colorbar\": {\"outlinewidth\": 0, \"ticks\": \"\"}, \"colorscale\": [[0.0, \"#0d0887\"], [0.1111111111111111, \"#46039f\"], [0.2222222222222222, \"#7201a8\"], [0.3333333333333333, \"#9c179e\"], [0.4444444444444444, \"#bd3786\"], [0.5555555555555556, \"#d8576b\"], [0.6666666666666666, \"#ed7953\"], [0.7777777777777778, \"#fb9f3a\"], [0.8888888888888888, \"#fdca26\"], [1.0, \"#f0f921\"]], \"type\": \"contour\"}], \"contourcarpet\": [{\"colorbar\": {\"outlinewidth\": 0, \"ticks\": \"\"}, \"type\": \"contourcarpet\"}], \"heatmap\": [{\"colorbar\": {\"outlinewidth\": 0, \"ticks\": \"\"}, \"colorscale\": [[0.0, \"#0d0887\"], [0.1111111111111111, \"#46039f\"], [0.2222222222222222, \"#7201a8\"], [0.3333333333333333, \"#9c179e\"], [0.4444444444444444, \"#bd3786\"], [0.5555555555555556, \"#d8576b\"], [0.6666666666666666, \"#ed7953\"], [0.7777777777777778, \"#fb9f3a\"], [0.8888888888888888, \"#fdca26\"], [1.0, \"#f0f921\"]], \"type\": \"heatmap\"}], \"heatmapgl\": [{\"colorbar\": {\"outlinewidth\": 0, \"ticks\": \"\"}, \"colorscale\": [[0.0, \"#0d0887\"], [0.1111111111111111, \"#46039f\"], [0.2222222222222222, \"#7201a8\"], [0.3333333333333333, \"#9c179e\"], [0.4444444444444444, \"#bd3786\"], [0.5555555555555556, \"#d8576b\"], [0.6666666666666666, \"#ed7953\"], [0.7777777777777778, \"#fb9f3a\"], [0.8888888888888888, \"#fdca26\"], [1.0, \"#f0f921\"]], \"type\": \"heatmapgl\"}], \"histogram\": [{\"marker\": {\"colorbar\": {\"outlinewidth\": 0, \"ticks\": \"\"}}, \"type\": \"histogram\"}], \"histogram2d\": [{\"colorbar\": {\"outlinewidth\": 0, \"ticks\": \"\"}, \"colorscale\": [[0.0, \"#0d0887\"], [0.1111111111111111, \"#46039f\"], [0.2222222222222222, \"#7201a8\"], [0.3333333333333333, \"#9c179e\"], [0.4444444444444444, \"#bd3786\"], [0.5555555555555556, \"#d8576b\"], [0.6666666666666666, \"#ed7953\"], [0.7777777777777778, \"#fb9f3a\"], [0.8888888888888888, \"#fdca26\"], [1.0, \"#f0f921\"]], \"type\": \"histogram2d\"}], \"histogram2dcontour\": [{\"colorbar\": {\"outlinewidth\": 0, \"ticks\": \"\"}, \"colorscale\": [[0.0, \"#0d0887\"], [0.1111111111111111, \"#46039f\"], [0.2222222222222222, \"#7201a8\"], [0.3333333333333333, \"#9c179e\"], [0.4444444444444444, \"#bd3786\"], [0.5555555555555556, \"#d8576b\"], [0.6666666666666666, \"#ed7953\"], [0.7777777777777778, \"#fb9f3a\"], [0.8888888888888888, \"#fdca26\"], [1.0, \"#f0f921\"]], \"type\": \"histogram2dcontour\"}], \"mesh3d\": [{\"colorbar\": {\"outlinewidth\": 0, \"ticks\": \"\"}, \"type\": \"mesh3d\"}], \"parcoords\": [{\"line\": {\"colorbar\": {\"outlinewidth\": 0, \"ticks\": \"\"}}, \"type\": \"parcoords\"}], \"pie\": [{\"automargin\": true, \"type\": \"pie\"}], \"scatter\": [{\"marker\": {\"colorbar\": {\"outlinewidth\": 0, \"ticks\": \"\"}}, \"type\": \"scatter\"}], \"scatter3d\": [{\"line\": {\"colorbar\": {\"outlinewidth\": 0, \"ticks\": \"\"}}, \"marker\": {\"colorbar\": {\"outlinewidth\": 0, \"ticks\": \"\"}}, \"type\": \"scatter3d\"}], \"scattercarpet\": [{\"marker\": {\"colorbar\": {\"outlinewidth\": 0, \"ticks\": \"\"}}, \"type\": \"scattercarpet\"}], \"scattergeo\": [{\"marker\": {\"colorbar\": {\"outlinewidth\": 0, \"ticks\": \"\"}}, \"type\": \"scattergeo\"}], \"scattergl\": [{\"marker\": {\"colorbar\": {\"outlinewidth\": 0, \"ticks\": \"\"}}, \"type\": \"scattergl\"}], \"scattermapbox\": [{\"marker\": {\"colorbar\": {\"outlinewidth\": 0, \"ticks\": \"\"}}, \"type\": \"scattermapbox\"}], \"scatterpolar\": [{\"marker\": {\"colorbar\": {\"outlinewidth\": 0, \"ticks\": \"\"}}, \"type\": \"scatterpolar\"}], \"scatterpolargl\": [{\"marker\": {\"colorbar\": {\"outlinewidth\": 0, \"ticks\": \"\"}}, \"type\": \"scatterpolargl\"}], \"scatterternary\": [{\"marker\": {\"colorbar\": {\"outlinewidth\": 0, \"ticks\": \"\"}}, \"type\": \"scatterternary\"}], \"surface\": [{\"colorbar\": {\"outlinewidth\": 0, \"ticks\": \"\"}, \"colorscale\": [[0.0, \"#0d0887\"], [0.1111111111111111, \"#46039f\"], [0.2222222222222222, \"#7201a8\"], [0.3333333333333333, \"#9c179e\"], [0.4444444444444444, \"#bd3786\"], [0.5555555555555556, \"#d8576b\"], [0.6666666666666666, \"#ed7953\"], [0.7777777777777778, \"#fb9f3a\"], [0.8888888888888888, \"#fdca26\"], [1.0, \"#f0f921\"]], \"type\": \"surface\"}], \"table\": [{\"cells\": {\"fill\": {\"color\": \"#EBF0F8\"}, \"line\": {\"color\": \"white\"}}, \"header\": {\"fill\": {\"color\": \"#C8D4E3\"}, \"line\": {\"color\": \"white\"}}, \"type\": \"table\"}]}, \"layout\": {\"annotationdefaults\": {\"arrowcolor\": \"#2a3f5f\", \"arrowhead\": 0, \"arrowwidth\": 1}, \"coloraxis\": {\"colorbar\": {\"outlinewidth\": 0, \"ticks\": \"\"}}, \"colorscale\": {\"diverging\": [[0, \"#8e0152\"], [0.1, \"#c51b7d\"], [0.2, \"#de77ae\"], [0.3, \"#f1b6da\"], [0.4, \"#fde0ef\"], [0.5, \"#f7f7f7\"], [0.6, \"#e6f5d0\"], [0.7, \"#b8e186\"], [0.8, \"#7fbc41\"], [0.9, \"#4d9221\"], [1, \"#276419\"]], \"sequential\": [[0.0, \"#0d0887\"], [0.1111111111111111, \"#46039f\"], [0.2222222222222222, \"#7201a8\"], [0.3333333333333333, \"#9c179e\"], [0.4444444444444444, \"#bd3786\"], [0.5555555555555556, \"#d8576b\"], [0.6666666666666666, \"#ed7953\"], [0.7777777777777778, \"#fb9f3a\"], [0.8888888888888888, \"#fdca26\"], [1.0, \"#f0f921\"]], \"sequentialminus\": [[0.0, \"#0d0887\"], [0.1111111111111111, \"#46039f\"], [0.2222222222222222, \"#7201a8\"], [0.3333333333333333, \"#9c179e\"], [0.4444444444444444, \"#bd3786\"], [0.5555555555555556, \"#d8576b\"], [0.6666666666666666, \"#ed7953\"], [0.7777777777777778, \"#fb9f3a\"], [0.8888888888888888, \"#fdca26\"], [1.0, \"#f0f921\"]]}, \"colorway\": [\"#636efa\", \"#EF553B\", \"#00cc96\", \"#ab63fa\", \"#FFA15A\", \"#19d3f3\", \"#FF6692\", \"#B6E880\", \"#FF97FF\", \"#FECB52\"], \"font\": {\"color\": \"#2a3f5f\"}, \"geo\": {\"bgcolor\": \"white\", \"lakecolor\": \"white\", \"landcolor\": \"#E5ECF6\", \"showlakes\": true, \"showland\": true, \"subunitcolor\": \"white\"}, \"hoverlabel\": {\"align\": \"left\"}, \"hovermode\": \"closest\", \"mapbox\": {\"style\": \"light\"}, \"paper_bgcolor\": \"white\", \"plot_bgcolor\": \"#E5ECF6\", \"polar\": {\"angularaxis\": {\"gridcolor\": \"white\", \"linecolor\": \"white\", \"ticks\": \"\"}, \"bgcolor\": \"#E5ECF6\", \"radialaxis\": {\"gridcolor\": \"white\", \"linecolor\": \"white\", \"ticks\": \"\"}}, \"scene\": {\"xaxis\": {\"backgroundcolor\": \"#E5ECF6\", \"gridcolor\": \"white\", \"gridwidth\": 2, \"linecolor\": \"white\", \"showbackground\": true, \"ticks\": \"\", \"zerolinecolor\": \"white\"}, \"yaxis\": {\"backgroundcolor\": \"#E5ECF6\", \"gridcolor\": \"white\", \"gridwidth\": 2, \"linecolor\": \"white\", \"showbackground\": true, \"ticks\": \"\", \"zerolinecolor\": \"white\"}, \"zaxis\": {\"backgroundcolor\": \"#E5ECF6\", \"gridcolor\": \"white\", \"gridwidth\": 2, \"linecolor\": \"white\", \"showbackground\": true, \"ticks\": \"\", \"zerolinecolor\": \"white\"}}, \"shapedefaults\": {\"line\": {\"color\": \"#2a3f5f\"}}, \"ternary\": {\"aaxis\": {\"gridcolor\": \"white\", \"linecolor\": \"white\", \"ticks\": \"\"}, \"baxis\": {\"gridcolor\": \"white\", \"linecolor\": \"white\", \"ticks\": \"\"}, \"bgcolor\": \"#E5ECF6\", \"caxis\": {\"gridcolor\": \"white\", \"linecolor\": \"white\", \"ticks\": \"\"}}, \"title\": {\"x\": 0.05}, \"xaxis\": {\"automargin\": true, \"gridcolor\": \"white\", \"linecolor\": \"white\", \"ticks\": \"\", \"title\": {\"standoff\": 15}, \"zerolinecolor\": \"white\", \"zerolinewidth\": 2}, \"yaxis\": {\"automargin\": true, \"gridcolor\": \"white\", \"linecolor\": \"white\", \"ticks\": \"\", \"title\": {\"standoff\": 15}, \"zerolinecolor\": \"white\", \"zerolinewidth\": 2}}}},\n",
       "                        {\"responsive\": true}\n",
       "                    ).then(function(){\n",
       "                            \n",
       "var gd = document.getElementById('cb2423cd-75b8-4258-bfe8-a6935f423c4d');\n",
       "var x = new MutationObserver(function (mutations, observer) {{\n",
       "        var display = window.getComputedStyle(gd).display;\n",
       "        if (!display || display === 'none') {{\n",
       "            console.log([gd, 'removed!']);\n",
       "            Plotly.purge(gd);\n",
       "            observer.disconnect();\n",
       "        }}\n",
       "}});\n",
       "\n",
       "// Listen for the removal of the full notebook cells\n",
       "var notebookContainer = gd.closest('#notebook-container');\n",
       "if (notebookContainer) {{\n",
       "    x.observe(notebookContainer, {childList: true});\n",
       "}}\n",
       "\n",
       "// Listen for the clearing of the current output cell\n",
       "var outputEl = gd.closest('.output');\n",
       "if (outputEl) {{\n",
       "    x.observe(outputEl, {childList: true});\n",
       "}}\n",
       "\n",
       "                        })\n",
       "                };\n",
       "                });\n",
       "            </script>\n",
       "        </div>"
      ]
     },
     "metadata": {},
     "output_type": "display_data"
    },
    {
     "name": "stdout",
     "output_type": "stream",
     "text": [
      "It's red's turn!\n",
      "Spymaster is looking at 1 possible clues\n",
      "red spymaster gives clue: lawn, 1\n",
      "red team guesses: grass\n",
      "Correct! Round score is 1\n"
     ]
    },
    {
     "data": {
      "application/vnd.plotly.v1+json": {
       "config": {
        "plotlyServerURL": "https://plot.ly"
       },
       "data": [
        {
         "hovertemplate": "x: %{x}<br>y: %{y}<br>color: %{z}<extra></extra>",
         "type": "image",
         "z": [
          [
           [
            57,
            105,
            145,
            0.25
           ],
           [
            246,
            232,
            204,
            0.25
           ],
           [
            57,
            105,
            145,
            0.25
           ],
           [
            57,
            105,
            145,
            0.25
           ],
           [
            246,
            232,
            204,
            0.25
           ]
          ],
          [
           [
            246,
            232,
            204,
            0.25
           ],
           [
            213,
            64,
            8,
            0.25
           ],
           [
            213,
            64,
            8,
            0.25
           ],
           [
            246,
            232,
            204,
            0.25
           ],
           [
            57,
            105,
            145,
            0.25
           ]
          ],
          [
           [
            194,
            183,
            54,
            0.25
           ],
           [
            246,
            232,
            204,
            0.25
           ],
           [
            246,
            232,
            204,
            0.25
           ],
           [
            213,
            64,
            8,
            0.25
           ],
           [
            213,
            64,
            8,
            0.25
           ]
          ],
          [
           [
            213,
            64,
            8,
            0.25
           ],
           [
            246,
            232,
            204,
            0.25
           ],
           [
            246,
            232,
            204,
            0.25
           ],
           [
            57,
            105,
            145,
            0.25
           ],
           [
            246,
            232,
            204,
            0.25
           ]
          ],
          [
           [
            213,
            64,
            8,
            0.25
           ],
           [
            57,
            105,
            145,
            0.25
           ],
           [
            246,
            232,
            204,
            0.25
           ],
           [
            57,
            105,
            145,
            0.25
           ],
           [
            213,
            64,
            8,
            0.25
           ]
          ]
         ],
         "zmax": [
          255,
          255,
          255,
          1
         ]
        }
       ],
       "layout": {
        "annotations": [
         {
          "showarrow": false,
          "text": "millionaire",
          "x": 0,
          "y": 0
         },
         {
          "showarrow": false,
          "text": "racket",
          "x": 1,
          "y": 0
         },
         {
          "showarrow": false,
          "text": "cricket",
          "x": 2,
          "y": 0
         },
         {
          "showarrow": false,
          "text": "china",
          "x": 3,
          "y": 0
         },
         {
          "showarrow": false,
          "text": "dress",
          "x": 4,
          "y": 0
         },
         {
          "showarrow": false,
          "text": "jupiter",
          "x": 0,
          "y": 1
         },
         {
          "showarrow": false,
          "text": "rabbit",
          "x": 1,
          "y": 1
         },
         {
          "showarrow": false,
          "text": "beijing",
          "x": 2,
          "y": 1
         },
         {
          "showarrow": false,
          "text": "cotton",
          "x": 3,
          "y": 1
         },
         {
          "showarrow": false,
          "text": "roulette",
          "x": 4,
          "y": 1
         },
         {
          "showarrow": false,
          "text": "carrot",
          "x": 0,
          "y": 2
         },
         {
          "showarrow": false,
          "text": "dinosaur",
          "x": 1,
          "y": 2
         },
         {
          "showarrow": false,
          "text": "suit",
          "x": 2,
          "y": 2
         },
         {
          "showarrow": false,
          "text": "ketchup",
          "x": 3,
          "y": 2
         },
         {
          "showarrow": false,
          "text": "paste",
          "x": 4,
          "y": 2
         },
         {
          "showarrow": false,
          "text": "pole",
          "x": 0,
          "y": 3
         },
         {
          "showarrow": false,
          "text": "spell",
          "x": 1,
          "y": 3
         },
         {
          "showarrow": false,
          "text": "amazon",
          "x": 2,
          "y": 3
         },
         {
          "showarrow": false,
          "text": "slip",
          "x": 3,
          "y": 3
         },
         {
          "showarrow": false,
          "text": "slug",
          "x": 4,
          "y": 3
         },
         {
          "showarrow": false,
          "text": "london",
          "x": 0,
          "y": 4
         },
         {
          "showarrow": false,
          "text": "hole",
          "x": 1,
          "y": 4
         },
         {
          "showarrow": false,
          "text": "mail",
          "x": 2,
          "y": 4
         },
         {
          "showarrow": false,
          "text": "spring",
          "x": 3,
          "y": 4
         },
         {
          "showarrow": false,
          "text": "grass",
          "x": 4,
          "y": 4
         }
        ],
        "margin": {
         "t": 60
        },
        "template": {
         "data": {
          "bar": [
           {
            "error_x": {
             "color": "#2a3f5f"
            },
            "error_y": {
             "color": "#2a3f5f"
            },
            "marker": {
             "line": {
              "color": "#E5ECF6",
              "width": 0.5
             }
            },
            "type": "bar"
           }
          ],
          "barpolar": [
           {
            "marker": {
             "line": {
              "color": "#E5ECF6",
              "width": 0.5
             }
            },
            "type": "barpolar"
           }
          ],
          "carpet": [
           {
            "aaxis": {
             "endlinecolor": "#2a3f5f",
             "gridcolor": "white",
             "linecolor": "white",
             "minorgridcolor": "white",
             "startlinecolor": "#2a3f5f"
            },
            "baxis": {
             "endlinecolor": "#2a3f5f",
             "gridcolor": "white",
             "linecolor": "white",
             "minorgridcolor": "white",
             "startlinecolor": "#2a3f5f"
            },
            "type": "carpet"
           }
          ],
          "choropleth": [
           {
            "colorbar": {
             "outlinewidth": 0,
             "ticks": ""
            },
            "type": "choropleth"
           }
          ],
          "contour": [
           {
            "colorbar": {
             "outlinewidth": 0,
             "ticks": ""
            },
            "colorscale": [
             [
              0,
              "#0d0887"
             ],
             [
              0.1111111111111111,
              "#46039f"
             ],
             [
              0.2222222222222222,
              "#7201a8"
             ],
             [
              0.3333333333333333,
              "#9c179e"
             ],
             [
              0.4444444444444444,
              "#bd3786"
             ],
             [
              0.5555555555555556,
              "#d8576b"
             ],
             [
              0.6666666666666666,
              "#ed7953"
             ],
             [
              0.7777777777777778,
              "#fb9f3a"
             ],
             [
              0.8888888888888888,
              "#fdca26"
             ],
             [
              1,
              "#f0f921"
             ]
            ],
            "type": "contour"
           }
          ],
          "contourcarpet": [
           {
            "colorbar": {
             "outlinewidth": 0,
             "ticks": ""
            },
            "type": "contourcarpet"
           }
          ],
          "heatmap": [
           {
            "colorbar": {
             "outlinewidth": 0,
             "ticks": ""
            },
            "colorscale": [
             [
              0,
              "#0d0887"
             ],
             [
              0.1111111111111111,
              "#46039f"
             ],
             [
              0.2222222222222222,
              "#7201a8"
             ],
             [
              0.3333333333333333,
              "#9c179e"
             ],
             [
              0.4444444444444444,
              "#bd3786"
             ],
             [
              0.5555555555555556,
              "#d8576b"
             ],
             [
              0.6666666666666666,
              "#ed7953"
             ],
             [
              0.7777777777777778,
              "#fb9f3a"
             ],
             [
              0.8888888888888888,
              "#fdca26"
             ],
             [
              1,
              "#f0f921"
             ]
            ],
            "type": "heatmap"
           }
          ],
          "heatmapgl": [
           {
            "colorbar": {
             "outlinewidth": 0,
             "ticks": ""
            },
            "colorscale": [
             [
              0,
              "#0d0887"
             ],
             [
              0.1111111111111111,
              "#46039f"
             ],
             [
              0.2222222222222222,
              "#7201a8"
             ],
             [
              0.3333333333333333,
              "#9c179e"
             ],
             [
              0.4444444444444444,
              "#bd3786"
             ],
             [
              0.5555555555555556,
              "#d8576b"
             ],
             [
              0.6666666666666666,
              "#ed7953"
             ],
             [
              0.7777777777777778,
              "#fb9f3a"
             ],
             [
              0.8888888888888888,
              "#fdca26"
             ],
             [
              1,
              "#f0f921"
             ]
            ],
            "type": "heatmapgl"
           }
          ],
          "histogram": [
           {
            "marker": {
             "colorbar": {
              "outlinewidth": 0,
              "ticks": ""
             }
            },
            "type": "histogram"
           }
          ],
          "histogram2d": [
           {
            "colorbar": {
             "outlinewidth": 0,
             "ticks": ""
            },
            "colorscale": [
             [
              0,
              "#0d0887"
             ],
             [
              0.1111111111111111,
              "#46039f"
             ],
             [
              0.2222222222222222,
              "#7201a8"
             ],
             [
              0.3333333333333333,
              "#9c179e"
             ],
             [
              0.4444444444444444,
              "#bd3786"
             ],
             [
              0.5555555555555556,
              "#d8576b"
             ],
             [
              0.6666666666666666,
              "#ed7953"
             ],
             [
              0.7777777777777778,
              "#fb9f3a"
             ],
             [
              0.8888888888888888,
              "#fdca26"
             ],
             [
              1,
              "#f0f921"
             ]
            ],
            "type": "histogram2d"
           }
          ],
          "histogram2dcontour": [
           {
            "colorbar": {
             "outlinewidth": 0,
             "ticks": ""
            },
            "colorscale": [
             [
              0,
              "#0d0887"
             ],
             [
              0.1111111111111111,
              "#46039f"
             ],
             [
              0.2222222222222222,
              "#7201a8"
             ],
             [
              0.3333333333333333,
              "#9c179e"
             ],
             [
              0.4444444444444444,
              "#bd3786"
             ],
             [
              0.5555555555555556,
              "#d8576b"
             ],
             [
              0.6666666666666666,
              "#ed7953"
             ],
             [
              0.7777777777777778,
              "#fb9f3a"
             ],
             [
              0.8888888888888888,
              "#fdca26"
             ],
             [
              1,
              "#f0f921"
             ]
            ],
            "type": "histogram2dcontour"
           }
          ],
          "mesh3d": [
           {
            "colorbar": {
             "outlinewidth": 0,
             "ticks": ""
            },
            "type": "mesh3d"
           }
          ],
          "parcoords": [
           {
            "line": {
             "colorbar": {
              "outlinewidth": 0,
              "ticks": ""
             }
            },
            "type": "parcoords"
           }
          ],
          "pie": [
           {
            "automargin": true,
            "type": "pie"
           }
          ],
          "scatter": [
           {
            "marker": {
             "colorbar": {
              "outlinewidth": 0,
              "ticks": ""
             }
            },
            "type": "scatter"
           }
          ],
          "scatter3d": [
           {
            "line": {
             "colorbar": {
              "outlinewidth": 0,
              "ticks": ""
             }
            },
            "marker": {
             "colorbar": {
              "outlinewidth": 0,
              "ticks": ""
             }
            },
            "type": "scatter3d"
           }
          ],
          "scattercarpet": [
           {
            "marker": {
             "colorbar": {
              "outlinewidth": 0,
              "ticks": ""
             }
            },
            "type": "scattercarpet"
           }
          ],
          "scattergeo": [
           {
            "marker": {
             "colorbar": {
              "outlinewidth": 0,
              "ticks": ""
             }
            },
            "type": "scattergeo"
           }
          ],
          "scattergl": [
           {
            "marker": {
             "colorbar": {
              "outlinewidth": 0,
              "ticks": ""
             }
            },
            "type": "scattergl"
           }
          ],
          "scattermapbox": [
           {
            "marker": {
             "colorbar": {
              "outlinewidth": 0,
              "ticks": ""
             }
            },
            "type": "scattermapbox"
           }
          ],
          "scatterpolar": [
           {
            "marker": {
             "colorbar": {
              "outlinewidth": 0,
              "ticks": ""
             }
            },
            "type": "scatterpolar"
           }
          ],
          "scatterpolargl": [
           {
            "marker": {
             "colorbar": {
              "outlinewidth": 0,
              "ticks": ""
             }
            },
            "type": "scatterpolargl"
           }
          ],
          "scatterternary": [
           {
            "marker": {
             "colorbar": {
              "outlinewidth": 0,
              "ticks": ""
             }
            },
            "type": "scatterternary"
           }
          ],
          "surface": [
           {
            "colorbar": {
             "outlinewidth": 0,
             "ticks": ""
            },
            "colorscale": [
             [
              0,
              "#0d0887"
             ],
             [
              0.1111111111111111,
              "#46039f"
             ],
             [
              0.2222222222222222,
              "#7201a8"
             ],
             [
              0.3333333333333333,
              "#9c179e"
             ],
             [
              0.4444444444444444,
              "#bd3786"
             ],
             [
              0.5555555555555556,
              "#d8576b"
             ],
             [
              0.6666666666666666,
              "#ed7953"
             ],
             [
              0.7777777777777778,
              "#fb9f3a"
             ],
             [
              0.8888888888888888,
              "#fdca26"
             ],
             [
              1,
              "#f0f921"
             ]
            ],
            "type": "surface"
           }
          ],
          "table": [
           {
            "cells": {
             "fill": {
              "color": "#EBF0F8"
             },
             "line": {
              "color": "white"
             }
            },
            "header": {
             "fill": {
              "color": "#C8D4E3"
             },
             "line": {
              "color": "white"
             }
            },
            "type": "table"
           }
          ]
         },
         "layout": {
          "annotationdefaults": {
           "arrowcolor": "#2a3f5f",
           "arrowhead": 0,
           "arrowwidth": 1
          },
          "coloraxis": {
           "colorbar": {
            "outlinewidth": 0,
            "ticks": ""
           }
          },
          "colorscale": {
           "diverging": [
            [
             0,
             "#8e0152"
            ],
            [
             0.1,
             "#c51b7d"
            ],
            [
             0.2,
             "#de77ae"
            ],
            [
             0.3,
             "#f1b6da"
            ],
            [
             0.4,
             "#fde0ef"
            ],
            [
             0.5,
             "#f7f7f7"
            ],
            [
             0.6,
             "#e6f5d0"
            ],
            [
             0.7,
             "#b8e186"
            ],
            [
             0.8,
             "#7fbc41"
            ],
            [
             0.9,
             "#4d9221"
            ],
            [
             1,
             "#276419"
            ]
           ],
           "sequential": [
            [
             0,
             "#0d0887"
            ],
            [
             0.1111111111111111,
             "#46039f"
            ],
            [
             0.2222222222222222,
             "#7201a8"
            ],
            [
             0.3333333333333333,
             "#9c179e"
            ],
            [
             0.4444444444444444,
             "#bd3786"
            ],
            [
             0.5555555555555556,
             "#d8576b"
            ],
            [
             0.6666666666666666,
             "#ed7953"
            ],
            [
             0.7777777777777778,
             "#fb9f3a"
            ],
            [
             0.8888888888888888,
             "#fdca26"
            ],
            [
             1,
             "#f0f921"
            ]
           ],
           "sequentialminus": [
            [
             0,
             "#0d0887"
            ],
            [
             0.1111111111111111,
             "#46039f"
            ],
            [
             0.2222222222222222,
             "#7201a8"
            ],
            [
             0.3333333333333333,
             "#9c179e"
            ],
            [
             0.4444444444444444,
             "#bd3786"
            ],
            [
             0.5555555555555556,
             "#d8576b"
            ],
            [
             0.6666666666666666,
             "#ed7953"
            ],
            [
             0.7777777777777778,
             "#fb9f3a"
            ],
            [
             0.8888888888888888,
             "#fdca26"
            ],
            [
             1,
             "#f0f921"
            ]
           ]
          },
          "colorway": [
           "#636efa",
           "#EF553B",
           "#00cc96",
           "#ab63fa",
           "#FFA15A",
           "#19d3f3",
           "#FF6692",
           "#B6E880",
           "#FF97FF",
           "#FECB52"
          ],
          "font": {
           "color": "#2a3f5f"
          },
          "geo": {
           "bgcolor": "white",
           "lakecolor": "white",
           "landcolor": "#E5ECF6",
           "showlakes": true,
           "showland": true,
           "subunitcolor": "white"
          },
          "hoverlabel": {
           "align": "left"
          },
          "hovermode": "closest",
          "mapbox": {
           "style": "light"
          },
          "paper_bgcolor": "white",
          "plot_bgcolor": "#E5ECF6",
          "polar": {
           "angularaxis": {
            "gridcolor": "white",
            "linecolor": "white",
            "ticks": ""
           },
           "bgcolor": "#E5ECF6",
           "radialaxis": {
            "gridcolor": "white",
            "linecolor": "white",
            "ticks": ""
           }
          },
          "scene": {
           "xaxis": {
            "backgroundcolor": "#E5ECF6",
            "gridcolor": "white",
            "gridwidth": 2,
            "linecolor": "white",
            "showbackground": true,
            "ticks": "",
            "zerolinecolor": "white"
           },
           "yaxis": {
            "backgroundcolor": "#E5ECF6",
            "gridcolor": "white",
            "gridwidth": 2,
            "linecolor": "white",
            "showbackground": true,
            "ticks": "",
            "zerolinecolor": "white"
           },
           "zaxis": {
            "backgroundcolor": "#E5ECF6",
            "gridcolor": "white",
            "gridwidth": 2,
            "linecolor": "white",
            "showbackground": true,
            "ticks": "",
            "zerolinecolor": "white"
           }
          },
          "shapedefaults": {
           "line": {
            "color": "#2a3f5f"
           }
          },
          "ternary": {
           "aaxis": {
            "gridcolor": "white",
            "linecolor": "white",
            "ticks": ""
           },
           "baxis": {
            "gridcolor": "white",
            "linecolor": "white",
            "ticks": ""
           },
           "bgcolor": "#E5ECF6",
           "caxis": {
            "gridcolor": "white",
            "linecolor": "white",
            "ticks": ""
           }
          },
          "title": {
           "x": 0.05
          },
          "xaxis": {
           "automargin": true,
           "gridcolor": "white",
           "linecolor": "white",
           "ticks": "",
           "title": {
            "standoff": 15
           },
           "zerolinecolor": "white",
           "zerolinewidth": 2
          },
          "yaxis": {
           "automargin": true,
           "gridcolor": "white",
           "linecolor": "white",
           "ticks": "",
           "title": {
            "standoff": 15
           },
           "zerolinecolor": "white",
           "zerolinewidth": 2
          }
         }
        }
       }
      },
      "text/html": [
       "<div>\n",
       "        \n",
       "        \n",
       "            <div id=\"f4ed097f-2871-4f3d-b198-bb2612af3bc3\" class=\"plotly-graph-div\" style=\"height:525px; width:100%;\"></div>\n",
       "            <script type=\"text/javascript\">\n",
       "                require([\"plotly\"], function(Plotly) {\n",
       "                    window.PLOTLYENV=window.PLOTLYENV || {};\n",
       "                    \n",
       "                if (document.getElementById(\"f4ed097f-2871-4f3d-b198-bb2612af3bc3\")) {\n",
       "                    Plotly.newPlot(\n",
       "                        'f4ed097f-2871-4f3d-b198-bb2612af3bc3',\n",
       "                        [{\"hovertemplate\": \"x: %{x}<br>y: %{y}<br>color: %{z}<extra></extra>\", \"type\": \"image\", \"z\": [[[57.0, 105.0, 145.0, 0.25], [246.0, 232.0, 204.0, 0.25], [57.0, 105.0, 145.0, 0.25], [57.0, 105.0, 145.0, 0.25], [246.0, 232.0, 204.0, 0.25]], [[246.0, 232.0, 204.0, 0.25], [213.0, 64.0, 8.0, 0.25], [213.0, 64.0, 8.0, 0.25], [246.0, 232.0, 204.0, 0.25], [57.0, 105.0, 145.0, 0.25]], [[194.0, 183.0, 54.0, 0.25], [246.0, 232.0, 204.0, 0.25], [246.0, 232.0, 204.0, 0.25], [213.0, 64.0, 8.0, 0.25], [213.0, 64.0, 8.0, 0.25]], [[213.0, 64.0, 8.0, 0.25], [246.0, 232.0, 204.0, 0.25], [246.0, 232.0, 204.0, 0.25], [57.0, 105.0, 145.0, 0.25], [246.0, 232.0, 204.0, 0.25]], [[213.0, 64.0, 8.0, 0.25], [57.0, 105.0, 145.0, 0.25], [246.0, 232.0, 204.0, 0.25], [57.0, 105.0, 145.0, 0.25], [213.0, 64.0, 8.0, 0.25]]], \"zmax\": [255, 255, 255, 1]}],\n",
       "                        {\"annotations\": [{\"showarrow\": false, \"text\": \"millionaire\", \"x\": 0, \"y\": 0}, {\"showarrow\": false, \"text\": \"racket\", \"x\": 1, \"y\": 0}, {\"showarrow\": false, \"text\": \"cricket\", \"x\": 2, \"y\": 0}, {\"showarrow\": false, \"text\": \"china\", \"x\": 3, \"y\": 0}, {\"showarrow\": false, \"text\": \"dress\", \"x\": 4, \"y\": 0}, {\"showarrow\": false, \"text\": \"jupiter\", \"x\": 0, \"y\": 1}, {\"showarrow\": false, \"text\": \"rabbit\", \"x\": 1, \"y\": 1}, {\"showarrow\": false, \"text\": \"beijing\", \"x\": 2, \"y\": 1}, {\"showarrow\": false, \"text\": \"cotton\", \"x\": 3, \"y\": 1}, {\"showarrow\": false, \"text\": \"roulette\", \"x\": 4, \"y\": 1}, {\"showarrow\": false, \"text\": \"carrot\", \"x\": 0, \"y\": 2}, {\"showarrow\": false, \"text\": \"dinosaur\", \"x\": 1, \"y\": 2}, {\"showarrow\": false, \"text\": \"suit\", \"x\": 2, \"y\": 2}, {\"showarrow\": false, \"text\": \"ketchup\", \"x\": 3, \"y\": 2}, {\"showarrow\": false, \"text\": \"paste\", \"x\": 4, \"y\": 2}, {\"showarrow\": false, \"text\": \"pole\", \"x\": 0, \"y\": 3}, {\"showarrow\": false, \"text\": \"spell\", \"x\": 1, \"y\": 3}, {\"showarrow\": false, \"text\": \"amazon\", \"x\": 2, \"y\": 3}, {\"showarrow\": false, \"text\": \"slip\", \"x\": 3, \"y\": 3}, {\"showarrow\": false, \"text\": \"slug\", \"x\": 4, \"y\": 3}, {\"showarrow\": false, \"text\": \"london\", \"x\": 0, \"y\": 4}, {\"showarrow\": false, \"text\": \"hole\", \"x\": 1, \"y\": 4}, {\"showarrow\": false, \"text\": \"mail\", \"x\": 2, \"y\": 4}, {\"showarrow\": false, \"text\": \"spring\", \"x\": 3, \"y\": 4}, {\"showarrow\": false, \"text\": \"grass\", \"x\": 4, \"y\": 4}], \"margin\": {\"t\": 60}, \"template\": {\"data\": {\"bar\": [{\"error_x\": {\"color\": \"#2a3f5f\"}, \"error_y\": {\"color\": \"#2a3f5f\"}, \"marker\": {\"line\": {\"color\": \"#E5ECF6\", \"width\": 0.5}}, \"type\": \"bar\"}], \"barpolar\": [{\"marker\": {\"line\": {\"color\": \"#E5ECF6\", \"width\": 0.5}}, \"type\": \"barpolar\"}], \"carpet\": [{\"aaxis\": {\"endlinecolor\": \"#2a3f5f\", \"gridcolor\": \"white\", \"linecolor\": \"white\", \"minorgridcolor\": \"white\", \"startlinecolor\": \"#2a3f5f\"}, \"baxis\": {\"endlinecolor\": \"#2a3f5f\", \"gridcolor\": \"white\", \"linecolor\": \"white\", \"minorgridcolor\": \"white\", \"startlinecolor\": \"#2a3f5f\"}, \"type\": \"carpet\"}], \"choropleth\": [{\"colorbar\": {\"outlinewidth\": 0, \"ticks\": \"\"}, \"type\": \"choropleth\"}], \"contour\": [{\"colorbar\": {\"outlinewidth\": 0, \"ticks\": \"\"}, \"colorscale\": [[0.0, \"#0d0887\"], [0.1111111111111111, \"#46039f\"], [0.2222222222222222, \"#7201a8\"], [0.3333333333333333, \"#9c179e\"], [0.4444444444444444, \"#bd3786\"], [0.5555555555555556, \"#d8576b\"], [0.6666666666666666, \"#ed7953\"], [0.7777777777777778, \"#fb9f3a\"], [0.8888888888888888, \"#fdca26\"], [1.0, \"#f0f921\"]], \"type\": \"contour\"}], \"contourcarpet\": [{\"colorbar\": {\"outlinewidth\": 0, \"ticks\": \"\"}, \"type\": \"contourcarpet\"}], \"heatmap\": [{\"colorbar\": {\"outlinewidth\": 0, \"ticks\": \"\"}, \"colorscale\": [[0.0, \"#0d0887\"], [0.1111111111111111, \"#46039f\"], [0.2222222222222222, \"#7201a8\"], [0.3333333333333333, \"#9c179e\"], [0.4444444444444444, \"#bd3786\"], [0.5555555555555556, \"#d8576b\"], [0.6666666666666666, \"#ed7953\"], [0.7777777777777778, \"#fb9f3a\"], [0.8888888888888888, \"#fdca26\"], [1.0, \"#f0f921\"]], \"type\": \"heatmap\"}], \"heatmapgl\": [{\"colorbar\": {\"outlinewidth\": 0, \"ticks\": \"\"}, \"colorscale\": [[0.0, \"#0d0887\"], [0.1111111111111111, \"#46039f\"], [0.2222222222222222, \"#7201a8\"], [0.3333333333333333, \"#9c179e\"], [0.4444444444444444, \"#bd3786\"], [0.5555555555555556, \"#d8576b\"], [0.6666666666666666, \"#ed7953\"], [0.7777777777777778, \"#fb9f3a\"], [0.8888888888888888, \"#fdca26\"], [1.0, \"#f0f921\"]], \"type\": \"heatmapgl\"}], \"histogram\": [{\"marker\": {\"colorbar\": {\"outlinewidth\": 0, \"ticks\": \"\"}}, \"type\": \"histogram\"}], \"histogram2d\": [{\"colorbar\": {\"outlinewidth\": 0, \"ticks\": \"\"}, \"colorscale\": [[0.0, \"#0d0887\"], [0.1111111111111111, \"#46039f\"], [0.2222222222222222, \"#7201a8\"], [0.3333333333333333, \"#9c179e\"], [0.4444444444444444, \"#bd3786\"], [0.5555555555555556, \"#d8576b\"], [0.6666666666666666, \"#ed7953\"], [0.7777777777777778, \"#fb9f3a\"], [0.8888888888888888, \"#fdca26\"], [1.0, \"#f0f921\"]], \"type\": \"histogram2d\"}], \"histogram2dcontour\": [{\"colorbar\": {\"outlinewidth\": 0, \"ticks\": \"\"}, \"colorscale\": [[0.0, \"#0d0887\"], [0.1111111111111111, \"#46039f\"], [0.2222222222222222, \"#7201a8\"], [0.3333333333333333, \"#9c179e\"], [0.4444444444444444, \"#bd3786\"], [0.5555555555555556, \"#d8576b\"], [0.6666666666666666, \"#ed7953\"], [0.7777777777777778, \"#fb9f3a\"], [0.8888888888888888, \"#fdca26\"], [1.0, \"#f0f921\"]], \"type\": \"histogram2dcontour\"}], \"mesh3d\": [{\"colorbar\": {\"outlinewidth\": 0, \"ticks\": \"\"}, \"type\": \"mesh3d\"}], \"parcoords\": [{\"line\": {\"colorbar\": {\"outlinewidth\": 0, \"ticks\": \"\"}}, \"type\": \"parcoords\"}], \"pie\": [{\"automargin\": true, \"type\": \"pie\"}], \"scatter\": [{\"marker\": {\"colorbar\": {\"outlinewidth\": 0, \"ticks\": \"\"}}, \"type\": \"scatter\"}], \"scatter3d\": [{\"line\": {\"colorbar\": {\"outlinewidth\": 0, \"ticks\": \"\"}}, \"marker\": {\"colorbar\": {\"outlinewidth\": 0, \"ticks\": \"\"}}, \"type\": \"scatter3d\"}], \"scattercarpet\": [{\"marker\": {\"colorbar\": {\"outlinewidth\": 0, \"ticks\": \"\"}}, \"type\": \"scattercarpet\"}], \"scattergeo\": [{\"marker\": {\"colorbar\": {\"outlinewidth\": 0, \"ticks\": \"\"}}, \"type\": \"scattergeo\"}], \"scattergl\": [{\"marker\": {\"colorbar\": {\"outlinewidth\": 0, \"ticks\": \"\"}}, \"type\": \"scattergl\"}], \"scattermapbox\": [{\"marker\": {\"colorbar\": {\"outlinewidth\": 0, \"ticks\": \"\"}}, \"type\": \"scattermapbox\"}], \"scatterpolar\": [{\"marker\": {\"colorbar\": {\"outlinewidth\": 0, \"ticks\": \"\"}}, \"type\": \"scatterpolar\"}], \"scatterpolargl\": [{\"marker\": {\"colorbar\": {\"outlinewidth\": 0, \"ticks\": \"\"}}, \"type\": \"scatterpolargl\"}], \"scatterternary\": [{\"marker\": {\"colorbar\": {\"outlinewidth\": 0, \"ticks\": \"\"}}, \"type\": \"scatterternary\"}], \"surface\": [{\"colorbar\": {\"outlinewidth\": 0, \"ticks\": \"\"}, \"colorscale\": [[0.0, \"#0d0887\"], [0.1111111111111111, \"#46039f\"], [0.2222222222222222, \"#7201a8\"], [0.3333333333333333, \"#9c179e\"], [0.4444444444444444, \"#bd3786\"], [0.5555555555555556, \"#d8576b\"], [0.6666666666666666, \"#ed7953\"], [0.7777777777777778, \"#fb9f3a\"], [0.8888888888888888, \"#fdca26\"], [1.0, \"#f0f921\"]], \"type\": \"surface\"}], \"table\": [{\"cells\": {\"fill\": {\"color\": \"#EBF0F8\"}, \"line\": {\"color\": \"white\"}}, \"header\": {\"fill\": {\"color\": \"#C8D4E3\"}, \"line\": {\"color\": \"white\"}}, \"type\": \"table\"}]}, \"layout\": {\"annotationdefaults\": {\"arrowcolor\": \"#2a3f5f\", \"arrowhead\": 0, \"arrowwidth\": 1}, \"coloraxis\": {\"colorbar\": {\"outlinewidth\": 0, \"ticks\": \"\"}}, \"colorscale\": {\"diverging\": [[0, \"#8e0152\"], [0.1, \"#c51b7d\"], [0.2, \"#de77ae\"], [0.3, \"#f1b6da\"], [0.4, \"#fde0ef\"], [0.5, \"#f7f7f7\"], [0.6, \"#e6f5d0\"], [0.7, \"#b8e186\"], [0.8, \"#7fbc41\"], [0.9, \"#4d9221\"], [1, \"#276419\"]], \"sequential\": [[0.0, \"#0d0887\"], [0.1111111111111111, \"#46039f\"], [0.2222222222222222, \"#7201a8\"], [0.3333333333333333, \"#9c179e\"], [0.4444444444444444, \"#bd3786\"], [0.5555555555555556, \"#d8576b\"], [0.6666666666666666, \"#ed7953\"], [0.7777777777777778, \"#fb9f3a\"], [0.8888888888888888, \"#fdca26\"], [1.0, \"#f0f921\"]], \"sequentialminus\": [[0.0, \"#0d0887\"], [0.1111111111111111, \"#46039f\"], [0.2222222222222222, \"#7201a8\"], [0.3333333333333333, \"#9c179e\"], [0.4444444444444444, \"#bd3786\"], [0.5555555555555556, \"#d8576b\"], [0.6666666666666666, \"#ed7953\"], [0.7777777777777778, \"#fb9f3a\"], [0.8888888888888888, \"#fdca26\"], [1.0, \"#f0f921\"]]}, \"colorway\": [\"#636efa\", \"#EF553B\", \"#00cc96\", \"#ab63fa\", \"#FFA15A\", \"#19d3f3\", \"#FF6692\", \"#B6E880\", \"#FF97FF\", \"#FECB52\"], \"font\": {\"color\": \"#2a3f5f\"}, \"geo\": {\"bgcolor\": \"white\", \"lakecolor\": \"white\", \"landcolor\": \"#E5ECF6\", \"showlakes\": true, \"showland\": true, \"subunitcolor\": \"white\"}, \"hoverlabel\": {\"align\": \"left\"}, \"hovermode\": \"closest\", \"mapbox\": {\"style\": \"light\"}, \"paper_bgcolor\": \"white\", \"plot_bgcolor\": \"#E5ECF6\", \"polar\": {\"angularaxis\": {\"gridcolor\": \"white\", \"linecolor\": \"white\", \"ticks\": \"\"}, \"bgcolor\": \"#E5ECF6\", \"radialaxis\": {\"gridcolor\": \"white\", \"linecolor\": \"white\", \"ticks\": \"\"}}, \"scene\": {\"xaxis\": {\"backgroundcolor\": \"#E5ECF6\", \"gridcolor\": \"white\", \"gridwidth\": 2, \"linecolor\": \"white\", \"showbackground\": true, \"ticks\": \"\", \"zerolinecolor\": \"white\"}, \"yaxis\": {\"backgroundcolor\": \"#E5ECF6\", \"gridcolor\": \"white\", \"gridwidth\": 2, \"linecolor\": \"white\", \"showbackground\": true, \"ticks\": \"\", \"zerolinecolor\": \"white\"}, \"zaxis\": {\"backgroundcolor\": \"#E5ECF6\", \"gridcolor\": \"white\", \"gridwidth\": 2, \"linecolor\": \"white\", \"showbackground\": true, \"ticks\": \"\", \"zerolinecolor\": \"white\"}}, \"shapedefaults\": {\"line\": {\"color\": \"#2a3f5f\"}}, \"ternary\": {\"aaxis\": {\"gridcolor\": \"white\", \"linecolor\": \"white\", \"ticks\": \"\"}, \"baxis\": {\"gridcolor\": \"white\", \"linecolor\": \"white\", \"ticks\": \"\"}, \"bgcolor\": \"#E5ECF6\", \"caxis\": {\"gridcolor\": \"white\", \"linecolor\": \"white\", \"ticks\": \"\"}}, \"title\": {\"x\": 0.05}, \"xaxis\": {\"automargin\": true, \"gridcolor\": \"white\", \"linecolor\": \"white\", \"ticks\": \"\", \"title\": {\"standoff\": 15}, \"zerolinecolor\": \"white\", \"zerolinewidth\": 2}, \"yaxis\": {\"automargin\": true, \"gridcolor\": \"white\", \"linecolor\": \"white\", \"ticks\": \"\", \"title\": {\"standoff\": 15}, \"zerolinecolor\": \"white\", \"zerolinewidth\": 2}}}},\n",
       "                        {\"responsive\": true}\n",
       "                    ).then(function(){\n",
       "                            \n",
       "var gd = document.getElementById('f4ed097f-2871-4f3d-b198-bb2612af3bc3');\n",
       "var x = new MutationObserver(function (mutations, observer) {{\n",
       "        var display = window.getComputedStyle(gd).display;\n",
       "        if (!display || display === 'none') {{\n",
       "            console.log([gd, 'removed!']);\n",
       "            Plotly.purge(gd);\n",
       "            observer.disconnect();\n",
       "        }}\n",
       "}});\n",
       "\n",
       "// Listen for the removal of the full notebook cells\n",
       "var notebookContainer = gd.closest('#notebook-container');\n",
       "if (notebookContainer) {{\n",
       "    x.observe(notebookContainer, {childList: true});\n",
       "}}\n",
       "\n",
       "// Listen for the clearing of the current output cell\n",
       "var outputEl = gd.closest('.output');\n",
       "if (outputEl) {{\n",
       "    x.observe(outputEl, {childList: true});\n",
       "}}\n",
       "\n",
       "                        })\n",
       "                };\n",
       "                });\n",
       "            </script>\n",
       "        </div>"
      ]
     },
     "metadata": {},
     "output_type": "display_data"
    },
    {
     "name": "stdout",
     "output_type": "stream",
     "text": [
      "It's blue's turn!\n",
      "Spymaster is looking at 1 possible clues\n",
      "blue spymaster gives clue: venus, 1\n",
      "blue team guesses: jupiter\n",
      "Correct! Round score is 1\n"
     ]
    },
    {
     "data": {
      "application/vnd.plotly.v1+json": {
       "config": {
        "plotlyServerURL": "https://plot.ly"
       },
       "data": [
        {
         "hovertemplate": "x: %{x}<br>y: %{y}<br>color: %{z}<extra></extra>",
         "type": "image",
         "z": [
          [
           [
            57,
            105,
            145,
            0.25
           ],
           [
            246,
            232,
            204,
            0.25
           ],
           [
            57,
            105,
            145,
            0.25
           ],
           [
            57,
            105,
            145,
            0.25
           ],
           [
            246,
            232,
            204,
            0.25
           ]
          ],
          [
           [
            57,
            105,
            145,
            0.25
           ],
           [
            213,
            64,
            8,
            0.25
           ],
           [
            213,
            64,
            8,
            0.25
           ],
           [
            246,
            232,
            204,
            0.25
           ],
           [
            57,
            105,
            145,
            0.25
           ]
          ],
          [
           [
            194,
            183,
            54,
            0.25
           ],
           [
            246,
            232,
            204,
            0.25
           ],
           [
            246,
            232,
            204,
            0.25
           ],
           [
            213,
            64,
            8,
            0.25
           ],
           [
            213,
            64,
            8,
            0.25
           ]
          ],
          [
           [
            213,
            64,
            8,
            0.25
           ],
           [
            246,
            232,
            204,
            0.25
           ],
           [
            246,
            232,
            204,
            0.25
           ],
           [
            57,
            105,
            145,
            0.25
           ],
           [
            246,
            232,
            204,
            0.25
           ]
          ],
          [
           [
            213,
            64,
            8,
            0.25
           ],
           [
            57,
            105,
            145,
            0.25
           ],
           [
            246,
            232,
            204,
            0.25
           ],
           [
            57,
            105,
            145,
            0.25
           ],
           [
            213,
            64,
            8,
            0.25
           ]
          ]
         ],
         "zmax": [
          255,
          255,
          255,
          1
         ]
        }
       ],
       "layout": {
        "annotations": [
         {
          "showarrow": false,
          "text": "millionaire",
          "x": 0,
          "y": 0
         },
         {
          "showarrow": false,
          "text": "racket",
          "x": 1,
          "y": 0
         },
         {
          "showarrow": false,
          "text": "cricket",
          "x": 2,
          "y": 0
         },
         {
          "showarrow": false,
          "text": "china",
          "x": 3,
          "y": 0
         },
         {
          "showarrow": false,
          "text": "dress",
          "x": 4,
          "y": 0
         },
         {
          "showarrow": false,
          "text": "jupiter",
          "x": 0,
          "y": 1
         },
         {
          "showarrow": false,
          "text": "rabbit",
          "x": 1,
          "y": 1
         },
         {
          "showarrow": false,
          "text": "beijing",
          "x": 2,
          "y": 1
         },
         {
          "showarrow": false,
          "text": "cotton",
          "x": 3,
          "y": 1
         },
         {
          "showarrow": false,
          "text": "roulette",
          "x": 4,
          "y": 1
         },
         {
          "showarrow": false,
          "text": "carrot",
          "x": 0,
          "y": 2
         },
         {
          "showarrow": false,
          "text": "dinosaur",
          "x": 1,
          "y": 2
         },
         {
          "showarrow": false,
          "text": "suit",
          "x": 2,
          "y": 2
         },
         {
          "showarrow": false,
          "text": "ketchup",
          "x": 3,
          "y": 2
         },
         {
          "showarrow": false,
          "text": "paste",
          "x": 4,
          "y": 2
         },
         {
          "showarrow": false,
          "text": "pole",
          "x": 0,
          "y": 3
         },
         {
          "showarrow": false,
          "text": "spell",
          "x": 1,
          "y": 3
         },
         {
          "showarrow": false,
          "text": "amazon",
          "x": 2,
          "y": 3
         },
         {
          "showarrow": false,
          "text": "slip",
          "x": 3,
          "y": 3
         },
         {
          "showarrow": false,
          "text": "slug",
          "x": 4,
          "y": 3
         },
         {
          "showarrow": false,
          "text": "london",
          "x": 0,
          "y": 4
         },
         {
          "showarrow": false,
          "text": "hole",
          "x": 1,
          "y": 4
         },
         {
          "showarrow": false,
          "text": "mail",
          "x": 2,
          "y": 4
         },
         {
          "showarrow": false,
          "text": "spring",
          "x": 3,
          "y": 4
         },
         {
          "showarrow": false,
          "text": "grass",
          "x": 4,
          "y": 4
         }
        ],
        "margin": {
         "t": 60
        },
        "template": {
         "data": {
          "bar": [
           {
            "error_x": {
             "color": "#2a3f5f"
            },
            "error_y": {
             "color": "#2a3f5f"
            },
            "marker": {
             "line": {
              "color": "#E5ECF6",
              "width": 0.5
             }
            },
            "type": "bar"
           }
          ],
          "barpolar": [
           {
            "marker": {
             "line": {
              "color": "#E5ECF6",
              "width": 0.5
             }
            },
            "type": "barpolar"
           }
          ],
          "carpet": [
           {
            "aaxis": {
             "endlinecolor": "#2a3f5f",
             "gridcolor": "white",
             "linecolor": "white",
             "minorgridcolor": "white",
             "startlinecolor": "#2a3f5f"
            },
            "baxis": {
             "endlinecolor": "#2a3f5f",
             "gridcolor": "white",
             "linecolor": "white",
             "minorgridcolor": "white",
             "startlinecolor": "#2a3f5f"
            },
            "type": "carpet"
           }
          ],
          "choropleth": [
           {
            "colorbar": {
             "outlinewidth": 0,
             "ticks": ""
            },
            "type": "choropleth"
           }
          ],
          "contour": [
           {
            "colorbar": {
             "outlinewidth": 0,
             "ticks": ""
            },
            "colorscale": [
             [
              0,
              "#0d0887"
             ],
             [
              0.1111111111111111,
              "#46039f"
             ],
             [
              0.2222222222222222,
              "#7201a8"
             ],
             [
              0.3333333333333333,
              "#9c179e"
             ],
             [
              0.4444444444444444,
              "#bd3786"
             ],
             [
              0.5555555555555556,
              "#d8576b"
             ],
             [
              0.6666666666666666,
              "#ed7953"
             ],
             [
              0.7777777777777778,
              "#fb9f3a"
             ],
             [
              0.8888888888888888,
              "#fdca26"
             ],
             [
              1,
              "#f0f921"
             ]
            ],
            "type": "contour"
           }
          ],
          "contourcarpet": [
           {
            "colorbar": {
             "outlinewidth": 0,
             "ticks": ""
            },
            "type": "contourcarpet"
           }
          ],
          "heatmap": [
           {
            "colorbar": {
             "outlinewidth": 0,
             "ticks": ""
            },
            "colorscale": [
             [
              0,
              "#0d0887"
             ],
             [
              0.1111111111111111,
              "#46039f"
             ],
             [
              0.2222222222222222,
              "#7201a8"
             ],
             [
              0.3333333333333333,
              "#9c179e"
             ],
             [
              0.4444444444444444,
              "#bd3786"
             ],
             [
              0.5555555555555556,
              "#d8576b"
             ],
             [
              0.6666666666666666,
              "#ed7953"
             ],
             [
              0.7777777777777778,
              "#fb9f3a"
             ],
             [
              0.8888888888888888,
              "#fdca26"
             ],
             [
              1,
              "#f0f921"
             ]
            ],
            "type": "heatmap"
           }
          ],
          "heatmapgl": [
           {
            "colorbar": {
             "outlinewidth": 0,
             "ticks": ""
            },
            "colorscale": [
             [
              0,
              "#0d0887"
             ],
             [
              0.1111111111111111,
              "#46039f"
             ],
             [
              0.2222222222222222,
              "#7201a8"
             ],
             [
              0.3333333333333333,
              "#9c179e"
             ],
             [
              0.4444444444444444,
              "#bd3786"
             ],
             [
              0.5555555555555556,
              "#d8576b"
             ],
             [
              0.6666666666666666,
              "#ed7953"
             ],
             [
              0.7777777777777778,
              "#fb9f3a"
             ],
             [
              0.8888888888888888,
              "#fdca26"
             ],
             [
              1,
              "#f0f921"
             ]
            ],
            "type": "heatmapgl"
           }
          ],
          "histogram": [
           {
            "marker": {
             "colorbar": {
              "outlinewidth": 0,
              "ticks": ""
             }
            },
            "type": "histogram"
           }
          ],
          "histogram2d": [
           {
            "colorbar": {
             "outlinewidth": 0,
             "ticks": ""
            },
            "colorscale": [
             [
              0,
              "#0d0887"
             ],
             [
              0.1111111111111111,
              "#46039f"
             ],
             [
              0.2222222222222222,
              "#7201a8"
             ],
             [
              0.3333333333333333,
              "#9c179e"
             ],
             [
              0.4444444444444444,
              "#bd3786"
             ],
             [
              0.5555555555555556,
              "#d8576b"
             ],
             [
              0.6666666666666666,
              "#ed7953"
             ],
             [
              0.7777777777777778,
              "#fb9f3a"
             ],
             [
              0.8888888888888888,
              "#fdca26"
             ],
             [
              1,
              "#f0f921"
             ]
            ],
            "type": "histogram2d"
           }
          ],
          "histogram2dcontour": [
           {
            "colorbar": {
             "outlinewidth": 0,
             "ticks": ""
            },
            "colorscale": [
             [
              0,
              "#0d0887"
             ],
             [
              0.1111111111111111,
              "#46039f"
             ],
             [
              0.2222222222222222,
              "#7201a8"
             ],
             [
              0.3333333333333333,
              "#9c179e"
             ],
             [
              0.4444444444444444,
              "#bd3786"
             ],
             [
              0.5555555555555556,
              "#d8576b"
             ],
             [
              0.6666666666666666,
              "#ed7953"
             ],
             [
              0.7777777777777778,
              "#fb9f3a"
             ],
             [
              0.8888888888888888,
              "#fdca26"
             ],
             [
              1,
              "#f0f921"
             ]
            ],
            "type": "histogram2dcontour"
           }
          ],
          "mesh3d": [
           {
            "colorbar": {
             "outlinewidth": 0,
             "ticks": ""
            },
            "type": "mesh3d"
           }
          ],
          "parcoords": [
           {
            "line": {
             "colorbar": {
              "outlinewidth": 0,
              "ticks": ""
             }
            },
            "type": "parcoords"
           }
          ],
          "pie": [
           {
            "automargin": true,
            "type": "pie"
           }
          ],
          "scatter": [
           {
            "marker": {
             "colorbar": {
              "outlinewidth": 0,
              "ticks": ""
             }
            },
            "type": "scatter"
           }
          ],
          "scatter3d": [
           {
            "line": {
             "colorbar": {
              "outlinewidth": 0,
              "ticks": ""
             }
            },
            "marker": {
             "colorbar": {
              "outlinewidth": 0,
              "ticks": ""
             }
            },
            "type": "scatter3d"
           }
          ],
          "scattercarpet": [
           {
            "marker": {
             "colorbar": {
              "outlinewidth": 0,
              "ticks": ""
             }
            },
            "type": "scattercarpet"
           }
          ],
          "scattergeo": [
           {
            "marker": {
             "colorbar": {
              "outlinewidth": 0,
              "ticks": ""
             }
            },
            "type": "scattergeo"
           }
          ],
          "scattergl": [
           {
            "marker": {
             "colorbar": {
              "outlinewidth": 0,
              "ticks": ""
             }
            },
            "type": "scattergl"
           }
          ],
          "scattermapbox": [
           {
            "marker": {
             "colorbar": {
              "outlinewidth": 0,
              "ticks": ""
             }
            },
            "type": "scattermapbox"
           }
          ],
          "scatterpolar": [
           {
            "marker": {
             "colorbar": {
              "outlinewidth": 0,
              "ticks": ""
             }
            },
            "type": "scatterpolar"
           }
          ],
          "scatterpolargl": [
           {
            "marker": {
             "colorbar": {
              "outlinewidth": 0,
              "ticks": ""
             }
            },
            "type": "scatterpolargl"
           }
          ],
          "scatterternary": [
           {
            "marker": {
             "colorbar": {
              "outlinewidth": 0,
              "ticks": ""
             }
            },
            "type": "scatterternary"
           }
          ],
          "surface": [
           {
            "colorbar": {
             "outlinewidth": 0,
             "ticks": ""
            },
            "colorscale": [
             [
              0,
              "#0d0887"
             ],
             [
              0.1111111111111111,
              "#46039f"
             ],
             [
              0.2222222222222222,
              "#7201a8"
             ],
             [
              0.3333333333333333,
              "#9c179e"
             ],
             [
              0.4444444444444444,
              "#bd3786"
             ],
             [
              0.5555555555555556,
              "#d8576b"
             ],
             [
              0.6666666666666666,
              "#ed7953"
             ],
             [
              0.7777777777777778,
              "#fb9f3a"
             ],
             [
              0.8888888888888888,
              "#fdca26"
             ],
             [
              1,
              "#f0f921"
             ]
            ],
            "type": "surface"
           }
          ],
          "table": [
           {
            "cells": {
             "fill": {
              "color": "#EBF0F8"
             },
             "line": {
              "color": "white"
             }
            },
            "header": {
             "fill": {
              "color": "#C8D4E3"
             },
             "line": {
              "color": "white"
             }
            },
            "type": "table"
           }
          ]
         },
         "layout": {
          "annotationdefaults": {
           "arrowcolor": "#2a3f5f",
           "arrowhead": 0,
           "arrowwidth": 1
          },
          "coloraxis": {
           "colorbar": {
            "outlinewidth": 0,
            "ticks": ""
           }
          },
          "colorscale": {
           "diverging": [
            [
             0,
             "#8e0152"
            ],
            [
             0.1,
             "#c51b7d"
            ],
            [
             0.2,
             "#de77ae"
            ],
            [
             0.3,
             "#f1b6da"
            ],
            [
             0.4,
             "#fde0ef"
            ],
            [
             0.5,
             "#f7f7f7"
            ],
            [
             0.6,
             "#e6f5d0"
            ],
            [
             0.7,
             "#b8e186"
            ],
            [
             0.8,
             "#7fbc41"
            ],
            [
             0.9,
             "#4d9221"
            ],
            [
             1,
             "#276419"
            ]
           ],
           "sequential": [
            [
             0,
             "#0d0887"
            ],
            [
             0.1111111111111111,
             "#46039f"
            ],
            [
             0.2222222222222222,
             "#7201a8"
            ],
            [
             0.3333333333333333,
             "#9c179e"
            ],
            [
             0.4444444444444444,
             "#bd3786"
            ],
            [
             0.5555555555555556,
             "#d8576b"
            ],
            [
             0.6666666666666666,
             "#ed7953"
            ],
            [
             0.7777777777777778,
             "#fb9f3a"
            ],
            [
             0.8888888888888888,
             "#fdca26"
            ],
            [
             1,
             "#f0f921"
            ]
           ],
           "sequentialminus": [
            [
             0,
             "#0d0887"
            ],
            [
             0.1111111111111111,
             "#46039f"
            ],
            [
             0.2222222222222222,
             "#7201a8"
            ],
            [
             0.3333333333333333,
             "#9c179e"
            ],
            [
             0.4444444444444444,
             "#bd3786"
            ],
            [
             0.5555555555555556,
             "#d8576b"
            ],
            [
             0.6666666666666666,
             "#ed7953"
            ],
            [
             0.7777777777777778,
             "#fb9f3a"
            ],
            [
             0.8888888888888888,
             "#fdca26"
            ],
            [
             1,
             "#f0f921"
            ]
           ]
          },
          "colorway": [
           "#636efa",
           "#EF553B",
           "#00cc96",
           "#ab63fa",
           "#FFA15A",
           "#19d3f3",
           "#FF6692",
           "#B6E880",
           "#FF97FF",
           "#FECB52"
          ],
          "font": {
           "color": "#2a3f5f"
          },
          "geo": {
           "bgcolor": "white",
           "lakecolor": "white",
           "landcolor": "#E5ECF6",
           "showlakes": true,
           "showland": true,
           "subunitcolor": "white"
          },
          "hoverlabel": {
           "align": "left"
          },
          "hovermode": "closest",
          "mapbox": {
           "style": "light"
          },
          "paper_bgcolor": "white",
          "plot_bgcolor": "#E5ECF6",
          "polar": {
           "angularaxis": {
            "gridcolor": "white",
            "linecolor": "white",
            "ticks": ""
           },
           "bgcolor": "#E5ECF6",
           "radialaxis": {
            "gridcolor": "white",
            "linecolor": "white",
            "ticks": ""
           }
          },
          "scene": {
           "xaxis": {
            "backgroundcolor": "#E5ECF6",
            "gridcolor": "white",
            "gridwidth": 2,
            "linecolor": "white",
            "showbackground": true,
            "ticks": "",
            "zerolinecolor": "white"
           },
           "yaxis": {
            "backgroundcolor": "#E5ECF6",
            "gridcolor": "white",
            "gridwidth": 2,
            "linecolor": "white",
            "showbackground": true,
            "ticks": "",
            "zerolinecolor": "white"
           },
           "zaxis": {
            "backgroundcolor": "#E5ECF6",
            "gridcolor": "white",
            "gridwidth": 2,
            "linecolor": "white",
            "showbackground": true,
            "ticks": "",
            "zerolinecolor": "white"
           }
          },
          "shapedefaults": {
           "line": {
            "color": "#2a3f5f"
           }
          },
          "ternary": {
           "aaxis": {
            "gridcolor": "white",
            "linecolor": "white",
            "ticks": ""
           },
           "baxis": {
            "gridcolor": "white",
            "linecolor": "white",
            "ticks": ""
           },
           "bgcolor": "#E5ECF6",
           "caxis": {
            "gridcolor": "white",
            "linecolor": "white",
            "ticks": ""
           }
          },
          "title": {
           "x": 0.05
          },
          "xaxis": {
           "automargin": true,
           "gridcolor": "white",
           "linecolor": "white",
           "ticks": "",
           "title": {
            "standoff": 15
           },
           "zerolinecolor": "white",
           "zerolinewidth": 2
          },
          "yaxis": {
           "automargin": true,
           "gridcolor": "white",
           "linecolor": "white",
           "ticks": "",
           "title": {
            "standoff": 15
           },
           "zerolinecolor": "white",
           "zerolinewidth": 2
          }
         }
        }
       }
      },
      "text/html": [
       "<div>\n",
       "        \n",
       "        \n",
       "            <div id=\"cbe95821-64ca-4d72-9709-c9aabbd9a563\" class=\"plotly-graph-div\" style=\"height:525px; width:100%;\"></div>\n",
       "            <script type=\"text/javascript\">\n",
       "                require([\"plotly\"], function(Plotly) {\n",
       "                    window.PLOTLYENV=window.PLOTLYENV || {};\n",
       "                    \n",
       "                if (document.getElementById(\"cbe95821-64ca-4d72-9709-c9aabbd9a563\")) {\n",
       "                    Plotly.newPlot(\n",
       "                        'cbe95821-64ca-4d72-9709-c9aabbd9a563',\n",
       "                        [{\"hovertemplate\": \"x: %{x}<br>y: %{y}<br>color: %{z}<extra></extra>\", \"type\": \"image\", \"z\": [[[57.0, 105.0, 145.0, 0.25], [246.0, 232.0, 204.0, 0.25], [57.0, 105.0, 145.0, 0.25], [57.0, 105.0, 145.0, 0.25], [246.0, 232.0, 204.0, 0.25]], [[57.0, 105.0, 145.0, 0.25], [213.0, 64.0, 8.0, 0.25], [213.0, 64.0, 8.0, 0.25], [246.0, 232.0, 204.0, 0.25], [57.0, 105.0, 145.0, 0.25]], [[194.0, 183.0, 54.0, 0.25], [246.0, 232.0, 204.0, 0.25], [246.0, 232.0, 204.0, 0.25], [213.0, 64.0, 8.0, 0.25], [213.0, 64.0, 8.0, 0.25]], [[213.0, 64.0, 8.0, 0.25], [246.0, 232.0, 204.0, 0.25], [246.0, 232.0, 204.0, 0.25], [57.0, 105.0, 145.0, 0.25], [246.0, 232.0, 204.0, 0.25]], [[213.0, 64.0, 8.0, 0.25], [57.0, 105.0, 145.0, 0.25], [246.0, 232.0, 204.0, 0.25], [57.0, 105.0, 145.0, 0.25], [213.0, 64.0, 8.0, 0.25]]], \"zmax\": [255, 255, 255, 1]}],\n",
       "                        {\"annotations\": [{\"showarrow\": false, \"text\": \"millionaire\", \"x\": 0, \"y\": 0}, {\"showarrow\": false, \"text\": \"racket\", \"x\": 1, \"y\": 0}, {\"showarrow\": false, \"text\": \"cricket\", \"x\": 2, \"y\": 0}, {\"showarrow\": false, \"text\": \"china\", \"x\": 3, \"y\": 0}, {\"showarrow\": false, \"text\": \"dress\", \"x\": 4, \"y\": 0}, {\"showarrow\": false, \"text\": \"jupiter\", \"x\": 0, \"y\": 1}, {\"showarrow\": false, \"text\": \"rabbit\", \"x\": 1, \"y\": 1}, {\"showarrow\": false, \"text\": \"beijing\", \"x\": 2, \"y\": 1}, {\"showarrow\": false, \"text\": \"cotton\", \"x\": 3, \"y\": 1}, {\"showarrow\": false, \"text\": \"roulette\", \"x\": 4, \"y\": 1}, {\"showarrow\": false, \"text\": \"carrot\", \"x\": 0, \"y\": 2}, {\"showarrow\": false, \"text\": \"dinosaur\", \"x\": 1, \"y\": 2}, {\"showarrow\": false, \"text\": \"suit\", \"x\": 2, \"y\": 2}, {\"showarrow\": false, \"text\": \"ketchup\", \"x\": 3, \"y\": 2}, {\"showarrow\": false, \"text\": \"paste\", \"x\": 4, \"y\": 2}, {\"showarrow\": false, \"text\": \"pole\", \"x\": 0, \"y\": 3}, {\"showarrow\": false, \"text\": \"spell\", \"x\": 1, \"y\": 3}, {\"showarrow\": false, \"text\": \"amazon\", \"x\": 2, \"y\": 3}, {\"showarrow\": false, \"text\": \"slip\", \"x\": 3, \"y\": 3}, {\"showarrow\": false, \"text\": \"slug\", \"x\": 4, \"y\": 3}, {\"showarrow\": false, \"text\": \"london\", \"x\": 0, \"y\": 4}, {\"showarrow\": false, \"text\": \"hole\", \"x\": 1, \"y\": 4}, {\"showarrow\": false, \"text\": \"mail\", \"x\": 2, \"y\": 4}, {\"showarrow\": false, \"text\": \"spring\", \"x\": 3, \"y\": 4}, {\"showarrow\": false, \"text\": \"grass\", \"x\": 4, \"y\": 4}], \"margin\": {\"t\": 60}, \"template\": {\"data\": {\"bar\": [{\"error_x\": {\"color\": \"#2a3f5f\"}, \"error_y\": {\"color\": \"#2a3f5f\"}, \"marker\": {\"line\": {\"color\": \"#E5ECF6\", \"width\": 0.5}}, \"type\": \"bar\"}], \"barpolar\": [{\"marker\": {\"line\": {\"color\": \"#E5ECF6\", \"width\": 0.5}}, \"type\": \"barpolar\"}], \"carpet\": [{\"aaxis\": {\"endlinecolor\": \"#2a3f5f\", \"gridcolor\": \"white\", \"linecolor\": \"white\", \"minorgridcolor\": \"white\", \"startlinecolor\": \"#2a3f5f\"}, \"baxis\": {\"endlinecolor\": \"#2a3f5f\", \"gridcolor\": \"white\", \"linecolor\": \"white\", \"minorgridcolor\": \"white\", \"startlinecolor\": \"#2a3f5f\"}, \"type\": \"carpet\"}], \"choropleth\": [{\"colorbar\": {\"outlinewidth\": 0, \"ticks\": \"\"}, \"type\": \"choropleth\"}], \"contour\": [{\"colorbar\": {\"outlinewidth\": 0, \"ticks\": \"\"}, \"colorscale\": [[0.0, \"#0d0887\"], [0.1111111111111111, \"#46039f\"], [0.2222222222222222, \"#7201a8\"], [0.3333333333333333, \"#9c179e\"], [0.4444444444444444, \"#bd3786\"], [0.5555555555555556, \"#d8576b\"], [0.6666666666666666, \"#ed7953\"], [0.7777777777777778, \"#fb9f3a\"], [0.8888888888888888, \"#fdca26\"], [1.0, \"#f0f921\"]], \"type\": \"contour\"}], \"contourcarpet\": [{\"colorbar\": {\"outlinewidth\": 0, \"ticks\": \"\"}, \"type\": \"contourcarpet\"}], \"heatmap\": [{\"colorbar\": {\"outlinewidth\": 0, \"ticks\": \"\"}, \"colorscale\": [[0.0, \"#0d0887\"], [0.1111111111111111, \"#46039f\"], [0.2222222222222222, \"#7201a8\"], [0.3333333333333333, \"#9c179e\"], [0.4444444444444444, \"#bd3786\"], [0.5555555555555556, \"#d8576b\"], [0.6666666666666666, \"#ed7953\"], [0.7777777777777778, \"#fb9f3a\"], [0.8888888888888888, \"#fdca26\"], [1.0, \"#f0f921\"]], \"type\": \"heatmap\"}], \"heatmapgl\": [{\"colorbar\": {\"outlinewidth\": 0, \"ticks\": \"\"}, \"colorscale\": [[0.0, \"#0d0887\"], [0.1111111111111111, \"#46039f\"], [0.2222222222222222, \"#7201a8\"], [0.3333333333333333, \"#9c179e\"], [0.4444444444444444, \"#bd3786\"], [0.5555555555555556, \"#d8576b\"], [0.6666666666666666, \"#ed7953\"], [0.7777777777777778, \"#fb9f3a\"], [0.8888888888888888, \"#fdca26\"], [1.0, \"#f0f921\"]], \"type\": \"heatmapgl\"}], \"histogram\": [{\"marker\": {\"colorbar\": {\"outlinewidth\": 0, \"ticks\": \"\"}}, \"type\": \"histogram\"}], \"histogram2d\": [{\"colorbar\": {\"outlinewidth\": 0, \"ticks\": \"\"}, \"colorscale\": [[0.0, \"#0d0887\"], [0.1111111111111111, \"#46039f\"], [0.2222222222222222, \"#7201a8\"], [0.3333333333333333, \"#9c179e\"], [0.4444444444444444, \"#bd3786\"], [0.5555555555555556, \"#d8576b\"], [0.6666666666666666, \"#ed7953\"], [0.7777777777777778, \"#fb9f3a\"], [0.8888888888888888, \"#fdca26\"], [1.0, \"#f0f921\"]], \"type\": \"histogram2d\"}], \"histogram2dcontour\": [{\"colorbar\": {\"outlinewidth\": 0, \"ticks\": \"\"}, \"colorscale\": [[0.0, \"#0d0887\"], [0.1111111111111111, \"#46039f\"], [0.2222222222222222, \"#7201a8\"], [0.3333333333333333, \"#9c179e\"], [0.4444444444444444, \"#bd3786\"], [0.5555555555555556, \"#d8576b\"], [0.6666666666666666, \"#ed7953\"], [0.7777777777777778, \"#fb9f3a\"], [0.8888888888888888, \"#fdca26\"], [1.0, \"#f0f921\"]], \"type\": \"histogram2dcontour\"}], \"mesh3d\": [{\"colorbar\": {\"outlinewidth\": 0, \"ticks\": \"\"}, \"type\": \"mesh3d\"}], \"parcoords\": [{\"line\": {\"colorbar\": {\"outlinewidth\": 0, \"ticks\": \"\"}}, \"type\": \"parcoords\"}], \"pie\": [{\"automargin\": true, \"type\": \"pie\"}], \"scatter\": [{\"marker\": {\"colorbar\": {\"outlinewidth\": 0, \"ticks\": \"\"}}, \"type\": \"scatter\"}], \"scatter3d\": [{\"line\": {\"colorbar\": {\"outlinewidth\": 0, \"ticks\": \"\"}}, \"marker\": {\"colorbar\": {\"outlinewidth\": 0, \"ticks\": \"\"}}, \"type\": \"scatter3d\"}], \"scattercarpet\": [{\"marker\": {\"colorbar\": {\"outlinewidth\": 0, \"ticks\": \"\"}}, \"type\": \"scattercarpet\"}], \"scattergeo\": [{\"marker\": {\"colorbar\": {\"outlinewidth\": 0, \"ticks\": \"\"}}, \"type\": \"scattergeo\"}], \"scattergl\": [{\"marker\": {\"colorbar\": {\"outlinewidth\": 0, \"ticks\": \"\"}}, \"type\": \"scattergl\"}], \"scattermapbox\": [{\"marker\": {\"colorbar\": {\"outlinewidth\": 0, \"ticks\": \"\"}}, \"type\": \"scattermapbox\"}], \"scatterpolar\": [{\"marker\": {\"colorbar\": {\"outlinewidth\": 0, \"ticks\": \"\"}}, \"type\": \"scatterpolar\"}], \"scatterpolargl\": [{\"marker\": {\"colorbar\": {\"outlinewidth\": 0, \"ticks\": \"\"}}, \"type\": \"scatterpolargl\"}], \"scatterternary\": [{\"marker\": {\"colorbar\": {\"outlinewidth\": 0, \"ticks\": \"\"}}, \"type\": \"scatterternary\"}], \"surface\": [{\"colorbar\": {\"outlinewidth\": 0, \"ticks\": \"\"}, \"colorscale\": [[0.0, \"#0d0887\"], [0.1111111111111111, \"#46039f\"], [0.2222222222222222, \"#7201a8\"], [0.3333333333333333, \"#9c179e\"], [0.4444444444444444, \"#bd3786\"], [0.5555555555555556, \"#d8576b\"], [0.6666666666666666, \"#ed7953\"], [0.7777777777777778, \"#fb9f3a\"], [0.8888888888888888, \"#fdca26\"], [1.0, \"#f0f921\"]], \"type\": \"surface\"}], \"table\": [{\"cells\": {\"fill\": {\"color\": \"#EBF0F8\"}, \"line\": {\"color\": \"white\"}}, \"header\": {\"fill\": {\"color\": \"#C8D4E3\"}, \"line\": {\"color\": \"white\"}}, \"type\": \"table\"}]}, \"layout\": {\"annotationdefaults\": {\"arrowcolor\": \"#2a3f5f\", \"arrowhead\": 0, \"arrowwidth\": 1}, \"coloraxis\": {\"colorbar\": {\"outlinewidth\": 0, \"ticks\": \"\"}}, \"colorscale\": {\"diverging\": [[0, \"#8e0152\"], [0.1, \"#c51b7d\"], [0.2, \"#de77ae\"], [0.3, \"#f1b6da\"], [0.4, \"#fde0ef\"], [0.5, \"#f7f7f7\"], [0.6, \"#e6f5d0\"], [0.7, \"#b8e186\"], [0.8, \"#7fbc41\"], [0.9, \"#4d9221\"], [1, \"#276419\"]], \"sequential\": [[0.0, \"#0d0887\"], [0.1111111111111111, \"#46039f\"], [0.2222222222222222, \"#7201a8\"], [0.3333333333333333, \"#9c179e\"], [0.4444444444444444, \"#bd3786\"], [0.5555555555555556, \"#d8576b\"], [0.6666666666666666, \"#ed7953\"], [0.7777777777777778, \"#fb9f3a\"], [0.8888888888888888, \"#fdca26\"], [1.0, \"#f0f921\"]], \"sequentialminus\": [[0.0, \"#0d0887\"], [0.1111111111111111, \"#46039f\"], [0.2222222222222222, \"#7201a8\"], [0.3333333333333333, \"#9c179e\"], [0.4444444444444444, \"#bd3786\"], [0.5555555555555556, \"#d8576b\"], [0.6666666666666666, \"#ed7953\"], [0.7777777777777778, \"#fb9f3a\"], [0.8888888888888888, \"#fdca26\"], [1.0, \"#f0f921\"]]}, \"colorway\": [\"#636efa\", \"#EF553B\", \"#00cc96\", \"#ab63fa\", \"#FFA15A\", \"#19d3f3\", \"#FF6692\", \"#B6E880\", \"#FF97FF\", \"#FECB52\"], \"font\": {\"color\": \"#2a3f5f\"}, \"geo\": {\"bgcolor\": \"white\", \"lakecolor\": \"white\", \"landcolor\": \"#E5ECF6\", \"showlakes\": true, \"showland\": true, \"subunitcolor\": \"white\"}, \"hoverlabel\": {\"align\": \"left\"}, \"hovermode\": \"closest\", \"mapbox\": {\"style\": \"light\"}, \"paper_bgcolor\": \"white\", \"plot_bgcolor\": \"#E5ECF6\", \"polar\": {\"angularaxis\": {\"gridcolor\": \"white\", \"linecolor\": \"white\", \"ticks\": \"\"}, \"bgcolor\": \"#E5ECF6\", \"radialaxis\": {\"gridcolor\": \"white\", \"linecolor\": \"white\", \"ticks\": \"\"}}, \"scene\": {\"xaxis\": {\"backgroundcolor\": \"#E5ECF6\", \"gridcolor\": \"white\", \"gridwidth\": 2, \"linecolor\": \"white\", \"showbackground\": true, \"ticks\": \"\", \"zerolinecolor\": \"white\"}, \"yaxis\": {\"backgroundcolor\": \"#E5ECF6\", \"gridcolor\": \"white\", \"gridwidth\": 2, \"linecolor\": \"white\", \"showbackground\": true, \"ticks\": \"\", \"zerolinecolor\": \"white\"}, \"zaxis\": {\"backgroundcolor\": \"#E5ECF6\", \"gridcolor\": \"white\", \"gridwidth\": 2, \"linecolor\": \"white\", \"showbackground\": true, \"ticks\": \"\", \"zerolinecolor\": \"white\"}}, \"shapedefaults\": {\"line\": {\"color\": \"#2a3f5f\"}}, \"ternary\": {\"aaxis\": {\"gridcolor\": \"white\", \"linecolor\": \"white\", \"ticks\": \"\"}, \"baxis\": {\"gridcolor\": \"white\", \"linecolor\": \"white\", \"ticks\": \"\"}, \"bgcolor\": \"#E5ECF6\", \"caxis\": {\"gridcolor\": \"white\", \"linecolor\": \"white\", \"ticks\": \"\"}}, \"title\": {\"x\": 0.05}, \"xaxis\": {\"automargin\": true, \"gridcolor\": \"white\", \"linecolor\": \"white\", \"ticks\": \"\", \"title\": {\"standoff\": 15}, \"zerolinecolor\": \"white\", \"zerolinewidth\": 2}, \"yaxis\": {\"automargin\": true, \"gridcolor\": \"white\", \"linecolor\": \"white\", \"ticks\": \"\", \"title\": {\"standoff\": 15}, \"zerolinecolor\": \"white\", \"zerolinewidth\": 2}}}},\n",
       "                        {\"responsive\": true}\n",
       "                    ).then(function(){\n",
       "                            \n",
       "var gd = document.getElementById('cbe95821-64ca-4d72-9709-c9aabbd9a563');\n",
       "var x = new MutationObserver(function (mutations, observer) {{\n",
       "        var display = window.getComputedStyle(gd).display;\n",
       "        if (!display || display === 'none') {{\n",
       "            console.log([gd, 'removed!']);\n",
       "            Plotly.purge(gd);\n",
       "            observer.disconnect();\n",
       "        }}\n",
       "}});\n",
       "\n",
       "// Listen for the removal of the full notebook cells\n",
       "var notebookContainer = gd.closest('#notebook-container');\n",
       "if (notebookContainer) {{\n",
       "    x.observe(notebookContainer, {childList: true});\n",
       "}}\n",
       "\n",
       "// Listen for the clearing of the current output cell\n",
       "var outputEl = gd.closest('.output');\n",
       "if (outputEl) {{\n",
       "    x.observe(outputEl, {childList: true});\n",
       "}}\n",
       "\n",
       "                        })\n",
       "                };\n",
       "                });\n",
       "            </script>\n",
       "        </div>"
      ]
     },
     "metadata": {},
     "output_type": "display_data"
    },
    {
     "name": "stdout",
     "output_type": "stream",
     "text": [
      "It's red's turn!\n",
      "Spymaster is looking at 1 possible clues\n",
      "red spymaster gives clue: postal, 1\n",
      "red team guesses: mail\n",
      "Correct! Round score is 1\n",
      "red team won!!\n"
     ]
    },
    {
     "data": {
      "application/javascript": [
       "\n",
       "            setTimeout(function() {\n",
       "                var nbb_cell_id = 23;\n",
       "                var nbb_unformatted_code = \"codenames_game = CodenamesGame(words_loc=\\\"codenames/words.txt\\\")\\nall_cards, _, _, _, _, _, _ = get_game_data(codenames_game, model)\\nassassin_weight = -1\\nenemy_weight = -1\\nneutral_weight = -1\\nally_weight = 5\\nrisk_weight = 5\\nclue_score_threshold = 0.3\\none_word_clues = False\\n\\n\\nwhile not codenames_game.winning_team:\\n    (\\n        cards,\\n        ally_cards,\\n        enemy_cards,\\n        neutral_cards,\\n        assassin_card,\\n        spymaster_map,\\n        team,\\n    ) = get_game_data(codenames_game, model)\\n    draw_board(all_cards, spymaster_map, codenames_game.revealed)\\n    print(f\\\"It's {team}'s turn!\\\")\\n    #     print(f\\\"{team}'s cards are {ally_cards}\\\")\\n    enemy_team = \\\"blue\\\" if team == \\\"red\\\" else \\\"red\\\"\\n\\n    word_combos, vector_combos = create_word_combinations_matrices(\\n        ally_cards, model, default_max_combo=9, one_word_clues=one_word_clues\\n    )\\n    word_combo_clue_dict = get_most_similar_vectors_for_combos(\\n        word_combos, cards, negative_cards=[assassin_card], topn=10\\n    )\\n    print(\\n        f\\\"Spymaster is looking at {len(list(word_combo_clue_dict.keys()))} possible clues\\\"\\n    )\\n    clue_tuples = create_clue_tuples(word_combo_clue_dict, model)\\n\\n    clue_df = create_clue_df(clue_tuples, cards)\\n\\n    best_clue, weighted_df = calculate_best_clue(\\n        clue_df,\\n        spymaster_map,\\n        ally_cards,\\n        enemy_cards,\\n        neutral_cards,\\n        assassin_card,\\n        assassin_weight=assassin_weight,\\n        enemy_weight=enemy_weight,\\n        neutral_weight=ally_weight,\\n        ally_weight=ally_weight,\\n        risk_weight=risk_weight,\\n        clue_score_threshold=clue_score_threshold,\\n        with_normalisation=True,\\n    )\\n\\n    if not one_word_clues and weighted_df.actual_combo_length.max() > 1:\\n        weighted_df = weighted_df[weighted_df.actual_combo_length > 1]\\n    else:\\n        weighted_df = weighted_df[weighted_df.actual_combo_length >= 1]\\n\\n    # Removing any clue duplicates (where there were multiple intended combos but the amended combos are identical)\\n    weighted_df = (\\n        weighted_df.reset_index()\\n        .drop_duplicates(subset=[\\\"clue\\\", \\\"weighted_score\\\", \\\"actual_combo_length\\\"],)\\n        .sort_values([\\\"weighted_score\\\"], ascending=False)\\n    )\\n    weighted_df.reset_index(inplace=True)\\n    best_clue_idx = weighted_df.weighted_score.argmax()\\n    best_clue_row = weighted_df.loc[best_clue_idx]\\n    clue = best_clue_row[\\\"clue\\\"]\\n    clue_number = best_clue_row[\\\"actual_combo_length\\\"]\\n    print(f\\\"{team} spymaster gives clue: {clue}, {clue_number}\\\")\\n    remaining_cards = cards.copy()\\n    while (\\n        team == codenames_game.current_team and codenames_game.round_score < clue_number\\n    ):\\n        # If word not in vocab, none or special \\\"I don't fucking know\\\"\\n        guess = model.most_similar_to_given(clue, remaining_cards)\\n        codenames_game.make_guess(guess.upper())\\n        remaining_cards.remove(guess)\\n        print(f\\\"{team} team guesses: {guess}\\\")\\n        correct = codenames_game.current_team == team\\n        if correct:\\n            print(f\\\"Correct! Round score is {codenames_game.round_score}\\\")\\n        else:\\n            print(f\\\"Dang! Guesser missed the mark\\\")\\n        if codenames_game.round_score == clue_number:\\n            codenames_game.next_turn()\\n\\nprint(f\\\"{codenames_game.winning_team} team won!!\\\")\";\n",
       "                var nbb_formatted_code = \"codenames_game = CodenamesGame(words_loc=\\\"codenames/words.txt\\\")\\nall_cards, _, _, _, _, _, _ = get_game_data(codenames_game, model)\\nassassin_weight = -1\\nenemy_weight = -1\\nneutral_weight = -1\\nally_weight = 5\\nrisk_weight = 5\\nclue_score_threshold = 0.3\\none_word_clues = False\\n\\n\\nwhile not codenames_game.winning_team:\\n    (\\n        cards,\\n        ally_cards,\\n        enemy_cards,\\n        neutral_cards,\\n        assassin_card,\\n        spymaster_map,\\n        team,\\n    ) = get_game_data(codenames_game, model)\\n    draw_board(all_cards, spymaster_map, codenames_game.revealed)\\n    print(f\\\"It's {team}'s turn!\\\")\\n    #     print(f\\\"{team}'s cards are {ally_cards}\\\")\\n    enemy_team = \\\"blue\\\" if team == \\\"red\\\" else \\\"red\\\"\\n\\n    word_combos, vector_combos = create_word_combinations_matrices(\\n        ally_cards, model, default_max_combo=9, one_word_clues=one_word_clues\\n    )\\n    word_combo_clue_dict = get_most_similar_vectors_for_combos(\\n        word_combos, cards, negative_cards=[assassin_card], topn=10\\n    )\\n    print(\\n        f\\\"Spymaster is looking at {len(list(word_combo_clue_dict.keys()))} possible clues\\\"\\n    )\\n    clue_tuples = create_clue_tuples(word_combo_clue_dict, model)\\n\\n    clue_df = create_clue_df(clue_tuples, cards)\\n\\n    best_clue, weighted_df = calculate_best_clue(\\n        clue_df,\\n        spymaster_map,\\n        ally_cards,\\n        enemy_cards,\\n        neutral_cards,\\n        assassin_card,\\n        assassin_weight=assassin_weight,\\n        enemy_weight=enemy_weight,\\n        neutral_weight=ally_weight,\\n        ally_weight=ally_weight,\\n        risk_weight=risk_weight,\\n        clue_score_threshold=clue_score_threshold,\\n        with_normalisation=True,\\n    )\\n\\n    if not one_word_clues and weighted_df.actual_combo_length.max() > 1:\\n        weighted_df = weighted_df[weighted_df.actual_combo_length > 1]\\n    else:\\n        weighted_df = weighted_df[weighted_df.actual_combo_length >= 1]\\n\\n    # Removing any clue duplicates (where there were multiple intended combos but the amended combos are identical)\\n    weighted_df = (\\n        weighted_df.reset_index()\\n        .drop_duplicates(subset=[\\\"clue\\\", \\\"weighted_score\\\", \\\"actual_combo_length\\\"],)\\n        .sort_values([\\\"weighted_score\\\"], ascending=False)\\n    )\\n    weighted_df.reset_index(inplace=True)\\n    best_clue_idx = weighted_df.weighted_score.argmax()\\n    best_clue_row = weighted_df.loc[best_clue_idx]\\n    clue = best_clue_row[\\\"clue\\\"]\\n    clue_number = best_clue_row[\\\"actual_combo_length\\\"]\\n    print(f\\\"{team} spymaster gives clue: {clue}, {clue_number}\\\")\\n    remaining_cards = cards.copy()\\n    while (\\n        team == codenames_game.current_team and codenames_game.round_score < clue_number\\n    ):\\n        # If word not in vocab, none or special \\\"I don't fucking know\\\"\\n        guess = model.most_similar_to_given(clue, remaining_cards)\\n        codenames_game.make_guess(guess.upper())\\n        remaining_cards.remove(guess)\\n        print(f\\\"{team} team guesses: {guess}\\\")\\n        correct = codenames_game.current_team == team\\n        if correct:\\n            print(f\\\"Correct! Round score is {codenames_game.round_score}\\\")\\n        else:\\n            print(f\\\"Dang! Guesser missed the mark\\\")\\n        if codenames_game.round_score == clue_number:\\n            codenames_game.next_turn()\\n\\nprint(f\\\"{codenames_game.winning_team} team won!!\\\")\";\n",
       "                var nbb_cells = Jupyter.notebook.get_cells();\n",
       "                for (var i = 0; i < nbb_cells.length; ++i) {\n",
       "                    if (nbb_cells[i].input_prompt_number == nbb_cell_id) {\n",
       "                        if (nbb_cells[i].get_text() == nbb_unformatted_code) {\n",
       "                             nbb_cells[i].set_text(nbb_formatted_code);\n",
       "                        }\n",
       "                        break;\n",
       "                    }\n",
       "                }\n",
       "            }, 500);\n",
       "            "
      ],
      "text/plain": [
       "<IPython.core.display.Javascript object>"
      ]
     },
     "metadata": {},
     "output_type": "display_data"
    }
   ],
   "source": [
    "codenames_game = CodenamesGame(words_loc=\"codenames/words.txt\")\n",
    "all_cards, _, _, _, _, _, _ = get_game_data(codenames_game, model)\n",
    "assassin_weight = -1\n",
    "enemy_weight = -1\n",
    "neutral_weight = -1\n",
    "ally_weight = 5\n",
    "risk_weight = 5\n",
    "clue_score_threshold = 0.3\n",
    "one_word_clues = False\n",
    "\n",
    "\n",
    "while not codenames_game.winning_team:\n",
    "    (\n",
    "        cards,\n",
    "        ally_cards,\n",
    "        enemy_cards,\n",
    "        neutral_cards,\n",
    "        assassin_card,\n",
    "        spymaster_map,\n",
    "        team,\n",
    "    ) = get_game_data(codenames_game, model)\n",
    "    draw_board(all_cards, spymaster_map, codenames_game.revealed)\n",
    "    print(f\"It's {team}'s turn!\")\n",
    "    #     print(f\"{team}'s cards are {ally_cards}\")\n",
    "    enemy_team = \"blue\" if team == \"red\" else \"red\"\n",
    "\n",
    "    word_combos, vector_combos = create_word_combinations_matrices(\n",
    "        ally_cards, model, default_max_combo=9, one_word_clues=one_word_clues\n",
    "    )\n",
    "    word_combo_clue_dict = get_most_similar_vectors_for_combos(\n",
    "        word_combos, cards, negative_cards=[assassin_card], topn=10\n",
    "    )\n",
    "    print(\n",
    "        f\"Spymaster is looking at {len(list(word_combo_clue_dict.keys()))} possible clues\"\n",
    "    )\n",
    "    clue_tuples = create_clue_tuples(word_combo_clue_dict, model)\n",
    "\n",
    "    clue_df = create_clue_df(clue_tuples, cards)\n",
    "\n",
    "    best_clue, weighted_df = calculate_best_clue(\n",
    "        clue_df,\n",
    "        spymaster_map,\n",
    "        ally_cards,\n",
    "        enemy_cards,\n",
    "        neutral_cards,\n",
    "        assassin_card,\n",
    "        assassin_weight=assassin_weight,\n",
    "        enemy_weight=enemy_weight,\n",
    "        neutral_weight=ally_weight,\n",
    "        ally_weight=ally_weight,\n",
    "        risk_weight=risk_weight,\n",
    "        clue_score_threshold=clue_score_threshold,\n",
    "        with_normalisation=True,\n",
    "    )\n",
    "\n",
    "    if not one_word_clues and weighted_df.actual_combo_length.max() > 1:\n",
    "        weighted_df = weighted_df[weighted_df.actual_combo_length > 1]\n",
    "    else:\n",
    "        weighted_df = weighted_df[weighted_df.actual_combo_length >= 1]\n",
    "\n",
    "    # Removing any clue duplicates (where there were multiple intended combos but the amended combos are identical)\n",
    "    weighted_df = (\n",
    "        weighted_df.reset_index()\n",
    "        .drop_duplicates(subset=[\"clue\", \"weighted_score\", \"actual_combo_length\"],)\n",
    "        .sort_values([\"weighted_score\"], ascending=False)\n",
    "    )\n",
    "    weighted_df.reset_index(inplace=True)\n",
    "    best_clue_idx = weighted_df.weighted_score.argmax()\n",
    "    best_clue_row = weighted_df.loc[best_clue_idx]\n",
    "    clue = best_clue_row[\"clue\"]\n",
    "    clue_number = best_clue_row[\"actual_combo_length\"]\n",
    "    print(f\"{team} spymaster gives clue: {clue}, {clue_number}\")\n",
    "    remaining_cards = cards.copy()\n",
    "    while (\n",
    "        team == codenames_game.current_team and codenames_game.round_score < clue_number\n",
    "    ):\n",
    "        # If word not in vocab, none or special \"I don't fucking know\"\n",
    "        guess = model.most_similar_to_given(clue, remaining_cards)\n",
    "        codenames_game.make_guess(guess.upper())\n",
    "        remaining_cards.remove(guess)\n",
    "        print(f\"{team} team guesses: {guess}\")\n",
    "        correct = codenames_game.current_team == team\n",
    "        if correct:\n",
    "            print(f\"Correct! Round score is {codenames_game.round_score}\")\n",
    "        else:\n",
    "            print(f\"Dang! Guesser missed the mark\")\n",
    "        if codenames_game.round_score == clue_number:\n",
    "            codenames_game.next_turn()\n",
    "\n",
    "print(f\"{codenames_game.winning_team} team won!!\")"
   ]
  },
  {
   "cell_type": "code",
   "execution_count": 21,
   "metadata": {},
   "outputs": [
    {
     "data": {
      "text/plain": [
       "(['boot'], ['boot'], 'mount')"
      ]
     },
     "execution_count": 21,
     "metadata": {},
     "output_type": "execute_result"
    },
    {
     "data": {
      "application/javascript": [
       "\n",
       "            setTimeout(function() {\n",
       "                var nbb_cell_id = 21;\n",
       "                var nbb_unformatted_code = \"ally_cards, enemy_cards, assassin_card\";\n",
       "                var nbb_formatted_code = \"ally_cards, enemy_cards, assassin_card\";\n",
       "                var nbb_cells = Jupyter.notebook.get_cells();\n",
       "                for (var i = 0; i < nbb_cells.length; ++i) {\n",
       "                    if (nbb_cells[i].input_prompt_number == nbb_cell_id) {\n",
       "                        if (nbb_cells[i].get_text() == nbb_unformatted_code) {\n",
       "                             nbb_cells[i].set_text(nbb_formatted_code);\n",
       "                        }\n",
       "                        break;\n",
       "                    }\n",
       "                }\n",
       "            }, 500);\n",
       "            "
      ],
      "text/plain": [
       "<IPython.core.display.Javascript object>"
      ]
     },
     "metadata": {},
     "output_type": "display_data"
    }
   ],
   "source": [
    "ally_cards, enemy_cards, assassin_card"
   ]
  },
  {
   "cell_type": "code",
   "execution_count": 22,
   "metadata": {},
   "outputs": [
    {
     "data": {
      "text/plain": [
       "['band', 'washer', 'back', 'pitch', 'fighter', 'log', 'fall']"
      ]
     },
     "execution_count": 22,
     "metadata": {},
     "output_type": "execute_result"
    },
    {
     "data": {
      "application/javascript": [
       "\n",
       "            setTimeout(function() {\n",
       "                var nbb_cell_id = 22;\n",
       "                var nbb_unformatted_code = \"neutral_cards\";\n",
       "                var nbb_formatted_code = \"neutral_cards\";\n",
       "                var nbb_cells = Jupyter.notebook.get_cells();\n",
       "                for (var i = 0; i < nbb_cells.length; ++i) {\n",
       "                    if (nbb_cells[i].input_prompt_number == nbb_cell_id) {\n",
       "                        if (nbb_cells[i].get_text() == nbb_unformatted_code) {\n",
       "                             nbb_cells[i].set_text(nbb_formatted_code);\n",
       "                        }\n",
       "                        break;\n",
       "                    }\n",
       "                }\n",
       "            }, 500);\n",
       "            "
      ],
      "text/plain": [
       "<IPython.core.display.Javascript object>"
      ]
     },
     "metadata": {},
     "output_type": "display_data"
    }
   ],
   "source": [
    "neutral_cards"
   ]
  },
  {
   "cell_type": "code",
   "execution_count": 154,
   "metadata": {},
   "outputs": [
    {
     "data": {
      "application/javascript": [
       "\n",
       "            setTimeout(function() {\n",
       "                var nbb_cell_id = 154;\n",
       "                var nbb_unformatted_code = \"import plotly.graph_objs.layout as layout\";\n",
       "                var nbb_formatted_code = \"import plotly.graph_objs.layout as layout\";\n",
       "                var nbb_cells = Jupyter.notebook.get_cells();\n",
       "                for (var i = 0; i < nbb_cells.length; ++i) {\n",
       "                    if (nbb_cells[i].input_prompt_number == nbb_cell_id) {\n",
       "                        if (nbb_cells[i].get_text() == nbb_unformatted_code) {\n",
       "                             nbb_cells[i].set_text(nbb_formatted_code);\n",
       "                        }\n",
       "                        break;\n",
       "                    }\n",
       "                }\n",
       "            }, 500);\n",
       "            "
      ],
      "text/plain": [
       "<IPython.core.display.Javascript object>"
      ]
     },
     "metadata": {},
     "output_type": "display_data"
    }
   ],
   "source": [
    "import plotly.graph_objs.layout as layout"
   ]
  },
  {
   "cell_type": "code",
   "execution_count": 155,
   "metadata": {},
   "outputs": [
    {
     "data": {
      "text/plain": [
       "plotly.graph_objs.layout._annotation.Annotation"
      ]
     },
     "execution_count": 155,
     "metadata": {},
     "output_type": "execute_result"
    },
    {
     "data": {
      "application/javascript": [
       "\n",
       "            setTimeout(function() {\n",
       "                var nbb_cell_id = 155;\n",
       "                var nbb_unformatted_code = \"layout.Annotation\";\n",
       "                var nbb_formatted_code = \"layout.Annotation\";\n",
       "                var nbb_cells = Jupyter.notebook.get_cells();\n",
       "                for (var i = 0; i < nbb_cells.length; ++i) {\n",
       "                    if (nbb_cells[i].input_prompt_number == nbb_cell_id) {\n",
       "                        if (nbb_cells[i].get_text() == nbb_unformatted_code) {\n",
       "                             nbb_cells[i].set_text(nbb_formatted_code);\n",
       "                        }\n",
       "                        break;\n",
       "                    }\n",
       "                }\n",
       "            }, 500);\n",
       "            "
      ],
      "text/plain": [
       "<IPython.core.display.Javascript object>"
      ]
     },
     "metadata": {},
     "output_type": "display_data"
    }
   ],
   "source": [
    "layout.Annotation"
   ]
  },
  {
   "cell_type": "code",
   "execution_count": 13,
   "metadata": {},
   "outputs": [
    {
     "data": {
      "application/javascript": [
       "\n",
       "            setTimeout(function() {\n",
       "                var nbb_cell_id = 13;\n",
       "                var nbb_unformatted_code = \"unrevealed_cards = [\\n    c for idx, c in enumerate(cards) if not codenames_game.revealed[idx]\\n]\\nrevealed_idxs = np.where(codenames_game.revealed ==True)\\n\\n\\ndef check_card_type(idx, spymaster_map, revealed):\\n    revealed_idxs = np.where(np.asarray(revealed) == True)[0]\\n    if idx not in revealed_idxs:\\n        return 'hidden'\\n    for card_type, type_idxs in spymaster_map.items():\\n        if idx in type_idxs:\\n            return card_type\\n        \";\n",
       "                var nbb_formatted_code = \"unrevealed_cards = [\\n    c for idx, c in enumerate(cards) if not codenames_game.revealed[idx]\\n]\\nrevealed_idxs = np.where(codenames_game.revealed == True)\\n\\n\\ndef check_card_type(idx, spymaster_map, revealed):\\n    revealed_idxs = np.where(np.asarray(revealed) == True)[0]\\n    if idx not in revealed_idxs:\\n        return \\\"hidden\\\"\\n    for card_type, type_idxs in spymaster_map.items():\\n        if idx in type_idxs:\\n            return card_type\";\n",
       "                var nbb_cells = Jupyter.notebook.get_cells();\n",
       "                for (var i = 0; i < nbb_cells.length; ++i) {\n",
       "                    if (nbb_cells[i].input_prompt_number == nbb_cell_id) {\n",
       "                        if (nbb_cells[i].get_text() == nbb_unformatted_code) {\n",
       "                             nbb_cells[i].set_text(nbb_formatted_code);\n",
       "                        }\n",
       "                        break;\n",
       "                    }\n",
       "                }\n",
       "            }, 500);\n",
       "            "
      ],
      "text/plain": [
       "<IPython.core.display.Javascript object>"
      ]
     },
     "metadata": {},
     "output_type": "display_data"
    }
   ],
   "source": [
    "unrevealed_cards = [\n",
    "    c for idx, c in enumerate(cards) if not codenames_game.revealed[idx]\n",
    "]\n",
    "revealed_idxs = np.where(codenames_game.revealed ==True)\n",
    "\n",
    "\n",
    "def check_card_type(idx, spymaster_map, revealed):\n",
    "    revealed_idxs = np.where(np.asarray(revealed) == True)[0]\n",
    "    if idx not in revealed_idxs:\n",
    "        return 'hidden'\n",
    "    for card_type, type_idxs in spymaster_map.items():\n",
    "        if idx in type_idxs:\n",
    "            return card_type\n",
    "        \n"
   ]
  },
  {
   "cell_type": "code",
   "execution_count": 90,
   "metadata": {},
   "outputs": [
    {
     "data": {
      "text/plain": [
       "(array([], dtype=int64),)"
      ]
     },
     "execution_count": 90,
     "metadata": {},
     "output_type": "execute_result"
    },
    {
     "data": {
      "application/javascript": [
       "\n",
       "            setTimeout(function() {\n",
       "                var nbb_cell_id = 90;\n",
       "                var nbb_unformatted_code = \"np.where(codenames_game.revealed ==True)\";\n",
       "                var nbb_formatted_code = \"np.where(codenames_game.revealed == True)\";\n",
       "                var nbb_cells = Jupyter.notebook.get_cells();\n",
       "                for (var i = 0; i < nbb_cells.length; ++i) {\n",
       "                    if (nbb_cells[i].input_prompt_number == nbb_cell_id) {\n",
       "                        if (nbb_cells[i].get_text() == nbb_unformatted_code) {\n",
       "                             nbb_cells[i].set_text(nbb_formatted_code);\n",
       "                        }\n",
       "                        break;\n",
       "                    }\n",
       "                }\n",
       "            }, 500);\n",
       "            "
      ],
      "text/plain": [
       "<IPython.core.display.Javascript object>"
      ]
     },
     "metadata": {},
     "output_type": "display_data"
    }
   ],
   "source": [
    "np.where(codenames_game.revealed ==True)\n"
   ]
  },
  {
   "cell_type": "code",
   "execution_count": 16,
   "metadata": {},
   "outputs": [
    {
     "data": {
      "application/javascript": [
       "\n",
       "            setTimeout(function() {\n",
       "                var nbb_cell_id = 16;\n",
       "                var nbb_unformatted_code = \"colour_map = {\\n    \\\"neutral\\\": [194, 183, 54, 0.25],\\n    \\\"hidden\\\": [246, 232, 204, 0.25],\\n    \\\"assassin\\\": [0, 0, 0, 0.25],\\n    \\\"red\\\": [213, 64, 8, 0.25],\\n    \\\"blue\\\": [57, 105, 145, 0.25],\\n}\";\n",
       "                var nbb_formatted_code = \"colour_map = {\\n    \\\"neutral\\\": [194, 183, 54, 0.25],\\n    \\\"hidden\\\": [246, 232, 204, 0.25],\\n    \\\"assassin\\\": [0, 0, 0, 0.25],\\n    \\\"red\\\": [213, 64, 8, 0.25],\\n    \\\"blue\\\": [57, 105, 145, 0.25],\\n}\";\n",
       "                var nbb_cells = Jupyter.notebook.get_cells();\n",
       "                for (var i = 0; i < nbb_cells.length; ++i) {\n",
       "                    if (nbb_cells[i].input_prompt_number == nbb_cell_id) {\n",
       "                        if (nbb_cells[i].get_text() == nbb_unformatted_code) {\n",
       "                             nbb_cells[i].set_text(nbb_formatted_code);\n",
       "                        }\n",
       "                        break;\n",
       "                    }\n",
       "                }\n",
       "            }, 500);\n",
       "            "
      ],
      "text/plain": [
       "<IPython.core.display.Javascript object>"
      ]
     },
     "metadata": {},
     "output_type": "display_data"
    }
   ],
   "source": [
    "colour_map = {\n",
    "    \"neutral\": [194, 183, 54, 0.25],\n",
    "    \"hidden\": [246, 232, 204, 0.25],\n",
    "    \"assassin\": [0, 0, 0, 0.25],\n",
    "    \"red\": [213, 64, 8, 0.25],\n",
    "    \"blue\": [57, 105, 145, 0.25],\n",
    "}"
   ]
  },
  {
   "cell_type": "code",
   "execution_count": 101,
   "metadata": {},
   "outputs": [
    {
     "name": "stderr",
     "output_type": "stream",
     "text": [
      "<ipython-input-95-6e1f991e57d9>:10: DeprecationWarning:\n",
      "\n",
      "The truth value of an empty array is ambiguous. Returning False, but in future this will result in an error. Use `array.size > 0` to check that an array is not empty.\n",
      "\n"
     ]
    },
    {
     "data": {
      "application/javascript": [
       "\n",
       "            setTimeout(function() {\n",
       "                var nbb_cell_id = 101;\n",
       "                var nbb_unformatted_code = \"split_cards = np.array_split(cards, 5)\\nsplit_card_colours = np.array_split(\\n    [\\n        colour_map[\\n            check_card_type(idx, codenames_game.spymaster_map, codenames_game.revealed)\\n        ]\\n        for idx, c in enumerate(cards)\\n    ]\\n,5)\";\n",
       "                var nbb_formatted_code = \"split_cards = np.array_split(cards, 5)\\nsplit_card_colours = np.array_split(\\n    [\\n        colour_map[\\n            check_card_type(idx, codenames_game.spymaster_map, codenames_game.revealed)\\n        ]\\n        for idx, c in enumerate(cards)\\n    ],\\n    5,\\n)\";\n",
       "                var nbb_cells = Jupyter.notebook.get_cells();\n",
       "                for (var i = 0; i < nbb_cells.length; ++i) {\n",
       "                    if (nbb_cells[i].input_prompt_number == nbb_cell_id) {\n",
       "                        if (nbb_cells[i].get_text() == nbb_unformatted_code) {\n",
       "                             nbb_cells[i].set_text(nbb_formatted_code);\n",
       "                        }\n",
       "                        break;\n",
       "                    }\n",
       "                }\n",
       "            }, 500);\n",
       "            "
      ],
      "text/plain": [
       "<IPython.core.display.Javascript object>"
      ]
     },
     "metadata": {},
     "output_type": "display_data"
    }
   ],
   "source": [
    "split_cards = np.array_split(cards, 5)\n",
    "split_card_colours = np.array_split(\n",
    "    [\n",
    "        colour_map[\n",
    "            check_card_type(idx, codenames_game.spymaster_map, codenames_game.revealed)\n",
    "        ]\n",
    "        for idx, c in enumerate(cards)\n",
    "    ],\n",
    "    5,\n",
    ")"
   ]
  },
  {
   "cell_type": "code",
   "execution_count": 102,
   "metadata": {},
   "outputs": [
    {
     "data": {
      "text/plain": [
       "[array([[246.  , 232.  , 204.  ,   0.25],\n",
       "        [246.  , 232.  , 204.  ,   0.25],\n",
       "        [246.  , 232.  , 204.  ,   0.25],\n",
       "        [246.  , 232.  , 204.  ,   0.25],\n",
       "        [246.  , 232.  , 204.  ,   0.25]]),\n",
       " array([[246.  , 232.  , 204.  ,   0.25],\n",
       "        [246.  , 232.  , 204.  ,   0.25],\n",
       "        [246.  , 232.  , 204.  ,   0.25],\n",
       "        [246.  , 232.  , 204.  ,   0.25],\n",
       "        [246.  , 232.  , 204.  ,   0.25]]),\n",
       " array([[246.  , 232.  , 204.  ,   0.25],\n",
       "        [246.  , 232.  , 204.  ,   0.25],\n",
       "        [246.  , 232.  , 204.  ,   0.25],\n",
       "        [246.  , 232.  , 204.  ,   0.25],\n",
       "        [246.  , 232.  , 204.  ,   0.25]]),\n",
       " array([[246.  , 232.  , 204.  ,   0.25],\n",
       "        [246.  , 232.  , 204.  ,   0.25],\n",
       "        [246.  , 232.  , 204.  ,   0.25],\n",
       "        [246.  , 232.  , 204.  ,   0.25],\n",
       "        [246.  , 232.  , 204.  ,   0.25]]),\n",
       " array([[246.  , 232.  , 204.  ,   0.25],\n",
       "        [246.  , 232.  , 204.  ,   0.25],\n",
       "        [246.  , 232.  , 204.  ,   0.25],\n",
       "        [246.  , 232.  , 204.  ,   0.25],\n",
       "        [246.  , 232.  , 204.  ,   0.25]])]"
      ]
     },
     "execution_count": 102,
     "metadata": {},
     "output_type": "execute_result"
    },
    {
     "data": {
      "application/javascript": [
       "\n",
       "            setTimeout(function() {\n",
       "                var nbb_cell_id = 102;\n",
       "                var nbb_unformatted_code = \"split_card_colours\";\n",
       "                var nbb_formatted_code = \"split_card_colours\";\n",
       "                var nbb_cells = Jupyter.notebook.get_cells();\n",
       "                for (var i = 0; i < nbb_cells.length; ++i) {\n",
       "                    if (nbb_cells[i].input_prompt_number == nbb_cell_id) {\n",
       "                        if (nbb_cells[i].get_text() == nbb_unformatted_code) {\n",
       "                             nbb_cells[i].set_text(nbb_formatted_code);\n",
       "                        }\n",
       "                        break;\n",
       "                    }\n",
       "                }\n",
       "            }, 500);\n",
       "            "
      ],
      "text/plain": [
       "<IPython.core.display.Javascript object>"
      ]
     },
     "metadata": {},
     "output_type": "display_data"
    }
   ],
   "source": [
    "split_card_colours"
   ]
  },
  {
   "cell_type": "code",
   "execution_count": 158,
   "metadata": {
    "scrolled": true
   },
   "outputs": [
    {
     "data": {
      "application/vnd.plotly.v1+json": {
       "config": {
        "plotlyServerURL": "https://plot.ly"
       },
       "data": [
        {
         "hovertemplate": "x: %{x}<br>y: %{y}<br>color: %{z}<extra></extra>",
         "type": "image",
         "z": [
          [
           [
            246,
            232,
            204,
            0.25
           ],
           [
            246,
            232,
            204,
            0.25
           ],
           [
            246,
            232,
            204,
            0.25
           ],
           [
            246,
            232,
            204,
            0.25
           ],
           [
            246,
            232,
            204,
            0.25
           ]
          ],
          [
           [
            246,
            232,
            204,
            0.25
           ],
           [
            246,
            232,
            204,
            0.25
           ],
           [
            246,
            232,
            204,
            0.25
           ],
           [
            246,
            232,
            204,
            0.25
           ],
           [
            246,
            232,
            204,
            0.25
           ]
          ],
          [
           [
            246,
            232,
            204,
            0.25
           ],
           [
            246,
            232,
            204,
            0.25
           ],
           [
            246,
            232,
            204,
            0.25
           ],
           [
            246,
            232,
            204,
            0.25
           ],
           [
            246,
            232,
            204,
            0.25
           ]
          ],
          [
           [
            246,
            232,
            204,
            0.25
           ],
           [
            246,
            232,
            204,
            0.25
           ],
           [
            246,
            232,
            204,
            0.25
           ],
           [
            246,
            232,
            204,
            0.25
           ],
           [
            246,
            232,
            204,
            0.25
           ]
          ],
          [
           [
            246,
            232,
            204,
            0.25
           ],
           [
            246,
            232,
            204,
            0.25
           ],
           [
            246,
            232,
            204,
            0.25
           ],
           [
            246,
            232,
            204,
            0.25
           ],
           [
            246,
            232,
            204,
            0.25
           ]
          ]
         ],
         "zmax": [
          255,
          255,
          255,
          1
         ]
        }
       ],
       "layout": {
        "annotations": [
         {
          "showarrow": false,
          "text": "roulette",
          "x": 0,
          "y": 0
         },
         {
          "showarrow": false,
          "text": "ham",
          "x": 1,
          "y": 0
         },
         {
          "showarrow": false,
          "text": "bow",
          "x": 2,
          "y": 0
         },
         {
          "showarrow": false,
          "text": "wall",
          "x": 3,
          "y": 0
         },
         {
          "showarrow": false,
          "text": "shakespeare",
          "x": 4,
          "y": 0
         },
         {
          "showarrow": false,
          "text": "watch",
          "x": 0,
          "y": 1
         },
         {
          "showarrow": false,
          "text": "chair",
          "x": 1,
          "y": 1
         },
         {
          "showarrow": false,
          "text": "england",
          "x": 2,
          "y": 1
         },
         {
          "showarrow": false,
          "text": "compound",
          "x": 3,
          "y": 1
         },
         {
          "showarrow": false,
          "text": "dragon",
          "x": 4,
          "y": 1
         },
         {
          "showarrow": false,
          "text": "jupiter",
          "x": 0,
          "y": 2
         },
         {
          "showarrow": false,
          "text": "jack",
          "x": 1,
          "y": 2
         },
         {
          "showarrow": false,
          "text": "tube",
          "x": 2,
          "y": 2
         },
         {
          "showarrow": false,
          "text": "scale",
          "x": 3,
          "y": 2
         },
         {
          "showarrow": false,
          "text": "theater",
          "x": 4,
          "y": 2
         },
         {
          "showarrow": false,
          "text": "revolution",
          "x": 0,
          "y": 3
         },
         {
          "showarrow": false,
          "text": "disease",
          "x": 1,
          "y": 3
         },
         {
          "showarrow": false,
          "text": "model",
          "x": 2,
          "y": 3
         },
         {
          "showarrow": false,
          "text": "nail",
          "x": 3,
          "y": 3
         },
         {
          "showarrow": false,
          "text": "field",
          "x": 4,
          "y": 3
         },
         {
          "showarrow": false,
          "text": "link",
          "x": 0,
          "y": 4
         },
         {
          "showarrow": false,
          "text": "chick",
          "x": 1,
          "y": 4
         },
         {
          "showarrow": false,
          "text": "pirate",
          "x": 2,
          "y": 4
         },
         {
          "showarrow": false,
          "text": "fall",
          "x": 3,
          "y": 4
         },
         {
          "showarrow": false,
          "text": "saturn",
          "x": 4,
          "y": 4
         }
        ],
        "margin": {
         "t": 60
        },
        "template": {
         "data": {
          "bar": [
           {
            "error_x": {
             "color": "#2a3f5f"
            },
            "error_y": {
             "color": "#2a3f5f"
            },
            "marker": {
             "line": {
              "color": "#E5ECF6",
              "width": 0.5
             }
            },
            "type": "bar"
           }
          ],
          "barpolar": [
           {
            "marker": {
             "line": {
              "color": "#E5ECF6",
              "width": 0.5
             }
            },
            "type": "barpolar"
           }
          ],
          "carpet": [
           {
            "aaxis": {
             "endlinecolor": "#2a3f5f",
             "gridcolor": "white",
             "linecolor": "white",
             "minorgridcolor": "white",
             "startlinecolor": "#2a3f5f"
            },
            "baxis": {
             "endlinecolor": "#2a3f5f",
             "gridcolor": "white",
             "linecolor": "white",
             "minorgridcolor": "white",
             "startlinecolor": "#2a3f5f"
            },
            "type": "carpet"
           }
          ],
          "choropleth": [
           {
            "colorbar": {
             "outlinewidth": 0,
             "ticks": ""
            },
            "type": "choropleth"
           }
          ],
          "contour": [
           {
            "colorbar": {
             "outlinewidth": 0,
             "ticks": ""
            },
            "colorscale": [
             [
              0,
              "#0d0887"
             ],
             [
              0.1111111111111111,
              "#46039f"
             ],
             [
              0.2222222222222222,
              "#7201a8"
             ],
             [
              0.3333333333333333,
              "#9c179e"
             ],
             [
              0.4444444444444444,
              "#bd3786"
             ],
             [
              0.5555555555555556,
              "#d8576b"
             ],
             [
              0.6666666666666666,
              "#ed7953"
             ],
             [
              0.7777777777777778,
              "#fb9f3a"
             ],
             [
              0.8888888888888888,
              "#fdca26"
             ],
             [
              1,
              "#f0f921"
             ]
            ],
            "type": "contour"
           }
          ],
          "contourcarpet": [
           {
            "colorbar": {
             "outlinewidth": 0,
             "ticks": ""
            },
            "type": "contourcarpet"
           }
          ],
          "heatmap": [
           {
            "colorbar": {
             "outlinewidth": 0,
             "ticks": ""
            },
            "colorscale": [
             [
              0,
              "#0d0887"
             ],
             [
              0.1111111111111111,
              "#46039f"
             ],
             [
              0.2222222222222222,
              "#7201a8"
             ],
             [
              0.3333333333333333,
              "#9c179e"
             ],
             [
              0.4444444444444444,
              "#bd3786"
             ],
             [
              0.5555555555555556,
              "#d8576b"
             ],
             [
              0.6666666666666666,
              "#ed7953"
             ],
             [
              0.7777777777777778,
              "#fb9f3a"
             ],
             [
              0.8888888888888888,
              "#fdca26"
             ],
             [
              1,
              "#f0f921"
             ]
            ],
            "type": "heatmap"
           }
          ],
          "heatmapgl": [
           {
            "colorbar": {
             "outlinewidth": 0,
             "ticks": ""
            },
            "colorscale": [
             [
              0,
              "#0d0887"
             ],
             [
              0.1111111111111111,
              "#46039f"
             ],
             [
              0.2222222222222222,
              "#7201a8"
             ],
             [
              0.3333333333333333,
              "#9c179e"
             ],
             [
              0.4444444444444444,
              "#bd3786"
             ],
             [
              0.5555555555555556,
              "#d8576b"
             ],
             [
              0.6666666666666666,
              "#ed7953"
             ],
             [
              0.7777777777777778,
              "#fb9f3a"
             ],
             [
              0.8888888888888888,
              "#fdca26"
             ],
             [
              1,
              "#f0f921"
             ]
            ],
            "type": "heatmapgl"
           }
          ],
          "histogram": [
           {
            "marker": {
             "colorbar": {
              "outlinewidth": 0,
              "ticks": ""
             }
            },
            "type": "histogram"
           }
          ],
          "histogram2d": [
           {
            "colorbar": {
             "outlinewidth": 0,
             "ticks": ""
            },
            "colorscale": [
             [
              0,
              "#0d0887"
             ],
             [
              0.1111111111111111,
              "#46039f"
             ],
             [
              0.2222222222222222,
              "#7201a8"
             ],
             [
              0.3333333333333333,
              "#9c179e"
             ],
             [
              0.4444444444444444,
              "#bd3786"
             ],
             [
              0.5555555555555556,
              "#d8576b"
             ],
             [
              0.6666666666666666,
              "#ed7953"
             ],
             [
              0.7777777777777778,
              "#fb9f3a"
             ],
             [
              0.8888888888888888,
              "#fdca26"
             ],
             [
              1,
              "#f0f921"
             ]
            ],
            "type": "histogram2d"
           }
          ],
          "histogram2dcontour": [
           {
            "colorbar": {
             "outlinewidth": 0,
             "ticks": ""
            },
            "colorscale": [
             [
              0,
              "#0d0887"
             ],
             [
              0.1111111111111111,
              "#46039f"
             ],
             [
              0.2222222222222222,
              "#7201a8"
             ],
             [
              0.3333333333333333,
              "#9c179e"
             ],
             [
              0.4444444444444444,
              "#bd3786"
             ],
             [
              0.5555555555555556,
              "#d8576b"
             ],
             [
              0.6666666666666666,
              "#ed7953"
             ],
             [
              0.7777777777777778,
              "#fb9f3a"
             ],
             [
              0.8888888888888888,
              "#fdca26"
             ],
             [
              1,
              "#f0f921"
             ]
            ],
            "type": "histogram2dcontour"
           }
          ],
          "mesh3d": [
           {
            "colorbar": {
             "outlinewidth": 0,
             "ticks": ""
            },
            "type": "mesh3d"
           }
          ],
          "parcoords": [
           {
            "line": {
             "colorbar": {
              "outlinewidth": 0,
              "ticks": ""
             }
            },
            "type": "parcoords"
           }
          ],
          "pie": [
           {
            "automargin": true,
            "type": "pie"
           }
          ],
          "scatter": [
           {
            "marker": {
             "colorbar": {
              "outlinewidth": 0,
              "ticks": ""
             }
            },
            "type": "scatter"
           }
          ],
          "scatter3d": [
           {
            "line": {
             "colorbar": {
              "outlinewidth": 0,
              "ticks": ""
             }
            },
            "marker": {
             "colorbar": {
              "outlinewidth": 0,
              "ticks": ""
             }
            },
            "type": "scatter3d"
           }
          ],
          "scattercarpet": [
           {
            "marker": {
             "colorbar": {
              "outlinewidth": 0,
              "ticks": ""
             }
            },
            "type": "scattercarpet"
           }
          ],
          "scattergeo": [
           {
            "marker": {
             "colorbar": {
              "outlinewidth": 0,
              "ticks": ""
             }
            },
            "type": "scattergeo"
           }
          ],
          "scattergl": [
           {
            "marker": {
             "colorbar": {
              "outlinewidth": 0,
              "ticks": ""
             }
            },
            "type": "scattergl"
           }
          ],
          "scattermapbox": [
           {
            "marker": {
             "colorbar": {
              "outlinewidth": 0,
              "ticks": ""
             }
            },
            "type": "scattermapbox"
           }
          ],
          "scatterpolar": [
           {
            "marker": {
             "colorbar": {
              "outlinewidth": 0,
              "ticks": ""
             }
            },
            "type": "scatterpolar"
           }
          ],
          "scatterpolargl": [
           {
            "marker": {
             "colorbar": {
              "outlinewidth": 0,
              "ticks": ""
             }
            },
            "type": "scatterpolargl"
           }
          ],
          "scatterternary": [
           {
            "marker": {
             "colorbar": {
              "outlinewidth": 0,
              "ticks": ""
             }
            },
            "type": "scatterternary"
           }
          ],
          "surface": [
           {
            "colorbar": {
             "outlinewidth": 0,
             "ticks": ""
            },
            "colorscale": [
             [
              0,
              "#0d0887"
             ],
             [
              0.1111111111111111,
              "#46039f"
             ],
             [
              0.2222222222222222,
              "#7201a8"
             ],
             [
              0.3333333333333333,
              "#9c179e"
             ],
             [
              0.4444444444444444,
              "#bd3786"
             ],
             [
              0.5555555555555556,
              "#d8576b"
             ],
             [
              0.6666666666666666,
              "#ed7953"
             ],
             [
              0.7777777777777778,
              "#fb9f3a"
             ],
             [
              0.8888888888888888,
              "#fdca26"
             ],
             [
              1,
              "#f0f921"
             ]
            ],
            "type": "surface"
           }
          ],
          "table": [
           {
            "cells": {
             "fill": {
              "color": "#EBF0F8"
             },
             "line": {
              "color": "white"
             }
            },
            "header": {
             "fill": {
              "color": "#C8D4E3"
             },
             "line": {
              "color": "white"
             }
            },
            "type": "table"
           }
          ]
         },
         "layout": {
          "annotationdefaults": {
           "arrowcolor": "#2a3f5f",
           "arrowhead": 0,
           "arrowwidth": 1
          },
          "coloraxis": {
           "colorbar": {
            "outlinewidth": 0,
            "ticks": ""
           }
          },
          "colorscale": {
           "diverging": [
            [
             0,
             "#8e0152"
            ],
            [
             0.1,
             "#c51b7d"
            ],
            [
             0.2,
             "#de77ae"
            ],
            [
             0.3,
             "#f1b6da"
            ],
            [
             0.4,
             "#fde0ef"
            ],
            [
             0.5,
             "#f7f7f7"
            ],
            [
             0.6,
             "#e6f5d0"
            ],
            [
             0.7,
             "#b8e186"
            ],
            [
             0.8,
             "#7fbc41"
            ],
            [
             0.9,
             "#4d9221"
            ],
            [
             1,
             "#276419"
            ]
           ],
           "sequential": [
            [
             0,
             "#0d0887"
            ],
            [
             0.1111111111111111,
             "#46039f"
            ],
            [
             0.2222222222222222,
             "#7201a8"
            ],
            [
             0.3333333333333333,
             "#9c179e"
            ],
            [
             0.4444444444444444,
             "#bd3786"
            ],
            [
             0.5555555555555556,
             "#d8576b"
            ],
            [
             0.6666666666666666,
             "#ed7953"
            ],
            [
             0.7777777777777778,
             "#fb9f3a"
            ],
            [
             0.8888888888888888,
             "#fdca26"
            ],
            [
             1,
             "#f0f921"
            ]
           ],
           "sequentialminus": [
            [
             0,
             "#0d0887"
            ],
            [
             0.1111111111111111,
             "#46039f"
            ],
            [
             0.2222222222222222,
             "#7201a8"
            ],
            [
             0.3333333333333333,
             "#9c179e"
            ],
            [
             0.4444444444444444,
             "#bd3786"
            ],
            [
             0.5555555555555556,
             "#d8576b"
            ],
            [
             0.6666666666666666,
             "#ed7953"
            ],
            [
             0.7777777777777778,
             "#fb9f3a"
            ],
            [
             0.8888888888888888,
             "#fdca26"
            ],
            [
             1,
             "#f0f921"
            ]
           ]
          },
          "colorway": [
           "#636efa",
           "#EF553B",
           "#00cc96",
           "#ab63fa",
           "#FFA15A",
           "#19d3f3",
           "#FF6692",
           "#B6E880",
           "#FF97FF",
           "#FECB52"
          ],
          "font": {
           "color": "#2a3f5f"
          },
          "geo": {
           "bgcolor": "white",
           "lakecolor": "white",
           "landcolor": "#E5ECF6",
           "showlakes": true,
           "showland": true,
           "subunitcolor": "white"
          },
          "hoverlabel": {
           "align": "left"
          },
          "hovermode": "closest",
          "mapbox": {
           "style": "light"
          },
          "paper_bgcolor": "white",
          "plot_bgcolor": "#E5ECF6",
          "polar": {
           "angularaxis": {
            "gridcolor": "white",
            "linecolor": "white",
            "ticks": ""
           },
           "bgcolor": "#E5ECF6",
           "radialaxis": {
            "gridcolor": "white",
            "linecolor": "white",
            "ticks": ""
           }
          },
          "scene": {
           "xaxis": {
            "backgroundcolor": "#E5ECF6",
            "gridcolor": "white",
            "gridwidth": 2,
            "linecolor": "white",
            "showbackground": true,
            "ticks": "",
            "zerolinecolor": "white"
           },
           "yaxis": {
            "backgroundcolor": "#E5ECF6",
            "gridcolor": "white",
            "gridwidth": 2,
            "linecolor": "white",
            "showbackground": true,
            "ticks": "",
            "zerolinecolor": "white"
           },
           "zaxis": {
            "backgroundcolor": "#E5ECF6",
            "gridcolor": "white",
            "gridwidth": 2,
            "linecolor": "white",
            "showbackground": true,
            "ticks": "",
            "zerolinecolor": "white"
           }
          },
          "shapedefaults": {
           "line": {
            "color": "#2a3f5f"
           }
          },
          "ternary": {
           "aaxis": {
            "gridcolor": "white",
            "linecolor": "white",
            "ticks": ""
           },
           "baxis": {
            "gridcolor": "white",
            "linecolor": "white",
            "ticks": ""
           },
           "bgcolor": "#E5ECF6",
           "caxis": {
            "gridcolor": "white",
            "linecolor": "white",
            "ticks": ""
           }
          },
          "title": {
           "x": 0.05
          },
          "xaxis": {
           "automargin": true,
           "gridcolor": "white",
           "linecolor": "white",
           "ticks": "",
           "title": {
            "standoff": 15
           },
           "zerolinecolor": "white",
           "zerolinewidth": 2
          },
          "yaxis": {
           "automargin": true,
           "gridcolor": "white",
           "linecolor": "white",
           "ticks": "",
           "title": {
            "standoff": 15
           },
           "zerolinecolor": "white",
           "zerolinewidth": 2
          }
         }
        }
       }
      },
      "text/html": [
       "<div>\n",
       "        \n",
       "        \n",
       "            <div id=\"b942395b-60d8-4499-b227-b6e4f36d0ce0\" class=\"plotly-graph-div\" style=\"height:525px; width:100%;\"></div>\n",
       "            <script type=\"text/javascript\">\n",
       "                require([\"plotly\"], function(Plotly) {\n",
       "                    window.PLOTLYENV=window.PLOTLYENV || {};\n",
       "                    \n",
       "                if (document.getElementById(\"b942395b-60d8-4499-b227-b6e4f36d0ce0\")) {\n",
       "                    Plotly.newPlot(\n",
       "                        'b942395b-60d8-4499-b227-b6e4f36d0ce0',\n",
       "                        [{\"hovertemplate\": \"x: %{x}<br>y: %{y}<br>color: %{z}<extra></extra>\", \"type\": \"image\", \"z\": [[[246.0, 232.0, 204.0, 0.25], [246.0, 232.0, 204.0, 0.25], [246.0, 232.0, 204.0, 0.25], [246.0, 232.0, 204.0, 0.25], [246.0, 232.0, 204.0, 0.25]], [[246.0, 232.0, 204.0, 0.25], [246.0, 232.0, 204.0, 0.25], [246.0, 232.0, 204.0, 0.25], [246.0, 232.0, 204.0, 0.25], [246.0, 232.0, 204.0, 0.25]], [[246.0, 232.0, 204.0, 0.25], [246.0, 232.0, 204.0, 0.25], [246.0, 232.0, 204.0, 0.25], [246.0, 232.0, 204.0, 0.25], [246.0, 232.0, 204.0, 0.25]], [[246.0, 232.0, 204.0, 0.25], [246.0, 232.0, 204.0, 0.25], [246.0, 232.0, 204.0, 0.25], [246.0, 232.0, 204.0, 0.25], [246.0, 232.0, 204.0, 0.25]], [[246.0, 232.0, 204.0, 0.25], [246.0, 232.0, 204.0, 0.25], [246.0, 232.0, 204.0, 0.25], [246.0, 232.0, 204.0, 0.25], [246.0, 232.0, 204.0, 0.25]]], \"zmax\": [255, 255, 255, 1]}],\n",
       "                        {\"annotations\": [{\"showarrow\": false, \"text\": \"roulette\", \"x\": 0, \"y\": 0}, {\"showarrow\": false, \"text\": \"ham\", \"x\": 1, \"y\": 0}, {\"showarrow\": false, \"text\": \"bow\", \"x\": 2, \"y\": 0}, {\"showarrow\": false, \"text\": \"wall\", \"x\": 3, \"y\": 0}, {\"showarrow\": false, \"text\": \"shakespeare\", \"x\": 4, \"y\": 0}, {\"showarrow\": false, \"text\": \"watch\", \"x\": 0, \"y\": 1}, {\"showarrow\": false, \"text\": \"chair\", \"x\": 1, \"y\": 1}, {\"showarrow\": false, \"text\": \"england\", \"x\": 2, \"y\": 1}, {\"showarrow\": false, \"text\": \"compound\", \"x\": 3, \"y\": 1}, {\"showarrow\": false, \"text\": \"dragon\", \"x\": 4, \"y\": 1}, {\"showarrow\": false, \"text\": \"jupiter\", \"x\": 0, \"y\": 2}, {\"showarrow\": false, \"text\": \"jack\", \"x\": 1, \"y\": 2}, {\"showarrow\": false, \"text\": \"tube\", \"x\": 2, \"y\": 2}, {\"showarrow\": false, \"text\": \"scale\", \"x\": 3, \"y\": 2}, {\"showarrow\": false, \"text\": \"theater\", \"x\": 4, \"y\": 2}, {\"showarrow\": false, \"text\": \"revolution\", \"x\": 0, \"y\": 3}, {\"showarrow\": false, \"text\": \"disease\", \"x\": 1, \"y\": 3}, {\"showarrow\": false, \"text\": \"model\", \"x\": 2, \"y\": 3}, {\"showarrow\": false, \"text\": \"nail\", \"x\": 3, \"y\": 3}, {\"showarrow\": false, \"text\": \"field\", \"x\": 4, \"y\": 3}, {\"showarrow\": false, \"text\": \"link\", \"x\": 0, \"y\": 4}, {\"showarrow\": false, \"text\": \"chick\", \"x\": 1, \"y\": 4}, {\"showarrow\": false, \"text\": \"pirate\", \"x\": 2, \"y\": 4}, {\"showarrow\": false, \"text\": \"fall\", \"x\": 3, \"y\": 4}, {\"showarrow\": false, \"text\": \"saturn\", \"x\": 4, \"y\": 4}], \"margin\": {\"t\": 60}, \"template\": {\"data\": {\"bar\": [{\"error_x\": {\"color\": \"#2a3f5f\"}, \"error_y\": {\"color\": \"#2a3f5f\"}, \"marker\": {\"line\": {\"color\": \"#E5ECF6\", \"width\": 0.5}}, \"type\": \"bar\"}], \"barpolar\": [{\"marker\": {\"line\": {\"color\": \"#E5ECF6\", \"width\": 0.5}}, \"type\": \"barpolar\"}], \"carpet\": [{\"aaxis\": {\"endlinecolor\": \"#2a3f5f\", \"gridcolor\": \"white\", \"linecolor\": \"white\", \"minorgridcolor\": \"white\", \"startlinecolor\": \"#2a3f5f\"}, \"baxis\": {\"endlinecolor\": \"#2a3f5f\", \"gridcolor\": \"white\", \"linecolor\": \"white\", \"minorgridcolor\": \"white\", \"startlinecolor\": \"#2a3f5f\"}, \"type\": \"carpet\"}], \"choropleth\": [{\"colorbar\": {\"outlinewidth\": 0, \"ticks\": \"\"}, \"type\": \"choropleth\"}], \"contour\": [{\"colorbar\": {\"outlinewidth\": 0, \"ticks\": \"\"}, \"colorscale\": [[0.0, \"#0d0887\"], [0.1111111111111111, \"#46039f\"], [0.2222222222222222, \"#7201a8\"], [0.3333333333333333, \"#9c179e\"], [0.4444444444444444, \"#bd3786\"], [0.5555555555555556, \"#d8576b\"], [0.6666666666666666, \"#ed7953\"], [0.7777777777777778, \"#fb9f3a\"], [0.8888888888888888, \"#fdca26\"], [1.0, \"#f0f921\"]], \"type\": \"contour\"}], \"contourcarpet\": [{\"colorbar\": {\"outlinewidth\": 0, \"ticks\": \"\"}, \"type\": \"contourcarpet\"}], \"heatmap\": [{\"colorbar\": {\"outlinewidth\": 0, \"ticks\": \"\"}, \"colorscale\": [[0.0, \"#0d0887\"], [0.1111111111111111, \"#46039f\"], [0.2222222222222222, \"#7201a8\"], [0.3333333333333333, \"#9c179e\"], [0.4444444444444444, \"#bd3786\"], [0.5555555555555556, \"#d8576b\"], [0.6666666666666666, \"#ed7953\"], [0.7777777777777778, \"#fb9f3a\"], [0.8888888888888888, \"#fdca26\"], [1.0, \"#f0f921\"]], \"type\": \"heatmap\"}], \"heatmapgl\": [{\"colorbar\": {\"outlinewidth\": 0, \"ticks\": \"\"}, \"colorscale\": [[0.0, \"#0d0887\"], [0.1111111111111111, \"#46039f\"], [0.2222222222222222, \"#7201a8\"], [0.3333333333333333, \"#9c179e\"], [0.4444444444444444, \"#bd3786\"], [0.5555555555555556, \"#d8576b\"], [0.6666666666666666, \"#ed7953\"], [0.7777777777777778, \"#fb9f3a\"], [0.8888888888888888, \"#fdca26\"], [1.0, \"#f0f921\"]], \"type\": \"heatmapgl\"}], \"histogram\": [{\"marker\": {\"colorbar\": {\"outlinewidth\": 0, \"ticks\": \"\"}}, \"type\": \"histogram\"}], \"histogram2d\": [{\"colorbar\": {\"outlinewidth\": 0, \"ticks\": \"\"}, \"colorscale\": [[0.0, \"#0d0887\"], [0.1111111111111111, \"#46039f\"], [0.2222222222222222, \"#7201a8\"], [0.3333333333333333, \"#9c179e\"], [0.4444444444444444, \"#bd3786\"], [0.5555555555555556, \"#d8576b\"], [0.6666666666666666, \"#ed7953\"], [0.7777777777777778, \"#fb9f3a\"], [0.8888888888888888, \"#fdca26\"], [1.0, \"#f0f921\"]], \"type\": \"histogram2d\"}], \"histogram2dcontour\": [{\"colorbar\": {\"outlinewidth\": 0, \"ticks\": \"\"}, \"colorscale\": [[0.0, \"#0d0887\"], [0.1111111111111111, \"#46039f\"], [0.2222222222222222, \"#7201a8\"], [0.3333333333333333, \"#9c179e\"], [0.4444444444444444, \"#bd3786\"], [0.5555555555555556, \"#d8576b\"], [0.6666666666666666, \"#ed7953\"], [0.7777777777777778, \"#fb9f3a\"], [0.8888888888888888, \"#fdca26\"], [1.0, \"#f0f921\"]], \"type\": \"histogram2dcontour\"}], \"mesh3d\": [{\"colorbar\": {\"outlinewidth\": 0, \"ticks\": \"\"}, \"type\": \"mesh3d\"}], \"parcoords\": [{\"line\": {\"colorbar\": {\"outlinewidth\": 0, \"ticks\": \"\"}}, \"type\": \"parcoords\"}], \"pie\": [{\"automargin\": true, \"type\": \"pie\"}], \"scatter\": [{\"marker\": {\"colorbar\": {\"outlinewidth\": 0, \"ticks\": \"\"}}, \"type\": \"scatter\"}], \"scatter3d\": [{\"line\": {\"colorbar\": {\"outlinewidth\": 0, \"ticks\": \"\"}}, \"marker\": {\"colorbar\": {\"outlinewidth\": 0, \"ticks\": \"\"}}, \"type\": \"scatter3d\"}], \"scattercarpet\": [{\"marker\": {\"colorbar\": {\"outlinewidth\": 0, \"ticks\": \"\"}}, \"type\": \"scattercarpet\"}], \"scattergeo\": [{\"marker\": {\"colorbar\": {\"outlinewidth\": 0, \"ticks\": \"\"}}, \"type\": \"scattergeo\"}], \"scattergl\": [{\"marker\": {\"colorbar\": {\"outlinewidth\": 0, \"ticks\": \"\"}}, \"type\": \"scattergl\"}], \"scattermapbox\": [{\"marker\": {\"colorbar\": {\"outlinewidth\": 0, \"ticks\": \"\"}}, \"type\": \"scattermapbox\"}], \"scatterpolar\": [{\"marker\": {\"colorbar\": {\"outlinewidth\": 0, \"ticks\": \"\"}}, \"type\": \"scatterpolar\"}], \"scatterpolargl\": [{\"marker\": {\"colorbar\": {\"outlinewidth\": 0, \"ticks\": \"\"}}, \"type\": \"scatterpolargl\"}], \"scatterternary\": [{\"marker\": {\"colorbar\": {\"outlinewidth\": 0, \"ticks\": \"\"}}, \"type\": \"scatterternary\"}], \"surface\": [{\"colorbar\": {\"outlinewidth\": 0, \"ticks\": \"\"}, \"colorscale\": [[0.0, \"#0d0887\"], [0.1111111111111111, \"#46039f\"], [0.2222222222222222, \"#7201a8\"], [0.3333333333333333, \"#9c179e\"], [0.4444444444444444, \"#bd3786\"], [0.5555555555555556, \"#d8576b\"], [0.6666666666666666, \"#ed7953\"], [0.7777777777777778, \"#fb9f3a\"], [0.8888888888888888, \"#fdca26\"], [1.0, \"#f0f921\"]], \"type\": \"surface\"}], \"table\": [{\"cells\": {\"fill\": {\"color\": \"#EBF0F8\"}, \"line\": {\"color\": \"white\"}}, \"header\": {\"fill\": {\"color\": \"#C8D4E3\"}, \"line\": {\"color\": \"white\"}}, \"type\": \"table\"}]}, \"layout\": {\"annotationdefaults\": {\"arrowcolor\": \"#2a3f5f\", \"arrowhead\": 0, \"arrowwidth\": 1}, \"coloraxis\": {\"colorbar\": {\"outlinewidth\": 0, \"ticks\": \"\"}}, \"colorscale\": {\"diverging\": [[0, \"#8e0152\"], [0.1, \"#c51b7d\"], [0.2, \"#de77ae\"], [0.3, \"#f1b6da\"], [0.4, \"#fde0ef\"], [0.5, \"#f7f7f7\"], [0.6, \"#e6f5d0\"], [0.7, \"#b8e186\"], [0.8, \"#7fbc41\"], [0.9, \"#4d9221\"], [1, \"#276419\"]], \"sequential\": [[0.0, \"#0d0887\"], [0.1111111111111111, \"#46039f\"], [0.2222222222222222, \"#7201a8\"], [0.3333333333333333, \"#9c179e\"], [0.4444444444444444, \"#bd3786\"], [0.5555555555555556, \"#d8576b\"], [0.6666666666666666, \"#ed7953\"], [0.7777777777777778, \"#fb9f3a\"], [0.8888888888888888, \"#fdca26\"], [1.0, \"#f0f921\"]], \"sequentialminus\": [[0.0, \"#0d0887\"], [0.1111111111111111, \"#46039f\"], [0.2222222222222222, \"#7201a8\"], [0.3333333333333333, \"#9c179e\"], [0.4444444444444444, \"#bd3786\"], [0.5555555555555556, \"#d8576b\"], [0.6666666666666666, \"#ed7953\"], [0.7777777777777778, \"#fb9f3a\"], [0.8888888888888888, \"#fdca26\"], [1.0, \"#f0f921\"]]}, \"colorway\": [\"#636efa\", \"#EF553B\", \"#00cc96\", \"#ab63fa\", \"#FFA15A\", \"#19d3f3\", \"#FF6692\", \"#B6E880\", \"#FF97FF\", \"#FECB52\"], \"font\": {\"color\": \"#2a3f5f\"}, \"geo\": {\"bgcolor\": \"white\", \"lakecolor\": \"white\", \"landcolor\": \"#E5ECF6\", \"showlakes\": true, \"showland\": true, \"subunitcolor\": \"white\"}, \"hoverlabel\": {\"align\": \"left\"}, \"hovermode\": \"closest\", \"mapbox\": {\"style\": \"light\"}, \"paper_bgcolor\": \"white\", \"plot_bgcolor\": \"#E5ECF6\", \"polar\": {\"angularaxis\": {\"gridcolor\": \"white\", \"linecolor\": \"white\", \"ticks\": \"\"}, \"bgcolor\": \"#E5ECF6\", \"radialaxis\": {\"gridcolor\": \"white\", \"linecolor\": \"white\", \"ticks\": \"\"}}, \"scene\": {\"xaxis\": {\"backgroundcolor\": \"#E5ECF6\", \"gridcolor\": \"white\", \"gridwidth\": 2, \"linecolor\": \"white\", \"showbackground\": true, \"ticks\": \"\", \"zerolinecolor\": \"white\"}, \"yaxis\": {\"backgroundcolor\": \"#E5ECF6\", \"gridcolor\": \"white\", \"gridwidth\": 2, \"linecolor\": \"white\", \"showbackground\": true, \"ticks\": \"\", \"zerolinecolor\": \"white\"}, \"zaxis\": {\"backgroundcolor\": \"#E5ECF6\", \"gridcolor\": \"white\", \"gridwidth\": 2, \"linecolor\": \"white\", \"showbackground\": true, \"ticks\": \"\", \"zerolinecolor\": \"white\"}}, \"shapedefaults\": {\"line\": {\"color\": \"#2a3f5f\"}}, \"ternary\": {\"aaxis\": {\"gridcolor\": \"white\", \"linecolor\": \"white\", \"ticks\": \"\"}, \"baxis\": {\"gridcolor\": \"white\", \"linecolor\": \"white\", \"ticks\": \"\"}, \"bgcolor\": \"#E5ECF6\", \"caxis\": {\"gridcolor\": \"white\", \"linecolor\": \"white\", \"ticks\": \"\"}}, \"title\": {\"x\": 0.05}, \"xaxis\": {\"automargin\": true, \"gridcolor\": \"white\", \"linecolor\": \"white\", \"ticks\": \"\", \"title\": {\"standoff\": 15}, \"zerolinecolor\": \"white\", \"zerolinewidth\": 2}, \"yaxis\": {\"automargin\": true, \"gridcolor\": \"white\", \"linecolor\": \"white\", \"ticks\": \"\", \"title\": {\"standoff\": 15}, \"zerolinecolor\": \"white\", \"zerolinewidth\": 2}}}},\n",
       "                        {\"responsive\": true}\n",
       "                    ).then(function(){\n",
       "                            \n",
       "var gd = document.getElementById('b942395b-60d8-4499-b227-b6e4f36d0ce0');\n",
       "var x = new MutationObserver(function (mutations, observer) {{\n",
       "        var display = window.getComputedStyle(gd).display;\n",
       "        if (!display || display === 'none') {{\n",
       "            console.log([gd, 'removed!']);\n",
       "            Plotly.purge(gd);\n",
       "            observer.disconnect();\n",
       "        }}\n",
       "}});\n",
       "\n",
       "// Listen for the removal of the full notebook cells\n",
       "var notebookContainer = gd.closest('#notebook-container');\n",
       "if (notebookContainer) {{\n",
       "    x.observe(notebookContainer, {childList: true});\n",
       "}}\n",
       "\n",
       "// Listen for the clearing of the current output cell\n",
       "var outputEl = gd.closest('.output');\n",
       "if (outputEl) {{\n",
       "    x.observe(outputEl, {childList: true});\n",
       "}}\n",
       "\n",
       "                        })\n",
       "                };\n",
       "                });\n",
       "            </script>\n",
       "        </div>"
      ]
     },
     "metadata": {},
     "output_type": "display_data"
    },
    {
     "data": {
      "application/javascript": [
       "\n",
       "            setTimeout(function() {\n",
       "                var nbb_cell_id = 158;\n",
       "                var nbb_unformatted_code = \"import plotly.express as px\\nimport plotly.graph_objs as go\\nimport plotly.graph_objs.layout as layout\\n\\n# annotations = layout.Annotations()\\nfig = px.imshow(split_card_colours)\\nfor y_idx, row in enumerate(split_cards):\\n    for x_idx, card in enumerate(row):\\n        fig.add_annotation(text=card, x=x_idx, y=y_idx, showarrow=False)\\n\\nfig[\\\"layout\\\"].update(annotations=annotations)\\nfig.show()\";\n",
       "                var nbb_formatted_code = \"import plotly.express as px\\nimport plotly.graph_objs as go\\nimport plotly.graph_objs.layout as layout\\n\\n# annotations = layout.Annotations()\\nfig = px.imshow(split_card_colours)\\nfor y_idx, row in enumerate(split_cards):\\n    for x_idx, card in enumerate(row):\\n        fig.add_annotation(text=card, x=x_idx, y=y_idx, showarrow=False)\\n\\nfig[\\\"layout\\\"].update(annotations=annotations)\\nfig.show()\";\n",
       "                var nbb_cells = Jupyter.notebook.get_cells();\n",
       "                for (var i = 0; i < nbb_cells.length; ++i) {\n",
       "                    if (nbb_cells[i].input_prompt_number == nbb_cell_id) {\n",
       "                        if (nbb_cells[i].get_text() == nbb_unformatted_code) {\n",
       "                             nbb_cells[i].set_text(nbb_formatted_code);\n",
       "                        }\n",
       "                        break;\n",
       "                    }\n",
       "                }\n",
       "            }, 500);\n",
       "            "
      ],
      "text/plain": [
       "<IPython.core.display.Javascript object>"
      ]
     },
     "metadata": {},
     "output_type": "display_data"
    }
   ],
   "source": [
    "import plotly.express as px\n",
    "import plotly.graph_objs as go\n",
    "import plotly.graph_objs.layout as layout\n",
    "\n",
    "# annotations = layout.Annotations()\n",
    "fig = px.imshow(split_card_colours)\n",
    "for y_idx, row in enumerate(split_cards):\n",
    "    for x_idx, card in enumerate(row):\n",
    "        fig.add_annotation(text=card, x=x_idx, y=y_idx, showarrow=False)\n",
    "\n",
    "fig[\"layout\"].update(annotations=annotations)\n",
    "fig.show()"
   ]
  },
  {
   "cell_type": "code",
   "execution_count": 14,
   "metadata": {},
   "outputs": [
    {
     "data": {
      "application/javascript": [
       "\n",
       "            setTimeout(function() {\n",
       "                var nbb_cell_id = 14;\n",
       "                var nbb_unformatted_code = \"def draw_board(cards, spymaster_map, revealed):\\n    split_cards = np.array_split(cards, 5)\\n    split_card_colours = np.array_split(\\n        [\\n            colour_map[\\n                check_card_type(\\n                    idx, codenames_game.spymaster_map, codenames_game.revealed\\n                )\\n            ]\\n            for idx, c in enumerate(cards)\\n        ],\\n        5,\\n    )\\n    fig = px.imshow(split_card_colours)\\n    for y_idx, row in enumerate(split_cards):\\n        for x_idx, card in enumerate(row):\\n            fig.add_annotation(text=card, x=x_idx, y=y_idx, showarrow=False)\\n    fig.show()\";\n",
       "                var nbb_formatted_code = \"def draw_board(cards, spymaster_map, revealed):\\n    split_cards = np.array_split(cards, 5)\\n    split_card_colours = np.array_split(\\n        [\\n            colour_map[\\n                check_card_type(\\n                    idx, codenames_game.spymaster_map, codenames_game.revealed\\n                )\\n            ]\\n            for idx, c in enumerate(cards)\\n        ],\\n        5,\\n    )\\n    fig = px.imshow(split_card_colours)\\n    for y_idx, row in enumerate(split_cards):\\n        for x_idx, card in enumerate(row):\\n            fig.add_annotation(text=card, x=x_idx, y=y_idx, showarrow=False)\\n    fig.show()\";\n",
       "                var nbb_cells = Jupyter.notebook.get_cells();\n",
       "                for (var i = 0; i < nbb_cells.length; ++i) {\n",
       "                    if (nbb_cells[i].input_prompt_number == nbb_cell_id) {\n",
       "                        if (nbb_cells[i].get_text() == nbb_unformatted_code) {\n",
       "                             nbb_cells[i].set_text(nbb_formatted_code);\n",
       "                        }\n",
       "                        break;\n",
       "                    }\n",
       "                }\n",
       "            }, 500);\n",
       "            "
      ],
      "text/plain": [
       "<IPython.core.display.Javascript object>"
      ]
     },
     "metadata": {},
     "output_type": "display_data"
    }
   ],
   "source": [
    "def draw_board(cards, spymaster_map, revealed):\n",
    "    split_cards = np.array_split(cards, 5)\n",
    "    split_card_colours = np.array_split(\n",
    "        [\n",
    "            colour_map[\n",
    "                check_card_type(\n",
    "                    idx, codenames_game.spymaster_map, codenames_game.revealed\n",
    "                )\n",
    "            ]\n",
    "            for idx, c in enumerate(cards)\n",
    "        ],\n",
    "        5,\n",
    "    )\n",
    "    fig = px.imshow(split_card_colours)\n",
    "    for y_idx, row in enumerate(split_cards):\n",
    "        for x_idx, card in enumerate(row):\n",
    "            fig.add_annotation(text=card, x=x_idx, y=y_idx, showarrow=False)\n",
    "    fig.show()"
   ]
  },
  {
   "cell_type": "code",
   "execution_count": 150,
   "metadata": {},
   "outputs": [
    {
     "data": {
      "application/vnd.plotly.v1+json": {
       "config": {
        "plotlyServerURL": "https://plot.ly"
       },
       "data": [
        {
         "hovertemplate": "x: %{x}<br>y: %{y}<br>color: %{z}<extra></extra>",
         "type": "image",
         "z": [
          [
           [
            194,
            183,
            54,
            0.25
           ],
           [
            57,
            105,
            145,
            0.25
           ],
           [
            213,
            64,
            8,
            0.25
           ],
           [
            213,
            64,
            8,
            0.25
           ],
           [
            246,
            232,
            204,
            0.25
           ]
          ],
          [
           [
            57,
            105,
            145,
            0.25
           ],
           [
            57,
            105,
            145,
            0.25
           ],
           [
            246,
            232,
            204,
            0.25
           ],
           [
            246,
            232,
            204,
            0.25
           ],
           [
            246,
            232,
            204,
            0.25
           ]
          ],
          [
           [
            246,
            232,
            204,
            0.25
           ],
           [
            213,
            64,
            8,
            0.25
           ],
           [
            57,
            105,
            145,
            0.25
           ],
           [
            213,
            64,
            8,
            0.25
           ],
           [
            246,
            232,
            204,
            0.25
           ]
          ],
          [
           [
            213,
            64,
            8,
            0.25
           ],
           [
            246,
            232,
            204,
            0.25
           ],
           [
            57,
            105,
            145,
            0.25
           ],
           [
            57,
            105,
            145,
            0.25
           ],
           [
            57,
            105,
            145,
            0.25
           ]
          ],
          [
           [
            57,
            105,
            145,
            0.25
           ],
           [
            246,
            232,
            204,
            0.25
           ],
           [
            57,
            105,
            145,
            0.25
           ],
           [
            246,
            232,
            204,
            0.25
           ],
           [
            213,
            64,
            8,
            0.25
           ]
          ]
         ],
         "zmax": [
          255,
          255,
          255,
          1
         ]
        }
       ],
       "layout": {
        "annotations": [
         {
          "showarrow": false,
          "text": "berry",
          "x": 0,
          "y": 0
         },
         {
          "showarrow": false,
          "text": "nut",
          "x": 1,
          "y": 0
         },
         {
          "showarrow": false,
          "text": "dice",
          "x": 2,
          "y": 0
         },
         {
          "showarrow": false,
          "text": "berlin",
          "x": 3,
          "y": 0
         },
         {
          "showarrow": false,
          "text": "laser",
          "x": 4,
          "y": 0
         },
         {
          "showarrow": false,
          "text": "kiwi",
          "x": 0,
          "y": 1
         },
         {
          "showarrow": false,
          "text": "chick",
          "x": 1,
          "y": 1
         },
         {
          "showarrow": false,
          "text": "mint",
          "x": 2,
          "y": 1
         },
         {
          "showarrow": false,
          "text": "octopus",
          "x": 3,
          "y": 1
         },
         {
          "showarrow": false,
          "text": "needle",
          "x": 4,
          "y": 1
         },
         {
          "showarrow": false,
          "text": "ground",
          "x": 0,
          "y": 2
         },
         {
          "showarrow": false,
          "text": "embassy",
          "x": 1,
          "y": 2
         },
         {
          "showarrow": false,
          "text": "vet",
          "x": 2,
          "y": 2
         },
         {
          "showarrow": false,
          "text": "pyramid",
          "x": 3,
          "y": 2
         },
         {
          "showarrow": false,
          "text": "wake",
          "x": 4,
          "y": 2
         },
         {
          "showarrow": false,
          "text": "switch",
          "x": 0,
          "y": 3
         },
         {
          "showarrow": false,
          "text": "princess",
          "x": 1,
          "y": 3
         },
         {
          "showarrow": false,
          "text": "turkey",
          "x": 2,
          "y": 3
         },
         {
          "showarrow": false,
          "text": "jupiter",
          "x": 3,
          "y": 3
         },
         {
          "showarrow": false,
          "text": "mercury",
          "x": 4,
          "y": 3
         },
         {
          "showarrow": false,
          "text": "circle",
          "x": 0,
          "y": 4
         },
         {
          "showarrow": false,
          "text": "giant",
          "x": 1,
          "y": 4
         },
         {
          "showarrow": false,
          "text": "bug",
          "x": 2,
          "y": 4
         },
         {
          "showarrow": false,
          "text": "life",
          "x": 3,
          "y": 4
         },
         {
          "showarrow": false,
          "text": "ivory",
          "x": 4,
          "y": 4
         }
        ],
        "margin": {
         "t": 60
        },
        "template": {
         "data": {
          "bar": [
           {
            "error_x": {
             "color": "#2a3f5f"
            },
            "error_y": {
             "color": "#2a3f5f"
            },
            "marker": {
             "line": {
              "color": "#E5ECF6",
              "width": 0.5
             }
            },
            "type": "bar"
           }
          ],
          "barpolar": [
           {
            "marker": {
             "line": {
              "color": "#E5ECF6",
              "width": 0.5
             }
            },
            "type": "barpolar"
           }
          ],
          "carpet": [
           {
            "aaxis": {
             "endlinecolor": "#2a3f5f",
             "gridcolor": "white",
             "linecolor": "white",
             "minorgridcolor": "white",
             "startlinecolor": "#2a3f5f"
            },
            "baxis": {
             "endlinecolor": "#2a3f5f",
             "gridcolor": "white",
             "linecolor": "white",
             "minorgridcolor": "white",
             "startlinecolor": "#2a3f5f"
            },
            "type": "carpet"
           }
          ],
          "choropleth": [
           {
            "colorbar": {
             "outlinewidth": 0,
             "ticks": ""
            },
            "type": "choropleth"
           }
          ],
          "contour": [
           {
            "colorbar": {
             "outlinewidth": 0,
             "ticks": ""
            },
            "colorscale": [
             [
              0,
              "#0d0887"
             ],
             [
              0.1111111111111111,
              "#46039f"
             ],
             [
              0.2222222222222222,
              "#7201a8"
             ],
             [
              0.3333333333333333,
              "#9c179e"
             ],
             [
              0.4444444444444444,
              "#bd3786"
             ],
             [
              0.5555555555555556,
              "#d8576b"
             ],
             [
              0.6666666666666666,
              "#ed7953"
             ],
             [
              0.7777777777777778,
              "#fb9f3a"
             ],
             [
              0.8888888888888888,
              "#fdca26"
             ],
             [
              1,
              "#f0f921"
             ]
            ],
            "type": "contour"
           }
          ],
          "contourcarpet": [
           {
            "colorbar": {
             "outlinewidth": 0,
             "ticks": ""
            },
            "type": "contourcarpet"
           }
          ],
          "heatmap": [
           {
            "colorbar": {
             "outlinewidth": 0,
             "ticks": ""
            },
            "colorscale": [
             [
              0,
              "#0d0887"
             ],
             [
              0.1111111111111111,
              "#46039f"
             ],
             [
              0.2222222222222222,
              "#7201a8"
             ],
             [
              0.3333333333333333,
              "#9c179e"
             ],
             [
              0.4444444444444444,
              "#bd3786"
             ],
             [
              0.5555555555555556,
              "#d8576b"
             ],
             [
              0.6666666666666666,
              "#ed7953"
             ],
             [
              0.7777777777777778,
              "#fb9f3a"
             ],
             [
              0.8888888888888888,
              "#fdca26"
             ],
             [
              1,
              "#f0f921"
             ]
            ],
            "type": "heatmap"
           }
          ],
          "heatmapgl": [
           {
            "colorbar": {
             "outlinewidth": 0,
             "ticks": ""
            },
            "colorscale": [
             [
              0,
              "#0d0887"
             ],
             [
              0.1111111111111111,
              "#46039f"
             ],
             [
              0.2222222222222222,
              "#7201a8"
             ],
             [
              0.3333333333333333,
              "#9c179e"
             ],
             [
              0.4444444444444444,
              "#bd3786"
             ],
             [
              0.5555555555555556,
              "#d8576b"
             ],
             [
              0.6666666666666666,
              "#ed7953"
             ],
             [
              0.7777777777777778,
              "#fb9f3a"
             ],
             [
              0.8888888888888888,
              "#fdca26"
             ],
             [
              1,
              "#f0f921"
             ]
            ],
            "type": "heatmapgl"
           }
          ],
          "histogram": [
           {
            "marker": {
             "colorbar": {
              "outlinewidth": 0,
              "ticks": ""
             }
            },
            "type": "histogram"
           }
          ],
          "histogram2d": [
           {
            "colorbar": {
             "outlinewidth": 0,
             "ticks": ""
            },
            "colorscale": [
             [
              0,
              "#0d0887"
             ],
             [
              0.1111111111111111,
              "#46039f"
             ],
             [
              0.2222222222222222,
              "#7201a8"
             ],
             [
              0.3333333333333333,
              "#9c179e"
             ],
             [
              0.4444444444444444,
              "#bd3786"
             ],
             [
              0.5555555555555556,
              "#d8576b"
             ],
             [
              0.6666666666666666,
              "#ed7953"
             ],
             [
              0.7777777777777778,
              "#fb9f3a"
             ],
             [
              0.8888888888888888,
              "#fdca26"
             ],
             [
              1,
              "#f0f921"
             ]
            ],
            "type": "histogram2d"
           }
          ],
          "histogram2dcontour": [
           {
            "colorbar": {
             "outlinewidth": 0,
             "ticks": ""
            },
            "colorscale": [
             [
              0,
              "#0d0887"
             ],
             [
              0.1111111111111111,
              "#46039f"
             ],
             [
              0.2222222222222222,
              "#7201a8"
             ],
             [
              0.3333333333333333,
              "#9c179e"
             ],
             [
              0.4444444444444444,
              "#bd3786"
             ],
             [
              0.5555555555555556,
              "#d8576b"
             ],
             [
              0.6666666666666666,
              "#ed7953"
             ],
             [
              0.7777777777777778,
              "#fb9f3a"
             ],
             [
              0.8888888888888888,
              "#fdca26"
             ],
             [
              1,
              "#f0f921"
             ]
            ],
            "type": "histogram2dcontour"
           }
          ],
          "mesh3d": [
           {
            "colorbar": {
             "outlinewidth": 0,
             "ticks": ""
            },
            "type": "mesh3d"
           }
          ],
          "parcoords": [
           {
            "line": {
             "colorbar": {
              "outlinewidth": 0,
              "ticks": ""
             }
            },
            "type": "parcoords"
           }
          ],
          "pie": [
           {
            "automargin": true,
            "type": "pie"
           }
          ],
          "scatter": [
           {
            "marker": {
             "colorbar": {
              "outlinewidth": 0,
              "ticks": ""
             }
            },
            "type": "scatter"
           }
          ],
          "scatter3d": [
           {
            "line": {
             "colorbar": {
              "outlinewidth": 0,
              "ticks": ""
             }
            },
            "marker": {
             "colorbar": {
              "outlinewidth": 0,
              "ticks": ""
             }
            },
            "type": "scatter3d"
           }
          ],
          "scattercarpet": [
           {
            "marker": {
             "colorbar": {
              "outlinewidth": 0,
              "ticks": ""
             }
            },
            "type": "scattercarpet"
           }
          ],
          "scattergeo": [
           {
            "marker": {
             "colorbar": {
              "outlinewidth": 0,
              "ticks": ""
             }
            },
            "type": "scattergeo"
           }
          ],
          "scattergl": [
           {
            "marker": {
             "colorbar": {
              "outlinewidth": 0,
              "ticks": ""
             }
            },
            "type": "scattergl"
           }
          ],
          "scattermapbox": [
           {
            "marker": {
             "colorbar": {
              "outlinewidth": 0,
              "ticks": ""
             }
            },
            "type": "scattermapbox"
           }
          ],
          "scatterpolar": [
           {
            "marker": {
             "colorbar": {
              "outlinewidth": 0,
              "ticks": ""
             }
            },
            "type": "scatterpolar"
           }
          ],
          "scatterpolargl": [
           {
            "marker": {
             "colorbar": {
              "outlinewidth": 0,
              "ticks": ""
             }
            },
            "type": "scatterpolargl"
           }
          ],
          "scatterternary": [
           {
            "marker": {
             "colorbar": {
              "outlinewidth": 0,
              "ticks": ""
             }
            },
            "type": "scatterternary"
           }
          ],
          "surface": [
           {
            "colorbar": {
             "outlinewidth": 0,
             "ticks": ""
            },
            "colorscale": [
             [
              0,
              "#0d0887"
             ],
             [
              0.1111111111111111,
              "#46039f"
             ],
             [
              0.2222222222222222,
              "#7201a8"
             ],
             [
              0.3333333333333333,
              "#9c179e"
             ],
             [
              0.4444444444444444,
              "#bd3786"
             ],
             [
              0.5555555555555556,
              "#d8576b"
             ],
             [
              0.6666666666666666,
              "#ed7953"
             ],
             [
              0.7777777777777778,
              "#fb9f3a"
             ],
             [
              0.8888888888888888,
              "#fdca26"
             ],
             [
              1,
              "#f0f921"
             ]
            ],
            "type": "surface"
           }
          ],
          "table": [
           {
            "cells": {
             "fill": {
              "color": "#EBF0F8"
             },
             "line": {
              "color": "white"
             }
            },
            "header": {
             "fill": {
              "color": "#C8D4E3"
             },
             "line": {
              "color": "white"
             }
            },
            "type": "table"
           }
          ]
         },
         "layout": {
          "annotationdefaults": {
           "arrowcolor": "#2a3f5f",
           "arrowhead": 0,
           "arrowwidth": 1
          },
          "coloraxis": {
           "colorbar": {
            "outlinewidth": 0,
            "ticks": ""
           }
          },
          "colorscale": {
           "diverging": [
            [
             0,
             "#8e0152"
            ],
            [
             0.1,
             "#c51b7d"
            ],
            [
             0.2,
             "#de77ae"
            ],
            [
             0.3,
             "#f1b6da"
            ],
            [
             0.4,
             "#fde0ef"
            ],
            [
             0.5,
             "#f7f7f7"
            ],
            [
             0.6,
             "#e6f5d0"
            ],
            [
             0.7,
             "#b8e186"
            ],
            [
             0.8,
             "#7fbc41"
            ],
            [
             0.9,
             "#4d9221"
            ],
            [
             1,
             "#276419"
            ]
           ],
           "sequential": [
            [
             0,
             "#0d0887"
            ],
            [
             0.1111111111111111,
             "#46039f"
            ],
            [
             0.2222222222222222,
             "#7201a8"
            ],
            [
             0.3333333333333333,
             "#9c179e"
            ],
            [
             0.4444444444444444,
             "#bd3786"
            ],
            [
             0.5555555555555556,
             "#d8576b"
            ],
            [
             0.6666666666666666,
             "#ed7953"
            ],
            [
             0.7777777777777778,
             "#fb9f3a"
            ],
            [
             0.8888888888888888,
             "#fdca26"
            ],
            [
             1,
             "#f0f921"
            ]
           ],
           "sequentialminus": [
            [
             0,
             "#0d0887"
            ],
            [
             0.1111111111111111,
             "#46039f"
            ],
            [
             0.2222222222222222,
             "#7201a8"
            ],
            [
             0.3333333333333333,
             "#9c179e"
            ],
            [
             0.4444444444444444,
             "#bd3786"
            ],
            [
             0.5555555555555556,
             "#d8576b"
            ],
            [
             0.6666666666666666,
             "#ed7953"
            ],
            [
             0.7777777777777778,
             "#fb9f3a"
            ],
            [
             0.8888888888888888,
             "#fdca26"
            ],
            [
             1,
             "#f0f921"
            ]
           ]
          },
          "colorway": [
           "#636efa",
           "#EF553B",
           "#00cc96",
           "#ab63fa",
           "#FFA15A",
           "#19d3f3",
           "#FF6692",
           "#B6E880",
           "#FF97FF",
           "#FECB52"
          ],
          "font": {
           "color": "#2a3f5f"
          },
          "geo": {
           "bgcolor": "white",
           "lakecolor": "white",
           "landcolor": "#E5ECF6",
           "showlakes": true,
           "showland": true,
           "subunitcolor": "white"
          },
          "hoverlabel": {
           "align": "left"
          },
          "hovermode": "closest",
          "mapbox": {
           "style": "light"
          },
          "paper_bgcolor": "white",
          "plot_bgcolor": "#E5ECF6",
          "polar": {
           "angularaxis": {
            "gridcolor": "white",
            "linecolor": "white",
            "ticks": ""
           },
           "bgcolor": "#E5ECF6",
           "radialaxis": {
            "gridcolor": "white",
            "linecolor": "white",
            "ticks": ""
           }
          },
          "scene": {
           "xaxis": {
            "backgroundcolor": "#E5ECF6",
            "gridcolor": "white",
            "gridwidth": 2,
            "linecolor": "white",
            "showbackground": true,
            "ticks": "",
            "zerolinecolor": "white"
           },
           "yaxis": {
            "backgroundcolor": "#E5ECF6",
            "gridcolor": "white",
            "gridwidth": 2,
            "linecolor": "white",
            "showbackground": true,
            "ticks": "",
            "zerolinecolor": "white"
           },
           "zaxis": {
            "backgroundcolor": "#E5ECF6",
            "gridcolor": "white",
            "gridwidth": 2,
            "linecolor": "white",
            "showbackground": true,
            "ticks": "",
            "zerolinecolor": "white"
           }
          },
          "shapedefaults": {
           "line": {
            "color": "#2a3f5f"
           }
          },
          "ternary": {
           "aaxis": {
            "gridcolor": "white",
            "linecolor": "white",
            "ticks": ""
           },
           "baxis": {
            "gridcolor": "white",
            "linecolor": "white",
            "ticks": ""
           },
           "bgcolor": "#E5ECF6",
           "caxis": {
            "gridcolor": "white",
            "linecolor": "white",
            "ticks": ""
           }
          },
          "title": {
           "x": 0.05
          },
          "xaxis": {
           "automargin": true,
           "gridcolor": "white",
           "linecolor": "white",
           "ticks": "",
           "title": {
            "standoff": 15
           },
           "zerolinecolor": "white",
           "zerolinewidth": 2
          },
          "yaxis": {
           "automargin": true,
           "gridcolor": "white",
           "linecolor": "white",
           "ticks": "",
           "title": {
            "standoff": 15
           },
           "zerolinecolor": "white",
           "zerolinewidth": 2
          }
         }
        }
       }
      },
      "text/html": [
       "<div>\n",
       "        \n",
       "        \n",
       "            <div id=\"0268070b-97ab-40d5-b127-3e8f594e4a9a\" class=\"plotly-graph-div\" style=\"height:525px; width:100%;\"></div>\n",
       "            <script type=\"text/javascript\">\n",
       "                require([\"plotly\"], function(Plotly) {\n",
       "                    window.PLOTLYENV=window.PLOTLYENV || {};\n",
       "                    \n",
       "                if (document.getElementById(\"0268070b-97ab-40d5-b127-3e8f594e4a9a\")) {\n",
       "                    Plotly.newPlot(\n",
       "                        '0268070b-97ab-40d5-b127-3e8f594e4a9a',\n",
       "                        [{\"hovertemplate\": \"x: %{x}<br>y: %{y}<br>color: %{z}<extra></extra>\", \"type\": \"image\", \"z\": [[[194.0, 183.0, 54.0, 0.25], [57.0, 105.0, 145.0, 0.25], [213.0, 64.0, 8.0, 0.25], [213.0, 64.0, 8.0, 0.25], [246.0, 232.0, 204.0, 0.25]], [[57.0, 105.0, 145.0, 0.25], [57.0, 105.0, 145.0, 0.25], [246.0, 232.0, 204.0, 0.25], [246.0, 232.0, 204.0, 0.25], [246.0, 232.0, 204.0, 0.25]], [[246.0, 232.0, 204.0, 0.25], [213.0, 64.0, 8.0, 0.25], [57.0, 105.0, 145.0, 0.25], [213.0, 64.0, 8.0, 0.25], [246.0, 232.0, 204.0, 0.25]], [[213.0, 64.0, 8.0, 0.25], [246.0, 232.0, 204.0, 0.25], [57.0, 105.0, 145.0, 0.25], [57.0, 105.0, 145.0, 0.25], [57.0, 105.0, 145.0, 0.25]], [[57.0, 105.0, 145.0, 0.25], [246.0, 232.0, 204.0, 0.25], [57.0, 105.0, 145.0, 0.25], [246.0, 232.0, 204.0, 0.25], [213.0, 64.0, 8.0, 0.25]]], \"zmax\": [255, 255, 255, 1]}],\n",
       "                        {\"annotations\": [{\"showarrow\": false, \"text\": \"berry\", \"x\": 0, \"y\": 0}, {\"showarrow\": false, \"text\": \"nut\", \"x\": 1, \"y\": 0}, {\"showarrow\": false, \"text\": \"dice\", \"x\": 2, \"y\": 0}, {\"showarrow\": false, \"text\": \"berlin\", \"x\": 3, \"y\": 0}, {\"showarrow\": false, \"text\": \"laser\", \"x\": 4, \"y\": 0}, {\"showarrow\": false, \"text\": \"kiwi\", \"x\": 0, \"y\": 1}, {\"showarrow\": false, \"text\": \"chick\", \"x\": 1, \"y\": 1}, {\"showarrow\": false, \"text\": \"mint\", \"x\": 2, \"y\": 1}, {\"showarrow\": false, \"text\": \"octopus\", \"x\": 3, \"y\": 1}, {\"showarrow\": false, \"text\": \"needle\", \"x\": 4, \"y\": 1}, {\"showarrow\": false, \"text\": \"ground\", \"x\": 0, \"y\": 2}, {\"showarrow\": false, \"text\": \"embassy\", \"x\": 1, \"y\": 2}, {\"showarrow\": false, \"text\": \"vet\", \"x\": 2, \"y\": 2}, {\"showarrow\": false, \"text\": \"pyramid\", \"x\": 3, \"y\": 2}, {\"showarrow\": false, \"text\": \"wake\", \"x\": 4, \"y\": 2}, {\"showarrow\": false, \"text\": \"switch\", \"x\": 0, \"y\": 3}, {\"showarrow\": false, \"text\": \"princess\", \"x\": 1, \"y\": 3}, {\"showarrow\": false, \"text\": \"turkey\", \"x\": 2, \"y\": 3}, {\"showarrow\": false, \"text\": \"jupiter\", \"x\": 3, \"y\": 3}, {\"showarrow\": false, \"text\": \"mercury\", \"x\": 4, \"y\": 3}, {\"showarrow\": false, \"text\": \"circle\", \"x\": 0, \"y\": 4}, {\"showarrow\": false, \"text\": \"giant\", \"x\": 1, \"y\": 4}, {\"showarrow\": false, \"text\": \"bug\", \"x\": 2, \"y\": 4}, {\"showarrow\": false, \"text\": \"life\", \"x\": 3, \"y\": 4}, {\"showarrow\": false, \"text\": \"ivory\", \"x\": 4, \"y\": 4}], \"margin\": {\"t\": 60}, \"template\": {\"data\": {\"bar\": [{\"error_x\": {\"color\": \"#2a3f5f\"}, \"error_y\": {\"color\": \"#2a3f5f\"}, \"marker\": {\"line\": {\"color\": \"#E5ECF6\", \"width\": 0.5}}, \"type\": \"bar\"}], \"barpolar\": [{\"marker\": {\"line\": {\"color\": \"#E5ECF6\", \"width\": 0.5}}, \"type\": \"barpolar\"}], \"carpet\": [{\"aaxis\": {\"endlinecolor\": \"#2a3f5f\", \"gridcolor\": \"white\", \"linecolor\": \"white\", \"minorgridcolor\": \"white\", \"startlinecolor\": \"#2a3f5f\"}, \"baxis\": {\"endlinecolor\": \"#2a3f5f\", \"gridcolor\": \"white\", \"linecolor\": \"white\", \"minorgridcolor\": \"white\", \"startlinecolor\": \"#2a3f5f\"}, \"type\": \"carpet\"}], \"choropleth\": [{\"colorbar\": {\"outlinewidth\": 0, \"ticks\": \"\"}, \"type\": \"choropleth\"}], \"contour\": [{\"colorbar\": {\"outlinewidth\": 0, \"ticks\": \"\"}, \"colorscale\": [[0.0, \"#0d0887\"], [0.1111111111111111, \"#46039f\"], [0.2222222222222222, \"#7201a8\"], [0.3333333333333333, \"#9c179e\"], [0.4444444444444444, \"#bd3786\"], [0.5555555555555556, \"#d8576b\"], [0.6666666666666666, \"#ed7953\"], [0.7777777777777778, \"#fb9f3a\"], [0.8888888888888888, \"#fdca26\"], [1.0, \"#f0f921\"]], \"type\": \"contour\"}], \"contourcarpet\": [{\"colorbar\": {\"outlinewidth\": 0, \"ticks\": \"\"}, \"type\": \"contourcarpet\"}], \"heatmap\": [{\"colorbar\": {\"outlinewidth\": 0, \"ticks\": \"\"}, \"colorscale\": [[0.0, \"#0d0887\"], [0.1111111111111111, \"#46039f\"], [0.2222222222222222, \"#7201a8\"], [0.3333333333333333, \"#9c179e\"], [0.4444444444444444, \"#bd3786\"], [0.5555555555555556, \"#d8576b\"], [0.6666666666666666, \"#ed7953\"], [0.7777777777777778, \"#fb9f3a\"], [0.8888888888888888, \"#fdca26\"], [1.0, \"#f0f921\"]], \"type\": \"heatmap\"}], \"heatmapgl\": [{\"colorbar\": {\"outlinewidth\": 0, \"ticks\": \"\"}, \"colorscale\": [[0.0, \"#0d0887\"], [0.1111111111111111, \"#46039f\"], [0.2222222222222222, \"#7201a8\"], [0.3333333333333333, \"#9c179e\"], [0.4444444444444444, \"#bd3786\"], [0.5555555555555556, \"#d8576b\"], [0.6666666666666666, \"#ed7953\"], [0.7777777777777778, \"#fb9f3a\"], [0.8888888888888888, \"#fdca26\"], [1.0, \"#f0f921\"]], \"type\": \"heatmapgl\"}], \"histogram\": [{\"marker\": {\"colorbar\": {\"outlinewidth\": 0, \"ticks\": \"\"}}, \"type\": \"histogram\"}], \"histogram2d\": [{\"colorbar\": {\"outlinewidth\": 0, \"ticks\": \"\"}, \"colorscale\": [[0.0, \"#0d0887\"], [0.1111111111111111, \"#46039f\"], [0.2222222222222222, \"#7201a8\"], [0.3333333333333333, \"#9c179e\"], [0.4444444444444444, \"#bd3786\"], [0.5555555555555556, \"#d8576b\"], [0.6666666666666666, \"#ed7953\"], [0.7777777777777778, \"#fb9f3a\"], [0.8888888888888888, \"#fdca26\"], [1.0, \"#f0f921\"]], \"type\": \"histogram2d\"}], \"histogram2dcontour\": [{\"colorbar\": {\"outlinewidth\": 0, \"ticks\": \"\"}, \"colorscale\": [[0.0, \"#0d0887\"], [0.1111111111111111, \"#46039f\"], [0.2222222222222222, \"#7201a8\"], [0.3333333333333333, \"#9c179e\"], [0.4444444444444444, \"#bd3786\"], [0.5555555555555556, \"#d8576b\"], [0.6666666666666666, \"#ed7953\"], [0.7777777777777778, \"#fb9f3a\"], [0.8888888888888888, \"#fdca26\"], [1.0, \"#f0f921\"]], \"type\": \"histogram2dcontour\"}], \"mesh3d\": [{\"colorbar\": {\"outlinewidth\": 0, \"ticks\": \"\"}, \"type\": \"mesh3d\"}], \"parcoords\": [{\"line\": {\"colorbar\": {\"outlinewidth\": 0, \"ticks\": \"\"}}, \"type\": \"parcoords\"}], \"pie\": [{\"automargin\": true, \"type\": \"pie\"}], \"scatter\": [{\"marker\": {\"colorbar\": {\"outlinewidth\": 0, \"ticks\": \"\"}}, \"type\": \"scatter\"}], \"scatter3d\": [{\"line\": {\"colorbar\": {\"outlinewidth\": 0, \"ticks\": \"\"}}, \"marker\": {\"colorbar\": {\"outlinewidth\": 0, \"ticks\": \"\"}}, \"type\": \"scatter3d\"}], \"scattercarpet\": [{\"marker\": {\"colorbar\": {\"outlinewidth\": 0, \"ticks\": \"\"}}, \"type\": \"scattercarpet\"}], \"scattergeo\": [{\"marker\": {\"colorbar\": {\"outlinewidth\": 0, \"ticks\": \"\"}}, \"type\": \"scattergeo\"}], \"scattergl\": [{\"marker\": {\"colorbar\": {\"outlinewidth\": 0, \"ticks\": \"\"}}, \"type\": \"scattergl\"}], \"scattermapbox\": [{\"marker\": {\"colorbar\": {\"outlinewidth\": 0, \"ticks\": \"\"}}, \"type\": \"scattermapbox\"}], \"scatterpolar\": [{\"marker\": {\"colorbar\": {\"outlinewidth\": 0, \"ticks\": \"\"}}, \"type\": \"scatterpolar\"}], \"scatterpolargl\": [{\"marker\": {\"colorbar\": {\"outlinewidth\": 0, \"ticks\": \"\"}}, \"type\": \"scatterpolargl\"}], \"scatterternary\": [{\"marker\": {\"colorbar\": {\"outlinewidth\": 0, \"ticks\": \"\"}}, \"type\": \"scatterternary\"}], \"surface\": [{\"colorbar\": {\"outlinewidth\": 0, \"ticks\": \"\"}, \"colorscale\": [[0.0, \"#0d0887\"], [0.1111111111111111, \"#46039f\"], [0.2222222222222222, \"#7201a8\"], [0.3333333333333333, \"#9c179e\"], [0.4444444444444444, \"#bd3786\"], [0.5555555555555556, \"#d8576b\"], [0.6666666666666666, \"#ed7953\"], [0.7777777777777778, \"#fb9f3a\"], [0.8888888888888888, \"#fdca26\"], [1.0, \"#f0f921\"]], \"type\": \"surface\"}], \"table\": [{\"cells\": {\"fill\": {\"color\": \"#EBF0F8\"}, \"line\": {\"color\": \"white\"}}, \"header\": {\"fill\": {\"color\": \"#C8D4E3\"}, \"line\": {\"color\": \"white\"}}, \"type\": \"table\"}]}, \"layout\": {\"annotationdefaults\": {\"arrowcolor\": \"#2a3f5f\", \"arrowhead\": 0, \"arrowwidth\": 1}, \"coloraxis\": {\"colorbar\": {\"outlinewidth\": 0, \"ticks\": \"\"}}, \"colorscale\": {\"diverging\": [[0, \"#8e0152\"], [0.1, \"#c51b7d\"], [0.2, \"#de77ae\"], [0.3, \"#f1b6da\"], [0.4, \"#fde0ef\"], [0.5, \"#f7f7f7\"], [0.6, \"#e6f5d0\"], [0.7, \"#b8e186\"], [0.8, \"#7fbc41\"], [0.9, \"#4d9221\"], [1, \"#276419\"]], \"sequential\": [[0.0, \"#0d0887\"], [0.1111111111111111, \"#46039f\"], [0.2222222222222222, \"#7201a8\"], [0.3333333333333333, \"#9c179e\"], [0.4444444444444444, \"#bd3786\"], [0.5555555555555556, \"#d8576b\"], [0.6666666666666666, \"#ed7953\"], [0.7777777777777778, \"#fb9f3a\"], [0.8888888888888888, \"#fdca26\"], [1.0, \"#f0f921\"]], \"sequentialminus\": [[0.0, \"#0d0887\"], [0.1111111111111111, \"#46039f\"], [0.2222222222222222, \"#7201a8\"], [0.3333333333333333, \"#9c179e\"], [0.4444444444444444, \"#bd3786\"], [0.5555555555555556, \"#d8576b\"], [0.6666666666666666, \"#ed7953\"], [0.7777777777777778, \"#fb9f3a\"], [0.8888888888888888, \"#fdca26\"], [1.0, \"#f0f921\"]]}, \"colorway\": [\"#636efa\", \"#EF553B\", \"#00cc96\", \"#ab63fa\", \"#FFA15A\", \"#19d3f3\", \"#FF6692\", \"#B6E880\", \"#FF97FF\", \"#FECB52\"], \"font\": {\"color\": \"#2a3f5f\"}, \"geo\": {\"bgcolor\": \"white\", \"lakecolor\": \"white\", \"landcolor\": \"#E5ECF6\", \"showlakes\": true, \"showland\": true, \"subunitcolor\": \"white\"}, \"hoverlabel\": {\"align\": \"left\"}, \"hovermode\": \"closest\", \"mapbox\": {\"style\": \"light\"}, \"paper_bgcolor\": \"white\", \"plot_bgcolor\": \"#E5ECF6\", \"polar\": {\"angularaxis\": {\"gridcolor\": \"white\", \"linecolor\": \"white\", \"ticks\": \"\"}, \"bgcolor\": \"#E5ECF6\", \"radialaxis\": {\"gridcolor\": \"white\", \"linecolor\": \"white\", \"ticks\": \"\"}}, \"scene\": {\"xaxis\": {\"backgroundcolor\": \"#E5ECF6\", \"gridcolor\": \"white\", \"gridwidth\": 2, \"linecolor\": \"white\", \"showbackground\": true, \"ticks\": \"\", \"zerolinecolor\": \"white\"}, \"yaxis\": {\"backgroundcolor\": \"#E5ECF6\", \"gridcolor\": \"white\", \"gridwidth\": 2, \"linecolor\": \"white\", \"showbackground\": true, \"ticks\": \"\", \"zerolinecolor\": \"white\"}, \"zaxis\": {\"backgroundcolor\": \"#E5ECF6\", \"gridcolor\": \"white\", \"gridwidth\": 2, \"linecolor\": \"white\", \"showbackground\": true, \"ticks\": \"\", \"zerolinecolor\": \"white\"}}, \"shapedefaults\": {\"line\": {\"color\": \"#2a3f5f\"}}, \"ternary\": {\"aaxis\": {\"gridcolor\": \"white\", \"linecolor\": \"white\", \"ticks\": \"\"}, \"baxis\": {\"gridcolor\": \"white\", \"linecolor\": \"white\", \"ticks\": \"\"}, \"bgcolor\": \"#E5ECF6\", \"caxis\": {\"gridcolor\": \"white\", \"linecolor\": \"white\", \"ticks\": \"\"}}, \"title\": {\"x\": 0.05}, \"xaxis\": {\"automargin\": true, \"gridcolor\": \"white\", \"linecolor\": \"white\", \"ticks\": \"\", \"title\": {\"standoff\": 15}, \"zerolinecolor\": \"white\", \"zerolinewidth\": 2}, \"yaxis\": {\"automargin\": true, \"gridcolor\": \"white\", \"linecolor\": \"white\", \"ticks\": \"\", \"title\": {\"standoff\": 15}, \"zerolinecolor\": \"white\", \"zerolinewidth\": 2}}}},\n",
       "                        {\"responsive\": true}\n",
       "                    ).then(function(){\n",
       "                            \n",
       "var gd = document.getElementById('0268070b-97ab-40d5-b127-3e8f594e4a9a');\n",
       "var x = new MutationObserver(function (mutations, observer) {{\n",
       "        var display = window.getComputedStyle(gd).display;\n",
       "        if (!display || display === 'none') {{\n",
       "            console.log([gd, 'removed!']);\n",
       "            Plotly.purge(gd);\n",
       "            observer.disconnect();\n",
       "        }}\n",
       "}});\n",
       "\n",
       "// Listen for the removal of the full notebook cells\n",
       "var notebookContainer = gd.closest('#notebook-container');\n",
       "if (notebookContainer) {{\n",
       "    x.observe(notebookContainer, {childList: true});\n",
       "}}\n",
       "\n",
       "// Listen for the clearing of the current output cell\n",
       "var outputEl = gd.closest('.output');\n",
       "if (outputEl) {{\n",
       "    x.observe(outputEl, {childList: true});\n",
       "}}\n",
       "\n",
       "                        })\n",
       "                };\n",
       "                });\n",
       "            </script>\n",
       "        </div>"
      ]
     },
     "metadata": {},
     "output_type": "display_data"
    },
    {
     "data": {
      "application/javascript": [
       "\n",
       "            setTimeout(function() {\n",
       "                var nbb_cell_id = 150;\n",
       "                var nbb_unformatted_code = \"draw_board(all_cards, codenames_game.spymaster_map, codenames_game.revealed)\";\n",
       "                var nbb_formatted_code = \"draw_board(all_cards, codenames_game.spymaster_map, codenames_game.revealed)\";\n",
       "                var nbb_cells = Jupyter.notebook.get_cells();\n",
       "                for (var i = 0; i < nbb_cells.length; ++i) {\n",
       "                    if (nbb_cells[i].input_prompt_number == nbb_cell_id) {\n",
       "                        if (nbb_cells[i].get_text() == nbb_unformatted_code) {\n",
       "                             nbb_cells[i].set_text(nbb_formatted_code);\n",
       "                        }\n",
       "                        break;\n",
       "                    }\n",
       "                }\n",
       "            }, 500);\n",
       "            "
      ],
      "text/plain": [
       "<IPython.core.display.Javascript object>"
      ]
     },
     "metadata": {},
     "output_type": "display_data"
    }
   ],
   "source": [
    "draw_board(all_cards, codenames_game.spymaster_map, codenames_game.revealed)"
   ]
  },
  {
   "cell_type": "code",
   "execution_count": 133,
   "metadata": {},
   "outputs": [
    {
     "name": "stdout",
     "output_type": "stream",
     "text": [
      "[True, True, True, True, False, True, True, False, False, False, False, True, True, True, False, True, False, True, True, True, True, False, True, False, True]\n",
      "(array([], dtype=int64),)\n"
     ]
    },
    {
     "name": "stderr",
     "output_type": "stream",
     "text": [
      "<ipython-input-131-c53f44804feb>:11: DeprecationWarning:\n",
      "\n",
      "The truth value of an empty array is ambiguous. Returning False, but in future this will result in an error. Use `array.size > 0` to check that an array is not empty.\n",
      "\n"
     ]
    },
    {
     "data": {
      "text/plain": [
       "'hidden'"
      ]
     },
     "execution_count": 133,
     "metadata": {},
     "output_type": "execute_result"
    },
    {
     "data": {
      "application/javascript": [
       "\n",
       "            setTimeout(function() {\n",
       "                var nbb_cell_id = 133;\n",
       "                var nbb_unformatted_code = \"check_card_type(1, codenames_game.spymaster_map, codenames_game.revealed)\";\n",
       "                var nbb_formatted_code = \"check_card_type(1, codenames_game.spymaster_map, codenames_game.revealed)\";\n",
       "                var nbb_cells = Jupyter.notebook.get_cells();\n",
       "                for (var i = 0; i < nbb_cells.length; ++i) {\n",
       "                    if (nbb_cells[i].input_prompt_number == nbb_cell_id) {\n",
       "                        if (nbb_cells[i].get_text() == nbb_unformatted_code) {\n",
       "                             nbb_cells[i].set_text(nbb_formatted_code);\n",
       "                        }\n",
       "                        break;\n",
       "                    }\n",
       "                }\n",
       "            }, 500);\n",
       "            "
      ],
      "text/plain": [
       "<IPython.core.display.Javascript object>"
      ]
     },
     "metadata": {},
     "output_type": "display_data"
    }
   ],
   "source": [
    "check_card_type(1, codenames_game.spymaster_map, codenames_game.revealed)"
   ]
  },
  {
   "cell_type": "code",
   "execution_count": 144,
   "metadata": {},
   "outputs": [
    {
     "data": {
      "text/plain": [
       "array([ 0,  1,  2,  3,  5,  6, 11, 12, 13, 15, 17, 18, 19, 20, 22, 24])"
      ]
     },
     "execution_count": 144,
     "metadata": {},
     "output_type": "execute_result"
    },
    {
     "data": {
      "application/javascript": [
       "\n",
       "            setTimeout(function() {\n",
       "                var nbb_cell_id = 144;\n",
       "                var nbb_unformatted_code = \"np.where(np.asarray(codenames_game.revealed) == True)[0]\";\n",
       "                var nbb_formatted_code = \"np.where(np.asarray(codenames_game.revealed) == True)[0]\";\n",
       "                var nbb_cells = Jupyter.notebook.get_cells();\n",
       "                for (var i = 0; i < nbb_cells.length; ++i) {\n",
       "                    if (nbb_cells[i].input_prompt_number == nbb_cell_id) {\n",
       "                        if (nbb_cells[i].get_text() == nbb_unformatted_code) {\n",
       "                             nbb_cells[i].set_text(nbb_formatted_code);\n",
       "                        }\n",
       "                        break;\n",
       "                    }\n",
       "                }\n",
       "            }, 500);\n",
       "            "
      ],
      "text/plain": [
       "<IPython.core.display.Javascript object>"
      ]
     },
     "metadata": {},
     "output_type": "display_data"
    }
   ],
   "source": [
    "model.most"
   ]
  },
  {
   "cell_type": "code",
   "execution_count": null,
   "metadata": {},
   "outputs": [],
   "source": []
  }
 ],
 "metadata": {
  "kernelspec": {
   "display_name": "Codename(py3.8)",
   "language": "python",
   "name": "myenv"
  },
  "language_info": {
   "codemirror_mode": {
    "name": "ipython",
    "version": 3
   },
   "file_extension": ".py",
   "mimetype": "text/x-python",
   "name": "python",
   "nbconvert_exporter": "python",
   "pygments_lexer": "ipython3",
   "version": "3.8.2"
  },
  "toc": {
   "base_numbering": 1,
   "nav_menu": {},
   "number_sections": true,
   "sideBar": true,
   "skip_h1_title": false,
   "title_cell": "Table of Contents",
   "title_sidebar": "Contents",
   "toc_cell": false,
   "toc_position": {
    "height": "calc(100% - 180px)",
    "left": "10px",
    "top": "150px",
    "width": "165px"
   },
   "toc_section_display": true,
   "toc_window_display": true
  }
 },
 "nbformat": 4,
 "nbformat_minor": 4
}
